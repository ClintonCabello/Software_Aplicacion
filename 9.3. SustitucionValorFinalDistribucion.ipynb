{
  "cells": [
    {
      "cell_type": "markdown",
      "metadata": {
        "id": "EWIuraqUCgWA"
      },
      "source": [
        "\n",
        "# **Sustitución por valores al final de la distribución**\n",
        "\n",
        "En la sección anterior, sustituimos valores ausentes por valores constantes arbitrarios. Sin embargo, determinar el valor arbitrario es un proceso laborioso y manual. Este proceso se puede automatizar seleccionando un valor al final de la distribución.\n",
        "\n",
        "### Cómo se seleccionan los valores al final de la distribución?\n",
        "\n",
        "- Si la variable está normalmente distribuida, podemos usar el promedio más o menos 3 veces la desviación estándar.\n",
        "- Si la variable está sesgada, podemos usar la regla de proximidad entre-cuantil, IQR\n",
        "\n",
        "- Podemos también seleccionar el valor mínimo o máximo y multiplicarlo por factor, como 2 o 3.\n",
        "\n",
        "### Cuáles variables podemos sustituir con valores arbitrarios?\n",
        "\n",
        "Este método es apropiado para variables numéricas.\n",
        "\n",
        "\n",
        "### Condiciones\n",
        "\n",
        "- Los datos no faltan de forma aleatoria\n",
        "\n",
        "Si este es el caso, queremos comunicar que estos valores nulos son diferentes al resto de la población y por lo tanto los reemplazamos con un valor arbitrario y no con la media/mediana que representan los valores más comunes.\n",
        "\n",
        "\n",
        "### Ventajas\n",
        "\n",
        "- Fácil de implementar\n",
        "- Forma rápida de obtener conjuntos completos de datos\n",
        "- Puede ser integrado en producción (durante el despliegue del modelo)\n",
        "- Captura la importancia de la 'ausencia' (si existe)\n",
        "\n",
        "### Limitaciones\n",
        "\n",
        "- Distorsión de la distribución original de la variable\n",
        "- Distorsión de la varianza original\n",
        "- Distorsión de la covarianza con las otras variables en los datos.\n",
        "- Esta técnica puede encubrir los valores extremos verdaderos que se encuentran al final de la distribución.\n",
        "\n",
        "### Nota Final\n",
        "\n",
        "Este método no es muy común en las competenticas de ciencia de datos, sin embargo es usado ampliamente en compañías financieras. Cuando se captura la historia financiera de clientes, para no asumir que los valores faltan aleatoriamente, los datos ausentes son reemplazados por un valor al final de la distribución.\n",
        "\n",
        "\n",
        "## En este demo:\n",
        "\n",
        "Vamos a aprender como sustituir valores nulos con valores arbitrarios utilizando pandas y los set de datos Ames House Price y Titanic.\n"
      ]
    },
    {
      "cell_type": "code",
      "execution_count": null,
      "metadata": {
        "id": "qTLU_QCkCgWF"
      },
      "outputs": [],
      "source": [
        "import pandas as pd\n",
        "import numpy as np\n",
        "\n",
        "import matplotlib.pyplot as plt\n",
        "import seaborn as sns\n",
        "\n",
        "from sklearn.model_selection import train_test_split"
      ]
    },
    {
      "cell_type": "code",
      "source": [
        "usecols=['age', 'fare', 'survived']\n",
        "data=sns.load_dataset('titanic')\n",
        "data=data[usecols]"
      ],
      "metadata": {
        "id": "GQnoJ8d4cUoZ"
      },
      "execution_count": null,
      "outputs": []
    },
    {
      "cell_type": "code",
      "execution_count": null,
      "metadata": {
        "id": "3hqX5bu9CgWG",
        "outputId": "591c8975-47a1-42b3-f550-0c65c79e6a13",
        "colab": {
          "base_uri": "https://localhost:8080/",
          "height": 206
        }
      },
      "outputs": [
        {
          "output_type": "execute_result",
          "data": {
            "text/plain": [
              "    age     fare  survived\n",
              "0  22.0   7.2500         0\n",
              "1  38.0  71.2833         1\n",
              "2  26.0   7.9250         1\n",
              "3  35.0  53.1000         1\n",
              "4  35.0   8.0500         0"
            ],
            "text/html": [
              "\n",
              "  <div id=\"df-27749ced-8a0b-4af7-9ebf-e7b98ce554ba\">\n",
              "    <div class=\"colab-df-container\">\n",
              "      <div>\n",
              "<style scoped>\n",
              "    .dataframe tbody tr th:only-of-type {\n",
              "        vertical-align: middle;\n",
              "    }\n",
              "\n",
              "    .dataframe tbody tr th {\n",
              "        vertical-align: top;\n",
              "    }\n",
              "\n",
              "    .dataframe thead th {\n",
              "        text-align: right;\n",
              "    }\n",
              "</style>\n",
              "<table border=\"1\" class=\"dataframe\">\n",
              "  <thead>\n",
              "    <tr style=\"text-align: right;\">\n",
              "      <th></th>\n",
              "      <th>age</th>\n",
              "      <th>fare</th>\n",
              "      <th>survived</th>\n",
              "    </tr>\n",
              "  </thead>\n",
              "  <tbody>\n",
              "    <tr>\n",
              "      <th>0</th>\n",
              "      <td>22.0</td>\n",
              "      <td>7.2500</td>\n",
              "      <td>0</td>\n",
              "    </tr>\n",
              "    <tr>\n",
              "      <th>1</th>\n",
              "      <td>38.0</td>\n",
              "      <td>71.2833</td>\n",
              "      <td>1</td>\n",
              "    </tr>\n",
              "    <tr>\n",
              "      <th>2</th>\n",
              "      <td>26.0</td>\n",
              "      <td>7.9250</td>\n",
              "      <td>1</td>\n",
              "    </tr>\n",
              "    <tr>\n",
              "      <th>3</th>\n",
              "      <td>35.0</td>\n",
              "      <td>53.1000</td>\n",
              "      <td>1</td>\n",
              "    </tr>\n",
              "    <tr>\n",
              "      <th>4</th>\n",
              "      <td>35.0</td>\n",
              "      <td>8.0500</td>\n",
              "      <td>0</td>\n",
              "    </tr>\n",
              "  </tbody>\n",
              "</table>\n",
              "</div>\n",
              "      <button class=\"colab-df-convert\" onclick=\"convertToInteractive('df-27749ced-8a0b-4af7-9ebf-e7b98ce554ba')\"\n",
              "              title=\"Convert this dataframe to an interactive table.\"\n",
              "              style=\"display:none;\">\n",
              "        \n",
              "  <svg xmlns=\"http://www.w3.org/2000/svg\" height=\"24px\"viewBox=\"0 0 24 24\"\n",
              "       width=\"24px\">\n",
              "    <path d=\"M0 0h24v24H0V0z\" fill=\"none\"/>\n",
              "    <path d=\"M18.56 5.44l.94 2.06.94-2.06 2.06-.94-2.06-.94-.94-2.06-.94 2.06-2.06.94zm-11 1L8.5 8.5l.94-2.06 2.06-.94-2.06-.94L8.5 2.5l-.94 2.06-2.06.94zm10 10l.94 2.06.94-2.06 2.06-.94-2.06-.94-.94-2.06-.94 2.06-2.06.94z\"/><path d=\"M17.41 7.96l-1.37-1.37c-.4-.4-.92-.59-1.43-.59-.52 0-1.04.2-1.43.59L10.3 9.45l-7.72 7.72c-.78.78-.78 2.05 0 2.83L4 21.41c.39.39.9.59 1.41.59.51 0 1.02-.2 1.41-.59l7.78-7.78 2.81-2.81c.8-.78.8-2.07 0-2.86zM5.41 20L4 18.59l7.72-7.72 1.47 1.35L5.41 20z\"/>\n",
              "  </svg>\n",
              "      </button>\n",
              "      \n",
              "  <style>\n",
              "    .colab-df-container {\n",
              "      display:flex;\n",
              "      flex-wrap:wrap;\n",
              "      gap: 12px;\n",
              "    }\n",
              "\n",
              "    .colab-df-convert {\n",
              "      background-color: #E8F0FE;\n",
              "      border: none;\n",
              "      border-radius: 50%;\n",
              "      cursor: pointer;\n",
              "      display: none;\n",
              "      fill: #1967D2;\n",
              "      height: 32px;\n",
              "      padding: 0 0 0 0;\n",
              "      width: 32px;\n",
              "    }\n",
              "\n",
              "    .colab-df-convert:hover {\n",
              "      background-color: #E2EBFA;\n",
              "      box-shadow: 0px 1px 2px rgba(60, 64, 67, 0.3), 0px 1px 3px 1px rgba(60, 64, 67, 0.15);\n",
              "      fill: #174EA6;\n",
              "    }\n",
              "\n",
              "    [theme=dark] .colab-df-convert {\n",
              "      background-color: #3B4455;\n",
              "      fill: #D2E3FC;\n",
              "    }\n",
              "\n",
              "    [theme=dark] .colab-df-convert:hover {\n",
              "      background-color: #434B5C;\n",
              "      box-shadow: 0px 1px 3px 1px rgba(0, 0, 0, 0.15);\n",
              "      filter: drop-shadow(0px 1px 2px rgba(0, 0, 0, 0.3));\n",
              "      fill: #FFFFFF;\n",
              "    }\n",
              "  </style>\n",
              "\n",
              "      <script>\n",
              "        const buttonEl =\n",
              "          document.querySelector('#df-27749ced-8a0b-4af7-9ebf-e7b98ce554ba button.colab-df-convert');\n",
              "        buttonEl.style.display =\n",
              "          google.colab.kernel.accessAllowed ? 'block' : 'none';\n",
              "\n",
              "        async function convertToInteractive(key) {\n",
              "          const element = document.querySelector('#df-27749ced-8a0b-4af7-9ebf-e7b98ce554ba');\n",
              "          const dataTable =\n",
              "            await google.colab.kernel.invokeFunction('convertToInteractive',\n",
              "                                                     [key], {});\n",
              "          if (!dataTable) return;\n",
              "\n",
              "          const docLinkHtml = 'Like what you see? Visit the ' +\n",
              "            '<a target=\"_blank\" href=https://colab.research.google.com/notebooks/data_table.ipynb>data table notebook</a>'\n",
              "            + ' to learn more about interactive tables.';\n",
              "          element.innerHTML = '';\n",
              "          dataTable['output_type'] = 'display_data';\n",
              "          await google.colab.output.renderOutput(dataTable, element);\n",
              "          const docLink = document.createElement('div');\n",
              "          docLink.innerHTML = docLinkHtml;\n",
              "          element.appendChild(docLink);\n",
              "        }\n",
              "      </script>\n",
              "    </div>\n",
              "  </div>\n",
              "  "
            ]
          },
          "metadata": {},
          "execution_count": 3
        }
      ],
      "source": [
        "# Titanic Dataset con unas variables para el demo\n",
        "\n",
        "\n",
        "data.head()"
      ]
    },
    {
      "cell_type": "code",
      "execution_count": null,
      "metadata": {
        "id": "gG0yTRBVCgWH",
        "outputId": "c4dae077-bf90-43b2-b781-97ab4e48f61c",
        "colab": {
          "base_uri": "https://localhost:8080/"
        }
      },
      "outputs": [
        {
          "output_type": "execute_result",
          "data": {
            "text/plain": [
              "age         0.198653\n",
              "fare        0.000000\n",
              "survived    0.000000\n",
              "dtype: float64"
            ]
          },
          "metadata": {},
          "execution_count": 4
        }
      ],
      "source": [
        "# porcentaje de NA o valores nulos\n",
        "\n",
        "data.isnull().mean()"
      ]
    },
    {
      "cell_type": "markdown",
      "metadata": {
        "id": "0F9-k9ZTCgWI"
      },
      "source": [
        "### Para tener en cuenta\n",
        "\n",
        "Los parámetros para la sustitución o imputación de datos nulos se deben aprender utilizando el set de entrenamiento SOLAMENTE. Luego, estos parámetros se utilizaran para imputar los valores nulos en el set de prueba."
      ]
    },
    {
      "cell_type": "code",
      "execution_count": null,
      "metadata": {
        "id": "ULBcfnA3CgWI",
        "outputId": "7f0339dc-e26c-4f24-9a45-659f2e2fe9f7",
        "colab": {
          "base_uri": "https://localhost:8080/"
        }
      },
      "outputs": [
        {
          "output_type": "execute_result",
          "data": {
            "text/plain": [
              "((623, 2), (268, 2))"
            ]
          },
          "metadata": {},
          "execution_count": 5
        }
      ],
      "source": [
        "# Separemos en segmentos para entrenamiento y prueba\n",
        "\n",
        "X_train, X_test, y_train, y_test = train_test_split(\n",
        "    data[['age', 'fare']],  # variables independientes\n",
        "    data['survived'],  # target\n",
        "    test_size=0.3,  # porcentaje de obs en test set\n",
        "    random_state=0)  # semilla para reproducibilidad\n",
        "\n",
        "X_train.shape, X_test.shape"
      ]
    },
    {
      "cell_type": "code",
      "execution_count": null,
      "metadata": {
        "id": "exJsKILmCgWJ",
        "outputId": "26b35ee3-2baf-4931-c14b-939f882018b4",
        "colab": {
          "base_uri": "https://localhost:8080/",
          "height": 282
        }
      },
      "outputs": [
        {
          "output_type": "execute_result",
          "data": {
            "text/plain": [
              "<matplotlib.axes._subplots.AxesSubplot at 0x7fa819db63d0>"
            ]
          },
          "metadata": {},
          "execution_count": 6
        },
        {
          "output_type": "display_data",
          "data": {
            "text/plain": [
              "<Figure size 432x288 with 1 Axes>"
            ],
            "image/png": "[encoded data removed]"
          },
          "metadata": {
            "needs_background": "light"
          }
        }
      ],
      "source": [
        "# distribución de la variable age\n",
        "\n",
        "X_train.age.hist(bins=50)"
      ]
    },
    {
      "cell_type": "code",
      "execution_count": null,
      "metadata": {
        "id": "DezTI-YlCgWK"
      },
      "outputs": [],
      "source": [
        "# creemos una función para sustituir los valores faltantes\n",
        "# con un valor determinado\n",
        "\n",
        "# la función toma como argumentos:\n",
        "# dataframe, variable, y el valor de arbitrario para la sustitución\n",
        "# retorna la variable con los valores sustituidos\n",
        "\n",
        "def impute_na(df, variable, value):\n",
        "\n",
        "    return df[variable].fillna(value)"
      ]
    },
    {
      "cell_type": "code",
      "execution_count": null,
      "metadata": {
        "id": "rSy4-7P1CgWL",
        "outputId": "f3b4dfbf-3fa4-46aa-c5e4-43016369567b",
        "colab": {
          "base_uri": "https://localhost:8080/"
        }
      },
      "outputs": [
        {
          "output_type": "execute_result",
          "data": {
            "text/plain": [
              "73.43632005918369"
            ]
          },
          "metadata": {},
          "execution_count": 7
        }
      ],
      "source": [
        "# extremo final de la distribución:\n",
        "\n",
        "# Age parece tener distribución Gaussiana, usaremos\n",
        "# el promedio y la desviación estándar para sustituir valores\n",
        "\n",
        "X_train.age.mean() + 3 * X_train.age.std()"
      ]
    },
    {
      "cell_type": "code",
      "execution_count": null,
      "metadata": {
        "id": "NiNKhxo4CgWL",
        "outputId": "d85bb17f-893b-4f26-8a7c-0bdcb9dfd771",
        "colab": {
          "base_uri": "https://localhost:8080/",
          "height": 520
        }
      },
      "outputs": [
        {
          "output_type": "execute_result",
          "data": {
            "text/plain": [
              "      age      fare  age_imputed\n",
              "857  51.0   26.5500     51.00000\n",
              "52   49.0   76.7292     49.00000\n",
              "386   1.0   46.9000      1.00000\n",
              "124  54.0   77.2875     54.00000\n",
              "578   NaN   14.4583     73.43632\n",
              "549   8.0   36.7500      8.00000\n",
              "118  24.0  247.5208     24.00000\n",
              "12   20.0    8.0500     20.00000\n",
              "157  30.0    8.0500     30.00000\n",
              "127  24.0    7.1417     24.00000\n",
              "653   NaN    7.8292     73.43632\n",
              "235   NaN    7.5500     73.43632\n",
              "785  25.0    7.2500     25.00000\n",
              "241   NaN   15.5000     73.43632\n",
              "351   NaN   35.0000     73.43632"
            ],
            "text/html": [
              "\n",
              "  <div id=\"df-1f2b73a2-d3e8-4f32-9c70-b741963c275f\">\n",
              "    <div class=\"colab-df-container\">\n",
              "      <div>\n",
              "<style scoped>\n",
              "    .dataframe tbody tr th:only-of-type {\n",
              "        vertical-align: middle;\n",
              "    }\n",
              "\n",
              "    .dataframe tbody tr th {\n",
              "        vertical-align: top;\n",
              "    }\n",
              "\n",
              "    .dataframe thead th {\n",
              "        text-align: right;\n",
              "    }\n",
              "</style>\n",
              "<table border=\"1\" class=\"dataframe\">\n",
              "  <thead>\n",
              "    <tr style=\"text-align: right;\">\n",
              "      <th></th>\n",
              "      <th>age</th>\n",
              "      <th>fare</th>\n",
              "      <th>age_imputed</th>\n",
              "    </tr>\n",
              "  </thead>\n",
              "  <tbody>\n",
              "    <tr>\n",
              "      <th>857</th>\n",
              "      <td>51.0</td>\n",
              "      <td>26.5500</td>\n",
              "      <td>51.00000</td>\n",
              "    </tr>\n",
              "    <tr>\n",
              "      <th>52</th>\n",
              "      <td>49.0</td>\n",
              "      <td>76.7292</td>\n",
              "      <td>49.00000</td>\n",
              "    </tr>\n",
              "    <tr>\n",
              "      <th>386</th>\n",
              "      <td>1.0</td>\n",
              "      <td>46.9000</td>\n",
              "      <td>1.00000</td>\n",
              "    </tr>\n",
              "    <tr>\n",
              "      <th>124</th>\n",
              "      <td>54.0</td>\n",
              "      <td>77.2875</td>\n",
              "      <td>54.00000</td>\n",
              "    </tr>\n",
              "    <tr>\n",
              "      <th>578</th>\n",
              "      <td>NaN</td>\n",
              "      <td>14.4583</td>\n",
              "      <td>73.43632</td>\n",
              "    </tr>\n",
              "    <tr>\n",
              "      <th>549</th>\n",
              "      <td>8.0</td>\n",
              "      <td>36.7500</td>\n",
              "      <td>8.00000</td>\n",
              "    </tr>\n",
              "    <tr>\n",
              "      <th>118</th>\n",
              "      <td>24.0</td>\n",
              "      <td>247.5208</td>\n",
              "      <td>24.00000</td>\n",
              "    </tr>\n",
              "    <tr>\n",
              "      <th>12</th>\n",
              "      <td>20.0</td>\n",
              "      <td>8.0500</td>\n",
              "      <td>20.00000</td>\n",
              "    </tr>\n",
              "    <tr>\n",
              "      <th>157</th>\n",
              "      <td>30.0</td>\n",
              "      <td>8.0500</td>\n",
              "      <td>30.00000</td>\n",
              "    </tr>\n",
              "    <tr>\n",
              "      <th>127</th>\n",
              "      <td>24.0</td>\n",
              "      <td>7.1417</td>\n",
              "      <td>24.00000</td>\n",
              "    </tr>\n",
              "    <tr>\n",
              "      <th>653</th>\n",
              "      <td>NaN</td>\n",
              "      <td>7.8292</td>\n",
              "      <td>73.43632</td>\n",
              "    </tr>\n",
              "    <tr>\n",
              "      <th>235</th>\n",
              "      <td>NaN</td>\n",
              "      <td>7.5500</td>\n",
              "      <td>73.43632</td>\n",
              "    </tr>\n",
              "    <tr>\n",
              "      <th>785</th>\n",
              "      <td>25.0</td>\n",
              "      <td>7.2500</td>\n",
              "      <td>25.00000</td>\n",
              "    </tr>\n",
              "    <tr>\n",
              "      <th>241</th>\n",
              "      <td>NaN</td>\n",
              "      <td>15.5000</td>\n",
              "      <td>73.43632</td>\n",
              "    </tr>\n",
              "    <tr>\n",
              "      <th>351</th>\n",
              "      <td>NaN</td>\n",
              "      <td>35.0000</td>\n",
              "      <td>73.43632</td>\n",
              "    </tr>\n",
              "  </tbody>\n",
              "</table>\n",
              "</div>\n",
              "      <button class=\"colab-df-convert\" onclick=\"convertToInteractive('df-1f2b73a2-d3e8-4f32-9c70-b741963c275f')\"\n",
              "              title=\"Convert this dataframe to an interactive table.\"\n",
              "              style=\"display:none;\">\n",
              "        \n",
              "  <svg xmlns=\"http://www.w3.org/2000/svg\" height=\"24px\"viewBox=\"0 0 24 24\"\n",
              "       width=\"24px\">\n",
              "    <path d=\"M0 0h24v24H0V0z\" fill=\"none\"/>\n",
              "    <path d=\"M18.56 5.44l.94 2.06.94-2.06 2.06-.94-2.06-.94-.94-2.06-.94 2.06-2.06.94zm-11 1L8.5 8.5l.94-2.06 2.06-.94-2.06-.94L8.5 2.5l-.94 2.06-2.06.94zm10 10l.94 2.06.94-2.06 2.06-.94-2.06-.94-.94-2.06-.94 2.06-2.06.94z\"/><path d=\"M17.41 7.96l-1.37-1.37c-.4-.4-.92-.59-1.43-.59-.52 0-1.04.2-1.43.59L10.3 9.45l-7.72 7.72c-.78.78-.78 2.05 0 2.83L4 21.41c.39.39.9.59 1.41.59.51 0 1.02-.2 1.41-.59l7.78-7.78 2.81-2.81c.8-.78.8-2.07 0-2.86zM5.41 20L4 18.59l7.72-7.72 1.47 1.35L5.41 20z\"/>\n",
              "  </svg>\n",
              "      </button>\n",
              "      \n",
              "  <style>\n",
              "    .colab-df-container {\n",
              "      display:flex;\n",
              "      flex-wrap:wrap;\n",
              "      gap: 12px;\n",
              "    }\n",
              "\n",
              "    .colab-df-convert {\n",
              "      background-color: #E8F0FE;\n",
              "      border: none;\n",
              "      border-radius: 50%;\n",
              "      cursor: pointer;\n",
              "      display: none;\n",
              "      fill: #1967D2;\n",
              "      height: 32px;\n",
              "      padding: 0 0 0 0;\n",
              "      width: 32px;\n",
              "    }\n",
              "\n",
              "    .colab-df-convert:hover {\n",
              "      background-color: #E2EBFA;\n",
              "      box-shadow: 0px 1px 2px rgba(60, 64, 67, 0.3), 0px 1px 3px 1px rgba(60, 64, 67, 0.15);\n",
              "      fill: #174EA6;\n",
              "    }\n",
              "\n",
              "    [theme=dark] .colab-df-convert {\n",
              "      background-color: #3B4455;\n",
              "      fill: #D2E3FC;\n",
              "    }\n",
              "\n",
              "    [theme=dark] .colab-df-convert:hover {\n",
              "      background-color: #434B5C;\n",
              "      box-shadow: 0px 1px 3px 1px rgba(0, 0, 0, 0.15);\n",
              "      filter: drop-shadow(0px 1px 2px rgba(0, 0, 0, 0.3));\n",
              "      fill: #FFFFFF;\n",
              "    }\n",
              "  </style>\n",
              "\n",
              "      <script>\n",
              "        const buttonEl =\n",
              "          document.querySelector('#df-1f2b73a2-d3e8-4f32-9c70-b741963c275f button.colab-df-convert');\n",
              "        buttonEl.style.display =\n",
              "          google.colab.kernel.accessAllowed ? 'block' : 'none';\n",
              "\n",
              "        async function convertToInteractive(key) {\n",
              "          const element = document.querySelector('#df-1f2b73a2-d3e8-4f32-9c70-b741963c275f');\n",
              "          const dataTable =\n",
              "            await google.colab.kernel.invokeFunction('convertToInteractive',\n",
              "                                                     [key], {});\n",
              "          if (!dataTable) return;\n",
              "\n",
              "          const docLinkHtml = 'Like what you see? Visit the ' +\n",
              "            '<a target=\"_blank\" href=https://colab.research.google.com/notebooks/data_table.ipynb>data table notebook</a>'\n",
              "            + ' to learn more about interactive tables.';\n",
              "          element.innerHTML = '';\n",
              "          dataTable['output_type'] = 'display_data';\n",
              "          await google.colab.output.renderOutput(dataTable, element);\n",
              "          const docLink = document.createElement('div');\n",
              "          docLink.innerHTML = docLinkHtml;\n",
              "          element.appendChild(docLink);\n",
              "        }\n",
              "      </script>\n",
              "    </div>\n",
              "  </div>\n",
              "  "
            ]
          },
          "metadata": {},
          "execution_count": 10
        }
      ],
      "source": [
        "# sustituir los NA con los valores calculados en la celda anterior\n",
        "\n",
        "X_train['age_imputed'] = impute_na(X_train, 'age',\n",
        "                                   X_train.age.mean() + 3 * X_train.age.std())\n",
        "\n",
        "X_train.head(15)"
      ]
    },
    {
      "cell_type": "markdown",
      "metadata": {
        "id": "bMPnyzdMCgWM"
      },
      "source": [
        "Observa como las filas con valores nulos (NaN) in Age, fueron reemplazadas con el valor 73.43632005918366"
      ]
    },
    {
      "cell_type": "code",
      "execution_count": null,
      "metadata": {
        "id": "i2W89T2FCgWM",
        "outputId": "cdf3b807-4fa3-43de-818d-bece3590294e",
        "colab": {
          "base_uri": "https://localhost:8080/"
        }
      },
      "outputs": [
        {
          "output_type": "stream",
          "name": "stdout",
          "text": [
            "Varianza variable original:  210.45286924636747\n",
            "Varianza luego de sustitución por media mas 3*std:  466.4111899213168\n"
          ]
        }
      ],
      "source": [
        "# podemos ver un cambio en la varianza tras la imputación\n",
        "\n",
        "# esto es de esperarse, porque el porcentaje de valores ausentes\n",
        "# es relativamente grande en age, ~20%\n",
        "\n",
        "\n",
        "print('Varianza variable original: ', X_train['age'].var())\n",
        "print('Varianza luego de sustitución por media mas 3*std: ', X_train['age_imputed'].var())"
      ]
    },
    {
      "cell_type": "code",
      "execution_count": null,
      "metadata": {
        "id": "-yJAwChcCgWN",
        "outputId": "eb7aac54-1289-4f70-82e3-0738b4ca51c0",
        "colab": {
          "base_uri": "https://localhost:8080/",
          "height": 282
        }
      },
      "outputs": [
        {
          "output_type": "execute_result",
          "data": {
            "text/plain": [
              "<matplotlib.legend.Legend at 0x7fc14e6c5c90>"
            ]
          },
          "metadata": {},
          "execution_count": 10
        },
        {
          "output_type": "display_data",
          "data": {
            "text/plain": [
              "<Figure size 432x288 with 1 Axes>"
            ],
            "image/png": "[encoded data removed]"
          },
          "metadata": {
            "needs_background": "light"
          }
        }
      ],
      "source": [
        "# Comparemos distribuciones\n",
        "\n",
        "# podemos ver que la distribución ha cambiado con más\n",
        "# valores acumulados al final de la escala\n",
        "\n",
        "fig = plt.figure()\n",
        "ax = fig.add_subplot(111)\n",
        "\n",
        "# distribución original de la variable\n",
        "X_train['age'].plot(kind='kde', ax=ax)\n",
        "\n",
        "# distribución variable sustituida con  media más 3*std\n",
        "X_train['age_imputed'].plot(kind='kde', ax=ax, color='red')\n",
        "\n",
        "# etiquetas\n",
        "lines, labels = ax.get_legend_handles_labels()\n",
        "ax.legend(lines, labels, loc='best')"
      ]
    },
    {
      "cell_type": "markdown",
      "metadata": {
        "id": "SWYtimvFCgWN"
      },
      "source": [
        "Al igual que en la sustitución por valores arbitrarios, la sustitución por valores al final de la distribución distorsiona la distribución original de la variables y como es de esperarse, la variable transformada tiene más valores al extremo de la distribución.\n",
        "\n",
        "**Es esto importante?**\n",
        "\n",
        "Depende del algoritmo de machine learning seleccionado para construir el modelo.\n",
        "Los modelos lineales asumen que las variables están normalmente distribuidas. La sustitución por valores arbitrarios puede distorsionar la distribución normal original si el porcentaje de valores ausentes es alto y por lo tanto afectar el desempeño del modelo lineal.\n",
        "\n",
        "\n",
        "Por el contrario, esta técnica funciona muy bien para los algoritmos basados en árboles."
      ]
    },
    {
      "cell_type": "code",
      "execution_count": null,
      "metadata": {
        "id": "Ivn9OFcECgWN",
        "outputId": "56d0c319-fd00-4d78-d88d-f53e6e7395e1",
        "colab": {
          "base_uri": "https://localhost:8080/",
          "height": 143
        }
      },
      "outputs": [
        {
          "output_type": "execute_result",
          "data": {
            "text/plain": [
              "                    fare         age  age_imputed\n",
              "fare         2328.801583   78.468894    -7.185565\n",
              "age            78.468894  210.452869   210.452869\n",
              "age_imputed    -7.185565  210.452869   466.411190"
            ],
            "text/html": [
              "\n",
              "  <div id=\"df-8b031ff5-016d-409f-9501-03f3a449182e\">\n",
              "    <div class=\"colab-df-container\">\n",
              "      <div>\n",
              "<style scoped>\n",
              "    .dataframe tbody tr th:only-of-type {\n",
              "        vertical-align: middle;\n",
              "    }\n",
              "\n",
              "    .dataframe tbody tr th {\n",
              "        vertical-align: top;\n",
              "    }\n",
              "\n",
              "    .dataframe thead th {\n",
              "        text-align: right;\n",
              "    }\n",
              "</style>\n",
              "<table border=\"1\" class=\"dataframe\">\n",
              "  <thead>\n",
              "    <tr style=\"text-align: right;\">\n",
              "      <th></th>\n",
              "      <th>fare</th>\n",
              "      <th>age</th>\n",
              "      <th>age_imputed</th>\n",
              "    </tr>\n",
              "  </thead>\n",
              "  <tbody>\n",
              "    <tr>\n",
              "      <th>fare</th>\n",
              "      <td>2328.801583</td>\n",
              "      <td>78.468894</td>\n",
              "      <td>-7.185565</td>\n",
              "    </tr>\n",
              "    <tr>\n",
              "      <th>age</th>\n",
              "      <td>78.468894</td>\n",
              "      <td>210.452869</td>\n",
              "      <td>210.452869</td>\n",
              "    </tr>\n",
              "    <tr>\n",
              "      <th>age_imputed</th>\n",
              "      <td>-7.185565</td>\n",
              "      <td>210.452869</td>\n",
              "      <td>466.411190</td>\n",
              "    </tr>\n",
              "  </tbody>\n",
              "</table>\n",
              "</div>\n",
              "      <button class=\"colab-df-convert\" onclick=\"convertToInteractive('df-8b031ff5-016d-409f-9501-03f3a449182e')\"\n",
              "              title=\"Convert this dataframe to an interactive table.\"\n",
              "              style=\"display:none;\">\n",
              "        \n",
              "  <svg xmlns=\"http://www.w3.org/2000/svg\" height=\"24px\"viewBox=\"0 0 24 24\"\n",
              "       width=\"24px\">\n",
              "    <path d=\"M0 0h24v24H0V0z\" fill=\"none\"/>\n",
              "    <path d=\"M18.56 5.44l.94 2.06.94-2.06 2.06-.94-2.06-.94-.94-2.06-.94 2.06-2.06.94zm-11 1L8.5 8.5l.94-2.06 2.06-.94-2.06-.94L8.5 2.5l-.94 2.06-2.06.94zm10 10l.94 2.06.94-2.06 2.06-.94-2.06-.94-.94-2.06-.94 2.06-2.06.94z\"/><path d=\"M17.41 7.96l-1.37-1.37c-.4-.4-.92-.59-1.43-.59-.52 0-1.04.2-1.43.59L10.3 9.45l-7.72 7.72c-.78.78-.78 2.05 0 2.83L4 21.41c.39.39.9.59 1.41.59.51 0 1.02-.2 1.41-.59l7.78-7.78 2.81-2.81c.8-.78.8-2.07 0-2.86zM5.41 20L4 18.59l7.72-7.72 1.47 1.35L5.41 20z\"/>\n",
              "  </svg>\n",
              "      </button>\n",
              "      \n",
              "  <style>\n",
              "    .colab-df-container {\n",
              "      display:flex;\n",
              "      flex-wrap:wrap;\n",
              "      gap: 12px;\n",
              "    }\n",
              "\n",
              "    .colab-df-convert {\n",
              "      background-color: #E8F0FE;\n",
              "      border: none;\n",
              "      border-radius: 50%;\n",
              "      cursor: pointer;\n",
              "      display: none;\n",
              "      fill: #1967D2;\n",
              "      height: 32px;\n",
              "      padding: 0 0 0 0;\n",
              "      width: 32px;\n",
              "    }\n",
              "\n",
              "    .colab-df-convert:hover {\n",
              "      background-color: #E2EBFA;\n",
              "      box-shadow: 0px 1px 2px rgba(60, 64, 67, 0.3), 0px 1px 3px 1px rgba(60, 64, 67, 0.15);\n",
              "      fill: #174EA6;\n",
              "    }\n",
              "\n",
              "    [theme=dark] .colab-df-convert {\n",
              "      background-color: #3B4455;\n",
              "      fill: #D2E3FC;\n",
              "    }\n",
              "\n",
              "    [theme=dark] .colab-df-convert:hover {\n",
              "      background-color: #434B5C;\n",
              "      box-shadow: 0px 1px 3px 1px rgba(0, 0, 0, 0.15);\n",
              "      filter: drop-shadow(0px 1px 2px rgba(0, 0, 0, 0.3));\n",
              "      fill: #FFFFFF;\n",
              "    }\n",
              "  </style>\n",
              "\n",
              "      <script>\n",
              "        const buttonEl =\n",
              "          document.querySelector('#df-8b031ff5-016d-409f-9501-03f3a449182e button.colab-df-convert');\n",
              "        buttonEl.style.display =\n",
              "          google.colab.kernel.accessAllowed ? 'block' : 'none';\n",
              "\n",
              "        async function convertToInteractive(key) {\n",
              "          const element = document.querySelector('#df-8b031ff5-016d-409f-9501-03f3a449182e');\n",
              "          const dataTable =\n",
              "            await google.colab.kernel.invokeFunction('convertToInteractive',\n",
              "                                                     [key], {});\n",
              "          if (!dataTable) return;\n",
              "\n",
              "          const docLinkHtml = 'Like what you see? Visit the ' +\n",
              "            '<a target=\"_blank\" href=https://colab.research.google.com/notebooks/data_table.ipynb>data table notebook</a>'\n",
              "            + ' to learn more about interactive tables.';\n",
              "          element.innerHTML = '';\n",
              "          dataTable['output_type'] = 'display_data';\n",
              "          await google.colab.output.renderOutput(dataTable, element);\n",
              "          const docLink = document.createElement('div');\n",
              "          docLink.innerHTML = docLinkHtml;\n",
              "          element.appendChild(docLink);\n",
              "        }\n",
              "      </script>\n",
              "    </div>\n",
              "  </div>\n",
              "  "
            ]
          },
          "metadata": {},
          "execution_count": 11
        }
      ],
      "source": [
        "# esta técnica también puede afectar la relación de la variable imputada\n",
        "# con las restantes variables en el set de datos\n",
        "\n",
        "# veamos para esto la covarianza\n",
        "\n",
        "X_train[['fare', 'age', 'age_imputed']].cov()"
      ]
    },
    {
      "cell_type": "markdown",
      "metadata": {
        "id": "B9UA7QlYCgWO"
      },
      "source": [
        "Se puede observar que la covarianza entre Age y Fare cambió luego de la sustitución"
      ]
    },
    {
      "cell_type": "code",
      "execution_count": null,
      "metadata": {
        "id": "LIAs0X9pCgWO",
        "outputId": "a8f47b90-e3b1-41d0-f628-0abb58c816c4",
        "colab": {
          "base_uri": "https://localhost:8080/",
          "height": 338
        }
      },
      "outputs": [
        {
          "output_type": "stream",
          "name": "stderr",
          "text": [
            "/usr/local/lib/python3.7/dist-packages/matplotlib/cbook/__init__.py:1376: VisibleDeprecationWarning: Creating an ndarray from ragged nested sequences (which is a list-or-tuple of lists-or-tuples-or ndarrays with different lengths or shapes) is deprecated. If you meant to do this, you must specify 'dtype=object' when creating the ndarray.\n",
            "  X = np.atleast_1d(X.T if isinstance(X, np.ndarray) else np.asarray(X))\n"
          ]
        },
        {
          "output_type": "execute_result",
          "data": {
            "text/plain": [
              "<matplotlib.axes._subplots.AxesSubplot at 0x7fc14c6378d0>"
            ]
          },
          "metadata": {},
          "execution_count": 12
        },
        {
          "output_type": "display_data",
          "data": {
            "text/plain": [
              "<Figure size 432x288 with 1 Axes>"
            ],
            "image/png": "[encoded data removed]"
          },
          "metadata": {
            "needs_background": "light"
          }
        }
      ],
      "source": [
        "# Finalmente, la sustitución puede afectar los valores extremos\n",
        "\n",
        "# Gráfico de caja\n",
        "X_train[['age', 'age_imputed']].boxplot()"
      ]
    },
    {
      "cell_type": "markdown",
      "metadata": {
        "id": "L-OmzQAaCgWO"
      },
      "source": [
        "Los valores extremos presentes en la variable original parecen haber desaparecido!!!!"
      ]
    },
    {
      "cell_type": "markdown",
      "metadata": {
        "id": "7ayZc_iICgWO"
      },
      "source": [
        "## House Prices Dataset\n",
        "\n",
        "Repitamos rápidamente el mismo ejercicio con el House Prices dataset; este tiene variables con pocos o muchos valores nulos, por lo tanto podemos comparar el efecto de la sustitución en ambos escenarios."
      ]
    },
    {
      "cell_type": "code",
      "execution_count": null,
      "metadata": {
        "id": "d9Kb5pmdCgWP"
      },
      "outputs": [],
      "source": [
        "# Vamos a usar las siguientes variables\n",
        "# 3 de las cuales tienen valores nulos\n",
        "\n",
        "cols_to_use = [\n",
        "    'OverallQual', 'TotalBsmtSF', '1stFlrSF', 'GrLivArea', 'WoodDeckSF',\n",
        "    'BsmtUnfSF', 'LotFrontage', 'MasVnrArea', 'GarageYrBlt', 'SalePrice'\n",
        "]"
      ]
    },
    {
      "cell_type": "code",
      "execution_count": null,
      "metadata": {
        "id": "MZd3pZbiCgWP",
        "outputId": "bf43d577-fba0-4c64-99c7-a1e355500b6b",
        "colab": {
          "base_uri": "https://localhost:8080/",
          "height": 223
        }
      },
      "outputs": [
        {
          "output_type": "stream",
          "name": "stdout",
          "text": [
            "(1460, 10)\n"
          ]
        },
        {
          "output_type": "execute_result",
          "data": {
            "text/plain": [
              "   OverallQual  TotalBsmtSF  1stFlrSF  GrLivArea  WoodDeckSF  BsmtUnfSF  \\\n",
              "0            7          856       856       1710           0        150   \n",
              "1            6         1262      1262       1262         298        284   \n",
              "2            7          920       920       1786           0        434   \n",
              "3            7          756       961       1717           0        540   \n",
              "4            8         1145      1145       2198         192        490   \n",
              "\n",
              "   LotFrontage  MasVnrArea GarageYrBlt  SalePrice  \n",
              "0           65         196        2003     208500  \n",
              "1           80           0        1976     181500  \n",
              "2           68         162        2001     223500  \n",
              "3           60           0        1998     140000  \n",
              "4           84         350        2000     250000  "
            ],
            "text/html": [
              "\n",
              "  <div id=\"df-49ce7d41-7b39-4494-b7d3-2cddbf5a255f\">\n",
              "    <div class=\"colab-df-container\">\n",
              "      <div>\n",
              "<style scoped>\n",
              "    .dataframe tbody tr th:only-of-type {\n",
              "        vertical-align: middle;\n",
              "    }\n",
              "\n",
              "    .dataframe tbody tr th {\n",
              "        vertical-align: top;\n",
              "    }\n",
              "\n",
              "    .dataframe thead th {\n",
              "        text-align: right;\n",
              "    }\n",
              "</style>\n",
              "<table border=\"1\" class=\"dataframe\">\n",
              "  <thead>\n",
              "    <tr style=\"text-align: right;\">\n",
              "      <th></th>\n",
              "      <th>OverallQual</th>\n",
              "      <th>TotalBsmtSF</th>\n",
              "      <th>1stFlrSF</th>\n",
              "      <th>GrLivArea</th>\n",
              "      <th>WoodDeckSF</th>\n",
              "      <th>BsmtUnfSF</th>\n",
              "      <th>LotFrontage</th>\n",
              "      <th>MasVnrArea</th>\n",
              "      <th>GarageYrBlt</th>\n",
              "      <th>SalePrice</th>\n",
              "    </tr>\n",
              "  </thead>\n",
              "  <tbody>\n",
              "    <tr>\n",
              "      <th>0</th>\n",
              "      <td>7</td>\n",
              "      <td>856</td>\n",
              "      <td>856</td>\n",
              "      <td>1710</td>\n",
              "      <td>0</td>\n",
              "      <td>150</td>\n",
              "      <td>65</td>\n",
              "      <td>196</td>\n",
              "      <td>2003</td>\n",
              "      <td>208500</td>\n",
              "    </tr>\n",
              "    <tr>\n",
              "      <th>1</th>\n",
              "      <td>6</td>\n",
              "      <td>1262</td>\n",
              "      <td>1262</td>\n",
              "      <td>1262</td>\n",
              "      <td>298</td>\n",
              "      <td>284</td>\n",
              "      <td>80</td>\n",
              "      <td>0</td>\n",
              "      <td>1976</td>\n",
              "      <td>181500</td>\n",
              "    </tr>\n",
              "    <tr>\n",
              "      <th>2</th>\n",
              "      <td>7</td>\n",
              "      <td>920</td>\n",
              "      <td>920</td>\n",
              "      <td>1786</td>\n",
              "      <td>0</td>\n",
              "      <td>434</td>\n",
              "      <td>68</td>\n",
              "      <td>162</td>\n",
              "      <td>2001</td>\n",
              "      <td>223500</td>\n",
              "    </tr>\n",
              "    <tr>\n",
              "      <th>3</th>\n",
              "      <td>7</td>\n",
              "      <td>756</td>\n",
              "      <td>961</td>\n",
              "      <td>1717</td>\n",
              "      <td>0</td>\n",
              "      <td>540</td>\n",
              "      <td>60</td>\n",
              "      <td>0</td>\n",
              "      <td>1998</td>\n",
              "      <td>140000</td>\n",
              "    </tr>\n",
              "    <tr>\n",
              "      <th>4</th>\n",
              "      <td>8</td>\n",
              "      <td>1145</td>\n",
              "      <td>1145</td>\n",
              "      <td>2198</td>\n",
              "      <td>192</td>\n",
              "      <td>490</td>\n",
              "      <td>84</td>\n",
              "      <td>350</td>\n",
              "      <td>2000</td>\n",
              "      <td>250000</td>\n",
              "    </tr>\n",
              "  </tbody>\n",
              "</table>\n",
              "</div>\n",
              "      <button class=\"colab-df-convert\" onclick=\"convertToInteractive('df-49ce7d41-7b39-4494-b7d3-2cddbf5a255f')\"\n",
              "              title=\"Convert this dataframe to an interactive table.\"\n",
              "              style=\"display:none;\">\n",
              "        \n",
              "  <svg xmlns=\"http://www.w3.org/2000/svg\" height=\"24px\"viewBox=\"0 0 24 24\"\n",
              "       width=\"24px\">\n",
              "    <path d=\"M0 0h24v24H0V0z\" fill=\"none\"/>\n",
              "    <path d=\"M18.56 5.44l.94 2.06.94-2.06 2.06-.94-2.06-.94-.94-2.06-.94 2.06-2.06.94zm-11 1L8.5 8.5l.94-2.06 2.06-.94-2.06-.94L8.5 2.5l-.94 2.06-2.06.94zm10 10l.94 2.06.94-2.06 2.06-.94-2.06-.94-.94-2.06-.94 2.06-2.06.94z\"/><path d=\"M17.41 7.96l-1.37-1.37c-.4-.4-.92-.59-1.43-.59-.52 0-1.04.2-1.43.59L10.3 9.45l-7.72 7.72c-.78.78-.78 2.05 0 2.83L4 21.41c.39.39.9.59 1.41.59.51 0 1.02-.2 1.41-.59l7.78-7.78 2.81-2.81c.8-.78.8-2.07 0-2.86zM5.41 20L4 18.59l7.72-7.72 1.47 1.35L5.41 20z\"/>\n",
              "  </svg>\n",
              "      </button>\n",
              "      \n",
              "  <style>\n",
              "    .colab-df-container {\n",
              "      display:flex;\n",
              "      flex-wrap:wrap;\n",
              "      gap: 12px;\n",
              "    }\n",
              "\n",
              "    .colab-df-convert {\n",
              "      background-color: #E8F0FE;\n",
              "      border: none;\n",
              "      border-radius: 50%;\n",
              "      cursor: pointer;\n",
              "      display: none;\n",
              "      fill: #1967D2;\n",
              "      height: 32px;\n",
              "      padding: 0 0 0 0;\n",
              "      width: 32px;\n",
              "    }\n",
              "\n",
              "    .colab-df-convert:hover {\n",
              "      background-color: #E2EBFA;\n",
              "      box-shadow: 0px 1px 2px rgba(60, 64, 67, 0.3), 0px 1px 3px 1px rgba(60, 64, 67, 0.15);\n",
              "      fill: #174EA6;\n",
              "    }\n",
              "\n",
              "    [theme=dark] .colab-df-convert {\n",
              "      background-color: #3B4455;\n",
              "      fill: #D2E3FC;\n",
              "    }\n",
              "\n",
              "    [theme=dark] .colab-df-convert:hover {\n",
              "      background-color: #434B5C;\n",
              "      box-shadow: 0px 1px 3px 1px rgba(0, 0, 0, 0.15);\n",
              "      filter: drop-shadow(0px 1px 2px rgba(0, 0, 0, 0.3));\n",
              "      fill: #FFFFFF;\n",
              "    }\n",
              "  </style>\n",
              "\n",
              "      <script>\n",
              "        const buttonEl =\n",
              "          document.querySelector('#df-49ce7d41-7b39-4494-b7d3-2cddbf5a255f button.colab-df-convert');\n",
              "        buttonEl.style.display =\n",
              "          google.colab.kernel.accessAllowed ? 'block' : 'none';\n",
              "\n",
              "        async function convertToInteractive(key) {\n",
              "          const element = document.querySelector('#df-49ce7d41-7b39-4494-b7d3-2cddbf5a255f');\n",
              "          const dataTable =\n",
              "            await google.colab.kernel.invokeFunction('convertToInteractive',\n",
              "                                                     [key], {});\n",
              "          if (!dataTable) return;\n",
              "\n",
              "          const docLinkHtml = 'Like what you see? Visit the ' +\n",
              "            '<a target=\"_blank\" href=https://colab.research.google.com/notebooks/data_table.ipynb>data table notebook</a>'\n",
              "            + ' to learn more about interactive tables.';\n",
              "          element.innerHTML = '';\n",
              "          dataTable['output_type'] = 'display_data';\n",
              "          await google.colab.output.renderOutput(dataTable, element);\n",
              "          const docLink = document.createElement('div');\n",
              "          docLink.innerHTML = docLinkHtml;\n",
              "          element.appendChild(docLink);\n",
              "        }\n",
              "      </script>\n",
              "    </div>\n",
              "  </div>\n",
              "  "
            ]
          },
          "metadata": {},
          "execution_count": 15
        }
      ],
      "source": [
        "# House Prices dataset\n",
        "\n",
        "data = pd.read_csv('https://raw.githubusercontent.com/RubixML/Housing/master/dataset.csv')\n",
        "data=data[cols_to_use]\n",
        "print(data.shape)\n",
        "data.head()"
      ]
    },
    {
      "cell_type": "code",
      "execution_count": null,
      "metadata": {
        "id": "G_pYmdETCgWP",
        "outputId": "1c890fb7-195b-4c37-d264-7d3ead1fdee5",
        "colab": {
          "base_uri": "https://localhost:8080/"
        }
      },
      "outputs": [
        {
          "output_type": "execute_result",
          "data": {
            "text/plain": [
              "[]"
            ]
          },
          "metadata": {},
          "execution_count": 16
        }
      ],
      "source": [
        "# en la siguiente lista (list comprehension), vamos a iterar sobre\n",
        "# las columnas en los datos y seleccionar aquellas con valores faltantes\n",
        "\n",
        "[var for var in data.columns if data[var].isnull().sum()>0]"
      ]
    },
    {
      "cell_type": "code",
      "execution_count": null,
      "metadata": {
        "id": "nKUKVI1BCgWP",
        "outputId": "7c370bd6-8e06-48dd-f5b6-4d7d7aa020a4",
        "colab": {
          "base_uri": "https://localhost:8080/"
        }
      },
      "outputs": [
        {
          "output_type": "execute_result",
          "data": {
            "text/plain": [
              "LotFrontage    0.0\n",
              "MasVnrArea     0.0\n",
              "GarageYrBlt    0.0\n",
              "dtype: float64"
            ]
          },
          "metadata": {},
          "execution_count": 17
        }
      ],
      "source": [
        "# porcentaje de valores nulos\n",
        "\n",
        "data[['LotFrontage', 'MasVnrArea', 'GarageYrBlt']].isnull().mean()"
      ]
    },
    {
      "cell_type": "code",
      "execution_count": null,
      "metadata": {
        "scrolled": false,
        "id": "TNTqOZqBCgWQ",
        "outputId": "b521a05c-ac91-498a-f948-63c31618bf75",
        "colab": {
          "base_uri": "https://localhost:8080/"
        }
      },
      "outputs": [
        {
          "output_type": "execute_result",
          "data": {
            "text/plain": [
              "((1022, 10), (438, 10))"
            ]
          },
          "metadata": {},
          "execution_count": 18
        }
      ],
      "source": [
        "# separemos los datos en entrenamiento y prueba\n",
        "\n",
        "X_train, X_test, y_train, y_test = train_test_split(data,\n",
        "                                                    data['SalePrice'],\n",
        "                                                    test_size=0.3,\n",
        "                                                    random_state=0)\n",
        "X_train.shape, X_test.shape"
      ]
    },
    {
      "cell_type": "code",
      "execution_count": null,
      "metadata": {
        "id": "bgLiuIUXCgWQ",
        "outputId": "360e5b91-a715-482f-bf52-7d9aebcf2669",
        "colab": {
          "base_uri": "https://localhost:8080/",
          "height": 607
        }
      },
      "outputs": [
        {
          "output_type": "display_data",
          "data": {
            "text/plain": [
              "<Figure size 720x720 with 2 Axes>"
            ],
            "image/png": "[encoded data removed]"
          },
          "metadata": {
            "needs_background": "light"
          }
        }
      ],
      "source": [
        "# distribuciones de las variables\n",
        "\n",
        "X_train[['LotFrontage', 'MasVnrArea', 'GarageYrBlt']].hist(bins=50, figsize=(10,10))\n",
        "plt.show()"
      ]
    },
    {
      "cell_type": "code",
      "execution_count": null,
      "metadata": {
        "id": "5SxfVfETCgWQ",
        "outputId": "9441802d-506b-4410-f305-a192f6462b18",
        "colab": {
          "base_uri": "https://localhost:8080/"
        }
      },
      "outputs": [
        {
          "output_type": "execute_result",
          "data": {
            "text/plain": [
              "193.0"
            ]
          },
          "metadata": {},
          "execution_count": 20
        }
      ],
      "source": [
        "# las variables están normalmente distribuidas\n",
        "\n",
        "# sustituyamos los valores nulos con la regla de proximidad del rango entre-cuantil\n",
        "# como vimos en la clase de valores extremos en la sección 3\n",
        "\n",
        "# rango entre-cuantil IQR\n",
        "\n",
        "IQR = X_train['LotFrontage'].quantile(0.75) - X_train['LotFrontage'].quantile(\n",
        "    0.25)\n",
        "\n",
        "# límite superior\n",
        "extreme_value = X_train['LotFrontage'].quantile(0.75) + 3 * IQR\n",
        "\n",
        "extreme_value"
      ]
    },
    {
      "cell_type": "code",
      "execution_count": null,
      "metadata": {
        "id": "EDXv67EjCgWR"
      },
      "outputs": [],
      "source": [
        "# sustituir valores nulos con los valores extremos\n",
        "\n",
        "X_train.loc[:,'LotFrontage_imputed'] = impute_na(X_train, 'LotFrontage', extreme_value)\n",
        "X_test.loc[:,'LotFrontage_imputed'] = impute_na(X_test, 'LotFrontage', extreme_value)"
      ]
    },
    {
      "cell_type": "code",
      "execution_count": null,
      "metadata": {
        "id": "4eB1TBm6CgWR",
        "outputId": "3e9c72be-5884-498d-dfa7-cfaed33074df",
        "colab": {
          "base_uri": "https://localhost:8080/"
        }
      },
      "outputs": [
        {
          "output_type": "execute_result",
          "data": {
            "text/plain": [
              "680.0"
            ]
          },
          "metadata": {},
          "execution_count": 22
        }
      ],
      "source": [
        "# repitamos para la variable MasVnrArea\n",
        "\n",
        "# rango entre-cuantil IQR\n",
        "IQR = X_train['MasVnrArea'].quantile(0.75) - X_train['MasVnrArea'].quantile(\n",
        "    0.25)\n",
        "\n",
        "# límite superior\n",
        "extreme_value = X_train['MasVnrArea'].quantile(0.75) + 3 * IQR\n",
        "\n",
        "extreme_value"
      ]
    },
    {
      "cell_type": "code",
      "execution_count": null,
      "metadata": {
        "id": "3Dlhb-QCCgWR"
      },
      "outputs": [],
      "source": [
        "# sustituir valores nulos con los valores extremos\n",
        "\n",
        "X_train.loc[:,'MasVnrArea_imputed'] = impute_na(X_train, 'MasVnrArea', extreme_value)\n",
        "X_test.loc[:,'MasVnrArea_imputed'] = impute_na(X_test, 'MasVnrArea', extreme_value)"
      ]
    },
    {
      "cell_type": "code",
      "execution_count": null,
      "metadata": {
        "id": "N9qgQVa_CgWR",
        "outputId": "b6ab824c-66b7-4955-c5d4-359ebebe4c6c",
        "colab": {
          "base_uri": "https://localhost:8080/",
          "height": 282
        }
      },
      "outputs": [
        {
          "output_type": "execute_result",
          "data": {
            "text/plain": [
              "<matplotlib.legend.Legend at 0x7f296247fd10>"
            ]
          },
          "metadata": {},
          "execution_count": 24
        },
        {
          "output_type": "display_data",
          "data": {
            "text/plain": [
              "<Figure size 432x288 with 1 Axes>"
            ],
            "image/png": "[encoded data removed]"
          },
          "metadata": {
            "needs_background": "light"
          }
        }
      ],
      "source": [
        "# evaluemos el efecto de la sustitución en las distribuciones\n",
        "\n",
        "# los valores de la variable imputada presentan una acumulación\n",
        "# hacia el valor utilizado para reemplazar NA\n",
        "\n",
        "fig = plt.figure()\n",
        "ax = fig.add_subplot(111)\n",
        "\n",
        "# distribución original\n",
        "X_train['LotFrontage'].plot(kind='kde', ax=ax)\n",
        "\n",
        "# variable sustituida\n",
        "X_train['LotFrontage_imputed'].plot(kind='kde', ax=ax, color='red')\n",
        "\n",
        "# etiquetas\n",
        "lines, labels = ax.get_legend_handles_labels()\n",
        "ax.legend(lines, labels, loc='best')"
      ]
    },
    {
      "cell_type": "code",
      "execution_count": null,
      "metadata": {
        "id": "6zxdSpoHCgWR",
        "outputId": "b807143f-fef5-42e8-85a9-f491b7b73121",
        "colab": {
          "base_uri": "https://localhost:8080/",
          "height": 282
        }
      },
      "outputs": [
        {
          "output_type": "execute_result",
          "data": {
            "text/plain": [
              "<matplotlib.legend.Legend at 0x7f29623e9e50>"
            ]
          },
          "metadata": {},
          "execution_count": 25
        },
        {
          "output_type": "display_data",
          "data": {
            "text/plain": [
              "<Figure size 432x288 with 1 Axes>"
            ],
            "image/png": "[encoded data removed]"
          },
          "metadata": {
            "needs_background": "light"
          }
        }
      ],
      "source": [
        "# evaluemos el efecto de la sustitución en las distribuciones\n",
        "\n",
        "# MasVnrArea tienen solo unos pocos valores nulos, por lo tanto\n",
        "# el cambio en la distribución es menos dramático. Menos que cuando utilizamos\n",
        "# el valor arbitrario es 2999 como vimos en el notebook anterior\n",
        "\n",
        "\n",
        "fig = plt.figure()\n",
        "ax = fig.add_subplot(111)\n",
        "\n",
        "# distribución original\n",
        "X_train['MasVnrArea'].plot(kind='kde', ax=ax)\n",
        "\n",
        "# variable sustituida\n",
        "X_train['MasVnrArea_imputed'].plot(kind='kde', ax=ax, color='red')\n",
        "\n",
        "# etiquetas\n",
        "lines, labels = ax.get_legend_handles_labels()\n",
        "ax.legend(lines, labels, loc='best')"
      ]
    },
    {
      "cell_type": "markdown",
      "metadata": {
        "collapsed": true,
        "id": "ErqbrY_tCgWS"
      },
      "source": [
        "Podemos observar de las gráficas anteriores que la distribución de LotFrontAge cambió dramáticamente, a diferencia de MasVnrArea. Esto se debe a que el % de valores nulos en la segunda variable es pequeño."
      ]
    },
    {
      "cell_type": "code",
      "execution_count": null,
      "metadata": {
        "id": "MrLiSpuUCgWS",
        "outputId": "029b42e0-ae5a-4fdc-ceff-4882f7917506",
        "colab": {
          "base_uri": "https://localhost:8080/",
          "height": 283
        }
      },
      "outputs": [
        {
          "output_type": "execute_result",
          "data": {
            "text/plain": [
              "<matplotlib.axes._subplots.AxesSubplot at 0x7f29622e2e90>"
            ]
          },
          "metadata": {},
          "execution_count": 26
        },
        {
          "output_type": "display_data",
          "data": {
            "text/plain": [
              "<Figure size 432x288 with 1 Axes>"
            ],
            "image/png": "[encoded data removed]"
          },
          "metadata": {
            "needs_background": "light"
          }
        }
      ],
      "source": [
        "# también vemos que hay menos valores extremos después de la sustitución\n",
        "\n",
        "X_train[['LotFrontage', 'LotFrontage_imputed']].boxplot()"
      ]
    },
    {
      "cell_type": "code",
      "execution_count": null,
      "metadata": {
        "id": "PXFFlNReCgWS",
        "outputId": "33ea1f52-da02-4c33-e587-f4c11e799b24",
        "colab": {
          "base_uri": "https://localhost:8080/",
          "height": 283
        }
      },
      "outputs": [
        {
          "output_type": "execute_result",
          "data": {
            "text/plain": [
              "<matplotlib.axes._subplots.AxesSubplot at 0x7f2962262a90>"
            ]
          },
          "metadata": {},
          "execution_count": 27
        },
        {
          "output_type": "display_data",
          "data": {
            "text/plain": [
              "<Figure size 432x288 with 1 Axes>"
            ],
            "image/png": "[encoded data removed]"
          },
          "metadata": {
            "needs_background": "light"
          }
        }
      ],
      "source": [
        "# sin embargo, los valores extremos no se afectan para la variable\n",
        "# MasVnrArea\n",
        "\n",
        "X_train[['MasVnrArea', 'MasVnrArea_imputed']].boxplot()"
      ]
    },
    {
      "cell_type": "code",
      "execution_count": null,
      "metadata": {
        "id": "8zA4Fo5pCgWS",
        "outputId": "ed797df0-a485-471c-c5eb-cbd2c65763c4",
        "colab": {
          "base_uri": "https://localhost:8080/"
        }
      },
      "outputs": [
        {
          "output_type": "stream",
          "name": "stdout",
          "text": [
            "Original Variance:  1166.3258000770516\n",
            "Variance after imputation:  1166.3258000770516\n"
          ]
        }
      ],
      "source": [
        "# Igualmente podemos ver el efecto de la sustitución\n",
        "# en la varianza\n",
        "\n",
        "# Para LotFrontAge hay un cambio significativo ya que el porcentaje\n",
        "# de valores nulos es alto ~20%\n",
        "\n",
        "print('Original Variance: ', X_train['LotFrontage'].var())\n",
        "print('Variance after imputation: ', X_train['LotFrontage_imputed'].var())"
      ]
    },
    {
      "cell_type": "code",
      "execution_count": null,
      "metadata": {
        "id": "6ItiVAssCgWT",
        "outputId": "fba5fd32-1e69-40f5-a71d-cbfe3902fa9d",
        "colab": {
          "base_uri": "https://localhost:8080/"
        }
      },
      "outputs": [
        {
          "output_type": "stream",
          "name": "stdout",
          "text": [
            "Varianza original:  32874.27007404175\n",
            "Varianza despues de sustitución:  32874.27007404175\n"
          ]
        }
      ],
      "source": [
        "# En MasnVnrArea, el cambio en la varianza no es considerable\n",
        "# es importante resaltar que el efecto es mucho más pequeño\n",
        "# que cuando se uso el valor 2999 para la sustitución de los valores nulos\n",
        "# (compara con los resultados del notebook anterior)\n",
        "\n",
        "print('Varianza original: ', X_train['MasVnrArea'].var())\n",
        "print('Varianza despues de sustitución: ', X_train['MasVnrArea_imputed'].var())"
      ]
    },
    {
      "cell_type": "code",
      "execution_count": null,
      "metadata": {
        "id": "IM87EBKLCgWT",
        "outputId": "d37655e8-c460-431a-ee46-d4af28967d27",
        "colab": {
          "base_uri": "https://localhost:8080/",
          "height": 458
        }
      },
      "outputs": [
        {
          "output_type": "execute_result",
          "data": {
            "text/plain": [
              "                      OverallQual   TotalBsmtSF      1stFlrSF     GrLivArea  \\\n",
              "OverallQual              1.843859  2.886241e+02  2.242973e+02  4.091242e+02   \n",
              "TotalBsmtSF            288.624075  1.682931e+05  1.212079e+05  8.615192e+04   \n",
              "1stFlrSF               224.297266  1.212079e+05  1.398656e+05  1.044401e+05   \n",
              "GrLivArea              409.124216  8.615192e+04  1.044401e+05  2.681277e+05   \n",
              "WoodDeckSF              31.685571  1.227966e+04  1.109406e+04  1.558395e+04   \n",
              "BsmtUnfSF              174.614725  7.513307e+04  4.987449e+04  5.203392e+04   \n",
              "LotFrontage              7.140486  2.426610e+03  2.399494e+03  2.711557e+03   \n",
              "MasVnrArea             100.533003  2.465436e+04  2.080136e+04  3.496714e+04   \n",
              "SalePrice            83201.317781  2.003928e+07  1.783631e+07  2.934477e+07   \n",
              "LotFrontage_imputed      7.140486  2.426610e+03  2.399494e+03  2.711557e+03   \n",
              "MasVnrArea_imputed     100.533003  2.465436e+04  2.080136e+04  3.496714e+04   \n",
              "\n",
              "                       WoodDeckSF     BsmtUnfSF    LotFrontage    MasVnrArea  \\\n",
              "OverallQual          3.168557e+01  1.746147e+02       7.140486  1.005330e+02   \n",
              "TotalBsmtSF          1.227966e+04  7.513307e+04    2426.609753  2.465436e+04   \n",
              "1stFlrSF             1.109406e+04  4.987449e+04    2399.494481  2.080136e+04   \n",
              "GrLivArea            1.558395e+04  5.203392e+04    2711.556662  3.496714e+04   \n",
              "WoodDeckSF           1.648582e+04 -1.833201e+03    -285.075911  3.212101e+03   \n",
              "BsmtUnfSF           -1.833201e+03  1.875241e+05    2256.661389  7.472110e+03   \n",
              "LotFrontage         -2.850759e+02  2.256661e+03    1166.325800  4.734195e+02   \n",
              "MasVnrArea           3.212101e+03  7.472110e+03     473.419523  3.287427e+04   \n",
              "SalePrice            3.029981e+06  6.833028e+06  514723.295173  6.790442e+06   \n",
              "LotFrontage_imputed -2.850759e+02  2.256661e+03    1166.325800  4.734195e+02   \n",
              "MasVnrArea_imputed   3.212101e+03  7.472110e+03     473.419523  3.287427e+04   \n",
              "\n",
              "                        SalePrice  LotFrontage_imputed  MasVnrArea_imputed  \n",
              "OverallQual          8.320132e+04             7.140486        1.005330e+02  \n",
              "TotalBsmtSF          2.003928e+07          2426.609753        2.465436e+04  \n",
              "1stFlrSF             1.783631e+07          2399.494481        2.080136e+04  \n",
              "GrLivArea            2.934477e+07          2711.556662        3.496714e+04  \n",
              "WoodDeckSF           3.029981e+06          -285.075911        3.212101e+03  \n",
              "BsmtUnfSF            6.833028e+06          2256.661389        7.472110e+03  \n",
              "LotFrontage          5.147233e+05          1166.325800        4.734195e+02  \n",
              "MasVnrArea           6.790442e+06           473.419523        3.287427e+04  \n",
              "SalePrice            6.105731e+09        514723.295173        6.790442e+06  \n",
              "LotFrontage_imputed  5.147233e+05          1166.325800        4.734195e+02  \n",
              "MasVnrArea_imputed   6.790442e+06           473.419523        3.287427e+04  "
            ],
            "text/html": [
              "\n",
              "  <div id=\"df-04f6545a-f7e2-448e-a8e3-6b28198f0da6\">\n",
              "    <div class=\"colab-df-container\">\n",
              "      <div>\n",
              "<style scoped>\n",
              "    .dataframe tbody tr th:only-of-type {\n",
              "        vertical-align: middle;\n",
              "    }\n",
              "\n",
              "    .dataframe tbody tr th {\n",
              "        vertical-align: top;\n",
              "    }\n",
              "\n",
              "    .dataframe thead th {\n",
              "        text-align: right;\n",
              "    }\n",
              "</style>\n",
              "<table border=\"1\" class=\"dataframe\">\n",
              "  <thead>\n",
              "    <tr style=\"text-align: right;\">\n",
              "      <th></th>\n",
              "      <th>OverallQual</th>\n",
              "      <th>TotalBsmtSF</th>\n",
              "      <th>1stFlrSF</th>\n",
              "      <th>GrLivArea</th>\n",
              "      <th>WoodDeckSF</th>\n",
              "      <th>BsmtUnfSF</th>\n",
              "      <th>LotFrontage</th>\n",
              "      <th>MasVnrArea</th>\n",
              "      <th>SalePrice</th>\n",
              "      <th>LotFrontage_imputed</th>\n",
              "      <th>MasVnrArea_imputed</th>\n",
              "    </tr>\n",
              "  </thead>\n",
              "  <tbody>\n",
              "    <tr>\n",
              "      <th>OverallQual</th>\n",
              "      <td>1.843859</td>\n",
              "      <td>2.886241e+02</td>\n",
              "      <td>2.242973e+02</td>\n",
              "      <td>4.091242e+02</td>\n",
              "      <td>3.168557e+01</td>\n",
              "      <td>1.746147e+02</td>\n",
              "      <td>7.140486</td>\n",
              "      <td>1.005330e+02</td>\n",
              "      <td>8.320132e+04</td>\n",
              "      <td>7.140486</td>\n",
              "      <td>1.005330e+02</td>\n",
              "    </tr>\n",
              "    <tr>\n",
              "      <th>TotalBsmtSF</th>\n",
              "      <td>288.624075</td>\n",
              "      <td>1.682931e+05</td>\n",
              "      <td>1.212079e+05</td>\n",
              "      <td>8.615192e+04</td>\n",
              "      <td>1.227966e+04</td>\n",
              "      <td>7.513307e+04</td>\n",
              "      <td>2426.609753</td>\n",
              "      <td>2.465436e+04</td>\n",
              "      <td>2.003928e+07</td>\n",
              "      <td>2426.609753</td>\n",
              "      <td>2.465436e+04</td>\n",
              "    </tr>\n",
              "    <tr>\n",
              "      <th>1stFlrSF</th>\n",
              "      <td>224.297266</td>\n",
              "      <td>1.212079e+05</td>\n",
              "      <td>1.398656e+05</td>\n",
              "      <td>1.044401e+05</td>\n",
              "      <td>1.109406e+04</td>\n",
              "      <td>4.987449e+04</td>\n",
              "      <td>2399.494481</td>\n",
              "      <td>2.080136e+04</td>\n",
              "      <td>1.783631e+07</td>\n",
              "      <td>2399.494481</td>\n",
              "      <td>2.080136e+04</td>\n",
              "    </tr>\n",
              "    <tr>\n",
              "      <th>GrLivArea</th>\n",
              "      <td>409.124216</td>\n",
              "      <td>8.615192e+04</td>\n",
              "      <td>1.044401e+05</td>\n",
              "      <td>2.681277e+05</td>\n",
              "      <td>1.558395e+04</td>\n",
              "      <td>5.203392e+04</td>\n",
              "      <td>2711.556662</td>\n",
              "      <td>3.496714e+04</td>\n",
              "      <td>2.934477e+07</td>\n",
              "      <td>2711.556662</td>\n",
              "      <td>3.496714e+04</td>\n",
              "    </tr>\n",
              "    <tr>\n",
              "      <th>WoodDeckSF</th>\n",
              "      <td>31.685571</td>\n",
              "      <td>1.227966e+04</td>\n",
              "      <td>1.109406e+04</td>\n",
              "      <td>1.558395e+04</td>\n",
              "      <td>1.648582e+04</td>\n",
              "      <td>-1.833201e+03</td>\n",
              "      <td>-285.075911</td>\n",
              "      <td>3.212101e+03</td>\n",
              "      <td>3.029981e+06</td>\n",
              "      <td>-285.075911</td>\n",
              "      <td>3.212101e+03</td>\n",
              "    </tr>\n",
              "    <tr>\n",
              "      <th>BsmtUnfSF</th>\n",
              "      <td>174.614725</td>\n",
              "      <td>7.513307e+04</td>\n",
              "      <td>4.987449e+04</td>\n",
              "      <td>5.203392e+04</td>\n",
              "      <td>-1.833201e+03</td>\n",
              "      <td>1.875241e+05</td>\n",
              "      <td>2256.661389</td>\n",
              "      <td>7.472110e+03</td>\n",
              "      <td>6.833028e+06</td>\n",
              "      <td>2256.661389</td>\n",
              "      <td>7.472110e+03</td>\n",
              "    </tr>\n",
              "    <tr>\n",
              "      <th>LotFrontage</th>\n",
              "      <td>7.140486</td>\n",
              "      <td>2.426610e+03</td>\n",
              "      <td>2.399494e+03</td>\n",
              "      <td>2.711557e+03</td>\n",
              "      <td>-2.850759e+02</td>\n",
              "      <td>2.256661e+03</td>\n",
              "      <td>1166.325800</td>\n",
              "      <td>4.734195e+02</td>\n",
              "      <td>5.147233e+05</td>\n",
              "      <td>1166.325800</td>\n",
              "      <td>4.734195e+02</td>\n",
              "    </tr>\n",
              "    <tr>\n",
              "      <th>MasVnrArea</th>\n",
              "      <td>100.533003</td>\n",
              "      <td>2.465436e+04</td>\n",
              "      <td>2.080136e+04</td>\n",
              "      <td>3.496714e+04</td>\n",
              "      <td>3.212101e+03</td>\n",
              "      <td>7.472110e+03</td>\n",
              "      <td>473.419523</td>\n",
              "      <td>3.287427e+04</td>\n",
              "      <td>6.790442e+06</td>\n",
              "      <td>473.419523</td>\n",
              "      <td>3.287427e+04</td>\n",
              "    </tr>\n",
              "    <tr>\n",
              "      <th>SalePrice</th>\n",
              "      <td>83201.317781</td>\n",
              "      <td>2.003928e+07</td>\n",
              "      <td>1.783631e+07</td>\n",
              "      <td>2.934477e+07</td>\n",
              "      <td>3.029981e+06</td>\n",
              "      <td>6.833028e+06</td>\n",
              "      <td>514723.295173</td>\n",
              "      <td>6.790442e+06</td>\n",
              "      <td>6.105731e+09</td>\n",
              "      <td>514723.295173</td>\n",
              "      <td>6.790442e+06</td>\n",
              "    </tr>\n",
              "    <tr>\n",
              "      <th>LotFrontage_imputed</th>\n",
              "      <td>7.140486</td>\n",
              "      <td>2.426610e+03</td>\n",
              "      <td>2.399494e+03</td>\n",
              "      <td>2.711557e+03</td>\n",
              "      <td>-2.850759e+02</td>\n",
              "      <td>2.256661e+03</td>\n",
              "      <td>1166.325800</td>\n",
              "      <td>4.734195e+02</td>\n",
              "      <td>5.147233e+05</td>\n",
              "      <td>1166.325800</td>\n",
              "      <td>4.734195e+02</td>\n",
              "    </tr>\n",
              "    <tr>\n",
              "      <th>MasVnrArea_imputed</th>\n",
              "      <td>100.533003</td>\n",
              "      <td>2.465436e+04</td>\n",
              "      <td>2.080136e+04</td>\n",
              "      <td>3.496714e+04</td>\n",
              "      <td>3.212101e+03</td>\n",
              "      <td>7.472110e+03</td>\n",
              "      <td>473.419523</td>\n",
              "      <td>3.287427e+04</td>\n",
              "      <td>6.790442e+06</td>\n",
              "      <td>473.419523</td>\n",
              "      <td>3.287427e+04</td>\n",
              "    </tr>\n",
              "  </tbody>\n",
              "</table>\n",
              "</div>\n",
              "      <button class=\"colab-df-convert\" onclick=\"convertToInteractive('df-04f6545a-f7e2-448e-a8e3-6b28198f0da6')\"\n",
              "              title=\"Convert this dataframe to an interactive table.\"\n",
              "              style=\"display:none;\">\n",
              "        \n",
              "  <svg xmlns=\"http://www.w3.org/2000/svg\" height=\"24px\"viewBox=\"0 0 24 24\"\n",
              "       width=\"24px\">\n",
              "    <path d=\"M0 0h24v24H0V0z\" fill=\"none\"/>\n",
              "    <path d=\"M18.56 5.44l.94 2.06.94-2.06 2.06-.94-2.06-.94-.94-2.06-.94 2.06-2.06.94zm-11 1L8.5 8.5l.94-2.06 2.06-.94-2.06-.94L8.5 2.5l-.94 2.06-2.06.94zm10 10l.94 2.06.94-2.06 2.06-.94-2.06-.94-.94-2.06-.94 2.06-2.06.94z\"/><path d=\"M17.41 7.96l-1.37-1.37c-.4-.4-.92-.59-1.43-.59-.52 0-1.04.2-1.43.59L10.3 9.45l-7.72 7.72c-.78.78-.78 2.05 0 2.83L4 21.41c.39.39.9.59 1.41.59.51 0 1.02-.2 1.41-.59l7.78-7.78 2.81-2.81c.8-.78.8-2.07 0-2.86zM5.41 20L4 18.59l7.72-7.72 1.47 1.35L5.41 20z\"/>\n",
              "  </svg>\n",
              "      </button>\n",
              "      \n",
              "  <style>\n",
              "    .colab-df-container {\n",
              "      display:flex;\n",
              "      flex-wrap:wrap;\n",
              "      gap: 12px;\n",
              "    }\n",
              "\n",
              "    .colab-df-convert {\n",
              "      background-color: #E8F0FE;\n",
              "      border: none;\n",
              "      border-radius: 50%;\n",
              "      cursor: pointer;\n",
              "      display: none;\n",
              "      fill: #1967D2;\n",
              "      height: 32px;\n",
              "      padding: 0 0 0 0;\n",
              "      width: 32px;\n",
              "    }\n",
              "\n",
              "    .colab-df-convert:hover {\n",
              "      background-color: #E2EBFA;\n",
              "      box-shadow: 0px 1px 2px rgba(60, 64, 67, 0.3), 0px 1px 3px 1px rgba(60, 64, 67, 0.15);\n",
              "      fill: #174EA6;\n",
              "    }\n",
              "\n",
              "    [theme=dark] .colab-df-convert {\n",
              "      background-color: #3B4455;\n",
              "      fill: #D2E3FC;\n",
              "    }\n",
              "\n",
              "    [theme=dark] .colab-df-convert:hover {\n",
              "      background-color: #434B5C;\n",
              "      box-shadow: 0px 1px 3px 1px rgba(0, 0, 0, 0.15);\n",
              "      filter: drop-shadow(0px 1px 2px rgba(0, 0, 0, 0.3));\n",
              "      fill: #FFFFFF;\n",
              "    }\n",
              "  </style>\n",
              "\n",
              "      <script>\n",
              "        const buttonEl =\n",
              "          document.querySelector('#df-04f6545a-f7e2-448e-a8e3-6b28198f0da6 button.colab-df-convert');\n",
              "        buttonEl.style.display =\n",
              "          google.colab.kernel.accessAllowed ? 'block' : 'none';\n",
              "\n",
              "        async function convertToInteractive(key) {\n",
              "          const element = document.querySelector('#df-04f6545a-f7e2-448e-a8e3-6b28198f0da6');\n",
              "          const dataTable =\n",
              "            await google.colab.kernel.invokeFunction('convertToInteractive',\n",
              "                                                     [key], {});\n",
              "          if (!dataTable) return;\n",
              "\n",
              "          const docLinkHtml = 'Like what you see? Visit the ' +\n",
              "            '<a target=\"_blank\" href=https://colab.research.google.com/notebooks/data_table.ipynb>data table notebook</a>'\n",
              "            + ' to learn more about interactive tables.';\n",
              "          element.innerHTML = '';\n",
              "          dataTable['output_type'] = 'display_data';\n",
              "          await google.colab.output.renderOutput(dataTable, element);\n",
              "          const docLink = document.createElement('div');\n",
              "          docLink.innerHTML = docLinkHtml;\n",
              "          element.appendChild(docLink);\n",
              "        }\n",
              "      </script>\n",
              "    </div>\n",
              "  </div>\n",
              "  "
            ]
          },
          "metadata": {},
          "execution_count": 30
        }
      ],
      "source": [
        "# Exploremos la covarianza:\n",
        "# tómate el tiempo de comparar los valores en la tabla\n",
        "\n",
        "X_train.cov()"
      ]
    }
  ],
  "metadata": {
    "kernelspec": {
      "display_name": "feml",
      "language": "python",
      "name": "feml"
    },
    "language_info": {
      "codemirror_mode": {
        "name": "ipython",
        "version": 3
      },
      "file_extension": ".py",
      "mimetype": "text/x-python",
      "name": "python",
      "nbconvert_exporter": "python",
      "pygments_lexer": "ipython3",
      "version": "3.7.3"
    },
    "toc": {
      "nav_menu": {},
      "number_sections": true,
      "sideBar": true,
      "skip_h1_title": false,
      "toc_cell": false,
      "toc_position": {
        "height": "881.867px",
        "left": "0px",
        "right": "1728px",
        "top": "111.133px",
        "width": "212px"
      },
      "toc_section_display": "block",
      "toc_window_display": true
    },
    "colab": {
      "provenance": []
    }
  },
  "nbformat": 4,
  "nbformat_minor": 0
}