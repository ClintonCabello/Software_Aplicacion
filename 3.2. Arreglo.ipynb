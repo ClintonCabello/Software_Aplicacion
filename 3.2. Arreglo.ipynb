{
  "nbformat": 4,
  "nbformat_minor": 0,
  "metadata": {
    "colab": {
      "provenance": [],
      "collapsed_sections": [
        "fpKyFN8jEGi0",
        "XNjndbs2FxQu",
        "Nhzm_ABILasQ",
        "H_CyvYRKr_QF",
        "ZcU9Of3Ux8d6"
      ]
    },
    "kernelspec": {
      "name": "python3",
      "display_name": "Python 3"
    },
    "language_info": {
      "name": "python"
    }
  },
  "cells": [
    {
      "cell_type": "markdown",
      "metadata": {
        "id": "fpKyFN8jEGi0"
      },
      "source": [
        "## Estructura Vector (arreglos)\n",
        "\n",
        "Un vector es una secuancia de objetos de la misma clase. la primera forma de crear un vector es a partir de elementos individuales del mismo tipo."
      ]
    },
    {
      "cell_type": "code",
      "metadata": {
        "id": "3ZdE-o9HDXGz"
      },
      "source": [
        "import numpy as np"
      ],
      "execution_count": null,
      "outputs": []
    },
    {
      "cell_type": "code",
      "metadata": {
        "colab": {
          "base_uri": "https://localhost:8080/"
        },
        "id": "bN87peE8FOwG",
        "outputId": "c481860f-ca21-4562-d557-56fefb1da4c6"
      },
      "source": [
        "v=np.array([3,4,3,5,6,7,8])\n",
        "v"
      ],
      "execution_count": null,
      "outputs": [
        {
          "output_type": "execute_result",
          "data": {
            "text/plain": [
              "array([3, 4, 3, 5, 6, 7, 8])"
            ]
          },
          "metadata": {},
          "execution_count": 3
        }
      ]
    },
    {
      "cell_type": "code",
      "metadata": {
        "colab": {
          "base_uri": "https://localhost:8080/"
        },
        "id": "nsco7u2jFb3E",
        "outputId": "0b6a5db4-d24e-40d9-99f2-7bf33856c1ed"
      },
      "source": [
        "v1=np.array([4,5,6,2,1,7])\n",
        "print(v1)"
      ],
      "execution_count": null,
      "outputs": [
        {
          "output_type": "stream",
          "name": "stdout",
          "text": [
            "[4 5 6 2 1 7]\n"
          ]
        }
      ]
    },
    {
      "cell_type": "markdown",
      "metadata": {
        "id": "XNjndbs2FxQu"
      },
      "source": [
        "### Características importantes de los vectores"
      ]
    },
    {
      "cell_type": "markdown",
      "metadata": {
        "id": "uqoDtuM-F8aF"
      },
      "source": [
        "a) Crear vectores especificando el tipo"
      ]
    },
    {
      "cell_type": "code",
      "metadata": {
        "colab": {
          "base_uri": "https://localhost:8080/"
        },
        "id": "tnsrn0iMFl5L",
        "outputId": "a87a1bbe-a4a8-4250-b1c8-270d9cc057e1"
      },
      "source": [
        "# Crear un vector de tipo entero\n",
        "v=np.array([3,4,5,6],dtype=int)\n",
        "v"
      ],
      "execution_count": null,
      "outputs": [
        {
          "output_type": "execute_result",
          "data": {
            "text/plain": [
              "array([3, 4, 5, 6])"
            ]
          },
          "metadata": {},
          "execution_count": 5
        }
      ]
    },
    {
      "cell_type": "code",
      "metadata": {
        "colab": {
          "base_uri": "https://localhost:8080/"
        },
        "id": "nRydYRYmGRVy",
        "outputId": "9815ddc2-b00e-4e09-b5ef-28edd5958da6"
      },
      "source": [
        "# Crear un vector de tipo float\n",
        "v=np.array([3,4,5,6],dtype=float)\n",
        "v"
      ],
      "execution_count": null,
      "outputs": [
        {
          "output_type": "execute_result",
          "data": {
            "text/plain": [
              "array([3., 4., 5., 6.])"
            ]
          },
          "metadata": {},
          "execution_count": 6
        }
      ]
    },
    {
      "cell_type": "code",
      "metadata": {
        "colab": {
          "base_uri": "https://localhost:8080/"
        },
        "id": "Gz4ibowAGY1-",
        "outputId": "cde81049-8e4f-47f9-963a-bbfe8eaf407f"
      },
      "source": [
        "# Crear un vector de tipo complejo\n",
        "v=np.array([3,4,5,6],dtype=complex)\n",
        "v"
      ],
      "execution_count": null,
      "outputs": [
        {
          "output_type": "execute_result",
          "data": {
            "text/plain": [
              "array([3.+0.j, 4.+0.j, 5.+0.j, 6.+0.j])"
            ]
          },
          "metadata": {},
          "execution_count": 7
        }
      ]
    },
    {
      "cell_type": "code",
      "metadata": {
        "colab": {
          "base_uri": "https://localhost:8080/"
        },
        "id": "ICWOSGdbGkgF",
        "outputId": "802aa1b9-3fc5-47f6-8158-126a45935d1d"
      },
      "source": [
        "# Crear un vector de tipo boleano\n",
        "v=np.array([3,4,0,6],dtype=bool)\n",
        "v"
      ],
      "execution_count": null,
      "outputs": [
        {
          "output_type": "execute_result",
          "data": {
            "text/plain": [
              "array([ True,  True, False,  True])"
            ]
          },
          "metadata": {},
          "execution_count": 8
        }
      ]
    },
    {
      "cell_type": "markdown",
      "metadata": {
        "id": "N2jLnzdwG01j"
      },
      "source": [
        "b) Gestión de elementos de un vector mediante indices"
      ]
    },
    {
      "cell_type": "code",
      "metadata": {
        "colab": {
          "base_uri": "https://localhost:8080/"
        },
        "id": "FzcRWwQgGr_T",
        "outputId": "a744c7fa-f3ac-4340-e6e1-2181e99b2a41"
      },
      "source": [
        "# Crear un vector de tipo entero\n",
        "v=np.array([3,4,5,6,5,6,7,3,8,9],dtype=int)\n",
        "v"
      ],
      "execution_count": null,
      "outputs": [
        {
          "output_type": "execute_result",
          "data": {
            "text/plain": [
              "array([3, 4, 5, 6, 5, 6, 7, 3, 8, 9])"
            ]
          },
          "metadata": {},
          "execution_count": 9
        }
      ]
    },
    {
      "cell_type": "code",
      "metadata": {
        "colab": {
          "base_uri": "https://localhost:8080/"
        },
        "id": "z4fxqPkLHBGQ",
        "outputId": "e6a38dfd-491e-4e05-92f7-4b18f0abea12"
      },
      "source": [
        "v[0]"
      ],
      "execution_count": null,
      "outputs": [
        {
          "output_type": "execute_result",
          "data": {
            "text/plain": [
              "3"
            ]
          },
          "metadata": {},
          "execution_count": 10
        }
      ]
    },
    {
      "cell_type": "code",
      "metadata": {
        "colab": {
          "base_uri": "https://localhost:8080/"
        },
        "id": "-amzvOpGHDI7",
        "outputId": "eeb4d018-447f-49c5-c637-4d20fbeada83"
      },
      "source": [
        "v[-1]"
      ],
      "execution_count": null,
      "outputs": [
        {
          "output_type": "execute_result",
          "data": {
            "text/plain": [
              "9"
            ]
          },
          "metadata": {},
          "execution_count": 11
        }
      ]
    },
    {
      "cell_type": "code",
      "metadata": {
        "colab": {
          "base_uri": "https://localhost:8080/"
        },
        "id": "WTD33PPsHLI_",
        "outputId": "c593aee3-673f-464a-c7bc-858c255ba81d"
      },
      "source": [
        "v[:4]"
      ],
      "execution_count": null,
      "outputs": [
        {
          "output_type": "execute_result",
          "data": {
            "text/plain": [
              "array([3, 4, 5, 6])"
            ]
          },
          "metadata": {},
          "execution_count": 12
        }
      ]
    },
    {
      "cell_type": "code",
      "metadata": {
        "colab": {
          "base_uri": "https://localhost:8080/"
        },
        "id": "q-ut_i0HHQGd",
        "outputId": "d773d711-6379-4f29-9bd0-6ab0451f1a7e"
      },
      "source": [
        "v[3:]"
      ],
      "execution_count": null,
      "outputs": [
        {
          "output_type": "execute_result",
          "data": {
            "text/plain": [
              "array([6, 5, 6, 7, 3, 8, 9])"
            ]
          },
          "metadata": {},
          "execution_count": 13
        }
      ]
    },
    {
      "cell_type": "code",
      "metadata": {
        "colab": {
          "base_uri": "https://localhost:8080/"
        },
        "id": "mEDCE3xBHUtn",
        "outputId": "0b39dfa0-71df-4734-bdc6-7df3bad720cb"
      },
      "source": [
        "v[2:6]"
      ],
      "execution_count": null,
      "outputs": [
        {
          "output_type": "execute_result",
          "data": {
            "text/plain": [
              "array([5, 6, 5, 6])"
            ]
          },
          "metadata": {},
          "execution_count": 14
        }
      ]
    },
    {
      "cell_type": "code",
      "metadata": {
        "colab": {
          "base_uri": "https://localhost:8080/"
        },
        "id": "rSiPOdUSHX5W",
        "outputId": "7895cd6d-031a-4bf6-e066-9fdb2bfec24a"
      },
      "source": [
        "v[::2]"
      ],
      "execution_count": null,
      "outputs": [
        {
          "output_type": "execute_result",
          "data": {
            "text/plain": [
              "array([3, 5, 5, 7, 8])"
            ]
          },
          "metadata": {},
          "execution_count": 15
        }
      ]
    },
    {
      "cell_type": "markdown",
      "metadata": {
        "id": "x9HgrbguHgoi"
      },
      "source": [
        "c) Funciones para insertar datos en un arreglo"
      ]
    },
    {
      "cell_type": "code",
      "metadata": {
        "colab": {
          "base_uri": "https://localhost:8080/"
        },
        "id": "hZk5grmsHa_r",
        "outputId": "48f2449d-97f4-4fc9-8834-424d6a4e93db"
      },
      "source": [
        "# Crear un vector de tipo entero\n",
        "v=np.array([3,4,5,6,5,6,7,3,8,9],dtype=int)\n",
        "v"
      ],
      "execution_count": null,
      "outputs": [
        {
          "output_type": "execute_result",
          "data": {
            "text/plain": [
              "array([3, 4, 5, 6, 5, 6, 7, 3, 8, 9])"
            ]
          },
          "metadata": {},
          "execution_count": 16
        }
      ]
    },
    {
      "cell_type": "markdown",
      "metadata": {
        "id": "mMIadvwlHwCX"
      },
      "source": [
        "* Remplaza cada elemento del arreglo con 10"
      ]
    },
    {
      "cell_type": "code",
      "metadata": {
        "id": "mUuyrK0RHrOA"
      },
      "source": [
        "v.fill(10)"
      ],
      "execution_count": null,
      "outputs": []
    },
    {
      "cell_type": "code",
      "metadata": {
        "colab": {
          "base_uri": "https://localhost:8080/"
        },
        "id": "G15maP7rH6rx",
        "outputId": "f3f3088b-a772-4471-df2f-585a14b77b5a"
      },
      "source": [
        "v"
      ],
      "execution_count": null,
      "outputs": [
        {
          "output_type": "execute_result",
          "data": {
            "text/plain": [
              "array([10, 10, 10, 10, 10, 10, 10, 10, 10, 10])"
            ]
          },
          "metadata": {},
          "execution_count": 18
        }
      ]
    },
    {
      "cell_type": "code",
      "metadata": {
        "id": "r42WeVx8H8pl"
      },
      "source": [
        "# otra forma"
      ],
      "execution_count": null,
      "outputs": []
    },
    {
      "cell_type": "code",
      "metadata": {
        "colab": {
          "base_uri": "https://localhost:8080/"
        },
        "id": "3slBUvlPIDqM",
        "outputId": "b88f620c-7dc7-4446-b40c-518070696f9c"
      },
      "source": [
        "v[:]=20\n",
        "v"
      ],
      "execution_count": null,
      "outputs": [
        {
          "output_type": "execute_result",
          "data": {
            "text/plain": [
              "array([20, 20, 20, 20, 20, 20, 20, 20, 20, 20])"
            ]
          },
          "metadata": {},
          "execution_count": 19
        }
      ]
    },
    {
      "cell_type": "code",
      "metadata": {
        "colab": {
          "base_uri": "https://localhost:8080/"
        },
        "id": "WbSf-hfrIJ5-",
        "outputId": "4ee50197-b5bc-4dc1-cdff-1ff21ac45175"
      },
      "source": [
        "v[3:]=100\n",
        "v"
      ],
      "execution_count": null,
      "outputs": [
        {
          "output_type": "execute_result",
          "data": {
            "text/plain": [
              "array([ 20,  20,  20, 100, 100, 100, 100, 100, 100, 100])"
            ]
          },
          "metadata": {},
          "execution_count": 20
        }
      ]
    },
    {
      "cell_type": "markdown",
      "metadata": {
        "id": "640YFS7qIZ14"
      },
      "source": [
        "d) Funciones matemáticas para arreglos"
      ]
    },
    {
      "cell_type": "code",
      "metadata": {
        "id": "DpDo6RJuIS7x"
      },
      "source": [
        "# creamos un arreglo"
      ],
      "execution_count": null,
      "outputs": []
    },
    {
      "cell_type": "code",
      "metadata": {
        "colab": {
          "base_uri": "https://localhost:8080/"
        },
        "id": "bTao2VMXI70Z",
        "outputId": "2b0266fd-6a65-4e8e-ca71-5ca2c43dd8f8"
      },
      "source": [
        "v=np.array([2,3,4,5,6,4,7,9,8,6,9])\n",
        "v"
      ],
      "execution_count": null,
      "outputs": [
        {
          "output_type": "execute_result",
          "data": {
            "text/plain": [
              "array([2, 3, 4, 5, 6, 4, 7, 9, 8, 6, 9])"
            ]
          },
          "metadata": {},
          "execution_count": 21
        }
      ]
    },
    {
      "cell_type": "code",
      "metadata": {
        "colab": {
          "base_uri": "https://localhost:8080/"
        },
        "id": "CMgSDAnJJBm-",
        "outputId": "b0bdcb11-a6d3-4c34-b6ff-69e3526d9307"
      },
      "source": [
        "# Calcula el producto de los elementos de un vector\n",
        "np.prod(v)"
      ],
      "execution_count": null,
      "outputs": [
        {
          "output_type": "execute_result",
          "data": {
            "text/plain": [
              "78382080"
            ]
          },
          "metadata": {},
          "execution_count": 22
        }
      ]
    },
    {
      "cell_type": "code",
      "metadata": {
        "id": "P-1hVP-vJP3_"
      },
      "source": [],
      "execution_count": null,
      "outputs": []
    },
    {
      "cell_type": "code",
      "metadata": {
        "colab": {
          "base_uri": "https://localhost:8080/"
        },
        "id": "ZQ3NrhpmJKYg",
        "outputId": "d363bd9b-2410-4b32-dcbc-19a04fe644d1"
      },
      "source": [
        "# Calcula el indice de mayor valor\n",
        "np.argmax(v)"
      ],
      "execution_count": null,
      "outputs": [
        {
          "output_type": "execute_result",
          "data": {
            "text/plain": [
              "7"
            ]
          },
          "metadata": {},
          "execution_count": 23
        }
      ]
    },
    {
      "cell_type": "code",
      "metadata": {
        "colab": {
          "base_uri": "https://localhost:8080/"
        },
        "id": "Y0o8k4VXJZ1B",
        "outputId": "f4baf3e9-7192-40ad-b2a4-ce6282fb6704"
      },
      "source": [
        "# Calcula el indice del menor valor\n",
        "np.argmin(v)"
      ],
      "execution_count": null,
      "outputs": [
        {
          "output_type": "execute_result",
          "data": {
            "text/plain": [
              "0"
            ]
          },
          "metadata": {},
          "execution_count": 24
        }
      ]
    },
    {
      "cell_type": "code",
      "metadata": {
        "colab": {
          "base_uri": "https://localhost:8080/"
        },
        "id": "bq38h8y0JkZM",
        "outputId": "b08693ea-3339-4f0c-b159-984155e3be05"
      },
      "source": [
        "# Calcula la media aritmetica\n",
        "np.mean(v)"
      ],
      "execution_count": null,
      "outputs": [
        {
          "output_type": "execute_result",
          "data": {
            "text/plain": [
              "5.7272727272727275"
            ]
          },
          "metadata": {},
          "execution_count": 25
        }
      ]
    },
    {
      "cell_type": "code",
      "metadata": {
        "colab": {
          "base_uri": "https://localhost:8080/"
        },
        "id": "T8OkG4_zJskb",
        "outputId": "2f6cfea9-bbff-407b-8cc8-1c1973f5d763"
      },
      "source": [
        "# Calcula la desviación estandar\n",
        "np.std(v)"
      ],
      "execution_count": null,
      "outputs": [
        {
          "output_type": "execute_result",
          "data": {
            "text/plain": [
              "2.259964162664737"
            ]
          },
          "metadata": {},
          "execution_count": 26
        }
      ]
    },
    {
      "cell_type": "code",
      "metadata": {
        "colab": {
          "base_uri": "https://localhost:8080/"
        },
        "id": "A9FwQsvvJ3U-",
        "outputId": "a95d16f8-2051-4dfd-93d8-af6d8e34972b"
      },
      "source": [
        "# calcula la mediana\n",
        "np.median(v)"
      ],
      "execution_count": null,
      "outputs": [
        {
          "output_type": "execute_result",
          "data": {
            "text/plain": [
              "6.0"
            ]
          },
          "metadata": {},
          "execution_count": 27
        }
      ]
    },
    {
      "cell_type": "code",
      "metadata": {
        "colab": {
          "base_uri": "https://localhost:8080/"
        },
        "id": "tHyOcfYvKACU",
        "outputId": "5911e6b7-9ed4-4a8c-bbd8-137221502bf1"
      },
      "source": [
        "# Calcula la suma de los elementos\n",
        "np.sum(v)"
      ],
      "execution_count": null,
      "outputs": [
        {
          "output_type": "execute_result",
          "data": {
            "text/plain": [
              "63"
            ]
          },
          "metadata": {},
          "execution_count": 28
        }
      ]
    },
    {
      "cell_type": "code",
      "metadata": {
        "colab": {
          "base_uri": "https://localhost:8080/"
        },
        "id": "tV8CysH4KF8U",
        "outputId": "a91ec6ae-8c17-427c-8196-3fc36c11b353"
      },
      "source": [
        "# Calcula la suma acumulada\n",
        "np.cumsum(v)"
      ],
      "execution_count": null,
      "outputs": [
        {
          "output_type": "execute_result",
          "data": {
            "text/plain": [
              "array([ 2,  5,  9, 14, 20, 24, 31, 40, 48, 54, 63])"
            ]
          },
          "metadata": {},
          "execution_count": 29
        }
      ]
    },
    {
      "cell_type": "code",
      "metadata": {
        "colab": {
          "base_uri": "https://localhost:8080/"
        },
        "id": "IPTTyTvsKNbJ",
        "outputId": "f34e1282-96f9-45c2-f46f-5e387feb3a10"
      },
      "source": [
        "# realiza restas sucesivas entre sus elementos\n",
        "np.diff(v)"
      ],
      "execution_count": null,
      "outputs": [
        {
          "output_type": "execute_result",
          "data": {
            "text/plain": [
              "array([ 1,  1,  1,  1, -2,  3,  2, -1, -2,  3])"
            ]
          },
          "metadata": {},
          "execution_count": 30
        }
      ]
    },
    {
      "cell_type": "markdown",
      "metadata": {
        "id": "Nhzm_ABILasQ"
      },
      "source": [
        "## Matrices\n",
        "\n",
        "Una matriz es una estructura de datos, que tiene m filas y n columnas, es decir dado un conjunto de datos puede ser organizado en una estructura bidimensional"
      ]
    },
    {
      "cell_type": "code",
      "metadata": {
        "colab": {
          "base_uri": "https://localhost:8080/"
        },
        "id": "uSEh4_dbKZo3",
        "outputId": "7a0a7056-2cb7-49a5-a9a1-a143a784097a"
      },
      "source": [
        "import numpy as np\n",
        "M=np.array([[2,3,4],[4,5,6],[1,5,3],[2,5,6]])\n",
        "M"
      ],
      "execution_count": null,
      "outputs": [
        {
          "output_type": "execute_result",
          "data": {
            "text/plain": [
              "array([[2, 3, 4],\n",
              "       [4, 5, 6],\n",
              "       [1, 5, 3],\n",
              "       [2, 5, 6]])"
            ]
          },
          "metadata": {},
          "execution_count": 3
        }
      ]
    },
    {
      "cell_type": "markdown",
      "metadata": {
        "id": "DA1LB2wWM8Xc"
      },
      "source": [
        " a) Realizar las consultas de elementos de una Matriz"
      ]
    },
    {
      "cell_type": "code",
      "metadata": {
        "colab": {
          "base_uri": "https://localhost:8080/"
        },
        "id": "uFYyGRTZMllQ",
        "outputId": "25f8bfb7-9f00-4d32-abec-c36f76da8be4"
      },
      "source": [
        "# Despliega el elemento de la tercera fila y la tercera columna de la matriz M\n",
        "M[2,2]"
      ],
      "execution_count": null,
      "outputs": [
        {
          "output_type": "execute_result",
          "data": {
            "text/plain": [
              "3"
            ]
          },
          "metadata": {},
          "execution_count": 34
        }
      ]
    },
    {
      "cell_type": "code",
      "metadata": {
        "colab": {
          "base_uri": "https://localhost:8080/"
        },
        "id": "naCbtNpKNmLk",
        "outputId": "05a2a1bf-f855-4ffc-ba00-1b4024fa1f12"
      },
      "source": [
        "M[1,2]"
      ],
      "execution_count": null,
      "outputs": [
        {
          "output_type": "execute_result",
          "data": {
            "text/plain": [
              "6"
            ]
          },
          "metadata": {},
          "execution_count": 37
        }
      ]
    },
    {
      "cell_type": "code",
      "source": [
        "M[0,2]"
      ],
      "metadata": {
        "colab": {
          "base_uri": "https://localhost:8080/"
        },
        "id": "lzHRk-WY6ZFj",
        "outputId": "a7a24d3a-b3ad-4f19-8781-05c63d90c800"
      },
      "execution_count": null,
      "outputs": [
        {
          "output_type": "execute_result",
          "data": {
            "text/plain": [
              "4"
            ]
          },
          "metadata": {},
          "execution_count": 38
        }
      ]
    },
    {
      "cell_type": "code",
      "source": [
        "M[1,0]"
      ],
      "metadata": {
        "colab": {
          "base_uri": "https://localhost:8080/"
        },
        "id": "a8RT7V2Q6m7A",
        "outputId": "b83a5b9b-6cf3-4482-cda5-8f4a8fa225b5"
      },
      "execution_count": null,
      "outputs": [
        {
          "output_type": "execute_result",
          "data": {
            "text/plain": [
              "4"
            ]
          },
          "metadata": {},
          "execution_count": 39
        }
      ]
    },
    {
      "cell_type": "code",
      "source": [
        "M"
      ],
      "metadata": {
        "colab": {
          "base_uri": "https://localhost:8080/"
        },
        "id": "04b6kix-6uzz",
        "outputId": "5f154bf8-89c8-43b7-e6e8-a15276b3449b"
      },
      "execution_count": null,
      "outputs": [
        {
          "output_type": "execute_result",
          "data": {
            "text/plain": [
              "array([[2, 3, 4],\n",
              "       [4, 5, 6],\n",
              "       [1, 5, 3],\n",
              "       [2, 5, 6]])"
            ]
          },
          "metadata": {},
          "execution_count": 40
        }
      ]
    },
    {
      "cell_type": "code",
      "metadata": {
        "colab": {
          "base_uri": "https://localhost:8080/"
        },
        "id": "VAINXjsoOD16",
        "outputId": "aaa88c84-e406-4041-fd1a-2b70c9cad6b1"
      },
      "source": [
        "M[2:,:2]"
      ],
      "execution_count": null,
      "outputs": [
        {
          "output_type": "execute_result",
          "data": {
            "text/plain": [
              "array([[1, 5],\n",
              "       [2, 5]])"
            ]
          },
          "metadata": {},
          "execution_count": 41
        }
      ]
    },
    {
      "cell_type": "code",
      "metadata": {
        "colab": {
          "base_uri": "https://localhost:8080/"
        },
        "id": "hLCttqHiOYpd",
        "outputId": "ee62190d-b14c-4740-8b7e-2d149916338b"
      },
      "source": [
        "M"
      ],
      "execution_count": null,
      "outputs": [
        {
          "output_type": "execute_result",
          "data": {
            "text/plain": [
              "array([[2, 3, 4],\n",
              "       [4, 5, 6],\n",
              "       [1, 5, 3],\n",
              "       [2, 5, 6]])"
            ]
          },
          "metadata": {},
          "execution_count": 46
        }
      ]
    },
    {
      "cell_type": "code",
      "source": [
        "M[0,2]"
      ],
      "metadata": {
        "colab": {
          "base_uri": "https://localhost:8080/"
        },
        "id": "2GPqUNWz8Qhz",
        "outputId": "b42cd27c-fe54-453e-feb2-a4b497164f5c"
      },
      "execution_count": null,
      "outputs": [
        {
          "output_type": "execute_result",
          "data": {
            "text/plain": [
              "4"
            ]
          },
          "metadata": {},
          "execution_count": 42
        }
      ]
    },
    {
      "cell_type": "code",
      "source": [
        "M[2:,1]"
      ],
      "metadata": {
        "colab": {
          "base_uri": "https://localhost:8080/"
        },
        "id": "DTjTTXv581Zs",
        "outputId": "2eb7c30e-cba2-41b1-f96d-9743128833fb"
      },
      "execution_count": null,
      "outputs": [
        {
          "output_type": "execute_result",
          "data": {
            "text/plain": [
              "array([5, 5])"
            ]
          },
          "metadata": {},
          "execution_count": 43
        }
      ]
    },
    {
      "cell_type": "code",
      "metadata": {
        "colab": {
          "base_uri": "https://localhost:8080/"
        },
        "id": "6IVKZBxaOeD_",
        "outputId": "1919837c-53ac-42b4-d85c-df1e82d9d935"
      },
      "source": [
        "M[2:,:2]"
      ],
      "execution_count": null,
      "outputs": [
        {
          "output_type": "execute_result",
          "data": {
            "text/plain": [
              "array([[1, 5],\n",
              "       [2, 5]])"
            ]
          },
          "metadata": {},
          "execution_count": 44
        }
      ]
    },
    {
      "cell_type": "markdown",
      "metadata": {
        "id": "8nYj-SxSP5PF"
      },
      "source": [
        "Despliega la tercera columna, es decir todas las filas en la columna 2"
      ]
    },
    {
      "cell_type": "code",
      "metadata": {
        "colab": {
          "base_uri": "https://localhost:8080/"
        },
        "id": "BRv0XDM5O9-f",
        "outputId": "c4016aca-cb6e-43bf-8484-f93fb55f9491"
      },
      "source": [
        "M[:,-1]"
      ],
      "execution_count": null,
      "outputs": [
        {
          "output_type": "execute_result",
          "data": {
            "text/plain": [
              "array([4, 6, 3, 6])"
            ]
          },
          "metadata": {},
          "execution_count": 50
        }
      ]
    },
    {
      "cell_type": "code",
      "source": [
        "M"
      ],
      "metadata": {
        "colab": {
          "base_uri": "https://localhost:8080/"
        },
        "id": "lMO_DSMkbq2P",
        "outputId": "e2484669-7d4f-41e7-cc92-4e0a713641f4"
      },
      "execution_count": null,
      "outputs": [
        {
          "output_type": "execute_result",
          "data": {
            "text/plain": [
              "array([[2, 3, 4],\n",
              "       [4, 5, 6],\n",
              "       [1, 5, 3],\n",
              "       [2, 5, 6]])"
            ]
          },
          "metadata": {},
          "execution_count": 4
        }
      ]
    },
    {
      "cell_type": "code",
      "metadata": {
        "colab": {
          "base_uri": "https://localhost:8080/"
        },
        "id": "M3Tv65DIQTpc",
        "outputId": "7476410b-e5df-4b7c-8303-7d0a23a0b923"
      },
      "source": [
        "M[1:3,0:2]"
      ],
      "execution_count": null,
      "outputs": [
        {
          "output_type": "execute_result",
          "data": {
            "text/plain": [
              "array([[4, 5],\n",
              "       [1, 5]])"
            ]
          },
          "metadata": {},
          "execution_count": 5
        }
      ]
    },
    {
      "cell_type": "markdown",
      "metadata": {
        "id": "4h4i7SE0QwP4"
      },
      "source": []
    },
    {
      "cell_type": "code",
      "metadata": {
        "colab": {
          "base_uri": "https://localhost:8080/"
        },
        "id": "X7UKhrAPQnvf",
        "outputId": "353d57fd-abb5-4105-e50e-d277b77ac4a5"
      },
      "source": [
        "M[1:,1:]"
      ],
      "execution_count": null,
      "outputs": [
        {
          "output_type": "execute_result",
          "data": {
            "text/plain": [
              "array([[5, 6],\n",
              "       [5, 3],\n",
              "       [5, 6]])"
            ]
          },
          "metadata": {},
          "execution_count": 46
        }
      ]
    },
    {
      "cell_type": "code",
      "metadata": {
        "colab": {
          "base_uri": "https://localhost:8080/"
        },
        "id": "qkygmsLcQ9sz",
        "outputId": "50ab8e3c-07a8-40a8-dbeb-a9e99c2ffbe4"
      },
      "source": [
        "M"
      ],
      "execution_count": null,
      "outputs": [
        {
          "output_type": "execute_result",
          "data": {
            "text/plain": [
              "array([[2, 3, 4],\n",
              "       [4, 5, 6],\n",
              "       [1, 5, 3],\n",
              "       [2, 5, 6]])"
            ]
          },
          "metadata": {},
          "execution_count": 47
        }
      ]
    },
    {
      "cell_type": "code",
      "metadata": {
        "colab": {
          "base_uri": "https://localhost:8080/"
        },
        "id": "Ep-hYRCERDgA",
        "outputId": "0572d9bb-4766-4581-a95d-746f841243d7"
      },
      "source": [
        "M[1:3,1:3]"
      ],
      "execution_count": null,
      "outputs": [
        {
          "output_type": "execute_result",
          "data": {
            "text/plain": [
              "array([[5, 6],\n",
              "       [5, 3]])"
            ]
          },
          "metadata": {},
          "execution_count": 48
        }
      ]
    },
    {
      "cell_type": "code",
      "metadata": {
        "colab": {
          "base_uri": "https://localhost:8080/"
        },
        "id": "8OpcetjhRwVh",
        "outputId": "e38c446a-f710-41ae-9acb-2a532336dff1"
      },
      "source": [
        "M[2:4,0:2]"
      ],
      "execution_count": null,
      "outputs": [
        {
          "output_type": "execute_result",
          "data": {
            "text/plain": [
              "array([[1, 5],\n",
              "       [2, 5]])"
            ]
          },
          "metadata": {},
          "execution_count": 49
        }
      ]
    },
    {
      "cell_type": "code",
      "metadata": {
        "colab": {
          "base_uri": "https://localhost:8080/"
        },
        "id": "93AS7bScSI16",
        "outputId": "f9e3e2af-bb23-4099-be25-1d8b2855cd21"
      },
      "source": [
        "M[1:3,[0,2]]"
      ],
      "execution_count": null,
      "outputs": [
        {
          "output_type": "execute_result",
          "data": {
            "text/plain": [
              "array([[4, 6],\n",
              "       [1, 3]])"
            ]
          },
          "metadata": {},
          "execution_count": 50
        }
      ]
    },
    {
      "cell_type": "markdown",
      "metadata": {
        "id": "K55rrrn3TI4J"
      },
      "source": [
        "Asignación de elementos en una matriz"
      ]
    },
    {
      "cell_type": "code",
      "metadata": {
        "colab": {
          "base_uri": "https://localhost:8080/"
        },
        "id": "wkfQjzj3SSRQ",
        "outputId": "f10678a9-7d30-4809-c719-8ba32fc04158"
      },
      "source": [
        "M[-1,:]=10\n",
        "M"
      ],
      "execution_count": null,
      "outputs": [
        {
          "output_type": "execute_result",
          "data": {
            "text/plain": [
              "array([[ 2,  3,  4],\n",
              "       [ 4,  5,  6],\n",
              "       [ 1,  5,  3],\n",
              "       [10, 10, 10]])"
            ]
          },
          "metadata": {},
          "execution_count": 51
        }
      ]
    },
    {
      "cell_type": "code",
      "metadata": {
        "id": "ZPGajtyhULc8"
      },
      "source": [],
      "execution_count": null,
      "outputs": []
    },
    {
      "cell_type": "code",
      "metadata": {
        "colab": {
          "base_uri": "https://localhost:8080/"
        },
        "id": "emTmP6OjTYWU",
        "outputId": "a80a4647-3d45-48c1-ece4-9e1db17cda2a"
      },
      "source": [
        "\n",
        "\n",
        "M[2:,1:]=100\n",
        "M"
      ],
      "execution_count": null,
      "outputs": [
        {
          "output_type": "execute_result",
          "data": {
            "text/plain": [
              "array([[  2,   3,   4],\n",
              "       [  4,   5,   6],\n",
              "       [  1, 100, 100],\n",
              "       [ 10, 100, 100]])"
            ]
          },
          "metadata": {},
          "execution_count": 52
        }
      ]
    },
    {
      "cell_type": "code",
      "metadata": {
        "colab": {
          "base_uri": "https://localhost:8080/"
        },
        "id": "kdqMPaicTy_y",
        "outputId": "22143b83-2e3c-4496-80d3-a6852b74ec2c"
      },
      "source": [
        "import numpy as np\n",
        "M=np.array([[2,3,4],[4,5,6],[1,5,3],[2,5,6]])\n",
        "M"
      ],
      "execution_count": null,
      "outputs": [
        {
          "output_type": "execute_result",
          "data": {
            "text/plain": [
              "array([[2, 3, 4],\n",
              "       [4, 5, 6],\n",
              "       [1, 5, 3],\n",
              "       [2, 5, 6]])"
            ]
          },
          "metadata": {},
          "execution_count": 53
        }
      ]
    },
    {
      "cell_type": "code",
      "metadata": {
        "colab": {
          "base_uri": "https://localhost:8080/"
        },
        "id": "qPv9UjZhUQ9E",
        "outputId": "11ee6379-490a-4b15-d4c7-c9712337c423"
      },
      "source": [
        "M[1:3,:]=100\n",
        "M"
      ],
      "execution_count": null,
      "outputs": [
        {
          "output_type": "execute_result",
          "data": {
            "text/plain": [
              "array([[  2,   3,   4],\n",
              "       [100, 100, 100],\n",
              "       [100, 100, 100],\n",
              "       [  2,   5,   6]])"
            ]
          },
          "metadata": {},
          "execution_count": 54
        }
      ]
    },
    {
      "cell_type": "code",
      "metadata": {
        "colab": {
          "base_uri": "https://localhost:8080/"
        },
        "id": "tqD6ovo1Uk3i",
        "outputId": "fe2d423c-2b42-4bc7-a495-1b4ea08a7afc"
      },
      "source": [
        "M[2:,1:]=0\n",
        "M"
      ],
      "execution_count": null,
      "outputs": [
        {
          "output_type": "execute_result",
          "data": {
            "text/plain": [
              "array([[  2,   3,   4],\n",
              "       [100, 100, 100],\n",
              "       [100,   0,   0],\n",
              "       [  2,   0,   0]])"
            ]
          },
          "metadata": {},
          "execution_count": 55
        }
      ]
    },
    {
      "cell_type": "code",
      "metadata": {
        "colab": {
          "base_uri": "https://localhost:8080/"
        },
        "id": "QjKGNrF1U8sZ",
        "outputId": "4c6d322f-001b-4429-f63e-8af59725a58e"
      },
      "source": [
        "M[:2,:2]=800\n",
        "M"
      ],
      "execution_count": null,
      "outputs": [
        {
          "output_type": "execute_result",
          "data": {
            "text/plain": [
              "array([[800, 800,   4],\n",
              "       [800, 800, 100],\n",
              "       [100,   0,   0],\n",
              "       [  2,   0,   0]])"
            ]
          },
          "metadata": {},
          "execution_count": 56
        }
      ]
    },
    {
      "cell_type": "markdown",
      "metadata": {
        "id": "IHL0YqlLVoqK"
      },
      "source": [
        "Funciones especiales de matrices"
      ]
    },
    {
      "cell_type": "code",
      "metadata": {
        "colab": {
          "base_uri": "https://localhost:8080/"
        },
        "id": "KQVsHwS9VOr_",
        "outputId": "3c6ef1ea-718c-4cb1-c74a-b1818bc4e661"
      },
      "source": [
        "import numpy as np\n",
        "M=np.array([[2,3,4],[4,5,6],[1,5,3],[2,5,6]])\n",
        "M\n"
      ],
      "execution_count": null,
      "outputs": [
        {
          "output_type": "execute_result",
          "data": {
            "text/plain": [
              "array([[2, 3, 4],\n",
              "       [4, 5, 6],\n",
              "       [1, 5, 3],\n",
              "       [2, 5, 6]])"
            ]
          },
          "metadata": {},
          "execution_count": 57
        }
      ]
    },
    {
      "cell_type": "code",
      "metadata": {
        "colab": {
          "base_uri": "https://localhost:8080/"
        },
        "id": "u7tR0G1vV3S1",
        "outputId": "62edbc82-d712-41d6-9a77-6e660a5963fa"
      },
      "source": [
        "# calcula la dimensión de la matriz\n",
        "np.ndim(M)"
      ],
      "execution_count": null,
      "outputs": [
        {
          "output_type": "execute_result",
          "data": {
            "text/plain": [
              "2"
            ]
          },
          "metadata": {},
          "execution_count": 58
        }
      ]
    },
    {
      "cell_type": "code",
      "metadata": {
        "colab": {
          "base_uri": "https://localhost:8080/"
        },
        "id": "gE1UKaPPWDS7",
        "outputId": "08f009e1-3a2d-4c3a-bae4-66c791f2417c"
      },
      "source": [
        "# calcula la cantidad de elementos de una matriz\n",
        "np.size(M)"
      ],
      "execution_count": null,
      "outputs": [
        {
          "output_type": "execute_result",
          "data": {
            "text/plain": [
              "12"
            ]
          },
          "metadata": {},
          "execution_count": 59
        }
      ]
    },
    {
      "cell_type": "code",
      "metadata": {
        "colab": {
          "base_uri": "https://localhost:8080/"
        },
        "id": "7gbmJFm3WOKN",
        "outputId": "3b262aad-0dfe-4bab-96f3-f78680670cc3"
      },
      "source": [
        "# Calcula la cantidad de filas y columnas de la matriz\n",
        "[m,n]=np.shape(M)\n",
        "[m,n]"
      ],
      "execution_count": null,
      "outputs": [
        {
          "output_type": "execute_result",
          "data": {
            "text/plain": [
              "[4, 3]"
            ]
          },
          "metadata": {},
          "execution_count": 60
        }
      ]
    },
    {
      "cell_type": "markdown",
      "metadata": {
        "id": "siZhnSnqWu4w"
      },
      "source": [
        "Convertir un arreglo unidimensional a un arreglo bidimensional"
      ]
    },
    {
      "cell_type": "code",
      "metadata": {
        "colab": {
          "base_uri": "https://localhost:8080/"
        },
        "id": "P4J3q0YyWgIj",
        "outputId": "9061c94b-b62b-4289-c5b8-7211d4794ab3"
      },
      "source": [
        "import numpy as np\n",
        "A=np.arange(9)\n",
        "A"
      ],
      "execution_count": null,
      "outputs": [
        {
          "output_type": "execute_result",
          "data": {
            "text/plain": [
              "array([0, 1, 2, 3, 4, 5, 6, 7, 8])"
            ]
          },
          "metadata": {},
          "execution_count": 61
        }
      ]
    },
    {
      "cell_type": "code",
      "metadata": {
        "colab": {
          "base_uri": "https://localhost:8080/"
        },
        "id": "cjSo4b6BXBDk",
        "outputId": "908f9e8c-e534-4186-9143-44fad251360c"
      },
      "source": [
        "B=A.reshape(3,3)\n",
        "B"
      ],
      "execution_count": null,
      "outputs": [
        {
          "output_type": "execute_result",
          "data": {
            "text/plain": [
              "array([[0, 1, 2],\n",
              "       [3, 4, 5],\n",
              "       [6, 7, 8]])"
            ]
          },
          "metadata": {},
          "execution_count": 62
        }
      ]
    },
    {
      "cell_type": "markdown",
      "metadata": {
        "id": "_VLmNQatXTGh"
      },
      "source": [
        "Convertir una matriz en una columna"
      ]
    },
    {
      "cell_type": "code",
      "metadata": {
        "colab": {
          "base_uri": "https://localhost:8080/"
        },
        "id": "kRAXDA7fXMJd",
        "outputId": "fa7498c0-f31f-40eb-97f8-5b2483741741"
      },
      "source": [
        "C=B.reshape(9,1)\n",
        "C"
      ],
      "execution_count": null,
      "outputs": [
        {
          "output_type": "execute_result",
          "data": {
            "text/plain": [
              "array([[0],\n",
              "       [1],\n",
              "       [2],\n",
              "       [3],\n",
              "       [4],\n",
              "       [5],\n",
              "       [6],\n",
              "       [7],\n",
              "       [8]])"
            ]
          },
          "metadata": {},
          "execution_count": 63
        }
      ]
    },
    {
      "cell_type": "code",
      "metadata": {
        "colab": {
          "base_uri": "https://localhost:8080/"
        },
        "id": "8Ttd1PytXeZl",
        "outputId": "2336def4-c949-416d-d7bc-beee7f0f921d"
      },
      "source": [
        "D=B.reshape(1,9)\n",
        "D"
      ],
      "execution_count": null,
      "outputs": [
        {
          "output_type": "execute_result",
          "data": {
            "text/plain": [
              "array([[0, 1, 2, 3, 4, 5, 6, 7, 8]])"
            ]
          },
          "metadata": {},
          "execution_count": 64
        }
      ]
    },
    {
      "cell_type": "markdown",
      "metadata": {
        "id": "MIZFbeZjldSo"
      },
      "source": [
        "Operaciones con Matrices"
      ]
    },
    {
      "cell_type": "code",
      "metadata": {
        "colab": {
          "base_uri": "https://localhost:8080/"
        },
        "id": "n-bLOFN7Xqy0",
        "outputId": "5e023211-366b-4693-8893-8125f975ad2b"
      },
      "source": [
        "A=np.array([[3,4],[3,5]])\n",
        "B=np.array([[4,5],[6,7]])\n",
        "A"
      ],
      "execution_count": null,
      "outputs": [
        {
          "output_type": "execute_result",
          "data": {
            "text/plain": [
              "array([[3, 4],\n",
              "       [3, 5]])"
            ]
          },
          "metadata": {},
          "execution_count": 65
        }
      ]
    },
    {
      "cell_type": "code",
      "metadata": {
        "colab": {
          "base_uri": "https://localhost:8080/"
        },
        "id": "e7xQREjCl085",
        "outputId": "9c2cb4d4-a875-4964-96ff-acf0f2007ba0"
      },
      "source": [
        "B"
      ],
      "execution_count": null,
      "outputs": [
        {
          "output_type": "execute_result",
          "data": {
            "text/plain": [
              "array([[4, 5],\n",
              "       [6, 7]])"
            ]
          },
          "metadata": {},
          "execution_count": 66
        }
      ]
    },
    {
      "cell_type": "code",
      "metadata": {
        "colab": {
          "base_uri": "https://localhost:8080/"
        },
        "id": "e6IAJY6tl2GJ",
        "outputId": "d9ed2cda-fee9-4c1b-ff89-e413c6b678c3"
      },
      "source": [
        "# sumar A y B\n",
        "A+B"
      ],
      "execution_count": null,
      "outputs": [
        {
          "output_type": "execute_result",
          "data": {
            "text/plain": [
              "array([[ 7,  9],\n",
              "       [ 9, 12]])"
            ]
          },
          "metadata": {},
          "execution_count": 67
        }
      ]
    },
    {
      "cell_type": "code",
      "metadata": {
        "colab": {
          "base_uri": "https://localhost:8080/"
        },
        "id": "DXRkVQ_nl8Hq",
        "outputId": "a8450b48-1971-4e54-faa1-b01d76326948"
      },
      "source": [
        "# producto de A y B\n",
        "A*B"
      ],
      "execution_count": null,
      "outputs": [
        {
          "output_type": "execute_result",
          "data": {
            "text/plain": [
              "array([[12, 20],\n",
              "       [18, 35]])"
            ]
          },
          "metadata": {},
          "execution_count": 68
        }
      ]
    },
    {
      "cell_type": "code",
      "metadata": {
        "colab": {
          "base_uri": "https://localhost:8080/"
        },
        "id": "N61fur1imGrK",
        "outputId": "81c41c66-f759-46cd-eb3d-716e1e43db47"
      },
      "source": [
        "# Diferencia\n",
        "A-B"
      ],
      "execution_count": null,
      "outputs": [
        {
          "output_type": "execute_result",
          "data": {
            "text/plain": [
              "array([[-1, -1],\n",
              "       [-3, -2]])"
            ]
          },
          "metadata": {},
          "execution_count": 69
        }
      ]
    },
    {
      "cell_type": "code",
      "metadata": {
        "colab": {
          "base_uri": "https://localhost:8080/"
        },
        "id": "A_f5_09RmKQr",
        "outputId": "053a800b-1c3f-430a-d463-fb0bc2e05c90"
      },
      "source": [
        "# división\n",
        "A/B"
      ],
      "execution_count": null,
      "outputs": [
        {
          "output_type": "execute_result",
          "data": {
            "text/plain": [
              "array([[0.75      , 0.8       ],\n",
              "       [0.5       , 0.71428571]])"
            ]
          },
          "metadata": {},
          "execution_count": 70
        }
      ]
    },
    {
      "cell_type": "code",
      "metadata": {
        "colab": {
          "base_uri": "https://localhost:8080/"
        },
        "id": "P21aVysHmPaE",
        "outputId": "79d03e18-e653-45a9-f416-a593156cf1e5"
      },
      "source": [
        "A**2"
      ],
      "execution_count": null,
      "outputs": [
        {
          "output_type": "execute_result",
          "data": {
            "text/plain": [
              "array([[ 9, 16],\n",
              "       [ 9, 25]])"
            ]
          },
          "metadata": {},
          "execution_count": 71
        }
      ]
    },
    {
      "cell_type": "code",
      "metadata": {
        "id": "t5ox-CwimSy4"
      },
      "source": [
        "# multiplicar dos matrices"
      ],
      "execution_count": null,
      "outputs": []
    },
    {
      "cell_type": "code",
      "metadata": {
        "colab": {
          "base_uri": "https://localhost:8080/"
        },
        "id": "jvFUfCnvmbYG",
        "outputId": "417df6ad-1e6e-4c06-a4df-649d5a86f866"
      },
      "source": [
        "np.dot(A,B)"
      ],
      "execution_count": null,
      "outputs": [
        {
          "output_type": "execute_result",
          "data": {
            "text/plain": [
              "array([[36, 43],\n",
              "       [42, 50]])"
            ]
          },
          "metadata": {},
          "execution_count": 72
        }
      ]
    },
    {
      "cell_type": "code",
      "source": [
        "A@B"
      ],
      "metadata": {
        "colab": {
          "base_uri": "https://localhost:8080/"
        },
        "id": "QlYsksoZARLx",
        "outputId": "6156bf18-cc97-4d13-85d9-93790bceb92d"
      },
      "execution_count": null,
      "outputs": [
        {
          "output_type": "execute_result",
          "data": {
            "text/plain": [
              "array([[36, 43],\n",
              "       [42, 50]])"
            ]
          },
          "metadata": {},
          "execution_count": 73
        }
      ]
    },
    {
      "cell_type": "code",
      "metadata": {
        "colab": {
          "base_uri": "https://localhost:8080/"
        },
        "id": "qu78nsr6mf2-",
        "outputId": "1fbc98a4-a345-4904-84c1-f18722e4e426"
      },
      "source": [
        "A\n"
      ],
      "execution_count": null,
      "outputs": [
        {
          "output_type": "execute_result",
          "data": {
            "text/plain": [
              "array([[3, 4],\n",
              "       [3, 5]])"
            ]
          },
          "metadata": {},
          "execution_count": 74
        }
      ]
    },
    {
      "cell_type": "code",
      "metadata": {
        "colab": {
          "base_uri": "https://localhost:8080/"
        },
        "id": "bi7if8QimkdJ",
        "outputId": "0b5cb245-6c95-421d-d117-815cf37611c3"
      },
      "source": [
        "B"
      ],
      "execution_count": null,
      "outputs": [
        {
          "output_type": "execute_result",
          "data": {
            "text/plain": [
              "array([[4, 5],\n",
              "       [6, 7]])"
            ]
          },
          "metadata": {},
          "execution_count": 75
        }
      ]
    },
    {
      "cell_type": "code",
      "metadata": {
        "colab": {
          "base_uri": "https://localhost:8080/"
        },
        "id": "1j0-1iaImljC",
        "outputId": "821cee51-aa84-4ca9-887e-78e041772b0e"
      },
      "source": [
        "#suma de los elementos de una matriz\n",
        "np.sum(A)"
      ],
      "execution_count": null,
      "outputs": [
        {
          "output_type": "execute_result",
          "data": {
            "text/plain": [
              "15"
            ]
          },
          "metadata": {},
          "execution_count": 76
        }
      ]
    },
    {
      "cell_type": "code",
      "metadata": {
        "colab": {
          "base_uri": "https://localhost:8080/"
        },
        "id": "24ScEfi0nFAl",
        "outputId": "6a5a70f6-06f7-4dff-86be-9b673d7f87d1"
      },
      "source": [
        "#producto de los elementos de A\n",
        "np.prod(A)"
      ],
      "execution_count": null,
      "outputs": [
        {
          "output_type": "execute_result",
          "data": {
            "text/plain": [
              "180"
            ]
          },
          "metadata": {},
          "execution_count": 77
        }
      ]
    },
    {
      "cell_type": "code",
      "metadata": {
        "colab": {
          "base_uri": "https://localhost:8080/"
        },
        "id": "Q8ZjSOHFnMnj",
        "outputId": "b2b2fe5d-accd-4b37-ed4a-92dd59fcc7f1"
      },
      "source": [
        "# calcula la media de A\n",
        "np.mean(A)"
      ],
      "execution_count": null,
      "outputs": [
        {
          "output_type": "execute_result",
          "data": {
            "text/plain": [
              "3.75"
            ]
          },
          "metadata": {},
          "execution_count": 78
        }
      ]
    },
    {
      "cell_type": "code",
      "metadata": {
        "colab": {
          "base_uri": "https://localhost:8080/"
        },
        "id": "X88EoI4snT87",
        "outputId": "519e6ca0-5969-47d1-ae37-c5e35b0c1a7d"
      },
      "source": [
        "# Calcula el maximo de A\n",
        "np.max(A)"
      ],
      "execution_count": null,
      "outputs": [
        {
          "output_type": "execute_result",
          "data": {
            "text/plain": [
              "5"
            ]
          },
          "metadata": {},
          "execution_count": 79
        }
      ]
    },
    {
      "cell_type": "code",
      "metadata": {
        "colab": {
          "base_uri": "https://localhost:8080/"
        },
        "id": "65SoMvfqna_5",
        "outputId": "0f527859-a1a1-4e93-bfab-f3d38507f6fc"
      },
      "source": [
        "# Calcula el minimo de A\n",
        "np.min(A)"
      ],
      "execution_count": null,
      "outputs": [
        {
          "output_type": "execute_result",
          "data": {
            "text/plain": [
              "3"
            ]
          },
          "metadata": {},
          "execution_count": 80
        }
      ]
    },
    {
      "cell_type": "code",
      "metadata": {
        "colab": {
          "base_uri": "https://localhost:8080/"
        },
        "id": "B9_2VVXenhdL",
        "outputId": "69190a98-32c6-48f7-e1f6-f0ee3d636152"
      },
      "source": [
        "# Calcula la desviación estandar\n",
        "np.std(A)"
      ],
      "execution_count": null,
      "outputs": [
        {
          "output_type": "execute_result",
          "data": {
            "text/plain": [
              "0.82915619758885"
            ]
          },
          "metadata": {},
          "execution_count": 81
        }
      ]
    },
    {
      "cell_type": "code",
      "metadata": {
        "colab": {
          "base_uri": "https://localhost:8080/"
        },
        "id": "ZQXt_IfJnrqT",
        "outputId": "630f34c6-acf4-4a54-cf7d-051e0c3e02c4"
      },
      "source": [
        "# Calcula la mediana\n",
        "np.median(A)"
      ],
      "execution_count": null,
      "outputs": [
        {
          "output_type": "execute_result",
          "data": {
            "text/plain": [
              "3.5"
            ]
          },
          "metadata": {},
          "execution_count": 82
        }
      ]
    },
    {
      "cell_type": "code",
      "metadata": {
        "colab": {
          "base_uri": "https://localhost:8080/"
        },
        "id": "XQJxNdEpnxgK",
        "outputId": "c3dc2cf6-64b1-4e69-fd61-247e51c22907"
      },
      "source": [
        "#ordena los elementos de B\n",
        "np.sort(B)"
      ],
      "execution_count": null,
      "outputs": [
        {
          "output_type": "execute_result",
          "data": {
            "text/plain": [
              "array([[4, 5],\n",
              "       [6, 7]])"
            ]
          },
          "metadata": {},
          "execution_count": 83
        }
      ]
    },
    {
      "cell_type": "code",
      "metadata": {
        "id": "AhOvnQ87n-Yb"
      },
      "source": [
        "# Calcula la suma acumulada de A"
      ],
      "execution_count": null,
      "outputs": []
    },
    {
      "cell_type": "code",
      "metadata": {
        "colab": {
          "base_uri": "https://localhost:8080/"
        },
        "id": "PUDqDLZSoDaT",
        "outputId": "7af1d6ac-79ad-4004-9f69-ed1c7a680fa6"
      },
      "source": [
        "np.cumsum(A)"
      ],
      "execution_count": null,
      "outputs": [
        {
          "output_type": "execute_result",
          "data": {
            "text/plain": [
              "array([ 3,  7, 10, 15])"
            ]
          },
          "metadata": {},
          "execution_count": 85
        }
      ]
    },
    {
      "cell_type": "code",
      "metadata": {
        "colab": {
          "base_uri": "https://localhost:8080/"
        },
        "id": "K_7v6ym6oHN5",
        "outputId": "9f14f751-2e9a-40bc-d815-bcc9eb1176fa"
      },
      "source": [
        "import statistics as stat\n",
        "\n",
        "edades = [21, 17, 89, 76, 32, 21, 45, 21, 89, 21, 15, 89, 21]\n",
        "\n",
        "moda=stat.mode(edades)\n",
        "moda"
      ],
      "execution_count": null,
      "outputs": [
        {
          "output_type": "execute_result",
          "data": {
            "text/plain": [
              "21"
            ]
          },
          "metadata": {},
          "execution_count": 86
        }
      ]
    },
    {
      "cell_type": "code",
      "metadata": {
        "colab": {
          "base_uri": "https://localhost:8080/"
        },
        "id": "WbIMlY4Mp5CU",
        "outputId": "a875eaa0-c99f-4bbe-d071-6515721a462b"
      },
      "source": [
        "# Calcular la traza de una matriz: suma diagonal\n",
        "A=np.array([[2,3,4],[4,5,6],[6,7,8]])\n",
        "A"
      ],
      "execution_count": null,
      "outputs": [
        {
          "output_type": "execute_result",
          "data": {
            "text/plain": [
              "array([[2, 3, 4],\n",
              "       [4, 5, 6],\n",
              "       [6, 7, 8]])"
            ]
          },
          "metadata": {},
          "execution_count": 87
        }
      ]
    },
    {
      "cell_type": "code",
      "metadata": {
        "colab": {
          "base_uri": "https://localhost:8080/"
        },
        "id": "6Tr3bVCMqWu3",
        "outputId": "f0b6d330-3054-44e2-f636-ca3bed570ed2"
      },
      "source": [
        "np.trace(A)"
      ],
      "execution_count": null,
      "outputs": [
        {
          "output_type": "execute_result",
          "data": {
            "text/plain": [
              "15"
            ]
          },
          "metadata": {},
          "execution_count": 88
        }
      ]
    },
    {
      "cell_type": "code",
      "metadata": {
        "colab": {
          "base_uri": "https://localhost:8080/"
        },
        "id": "gkGtnWD7qdea",
        "outputId": "0f61956d-dfd7-45db-fca0-77eb2236c7f8"
      },
      "source": [
        "# calcula la traspuesta de la matriz A\n",
        "np.transpose(A)"
      ],
      "execution_count": null,
      "outputs": [
        {
          "output_type": "execute_result",
          "data": {
            "text/plain": [
              "array([[2, 4, 6],\n",
              "       [3, 5, 7],\n",
              "       [4, 6, 8]])"
            ]
          },
          "metadata": {},
          "execution_count": 89
        }
      ]
    },
    {
      "cell_type": "code",
      "metadata": {
        "colab": {
          "base_uri": "https://localhost:8080/"
        },
        "id": "3Yl8HoAWqmzo",
        "outputId": "73e7d2b8-23ce-46bc-f4cf-fc4fb9549f50"
      },
      "source": [
        "# otro metodo para calcular la transpuesta\n",
        "A.T"
      ],
      "execution_count": null,
      "outputs": [
        {
          "output_type": "execute_result",
          "data": {
            "text/plain": [
              "array([[2, 4, 6],\n",
              "       [3, 5, 7],\n",
              "       [4, 6, 8]])"
            ]
          },
          "metadata": {},
          "execution_count": 90
        }
      ]
    },
    {
      "cell_type": "code",
      "metadata": {
        "colab": {
          "base_uri": "https://localhost:8080/"
        },
        "id": "7acAbfj9q05W",
        "outputId": "09c36869-01b2-41e2-d776-5ff227a07cd6"
      },
      "source": [
        "# matriz triangular inferior\n",
        "np.tril(A)"
      ],
      "execution_count": null,
      "outputs": [
        {
          "output_type": "execute_result",
          "data": {
            "text/plain": [
              "array([[2, 0, 0],\n",
              "       [4, 5, 0],\n",
              "       [6, 7, 8]])"
            ]
          },
          "metadata": {},
          "execution_count": 91
        }
      ]
    },
    {
      "cell_type": "code",
      "metadata": {
        "colab": {
          "base_uri": "https://localhost:8080/"
        },
        "id": "Opr1H1Lgq9X_",
        "outputId": "8bd4b411-38d9-43ac-9c4d-3f805c0772bb"
      },
      "source": [
        "# matriz triangular superior\n",
        "np.triu(A)"
      ],
      "execution_count": null,
      "outputs": [
        {
          "output_type": "execute_result",
          "data": {
            "text/plain": [
              "array([[2, 3, 4],\n",
              "       [0, 5, 6],\n",
              "       [0, 0, 8]])"
            ]
          },
          "metadata": {},
          "execution_count": 92
        }
      ]
    },
    {
      "cell_type": "code",
      "metadata": {
        "colab": {
          "base_uri": "https://localhost:8080/"
        },
        "id": "Zyyn7srrrFQA",
        "outputId": "a421f1be-08b1-444b-cb77-61ecb9aebab5"
      },
      "source": [
        "# La inversa de la matriz\n",
        "np.linalg.inv(A)"
      ],
      "execution_count": null,
      "outputs": [
        {
          "output_type": "execute_result",
          "data": {
            "text/plain": [
              "array([[ 5.62949953e+14, -1.12589991e+15,  5.62949953e+14],\n",
              "       [-1.12589991e+15,  2.25179981e+15, -1.12589991e+15],\n",
              "       [ 5.62949953e+14, -1.12589991e+15,  5.62949953e+14]])"
            ]
          },
          "metadata": {},
          "execution_count": 93
        }
      ]
    },
    {
      "cell_type": "code",
      "metadata": {
        "colab": {
          "base_uri": "https://localhost:8080/"
        },
        "id": "Glmun1o8rR5Y",
        "outputId": "182a22d6-a587-49f8-c5ca-cca392cf61d8"
      },
      "source": [
        "# Calcula el determinante\n",
        "np.linalg.det(A)"
      ],
      "execution_count": null,
      "outputs": [
        {
          "output_type": "execute_result",
          "data": {
            "text/plain": [
              "-3.552713678800511e-15"
            ]
          },
          "metadata": {},
          "execution_count": 94
        }
      ]
    },
    {
      "cell_type": "markdown",
      "metadata": {
        "id": "H_CyvYRKr_QF"
      },
      "source": [
        "## Estructura Tupla\n",
        "\n",
        "Una tupla es una colección de datos que puede tener diferente tipo, los datosn se escriben entre paréntesis separados por comas."
      ]
    },
    {
      "cell_type": "code",
      "metadata": {
        "id": "TDUEhmtyrbOV"
      },
      "source": [
        "T=(12,13,15,35,26)"
      ],
      "execution_count": null,
      "outputs": []
    },
    {
      "cell_type": "code",
      "metadata": {
        "colab": {
          "base_uri": "https://localhost:8080/"
        },
        "id": "ce6X0suQsj1A",
        "outputId": "2c5a3db6-bcc2-4980-a957-381508b86194"
      },
      "source": [
        "T"
      ],
      "execution_count": null,
      "outputs": [
        {
          "output_type": "execute_result",
          "data": {
            "text/plain": [
              "(12, 13, 15, 35, 26)"
            ]
          },
          "metadata": {},
          "execution_count": 96
        }
      ]
    },
    {
      "cell_type": "code",
      "metadata": {
        "colab": {
          "base_uri": "https://localhost:8080/"
        },
        "id": "wO-K1skJskmj",
        "outputId": "504f85a3-f9fb-4b57-fd92-036e9f9c512a"
      },
      "source": [
        "T[0]"
      ],
      "execution_count": null,
      "outputs": [
        {
          "output_type": "execute_result",
          "data": {
            "text/plain": [
              "12"
            ]
          },
          "metadata": {},
          "execution_count": 97
        }
      ]
    },
    {
      "cell_type": "code",
      "metadata": {
        "colab": {
          "base_uri": "https://localhost:8080/"
        },
        "id": "2d8nnFrFsoyn",
        "outputId": "d32fb72b-90dd-46bf-f01f-1fe44e00b93d"
      },
      "source": [
        "T[4]"
      ],
      "execution_count": null,
      "outputs": [
        {
          "output_type": "execute_result",
          "data": {
            "text/plain": [
              "26"
            ]
          },
          "metadata": {},
          "execution_count": 98
        }
      ]
    },
    {
      "cell_type": "code",
      "metadata": {
        "colab": {
          "base_uri": "https://localhost:8080/"
        },
        "id": "8JTjLGNrsq5M",
        "outputId": "3695bacd-941d-4e1c-ee28-807ff100be2f"
      },
      "source": [
        "T[-1]"
      ],
      "execution_count": null,
      "outputs": [
        {
          "output_type": "execute_result",
          "data": {
            "text/plain": [
              "26"
            ]
          },
          "metadata": {},
          "execution_count": 99
        }
      ]
    },
    {
      "cell_type": "code",
      "metadata": {
        "colab": {
          "base_uri": "https://localhost:8080/"
        },
        "id": "h5Ne01L7ssXU",
        "outputId": "89c40f76-bf1d-45e8-e554-2dcdc3cec62c"
      },
      "source": [
        "T[:2]"
      ],
      "execution_count": null,
      "outputs": [
        {
          "output_type": "execute_result",
          "data": {
            "text/plain": [
              "(12, 13)"
            ]
          },
          "metadata": {},
          "execution_count": 100
        }
      ]
    },
    {
      "cell_type": "code",
      "metadata": {
        "colab": {
          "base_uri": "https://localhost:8080/"
        },
        "id": "emlZotT7sv55",
        "outputId": "dc536b21-bda5-40a2-80c4-4c81b71d8f37"
      },
      "source": [
        "T[3:]"
      ],
      "execution_count": null,
      "outputs": [
        {
          "output_type": "execute_result",
          "data": {
            "text/plain": [
              "(35, 26)"
            ]
          },
          "metadata": {},
          "execution_count": 101
        }
      ]
    },
    {
      "cell_type": "code",
      "metadata": {
        "colab": {
          "base_uri": "https://localhost:8080/"
        },
        "id": "fWVOy8iwsycN",
        "outputId": "3300a7e4-f755-4fa6-8da6-52e42345a0e6"
      },
      "source": [
        "T[2:4]"
      ],
      "execution_count": null,
      "outputs": [
        {
          "output_type": "execute_result",
          "data": {
            "text/plain": [
              "(15, 35)"
            ]
          },
          "metadata": {},
          "execution_count": 102
        }
      ]
    },
    {
      "cell_type": "markdown",
      "metadata": {
        "id": "Z84Bzmu9s7Gd"
      },
      "source": [
        "Concatenar tuplas"
      ]
    },
    {
      "cell_type": "code",
      "metadata": {
        "colab": {
          "base_uri": "https://localhost:8080/"
        },
        "id": "u6YpLlK6s0VH",
        "outputId": "e3470603-044d-46dd-a5fb-e99d6b72c7d9"
      },
      "source": [
        "T1=(2,3,4,5)\n",
        "T2=(4,5,6,7)\n",
        "T3=T1+T2\n",
        "T3"
      ],
      "execution_count": null,
      "outputs": [
        {
          "output_type": "execute_result",
          "data": {
            "text/plain": [
              "(2, 3, 4, 5, 4, 5, 6, 7)"
            ]
          },
          "metadata": {},
          "execution_count": 103
        }
      ]
    },
    {
      "cell_type": "markdown",
      "metadata": {
        "id": "BvxVRV7_tN9B"
      },
      "source": [
        "Funciones aplicables a tuplas"
      ]
    },
    {
      "cell_type": "code",
      "metadata": {
        "colab": {
          "base_uri": "https://localhost:8080/"
        },
        "id": "n4uh98yvtF3Y",
        "outputId": "03efe0d4-77d3-4839-8709-2cbfd096134d"
      },
      "source": [
        "T=(6,3,6,5,6,7,8)\n",
        "T"
      ],
      "execution_count": null,
      "outputs": [
        {
          "output_type": "execute_result",
          "data": {
            "text/plain": [
              "(6, 3, 6, 5, 6, 7, 8)"
            ]
          },
          "metadata": {},
          "execution_count": 104
        }
      ]
    },
    {
      "cell_type": "code",
      "metadata": {
        "colab": {
          "base_uri": "https://localhost:8080/"
        },
        "id": "GfQTU9OotUyZ",
        "outputId": "d006efea-c841-4580-a184-0d01975f2453"
      },
      "source": [
        "# Cantidad de elementos de una tupla\n",
        "len(T)"
      ],
      "execution_count": null,
      "outputs": [
        {
          "output_type": "execute_result",
          "data": {
            "text/plain": [
              "7"
            ]
          },
          "metadata": {},
          "execution_count": 105
        }
      ]
    },
    {
      "cell_type": "code",
      "metadata": {
        "colab": {
          "base_uri": "https://localhost:8080/"
        },
        "id": "6uYrxdIota7Q",
        "outputId": "5c945c87-b8d4-4499-d80f-e4e3c575376a"
      },
      "source": [
        "# Camcula el maximo en la tupla\n",
        "max(T)"
      ],
      "execution_count": null,
      "outputs": [
        {
          "output_type": "execute_result",
          "data": {
            "text/plain": [
              "8"
            ]
          },
          "metadata": {},
          "execution_count": 106
        }
      ]
    },
    {
      "cell_type": "code",
      "metadata": {
        "colab": {
          "base_uri": "https://localhost:8080/"
        },
        "id": "vy7M2dm0tjND",
        "outputId": "031609b6-b6b5-4090-fac9-f1023eed84e8"
      },
      "source": [
        "min(T)"
      ],
      "execution_count": null,
      "outputs": [
        {
          "output_type": "execute_result",
          "data": {
            "text/plain": [
              "3"
            ]
          },
          "metadata": {},
          "execution_count": 107
        }
      ]
    },
    {
      "cell_type": "code",
      "metadata": {
        "colab": {
          "base_uri": "https://localhost:8080/"
        },
        "id": "fB6tGh2VtlDr",
        "outputId": "b8cb78e3-83f4-4d18-ba3e-1970ffb92363"
      },
      "source": [
        "# cuenta la coincidencia\n",
        "T.count(6)"
      ],
      "execution_count": null,
      "outputs": [
        {
          "output_type": "execute_result",
          "data": {
            "text/plain": [
              "3"
            ]
          },
          "metadata": {},
          "execution_count": 108
        }
      ]
    },
    {
      "cell_type": "code",
      "metadata": {
        "colab": {
          "base_uri": "https://localhost:8080/"
        },
        "id": "7fxU9Ebntymu",
        "outputId": "e6f69bfa-7a74-4700-b7d4-326de3c61e5a"
      },
      "source": [
        "T=(6,3,6,5,6,7,8,7,7,7,7)\n",
        "T"
      ],
      "execution_count": null,
      "outputs": [
        {
          "output_type": "execute_result",
          "data": {
            "text/plain": [
              "(6, 3, 6, 5, 6, 7, 8, 7, 7, 7, 7)"
            ]
          },
          "metadata": {},
          "execution_count": 109
        }
      ]
    },
    {
      "cell_type": "code",
      "metadata": {
        "colab": {
          "base_uri": "https://localhost:8080/"
        },
        "id": "IcjKfTsHuzso",
        "outputId": "f3c1984b-51da-4b3a-fe13-5b91682e06f8"
      },
      "source": [
        "# Calcual la moda de una lista\n",
        "maxi=0\n",
        "for ele in T:\n",
        "  s=T.count(ele)\n",
        "  if maxi<s:\n",
        "    maxi=s\n",
        "    dat=ele\n",
        "print(f\"La moda es:{dat} se repite {maxi} veces\")\n"
      ],
      "execution_count": null,
      "outputs": [
        {
          "output_type": "stream",
          "name": "stdout",
          "text": [
            "La moda es:7 se repite 5 veces\n"
          ]
        }
      ]
    },
    {
      "cell_type": "markdown",
      "metadata": {
        "id": "ZcU9Of3Ux8d6"
      },
      "source": [
        " ## Estructura Conjunto"
      ]
    },
    {
      "cell_type": "code",
      "metadata": {
        "id": "f3pUolvgvc_n"
      },
      "source": [
        "# definamos un conjunto"
      ],
      "execution_count": null,
      "outputs": []
    },
    {
      "cell_type": "code",
      "metadata": {
        "colab": {
          "base_uri": "https://localhost:8080/"
        },
        "id": "VWaf_JJyyK5z",
        "outputId": "077aa82d-60ba-436c-8000-ea9c1c0dcc99"
      },
      "source": [
        "A={3,4,5,6,5,5}\n",
        "A"
      ],
      "execution_count": null,
      "outputs": [
        {
          "output_type": "execute_result",
          "data": {
            "text/plain": [
              "{3, 4, 5, 6}"
            ]
          },
          "metadata": {},
          "execution_count": 113
        }
      ]
    },
    {
      "cell_type": "code",
      "metadata": {
        "colab": {
          "base_uri": "https://localhost:8080/"
        },
        "id": "6HWlvWloyO5B",
        "outputId": "685ea8b7-4eac-4eb4-cf52-99a88fb06814"
      },
      "source": [
        "B=set([3,4,5,6,7])\n",
        "B"
      ],
      "execution_count": null,
      "outputs": [
        {
          "output_type": "execute_result",
          "data": {
            "text/plain": [
              "{3, 4, 5, 6, 7}"
            ]
          },
          "metadata": {},
          "execution_count": 1
        }
      ]
    },
    {
      "cell_type": "markdown",
      "metadata": {
        "id": "auM4MyOHyijm"
      },
      "source": [
        "Operaciones basicas de conjuntos\n"
      ]
    },
    {
      "cell_type": "code",
      "metadata": {
        "colab": {
          "base_uri": "https://localhost:8080/"
        },
        "id": "MdJMZSjCyf1A",
        "outputId": "35699104-4635-4b24-dee5-7a659c8dedef"
      },
      "source": [
        "A={2,3,4,5,6,7}\n",
        "B={3,8,9,4,5}\n",
        "A"
      ],
      "execution_count": null,
      "outputs": [
        {
          "output_type": "execute_result",
          "data": {
            "text/plain": [
              "{2, 3, 4, 5, 6, 7}"
            ]
          },
          "metadata": {},
          "execution_count": 115
        }
      ]
    },
    {
      "cell_type": "code",
      "metadata": {
        "colab": {
          "base_uri": "https://localhost:8080/"
        },
        "id": "OAxPLlRRyuXV",
        "outputId": "f9704ac3-b97d-43dd-fdfd-25c2612dc7a3"
      },
      "source": [
        "# Union de conjuntos\n",
        "A|B"
      ],
      "execution_count": null,
      "outputs": [
        {
          "output_type": "execute_result",
          "data": {
            "text/plain": [
              "{2, 3, 4, 5, 6, 7, 8, 9}"
            ]
          },
          "metadata": {},
          "execution_count": 116
        }
      ]
    },
    {
      "cell_type": "code",
      "metadata": {
        "colab": {
          "base_uri": "https://localhost:8080/"
        },
        "id": "Ql8tKTF_y13F",
        "outputId": "8152aeb3-b244-4b8d-b21c-dfc09baf4ccf"
      },
      "source": [
        "# Calcula la intersección de conjuntos\n",
        "A&B"
      ],
      "execution_count": null,
      "outputs": [
        {
          "output_type": "execute_result",
          "data": {
            "text/plain": [
              "{3, 4, 5}"
            ]
          },
          "metadata": {},
          "execution_count": 117
        }
      ]
    },
    {
      "cell_type": "code",
      "metadata": {
        "colab": {
          "base_uri": "https://localhost:8080/"
        },
        "id": "dZ-goUS_zGK_",
        "outputId": "61483ed4-899c-45d0-f345-7cf63dfaf401"
      },
      "source": [
        "# Calcula la diferencia\n",
        "A-B"
      ],
      "execution_count": null,
      "outputs": [
        {
          "output_type": "execute_result",
          "data": {
            "text/plain": [
              "{2, 6, 7}"
            ]
          },
          "metadata": {},
          "execution_count": 118
        }
      ]
    },
    {
      "cell_type": "code",
      "metadata": {
        "colab": {
          "base_uri": "https://localhost:8080/"
        },
        "id": "YUmTjLZRzMxL",
        "outputId": "a7aae9d5-5867-404c-fea2-a9c9f22ab7bd"
      },
      "source": [
        "# pertenencia de un elemento\n",
        "3 in A"
      ],
      "execution_count": null,
      "outputs": [
        {
          "output_type": "execute_result",
          "data": {
            "text/plain": [
              "True"
            ]
          },
          "metadata": {},
          "execution_count": 119
        }
      ]
    },
    {
      "cell_type": "code",
      "metadata": {
        "colab": {
          "base_uri": "https://localhost:8080/"
        },
        "id": "gtb7bQ6FzTWg",
        "outputId": "59d79b07-2e34-4cfa-a28a-ce3d082cfc95"
      },
      "source": [
        "100 in A"
      ],
      "execution_count": null,
      "outputs": [
        {
          "output_type": "execute_result",
          "data": {
            "text/plain": [
              "False"
            ]
          },
          "metadata": {},
          "execution_count": 120
        }
      ]
    },
    {
      "cell_type": "markdown",
      "metadata": {
        "id": "1oJh8Mg1zmnH"
      },
      "source": []
    },
    {
      "cell_type": "code",
      "metadata": {
        "colab": {
          "base_uri": "https://localhost:8080/"
        },
        "id": "JZQv8R66zVi4",
        "outputId": "2ac29946-4dd4-4bc8-a78b-4c7cd04b8daf"
      },
      "source": [
        "# Convertir un conjunto a lista\n",
        "L=list(A)\n",
        "L"
      ],
      "execution_count": null,
      "outputs": [
        {
          "output_type": "execute_result",
          "data": {
            "text/plain": [
              "[2, 3, 4, 5, 6, 7]"
            ]
          },
          "metadata": {},
          "execution_count": 121
        }
      ]
    },
    {
      "cell_type": "code",
      "metadata": {
        "colab": {
          "base_uri": "https://localhost:8080/"
        },
        "id": "z2sa0tfFzeye",
        "outputId": "f2233739-7a98-4b58-c896-aebdbabea420"
      },
      "source": [
        "# Cadena de caracteres convertido a conjuntos\n",
        "C= \"programando\"\n",
        "A=set(C)\n",
        "A"
      ],
      "execution_count": null,
      "outputs": [
        {
          "output_type": "execute_result",
          "data": {
            "text/plain": [
              "{'a', 'd', 'g', 'm', 'n', 'o', 'p', 'r'}"
            ]
          },
          "metadata": {},
          "execution_count": 122
        }
      ]
    },
    {
      "cell_type": "code",
      "metadata": {
        "colab": {
          "base_uri": "https://localhost:8080/"
        },
        "id": "gBzZfMWkzw7V",
        "outputId": "e624a762-01c7-41bc-9e28-715b4df0e21f"
      },
      "source": [
        "L=list(C)\n",
        "L"
      ],
      "execution_count": null,
      "outputs": [
        {
          "output_type": "execute_result",
          "data": {
            "text/plain": [
              "['p', 'r', 'o', 'g', 'r', 'a', 'm', 'a', 'n', 'd', 'o']"
            ]
          },
          "metadata": {},
          "execution_count": 123
        }
      ]
    },
    {
      "cell_type": "markdown",
      "metadata": {
        "id": "n9UUlfsKz-Gg"
      },
      "source": [
        "Funciones aplicables a conjuntos"
      ]
    },
    {
      "cell_type": "code",
      "metadata": {
        "colab": {
          "base_uri": "https://localhost:8080/"
        },
        "id": "62rkqKAez4KN",
        "outputId": "68a07da5-9f57-4551-dedd-9042cbfd1415"
      },
      "source": [
        "len(A)"
      ],
      "execution_count": null,
      "outputs": [
        {
          "output_type": "execute_result",
          "data": {
            "text/plain": [
              "8"
            ]
          },
          "metadata": {},
          "execution_count": 124
        }
      ]
    },
    {
      "cell_type": "code",
      "metadata": {
        "id": "LJlP2YHm0PLI"
      },
      "source": [
        "A={2,3,4,5}"
      ],
      "execution_count": null,
      "outputs": []
    },
    {
      "cell_type": "code",
      "metadata": {
        "colab": {
          "base_uri": "https://localhost:8080/"
        },
        "id": "nklrRmj40C9K",
        "outputId": "2b383a29-f233-48a5-8a5d-0020caefdadd"
      },
      "source": [
        "# suma\n",
        "sum(A)"
      ],
      "execution_count": null,
      "outputs": [
        {
          "output_type": "execute_result",
          "data": {
            "text/plain": [
              "14"
            ]
          },
          "metadata": {},
          "execution_count": 126
        }
      ]
    },
    {
      "cell_type": "code",
      "metadata": {
        "colab": {
          "base_uri": "https://localhost:8080/"
        },
        "id": "LGvJfHsk0HVV",
        "outputId": "190b7654-67ac-4a07-c103-85d2992bfb3a"
      },
      "source": [
        "Z={3,4,5,6}\n",
        "Z"
      ],
      "execution_count": null,
      "outputs": [
        {
          "output_type": "execute_result",
          "data": {
            "text/plain": [
              "{3, 4, 5, 6}"
            ]
          },
          "metadata": {},
          "execution_count": 127
        }
      ]
    },
    {
      "cell_type": "code",
      "metadata": {
        "colab": {
          "base_uri": "https://localhost:8080/"
        },
        "id": "6SpE38990U7a",
        "outputId": "25e314e1-e1fa-4c79-92a4-a0279ccafadd"
      },
      "source": [
        "sum(Z)"
      ],
      "execution_count": null,
      "outputs": [
        {
          "output_type": "execute_result",
          "data": {
            "text/plain": [
              "18"
            ]
          },
          "metadata": {},
          "execution_count": 128
        }
      ]
    },
    {
      "cell_type": "code",
      "metadata": {
        "colab": {
          "base_uri": "https://localhost:8080/"
        },
        "id": "vw8XHhV60snY",
        "outputId": "a0de8be3-0be4-417d-ef33-0f398b67cfca"
      },
      "source": [
        "min(Z)"
      ],
      "execution_count": null,
      "outputs": [
        {
          "output_type": "execute_result",
          "data": {
            "text/plain": [
              "3"
            ]
          },
          "metadata": {},
          "execution_count": 129
        }
      ]
    },
    {
      "cell_type": "code",
      "metadata": {
        "colab": {
          "base_uri": "https://localhost:8080/"
        },
        "id": "7wQsjSLv0t90",
        "outputId": "d0297038-0647-4d2e-a876-fb601e369a91"
      },
      "source": [
        "max(Z)"
      ],
      "execution_count": null,
      "outputs": [
        {
          "output_type": "execute_result",
          "data": {
            "text/plain": [
              "6"
            ]
          },
          "metadata": {},
          "execution_count": 4
        }
      ]
    },
    {
      "cell_type": "code",
      "metadata": {
        "id": "r4mRfuHp07I4"
      },
      "source": [
        "Z.add(20)"
      ],
      "execution_count": null,
      "outputs": []
    },
    {
      "cell_type": "code",
      "metadata": {
        "colab": {
          "base_uri": "https://localhost:8080/"
        },
        "id": "dZ8BXY4o2G15",
        "outputId": "5a232f37-291a-4e16-c245-c0540f996f8b"
      },
      "source": [
        "Z"
      ],
      "execution_count": null,
      "outputs": [
        {
          "output_type": "execute_result",
          "data": {
            "text/plain": [
              "{3, 4, 5, 6, 20}"
            ]
          },
          "metadata": {},
          "execution_count": 131
        }
      ]
    },
    {
      "cell_type": "code",
      "metadata": {
        "colab": {
          "base_uri": "https://localhost:8080/"
        },
        "id": "jzsu6QUr2Hoo",
        "outputId": "eacb4da3-c413-454b-9796-122129e76809"
      },
      "source": [
        "Z.remove(5)\n",
        "Z"
      ],
      "execution_count": null,
      "outputs": [
        {
          "output_type": "execute_result",
          "data": {
            "text/plain": [
              "{3, 4, 6, 20}"
            ]
          },
          "metadata": {},
          "execution_count": 132
        }
      ]
    },
    {
      "cell_type": "code",
      "metadata": {
        "colab": {
          "base_uri": "https://localhost:8080/"
        },
        "id": "Ogd7lRf22NP2",
        "outputId": "a4c066b6-db9e-485c-c3a4-8423faf702a5"
      },
      "source": [
        "Z.pop()\n",
        "Z"
      ],
      "execution_count": null,
      "outputs": [
        {
          "output_type": "execute_result",
          "data": {
            "text/plain": [
              "{4, 6, 20}"
            ]
          },
          "metadata": {},
          "execution_count": 133
        }
      ]
    },
    {
      "cell_type": "code",
      "metadata": {
        "id": "6K_UnX-u2U3Q"
      },
      "source": [],
      "execution_count": null,
      "outputs": []
    }
  ]
}