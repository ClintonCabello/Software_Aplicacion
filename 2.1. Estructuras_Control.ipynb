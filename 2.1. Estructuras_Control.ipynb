{
  "nbformat": 4,
  "nbformat_minor": 0,
  "metadata": {
    "colab": {
      "provenance": []
    },
    "kernelspec": {
      "name": "python3",
      "display_name": "Python 3"
    },
    "language_info": {
      "name": "python"
    }
  },
  "cells": [
    {
      "cell_type": "markdown",
      "source": [
        "# Estructuras de control\n",
        "\n",
        "\n",
        "\n",
        "1.   Estructura condicional\n",
        "2.   Estructura Repetitiva\n",
        "\n"
      ],
      "metadata": {
        "id": "z8fSUGeDdPro"
      }
    },
    {
      "cell_type": "markdown",
      "source": [
        "## **Estructura condicional**\n",
        "\n",
        "\n",
        "El formato es:\n",
        "\n",
        "```\n",
        "if  condicion:\n",
        "    proposicion\n",
        "```\n",
        "\n"
      ],
      "metadata": {
        "id": "dBQ5Iey_gVAL"
      }
    },
    {
      "cell_type": "markdown",
      "source": [
        "Ejemplo 01. Programa que muestra el mayor de dos números"
      ],
      "metadata": {
        "id": "5evgXUjxg39d"
      }
    },
    {
      "cell_type": "code",
      "execution_count": null,
      "metadata": {
        "id": "GB1XEYTacoNY"
      },
      "outputs": [],
      "source": [
        "a= int(input(\"Ingrese un número:\"))\n",
        "b= int(input(\"Ingrese un número:\"))\n",
        "if a>b:\n",
        "    print(\"El máximo es:\",a)\n",
        "else:\n",
        "    print(\"El máximo es:\",b)\n"
      ]
    },
    {
      "cell_type": "markdown",
      "source": [
        "Ejemplo 02. Programa que muestra el dia de samana al ingresar un número"
      ],
      "metadata": {
        "id": "9VYiXRVKiWM4"
      }
    },
    {
      "cell_type": "code",
      "source": [
        "n=int(input(\"Ingrese un numero\"))\n",
        "if n==1:\n",
        "    print(\"Domingo\")\n",
        "elif n==2:\n",
        "    print(\"Lunes\")\n",
        "elif n==3:\n",
        "    print(\"Martes\")\n",
        "elif n==4:\n",
        "    print(\"Miercoles\")\n",
        "elif n==5:\n",
        "    print(\"Jueves\")\n",
        "elif n==6:\n",
        "    print(\"Viernes\")\n",
        "elif n==7:\n",
        "    print(\"Sabado\")\n",
        "else:\n",
        "    print(\"Número equivocado\")"
      ],
      "metadata": {
        "id": "iMtFpJqHiVlH"
      },
      "execution_count": null,
      "outputs": []
    },
    {
      "cell_type": "markdown",
      "source": [
        "# Estructura Repetitiva\n",
        "\n",
        "\n",
        "El formato es:\n",
        "```\n",
        "for i in range(10):\n",
        "    proposicion\n",
        "```\n",
        "\n",
        "\n",
        "\n",
        "\n"
      ],
      "metadata": {
        "id": "hK_pa7-1jj00"
      }
    },
    {
      "cell_type": "markdown",
      "source": [
        "Eejemplo 03. Hacer un programa que suma los n primeros numeros naturales"
      ],
      "metadata": {
        "id": "tSxqi4SOj_h3"
      }
    },
    {
      "cell_type": "code",
      "source": [
        "n=int(input(\"Ingrese un numero\"))\n",
        "s=0\n",
        "for i in range(n+1):\n",
        "    s=s+i\n",
        "print(f\"La suma es: {s}\")"
      ],
      "metadata": {
        "colab": {
          "base_uri": "https://localhost:8080/"
        },
        "id": "6oT5H873jvTb",
        "outputId": "8911c7d4-47b0-42be-ec3f-06cd840cd2c0"
      },
      "execution_count": null,
      "outputs": [
        {
          "output_type": "stream",
          "name": "stdout",
          "text": [
            "Ingrese un numero5\n",
            "La suma es: 15\n"
          ]
        }
      ]
    },
    {
      "cell_type": "markdown",
      "source": [
        "Ejemplo 04. Programa que calcula el factorial de un numero"
      ],
      "metadata": {
        "id": "dmXkf8YKkuam"
      }
    },
    {
      "cell_type": "code",
      "source": [],
      "metadata": {
        "id": "WDKjURUalMYa"
      },
      "execution_count": null,
      "outputs": []
    },
    {
      "cell_type": "code",
      "source": [
        "n=int(input(\"Ingrese un numero\"))\n",
        "f=1\n",
        "for i in range(1,n+1):\n",
        "    f=f*i\n",
        "print(\"El factorial de {} es: {}\".format(n,f))"
      ],
      "metadata": {
        "colab": {
          "base_uri": "https://localhost:8080/"
        },
        "id": "8KSWP0kDk7Z5",
        "outputId": "80ca4031-a582-42ad-d60f-c3a66edec4a7"
      },
      "execution_count": null,
      "outputs": [
        {
          "output_type": "stream",
          "name": "stdout",
          "text": [
            "Ingrese un numero6\n",
            "El factorial de 6 es: 720\n"
          ]
        }
      ]
    },
    {
      "cell_type": "markdown",
      "source": [
        "Ejemplo 05. Un programa que suma los datos ingresardos por el teclado."
      ],
      "metadata": {
        "id": "q1nhF5t6lzbx"
      }
    },
    {
      "cell_type": "code",
      "source": [
        "n=int(input(\"Ingrese la cantidad de datos:\"))\n",
        "s=0\n",
        "while n>0:\n",
        "    dato=float(input(\"Ingrese el dato:\"))\n",
        "    s=s+dato\n",
        "    n=n-1\n",
        "print(\"La suma de los datos es: {}\".format(s))"
      ],
      "metadata": {
        "colab": {
          "base_uri": "https://localhost:8080/"
        },
        "id": "N4MBpsMumLeA",
        "outputId": "2d010401-461a-46ae-9913-e0b7cc297f05"
      },
      "execution_count": null,
      "outputs": [
        {
          "output_type": "stream",
          "name": "stdout",
          "text": [
            "Ingrese la cantidad de datos:4\n",
            "Ingrese el dato:12\n",
            "Ingrese el dato:13\n",
            "Ingrese el dato:14\n",
            "Ingrese el dato:15\n",
            "La suma de los datos es: 54.0\n"
          ]
        }
      ]
    },
    {
      "cell_type": "code",
      "source": [
        "s=0\n",
        "while True:\n",
        "    dato=float(input(\"Ingrese un dato:\"))\n",
        "    if dato==0:\n",
        "        break\n",
        "    s=s+dato\n",
        "print(f\"La suma es: {s}\")"
      ],
      "metadata": {
        "colab": {
          "base_uri": "https://localhost:8080/"
        },
        "id": "dDiZlVv6nHw3",
        "outputId": "c1e8b3e8-0c57-479e-b569-ae6ae188ce43"
      },
      "execution_count": null,
      "outputs": [
        {
          "output_type": "stream",
          "name": "stdout",
          "text": [
            "Ingrese un dato:12\n",
            "Ingrese un dato:13\n",
            "Ingrese un dato:14\n",
            "Ingrese un dato:10\n",
            "Ingrese un dato:32\n",
            "Ingrese un dato:34\n",
            "Ingrese un dato:0\n",
            "La suma es: 115.0\n"
          ]
        }
      ]
    },
    {
      "cell_type": "markdown",
      "source": [
        "# Funciones\n",
        "\n",
        "\n",
        "El formato es:\n",
        "```\n",
        "def nombre_funcion(parametro):\n",
        "    bloque_de_la_funcion\n",
        "```\n",
        "\n"
      ],
      "metadata": {
        "id": "moZMcHnOdeaX"
      }
    },
    {
      "cell_type": "markdown",
      "source": [
        "Ejemplo 06. Programa que suma dos numeros"
      ],
      "metadata": {
        "id": "FmEBOTHRob3r"
      }
    },
    {
      "cell_type": "code",
      "source": [
        "\n",
        "def sumar_numeros(a,b):\n",
        "    return a+b\n",
        "\n",
        "# Principal\n",
        "a=int(input(\"Ingrese un nùmero\"))\n",
        "b=int(input(\"Ingrese un nùmero\"))\n",
        "\n",
        "s=sumar_numeros(a,b)\n",
        "\n",
        "print(f\"La suma de {a} y {b} es: {s}\")\n",
        "\n",
        "\n"
      ],
      "metadata": {
        "colab": {
          "base_uri": "https://localhost:8080/"
        },
        "id": "GQkWz4s4dhnz",
        "outputId": "d1a40c13-abbe-433d-cf6a-9f5e387e639f"
      },
      "execution_count": null,
      "outputs": [
        {
          "output_type": "stream",
          "name": "stdout",
          "text": [
            "Ingrese un nùmero3\n",
            "Ingrese un nùmero4\n",
            "La suma de 3 y 4 es: 7\n"
          ]
        }
      ]
    },
    {
      "cell_type": "markdown",
      "source": [
        "Ejemplo 07 Programa que calcula el volumen del cilindro"
      ],
      "metadata": {
        "id": "Er--h7rDq32Y"
      }
    },
    {
      "cell_type": "code",
      "source": [
        "import math\n",
        "def volumen_cilindro(radio,altura):\n",
        "    volumen=math.pi*radio**2*altura\n",
        "    return volumen\n",
        "\n",
        "def area_cicunferencia(radio):\n",
        "    area=math.pi*radio**2\n",
        "    return area\n",
        "\n",
        "# Ambito principal\n",
        "r=float(input(\"Ingrese el radio:\"))\n",
        "h=float(input(\"Ingrese la altura\"))\n",
        "v=volumen_cilindro(r,h)\n",
        "print(\"El volumen del cilindro es: {:.2f}\".format(v))\n",
        "print(\"El area de la base del cilindro es: {:.2f}\".format(area_cicunferencia(r)))\n"
      ],
      "metadata": {
        "colab": {
          "base_uri": "https://localhost:8080/"
        },
        "id": "PnGmXMGerCoe",
        "outputId": "41f23d70-80f0-4de7-8e8d-31bf025c2d25"
      },
      "execution_count": null,
      "outputs": [
        {
          "output_type": "stream",
          "name": "stdout",
          "text": [
            "Ingrese el radio:3\n",
            "Ingrese la altura4\n",
            "El volumen del cilindro es: 113.10\n",
            "El area de la base del cilindro es: 28.27\n"
          ]
        }
      ]
    },
    {
      "cell_type": "markdown",
      "source": [],
      "metadata": {
        "id": "XmKvrqzss4HL"
      }
    },
    {
      "cell_type": "markdown",
      "source": [
        "# Funciones especiales ( Funciones de Orden Superior)"
      ],
      "metadata": {
        "id": "jXclXTtOdjGj"
      }
    },
    {
      "cell_type": "markdown",
      "source": [
        "# **Funcion MAP**\n",
        "\n",
        "La función map() llama a la función especificada, para que sea aplicada a cada uno de los elementos de un iterable\n"
      ],
      "metadata": {
        "id": "3ShrLkgKw0dA"
      }
    },
    {
      "cell_type": "markdown",
      "source": [
        "Ejmplo Programa que permita duplicar los datos de una lista, para ello hace uso de la función map()"
      ],
      "metadata": {
        "id": "IVob4dOyxX5F"
      }
    },
    {
      "cell_type": "code",
      "source": [
        "#queremos duplicar los datos de la lista\n",
        "L=[2,3,4,5,6,7,8]\n",
        "\n",
        "def duplica(n):\n",
        "    return 2*n\n",
        "\n",
        "Lis= list(map(duplica,L))\n",
        "Lis"
      ],
      "metadata": {
        "colab": {
          "base_uri": "https://localhost:8080/"
        },
        "id": "hwiq7zv_dier",
        "outputId": "3cdd5877-5767-4886-e3f2-0d57cdcb007d"
      },
      "execution_count": null,
      "outputs": [
        {
          "output_type": "execute_result",
          "data": {
            "text/plain": [
              "[4, 6, 8, 10, 12, 14, 16]"
            ]
          },
          "metadata": {},
          "execution_count": 22
        }
      ]
    },
    {
      "cell_type": "markdown",
      "source": [
        "Ejemplo. Programa que calcula el IMC en la base de datos"
      ],
      "metadata": {
        "id": "G6ljX2Yyy7Un"
      }
    },
    {
      "cell_type": "code",
      "source": [
        "P=[44,67.5,56.4,78.5,76,87,58,78,89.7,87]\n",
        "T=[1.10,1.50,1.45,1.56,1.54,1.23,1.67,1.56,1.43,1.58]\n",
        "def imc(p,t):\n",
        "    return round(p/(t**2),2)\n",
        "\n",
        "Imc=list(map(imc,P,T))\n",
        "Imc"
      ],
      "metadata": {
        "colab": {
          "base_uri": "https://localhost:8080/"
        },
        "id": "wHoeqy4hzF7E",
        "outputId": "5db5e1a4-de31-4f7c-ee58-67433c4cc917"
      },
      "execution_count": null,
      "outputs": [
        {
          "output_type": "execute_result",
          "data": {
            "text/plain": [
              "[36.36, 30.0, 26.83, 32.26, 32.05, 57.51, 20.8, 32.05, 43.87, 34.85]"
            ]
          },
          "metadata": {},
          "execution_count": 29
        }
      ]
    },
    {
      "cell_type": "markdown",
      "source": [
        "# **Función Lambda**\n",
        "\n",
        "Son funciones anonimas, por que se definen sin nombre, se define con la palabra reservada **lambda**"
      ],
      "metadata": {
        "id": "obdn_vvM2Dsl"
      }
    },
    {
      "cell_type": "code",
      "source": [
        "# definamos una función\n",
        "def cuadrado(n):\n",
        "    return n**2\n",
        "x=cuadrado(2)\n",
        "print(\"El cuadrado es\",x)"
      ],
      "metadata": {
        "colab": {
          "base_uri": "https://localhost:8080/"
        },
        "id": "rBa6KJpI2faP",
        "outputId": "060be09a-12bd-40cc-e613-a2a0ba3773f8"
      },
      "execution_count": null,
      "outputs": [
        {
          "output_type": "stream",
          "name": "stdout",
          "text": [
            "El cuadrado es 4\n"
          ]
        }
      ]
    },
    {
      "cell_type": "code",
      "source": [
        "cuadrado=lambda n:n**2\n",
        "cuadrado(2)"
      ],
      "metadata": {
        "colab": {
          "base_uri": "https://localhost:8080/"
        },
        "id": "Qu9V5Iu625KB",
        "outputId": "3cb08555-9846-4b02-ff04-cee0395ae63c"
      },
      "execution_count": null,
      "outputs": [
        {
          "output_type": "execute_result",
          "data": {
            "text/plain": [
              "4"
            ]
          },
          "metadata": {},
          "execution_count": 31
        }
      ]
    },
    {
      "cell_type": "code",
      "source": [
        "cubo=lambda n:n**3\n",
        "cubo(3)"
      ],
      "metadata": {
        "colab": {
          "base_uri": "https://localhost:8080/"
        },
        "id": "pH5bY3-e3JNU",
        "outputId": "50c1ecad-2e38-468d-ff10-a76c37618c7d"
      },
      "execution_count": null,
      "outputs": [
        {
          "output_type": "execute_result",
          "data": {
            "text/plain": [
              "27"
            ]
          },
          "metadata": {},
          "execution_count": 32
        }
      ]
    },
    {
      "cell_type": "markdown",
      "source": [
        "Ejemplo programa que duplica los elementos de una lista"
      ],
      "metadata": {
        "id": "RUqalist3tud"
      }
    },
    {
      "cell_type": "code",
      "source": [
        "L=[3,4,5,6,4,7,2,7]\n",
        "lista=list(map(lambda n:round(math.sqrt(n),2),L))\n",
        "lista"
      ],
      "metadata": {
        "colab": {
          "base_uri": "https://localhost:8080/"
        },
        "id": "eXsn5B_w3rsp",
        "outputId": "e1b9f557-a0d7-4e39-fe5d-9d8005431a3e"
      },
      "execution_count": null,
      "outputs": [
        {
          "output_type": "execute_result",
          "data": {
            "text/plain": [
              "[1.73, 2.0, 2.24, 2.45, 2.0, 2.65, 1.41, 2.65]"
            ]
          },
          "metadata": {},
          "execution_count": 38
        }
      ]
    },
    {
      "cell_type": "markdown",
      "source": [
        "# **Función Filter**\n",
        "\n",
        "La función filter significa filtrar"
      ],
      "metadata": {
        "id": "nFBteSms5E6Y"
      }
    },
    {
      "cell_type": "markdown",
      "source": [
        "Ejemplo. Filtrar los datos pares de una lista"
      ],
      "metadata": {
        "id": "-fhU4Ch55Ybx"
      }
    },
    {
      "cell_type": "code",
      "source": [
        "def pares(num):\n",
        "    if num%2==0:\n",
        "        return True\n",
        "    else:\n",
        "        return False\n",
        "\n",
        "\n",
        "L=[2,3,4,5,6,7,8,9,10]\n",
        "\n",
        "lisp=list(filter(pares,L))\n",
        "lisp"
      ],
      "metadata": {
        "colab": {
          "base_uri": "https://localhost:8080/"
        },
        "id": "SumIjOB15W1h",
        "outputId": "8db8fd64-8549-4b4d-fbf4-c393463f4893"
      },
      "execution_count": null,
      "outputs": [
        {
          "output_type": "execute_result",
          "data": {
            "text/plain": [
              "[2, 4, 6, 8, 10]"
            ]
          },
          "metadata": {},
          "execution_count": 41
        }
      ]
    },
    {
      "cell_type": "code",
      "source": [
        "lis=list(filter(lambda n: n if n%2!=0 else False,L))\n",
        "lis"
      ],
      "metadata": {
        "colab": {
          "base_uri": "https://localhost:8080/"
        },
        "id": "ceXjxVAJ6RQd",
        "outputId": "b5f1120a-c41c-46e2-ea4c-2daa90f0d427"
      },
      "execution_count": null,
      "outputs": [
        {
          "output_type": "execute_result",
          "data": {
            "text/plain": [
              "[3, 5, 7, 9]"
            ]
          },
          "metadata": {},
          "execution_count": 45
        }
      ]
    },
    {
      "cell_type": "markdown",
      "source": [
        "# **Funciones recursivas**\n",
        "\n",
        "Es una función que se llama asi misma, tiene un caso base y la llamada recursiva tiende al caso base."
      ],
      "metadata": {
        "id": "WfSX7ppw9OUS"
      }
    },
    {
      "cell_type": "markdown",
      "source": [
        "Ejemplo Programa que suma los n primeros numeros naturales de forma recursiva\n",
        "\n",
        "\n",
        "$$  suma=0+1+2+3+ . . . + (n-1) + n$$\n",
        "\n",
        "$$  suma(n) = 0+1+2+3+ . . . + (n-1) + n $$\n",
        "\n",
        "$$  suma(n-1)=0+1+2+3+ . . . + (n-1)$$\n",
        "\n",
        "$$ suma(n)=suma(n-1)+n$$\n",
        "\n",
        "$$ suma(0)= 0$$\n"
      ],
      "metadata": {
        "id": "-eIlZiwt9oYj"
      }
    },
    {
      "cell_type": "code",
      "source": [
        "def suma(n):\n",
        "    if n==0:\n",
        "        return 0\n",
        "    else:\n",
        "        return suma(n-1)+n\n",
        "n=int(input(\"Ingrese un numero entero positivo:\"))\n",
        "print(\"La suma es:\",suma(n))"
      ],
      "metadata": {
        "id": "KA0m7Ytm9n5k"
      },
      "execution_count": null,
      "outputs": []
    },
    {
      "cell_type": "markdown",
      "source": [
        "Ejemplo Programa que calcula el factorial de un numero"
      ],
      "metadata": {
        "id": "x942Kikw_iKo"
      }
    },
    {
      "cell_type": "code",
      "source": [
        "def factorial(n):\n",
        "    if n==0:\n",
        "        return 1\n",
        "    else:\n",
        "        return factorial(n-1)*n\n",
        "print(factorial(4))"
      ],
      "metadata": {
        "id": "c8VO-Zdj_qzC"
      },
      "execution_count": null,
      "outputs": []
    },
    {
      "cell_type": "markdown",
      "source": [
        "Ejemplo programa que calcula la potencia de un numero recursivamente\n",
        "\n",
        "$$ expo(a,n)=a*a*a* . . .*a  n veces $$\n",
        "$$ expo(a,n-1)=a*a*a* . . .*a \\ \\ (n-1) veces $$\n",
        "$$ expo(a,n)=expo(a,n-1)*a$$\n",
        "$$ expo(a,0)=1$$"
      ],
      "metadata": {
        "id": "3zZ7xmkc_-ps"
      }
    },
    {
      "cell_type": "code",
      "source": [
        "def expo(a,n):\n",
        "    if n==0:\n",
        "        return 1\n",
        "    else:\n",
        "        return expo(a,n-1)*a\n",
        "print(expo(2,3))"
      ],
      "metadata": {
        "id": "GE6gbFLHAm5f"
      },
      "execution_count": null,
      "outputs": []
    },
    {
      "cell_type": "markdown",
      "source": [
        "# Estructura de Datos\n",
        "\n",
        "\n",
        "\n",
        "1.   Estructura lista\n",
        "2.   Estructura Vector\n",
        "3.   Estructura Matriz\n",
        "4.   Estructura Tuplas\n",
        "5.   Estructura Diccionario\n",
        "\n"
      ],
      "metadata": {
        "id": "h8cqJgaNdq6V"
      }
    },
    {
      "cell_type": "markdown",
      "source": [
        "# Estructura Lista"
      ],
      "metadata": {
        "id": "VXfBnrnSBr2P"
      }
    },
    {
      "cell_type": "code",
      "source": [
        "L=[2,3,4,5,6,7]\n",
        "L"
      ],
      "metadata": {
        "colab": {
          "base_uri": "https://localhost:8080/"
        },
        "id": "0y54xUvPBo5P",
        "outputId": "e21f39fc-fd51-4a95-b9c6-b45761723bea"
      },
      "execution_count": null,
      "outputs": [
        {
          "output_type": "execute_result",
          "data": {
            "text/plain": [
              "[2, 3, 4, 5, 6, 7]"
            ]
          },
          "metadata": {},
          "execution_count": 49
        }
      ]
    },
    {
      "cell_type": "code",
      "source": [
        "L[-1]"
      ],
      "metadata": {
        "colab": {
          "base_uri": "https://localhost:8080/"
        },
        "id": "PStUhxwBeA1r",
        "outputId": "4c60fdb0-92f0-4c7e-c915-f52889c9c97d"
      },
      "execution_count": null,
      "outputs": [
        {
          "output_type": "execute_result",
          "data": {
            "text/plain": [
              "7"
            ]
          },
          "metadata": {},
          "execution_count": 51
        }
      ]
    },
    {
      "cell_type": "code",
      "source": [
        "L[::]"
      ],
      "metadata": {
        "colab": {
          "base_uri": "https://localhost:8080/"
        },
        "id": "UbSkoIyPCX_c",
        "outputId": "63ac7690-82b5-40cb-8a09-d72e5f8762b2"
      },
      "execution_count": null,
      "outputs": [
        {
          "output_type": "execute_result",
          "data": {
            "text/plain": [
              "[2, 3, 4, 5, 6, 7]"
            ]
          },
          "metadata": {},
          "execution_count": 52
        }
      ]
    },
    {
      "cell_type": "code",
      "source": [
        "L[:3]"
      ],
      "metadata": {
        "colab": {
          "base_uri": "https://localhost:8080/"
        },
        "id": "moj-ySFhCdbt",
        "outputId": "8288d7c6-62fc-479a-af6d-b7e17696d6c1"
      },
      "execution_count": null,
      "outputs": [
        {
          "output_type": "execute_result",
          "data": {
            "text/plain": [
              "[2, 3, 4]"
            ]
          },
          "metadata": {},
          "execution_count": 53
        }
      ]
    },
    {
      "cell_type": "code",
      "source": [
        "L[:5]"
      ],
      "metadata": {
        "colab": {
          "base_uri": "https://localhost:8080/"
        },
        "id": "JsOB2w-OCo7m",
        "outputId": "12650791-24f6-433e-df13-ca2f57f4d3ef"
      },
      "execution_count": null,
      "outputs": [
        {
          "output_type": "execute_result",
          "data": {
            "text/plain": [
              "[2, 3, 4, 5, 6]"
            ]
          },
          "metadata": {},
          "execution_count": 54
        }
      ]
    },
    {
      "cell_type": "code",
      "source": [
        "L[:2]"
      ],
      "metadata": {
        "colab": {
          "base_uri": "https://localhost:8080/"
        },
        "id": "TR42-JvlCu1n",
        "outputId": "e9bbadbb-83b8-41bf-a53b-09e9434cc1b2"
      },
      "execution_count": null,
      "outputs": [
        {
          "output_type": "execute_result",
          "data": {
            "text/plain": [
              "[2, 3]"
            ]
          },
          "metadata": {},
          "execution_count": 55
        }
      ]
    },
    {
      "cell_type": "code",
      "source": [
        "L[2:]"
      ],
      "metadata": {
        "colab": {
          "base_uri": "https://localhost:8080/"
        },
        "id": "HNMdHYF2C0J0",
        "outputId": "0842c3f7-4f79-44f0-cbed-354721613559"
      },
      "execution_count": null,
      "outputs": [
        {
          "output_type": "execute_result",
          "data": {
            "text/plain": [
              "[4, 5, 6, 7]"
            ]
          },
          "metadata": {},
          "execution_count": 56
        }
      ]
    },
    {
      "cell_type": "code",
      "source": [
        "L[3:]"
      ],
      "metadata": {
        "colab": {
          "base_uri": "https://localhost:8080/"
        },
        "id": "KwKl1XYrC9Z8",
        "outputId": "89d71f31-a212-4a59-b544-5033f2abf94c"
      },
      "execution_count": null,
      "outputs": [
        {
          "output_type": "execute_result",
          "data": {
            "text/plain": [
              "[5, 6, 7]"
            ]
          },
          "metadata": {},
          "execution_count": 57
        }
      ]
    },
    {
      "cell_type": "code",
      "source": [
        "L[4:]"
      ],
      "metadata": {
        "colab": {
          "base_uri": "https://localhost:8080/"
        },
        "id": "_xrDAbhRDAH4",
        "outputId": "076f2316-5306-42dc-8e6f-16e214565ff9"
      },
      "execution_count": null,
      "outputs": [
        {
          "output_type": "execute_result",
          "data": {
            "text/plain": [
              "[6, 7]"
            ]
          },
          "metadata": {},
          "execution_count": 58
        }
      ]
    },
    {
      "cell_type": "code",
      "source": [
        "L[2:5]"
      ],
      "metadata": {
        "colab": {
          "base_uri": "https://localhost:8080/"
        },
        "id": "rUPQu5l6DESZ",
        "outputId": "24f78eb2-daf6-4cf7-f716-b5655225a4ca"
      },
      "execution_count": null,
      "outputs": [
        {
          "output_type": "execute_result",
          "data": {
            "text/plain": [
              "[4, 5, 6]"
            ]
          },
          "metadata": {},
          "execution_count": 59
        }
      ]
    },
    {
      "cell_type": "code",
      "source": [
        "L"
      ],
      "metadata": {
        "colab": {
          "base_uri": "https://localhost:8080/"
        },
        "id": "kPhhkkv1DKe5",
        "outputId": "163188c5-e82c-43a0-c0fe-387b7bc4441d"
      },
      "execution_count": null,
      "outputs": [
        {
          "output_type": "execute_result",
          "data": {
            "text/plain": [
              "[2, 3, 4, 5, 6, 7]"
            ]
          },
          "metadata": {},
          "execution_count": 60
        }
      ]
    },
    {
      "cell_type": "code",
      "source": [
        "L[1:3]"
      ],
      "metadata": {
        "colab": {
          "base_uri": "https://localhost:8080/"
        },
        "id": "9xV21bNhDURM",
        "outputId": "62620804-58bc-48e7-9d70-93d7f4821cf4"
      },
      "execution_count": null,
      "outputs": [
        {
          "output_type": "execute_result",
          "data": {
            "text/plain": [
              "[3, 4]"
            ]
          },
          "metadata": {},
          "execution_count": 61
        }
      ]
    },
    {
      "cell_type": "code",
      "source": [
        "L[1:5]"
      ],
      "metadata": {
        "colab": {
          "base_uri": "https://localhost:8080/"
        },
        "id": "bEQQdkNxDYla",
        "outputId": "dec34124-2082-4193-f1bd-f0b5052a8f81"
      },
      "execution_count": null,
      "outputs": [
        {
          "output_type": "execute_result",
          "data": {
            "text/plain": [
              "[3, 4, 5, 6]"
            ]
          },
          "metadata": {},
          "execution_count": 62
        }
      ]
    },
    {
      "cell_type": "code",
      "source": [
        "L[::2]"
      ],
      "metadata": {
        "colab": {
          "base_uri": "https://localhost:8080/"
        },
        "id": "jd1ZlaVNDcMk",
        "outputId": "fe9f2c96-ec27-4ab9-d7e6-5ed82a7c71e3"
      },
      "execution_count": null,
      "outputs": [
        {
          "output_type": "execute_result",
          "data": {
            "text/plain": [
              "[2, 4, 6]"
            ]
          },
          "metadata": {},
          "execution_count": 63
        }
      ]
    },
    {
      "cell_type": "code",
      "source": [
        "L[::3]"
      ],
      "metadata": {
        "colab": {
          "base_uri": "https://localhost:8080/"
        },
        "id": "yhrOGqyiDg40",
        "outputId": "3ea9fb2f-44a0-4dbd-8bcc-36ba5ab77fa5"
      },
      "execution_count": null,
      "outputs": [
        {
          "output_type": "execute_result",
          "data": {
            "text/plain": [
              "[2, 5]"
            ]
          },
          "metadata": {},
          "execution_count": 64
        }
      ]
    },
    {
      "cell_type": "code",
      "source": [
        "L=[[3,4],[5,6,7],[5,8]]\n",
        "L"
      ],
      "metadata": {
        "colab": {
          "base_uri": "https://localhost:8080/"
        },
        "id": "6zcYQ6PhDuU3",
        "outputId": "b9e4c96c-6cc9-431b-ab6c-6c878dc31b62"
      },
      "execution_count": null,
      "outputs": [
        {
          "output_type": "execute_result",
          "data": {
            "text/plain": [
              "[[3, 4], [5, 6, 7], [5, 8]]"
            ]
          },
          "metadata": {},
          "execution_count": 66
        }
      ]
    },
    {
      "cell_type": "code",
      "source": [
        "L[0]"
      ],
      "metadata": {
        "colab": {
          "base_uri": "https://localhost:8080/"
        },
        "id": "81jrqjnuD6i_",
        "outputId": "360256cf-a0c5-4baa-ea62-2c3256539e8e"
      },
      "execution_count": null,
      "outputs": [
        {
          "output_type": "execute_result",
          "data": {
            "text/plain": [
              "[3, 4]"
            ]
          },
          "metadata": {},
          "execution_count": 67
        }
      ]
    },
    {
      "cell_type": "code",
      "source": [
        "L[-1]"
      ],
      "metadata": {
        "colab": {
          "base_uri": "https://localhost:8080/"
        },
        "id": "NnIb0rz1D9dL",
        "outputId": "0a0afa57-e6fc-476b-9ed5-f5f9bc20ffdd"
      },
      "execution_count": null,
      "outputs": [
        {
          "output_type": "execute_result",
          "data": {
            "text/plain": [
              "[5, 8]"
            ]
          },
          "metadata": {},
          "execution_count": 68
        }
      ]
    },
    {
      "cell_type": "code",
      "source": [
        "L[1][1]"
      ],
      "metadata": {
        "colab": {
          "base_uri": "https://localhost:8080/"
        },
        "id": "XxYJ3R_pEAhI",
        "outputId": "104ac06f-5e16-4383-999d-941433f456bf"
      },
      "execution_count": null,
      "outputs": [
        {
          "output_type": "execute_result",
          "data": {
            "text/plain": [
              "6"
            ]
          },
          "metadata": {},
          "execution_count": 70
        }
      ]
    },
    {
      "cell_type": "code",
      "source": [
        "L[1][2]"
      ],
      "metadata": {
        "colab": {
          "base_uri": "https://localhost:8080/"
        },
        "id": "lzKVUp9JEIG9",
        "outputId": "5017da67-19e0-4044-bbb3-70fb3f32b28a"
      },
      "execution_count": null,
      "outputs": [
        {
          "output_type": "execute_result",
          "data": {
            "text/plain": [
              "7"
            ]
          },
          "metadata": {},
          "execution_count": 71
        }
      ]
    },
    {
      "cell_type": "code",
      "source": [
        "Lis=[2,3,4,5,6,2]"
      ],
      "metadata": {
        "id": "b9zd4jUOEQUr"
      },
      "execution_count": null,
      "outputs": []
    },
    {
      "cell_type": "code",
      "source": [
        "sum(Lis)"
      ],
      "metadata": {
        "colab": {
          "base_uri": "https://localhost:8080/"
        },
        "id": "JwFvRQwYEcIM",
        "outputId": "c388f0eb-5eaa-45b2-fea1-87621269c962"
      },
      "execution_count": null,
      "outputs": [
        {
          "output_type": "execute_result",
          "data": {
            "text/plain": [
              "42"
            ]
          },
          "metadata": {},
          "execution_count": 82
        }
      ]
    },
    {
      "cell_type": "code",
      "source": [
        "Lis.append(20)\n",
        "Lis"
      ],
      "metadata": {
        "colab": {
          "base_uri": "https://localhost:8080/"
        },
        "id": "Nj1n4Xs0EgyG",
        "outputId": "4d1c3916-1454-4511-ef32-2022ae0d7cc4"
      },
      "execution_count": null,
      "outputs": [
        {
          "output_type": "execute_result",
          "data": {
            "text/plain": [
              "[2, 3, 4, 5, 6, 2, 20, 20]"
            ]
          },
          "metadata": {},
          "execution_count": 83
        }
      ]
    },
    {
      "cell_type": "code",
      "source": [
        "Lis.insert(3,100)\n",
        "Lis"
      ],
      "metadata": {
        "colab": {
          "base_uri": "https://localhost:8080/"
        },
        "id": "SlukagUeEmbq",
        "outputId": "7dfb41fa-049c-4472-b6ee-7c418c758213"
      },
      "execution_count": null,
      "outputs": [
        {
          "output_type": "execute_result",
          "data": {
            "text/plain": [
              "[2, 3, 4, 100, 5, 6, 2, 20, 20]"
            ]
          },
          "metadata": {},
          "execution_count": 84
        }
      ]
    },
    {
      "cell_type": "code",
      "source": [
        "Lis.count(2)"
      ],
      "metadata": {
        "colab": {
          "base_uri": "https://localhost:8080/"
        },
        "id": "1nTVwC56Etko",
        "outputId": "e8c217f1-62f0-4a2f-c814-ff09a8971f42"
      },
      "execution_count": null,
      "outputs": [
        {
          "output_type": "execute_result",
          "data": {
            "text/plain": [
              "2"
            ]
          },
          "metadata": {},
          "execution_count": 85
        }
      ]
    },
    {
      "cell_type": "code",
      "source": [
        "Lis.remove(100)\n",
        "Lis"
      ],
      "metadata": {
        "colab": {
          "base_uri": "https://localhost:8080/"
        },
        "id": "cyDxCBmVE0sL",
        "outputId": "f12e2efa-371f-44af-bf78-faf1d2bf4081"
      },
      "execution_count": null,
      "outputs": [
        {
          "output_type": "execute_result",
          "data": {
            "text/plain": [
              "[2, 3, 4, 5, 6, 2, 20, 20]"
            ]
          },
          "metadata": {},
          "execution_count": 86
        }
      ]
    },
    {
      "cell_type": "code",
      "source": [
        "Lis.sort()"
      ],
      "metadata": {
        "id": "nsf3c-QEE9pk"
      },
      "execution_count": null,
      "outputs": []
    },
    {
      "cell_type": "code",
      "source": [
        "Lis"
      ],
      "metadata": {
        "colab": {
          "base_uri": "https://localhost:8080/"
        },
        "id": "i_xGz2PzFLoo",
        "outputId": "73280049-b691-4461-a8c0-cdada5b6529f"
      },
      "execution_count": null,
      "outputs": [
        {
          "output_type": "execute_result",
          "data": {
            "text/plain": [
              "[2, 2, 3, 4, 5, 6, 20, 20]"
            ]
          },
          "metadata": {},
          "execution_count": 88
        }
      ]
    },
    {
      "cell_type": "code",
      "source": [
        "Lis.reverse()\n",
        "Lis"
      ],
      "metadata": {
        "colab": {
          "base_uri": "https://localhost:8080/"
        },
        "id": "x1jScf6hFNfq",
        "outputId": "96ddd58d-6c51-4205-afc7-a8e16d9d98b2"
      },
      "execution_count": null,
      "outputs": [
        {
          "output_type": "execute_result",
          "data": {
            "text/plain": [
              "[20, 20, 6, 5, 4, 3, 2, 2]"
            ]
          },
          "metadata": {},
          "execution_count": 89
        }
      ]
    },
    {
      "cell_type": "code",
      "source": [
        "Lis.clear()\n",
        "Lis"
      ],
      "metadata": {
        "colab": {
          "base_uri": "https://localhost:8080/"
        },
        "id": "kCqQTIWoFTuY",
        "outputId": "20fc8539-e601-4e26-a4b9-89c545ba1046"
      },
      "execution_count": null,
      "outputs": [
        {
          "output_type": "execute_result",
          "data": {
            "text/plain": [
              "[]"
            ]
          },
          "metadata": {},
          "execution_count": 90
        }
      ]
    },
    {
      "cell_type": "code",
      "source": [
        "L=[2,3,4,2.3,4+5j,\"Tania\",\"Pedro\"]\n",
        "L"
      ],
      "metadata": {
        "colab": {
          "base_uri": "https://localhost:8080/"
        },
        "id": "ndQgqc5kFapC",
        "outputId": "df11f6a2-77fc-4472-eb47-a80d188eb204"
      },
      "execution_count": null,
      "outputs": [
        {
          "output_type": "execute_result",
          "data": {
            "text/plain": [
              "[2, 3, 4, 2.3, (4+5j), 'Tania', 'Pedro']"
            ]
          },
          "metadata": {},
          "execution_count": 91
        }
      ]
    },
    {
      "cell_type": "code",
      "source": [
        "#Ejemplo: Programa que suma los datos pares en la lista\n",
        "def sumar(L):\n",
        "    s=0\n",
        "    for ele in L:\n",
        "        if ele%2==0:\n",
        "            s=s+ele\n",
        "    return s\n",
        "\n",
        "L=[2,3,4,5,6,7,8,9,10]\n",
        "print(sumar(L))\n"
      ],
      "metadata": {
        "colab": {
          "base_uri": "https://localhost:8080/"
        },
        "id": "VwB-Xt-bFs8U",
        "outputId": "e78ef87a-6ed9-4add-957a-150c80543688"
      },
      "execution_count": null,
      "outputs": [
        {
          "output_type": "stream",
          "name": "stdout",
          "text": [
            "30\n"
          ]
        }
      ]
    },
    {
      "cell_type": "code",
      "source": [
        "id(L)"
      ],
      "metadata": {
        "colab": {
          "base_uri": "https://localhost:8080/"
        },
        "id": "kFpl4YfIGiuQ",
        "outputId": "3e52aff9-a320-4b40-8163-1de2ef488be1"
      },
      "execution_count": null,
      "outputs": [
        {
          "output_type": "execute_result",
          "data": {
            "text/plain": [
              "140048330960000"
            ]
          },
          "metadata": {},
          "execution_count": 93
        }
      ]
    },
    {
      "cell_type": "markdown",
      "source": [
        "# Estructura de datos Pandas"
      ],
      "metadata": {
        "id": "QSL9wJM3eC9S"
      }
    }
  ]
}