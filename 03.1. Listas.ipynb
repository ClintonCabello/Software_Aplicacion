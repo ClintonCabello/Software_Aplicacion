{
  "nbformat": 4,
  "nbformat_minor": 0,
  "metadata": {
    "colab": {
      "provenance": [],
      "collapsed_sections": [
        "JW7DTZ29Ktx2",
        "BfF2ghddM1b1",
        "EMTORNEGRGK5",
        "QT6GPIADvefb"
      ]
    },
    "kernelspec": {
      "name": "python3",
      "display_name": "Python 3"
    },
    "language_info": {
      "name": "python"
    }
  },
  "cells": [
    {
      "cell_type": "markdown",
      "metadata": {
        "id": "HFp4K2976gbG"
      },
      "source": [
        "# ESTRUCTURA DE DATOS\n",
        "\n",
        "* ESTRUCTURA LISTA\n",
        "\n",
        "  La lista es una estructura de datos, En Python una lista es objeto que hace referencia a datos en la memoria del computador."
      ]
    },
    {
      "cell_type": "markdown",
      "metadata": {
        "id": "A2Lw3jfT9bER"
      },
      "source": [
        "a) Definición de una lista"
      ]
    },
    {
      "cell_type": "code",
      "metadata": {
        "colab": {
          "base_uri": "https://localhost:8080/"
        },
        "id": "LycCI3sR3uP1",
        "outputId": "7c6cc1cd-21df-4998-ef64-4ab486d07c02"
      },
      "source": [
        "# Creando una lista\n",
        "\n",
        "Lista=[2,3,4,5,'hola',7,8,30.8]\n",
        "Lista"
      ],
      "execution_count": null,
      "outputs": [
        {
          "output_type": "execute_result",
          "data": {
            "text/plain": [
              "[2, 3, 4, 5, 'hola', 7, 8, 30.8]"
            ]
          },
          "metadata": {},
          "execution_count": 1
        }
      ]
    },
    {
      "cell_type": "code",
      "metadata": {
        "colab": {
          "base_uri": "https://localhost:8080/"
        },
        "id": "jYHRYzRP7YBp",
        "outputId": "e06d64fa-0d73-4a3a-d183-07379187c0f0"
      },
      "source": [
        "Lis=[3,7,5,9,0,-12]\n",
        "Lis"
      ],
      "execution_count": null,
      "outputs": [
        {
          "output_type": "execute_result",
          "data": {
            "text/plain": [
              "[3, 7, 5, 9, 0, -12]"
            ]
          },
          "metadata": {},
          "execution_count": 2
        }
      ]
    },
    {
      "cell_type": "markdown",
      "metadata": {
        "id": "nz01iC4P9ymh"
      },
      "source": [
        "b) Devuelve elementos de una lista"
      ]
    },
    {
      "cell_type": "code",
      "metadata": {
        "colab": {
          "base_uri": "https://localhost:8080/"
        },
        "id": "DsXQn_Kn97GO",
        "outputId": "aa5d4019-fbfc-426b-a872-6de9645dbbee"
      },
      "source": [
        "L=[2,3,4,5,1,6,5,7,4,8,7,9,12,14]\n",
        "L"
      ],
      "execution_count": null,
      "outputs": [
        {
          "output_type": "execute_result",
          "data": {
            "text/plain": [
              "[2, 3, 4, 5, 1, 6, 5, 7, 4, 8, 7, 9, 12, 14]"
            ]
          },
          "metadata": {},
          "execution_count": 3
        }
      ]
    },
    {
      "cell_type": "code",
      "metadata": {
        "colab": {
          "base_uri": "https://localhost:8080/"
        },
        "id": "Yz4pYjmx-Na6",
        "outputId": "bb052cdd-40c0-46d9-f938-3ea8e1331fe0"
      },
      "source": [
        "# Devuelve el primer elemento de la lista L\n",
        "L[0]"
      ],
      "execution_count": null,
      "outputs": [
        {
          "output_type": "execute_result",
          "data": {
            "text/plain": [
              "2"
            ]
          },
          "metadata": {},
          "execution_count": 4
        }
      ]
    },
    {
      "cell_type": "code",
      "metadata": {
        "colab": {
          "base_uri": "https://localhost:8080/"
        },
        "id": "NajIYxNS-l_W",
        "outputId": "e42d747e-a7c1-4cb3-d609-f62fe6578ae7"
      },
      "source": [
        "# Devuelve el segundo elemeto de la lista\n",
        "L[1]"
      ],
      "execution_count": null,
      "outputs": [
        {
          "output_type": "execute_result",
          "data": {
            "text/plain": [
              "3"
            ]
          },
          "metadata": {},
          "execution_count": 5
        }
      ]
    },
    {
      "cell_type": "code",
      "metadata": {
        "colab": {
          "base_uri": "https://localhost:8080/"
        },
        "id": "G5Aw4wKV-uNJ",
        "outputId": "32ba1463-620a-49ab-c20a-5f8e5d324612"
      },
      "source": [
        "# Devuelve 8 de la lista\n",
        "L[9]"
      ],
      "execution_count": null,
      "outputs": [
        {
          "output_type": "execute_result",
          "data": {
            "text/plain": [
              "8"
            ]
          },
          "metadata": {},
          "execution_count": 6
        }
      ]
    },
    {
      "cell_type": "code",
      "metadata": {
        "colab": {
          "base_uri": "https://localhost:8080/"
        },
        "id": "LY0ThBHu-8xd",
        "outputId": "385c97b8-8606-4045-f072-47109f9694c1"
      },
      "source": [
        "#Devuelve el ultimo de la lista\n",
        "L[13]"
      ],
      "execution_count": null,
      "outputs": [
        {
          "output_type": "execute_result",
          "data": {
            "text/plain": [
              "14"
            ]
          },
          "metadata": {},
          "execution_count": 7
        }
      ]
    },
    {
      "cell_type": "code",
      "metadata": {
        "colab": {
          "base_uri": "https://localhost:8080/"
        },
        "id": "lPThbZ4q_Mq9",
        "outputId": "614090aa-b3a8-48d3-dd25-6f6208a02dfc"
      },
      "source": [
        "# Devuelve el ultimo elemento de lista\n",
        "L[-1]"
      ],
      "execution_count": null,
      "outputs": [
        {
          "output_type": "execute_result",
          "data": {
            "text/plain": [
              "14"
            ]
          },
          "metadata": {},
          "execution_count": 8
        }
      ]
    },
    {
      "cell_type": "code",
      "metadata": {
        "colab": {
          "base_uri": "https://localhost:8080/"
        },
        "id": "Gj9QghTY_eBV",
        "outputId": "1a31565c-5f02-4b6b-d695-82f66f5675ac"
      },
      "source": [
        "# Devuelve el penultimo elemento de la lista\n",
        "L[-2]"
      ],
      "execution_count": null,
      "outputs": [
        {
          "output_type": "execute_result",
          "data": {
            "text/plain": [
              "12"
            ]
          },
          "metadata": {},
          "execution_count": 9
        }
      ]
    },
    {
      "cell_type": "code",
      "metadata": {
        "colab": {
          "base_uri": "https://localhost:8080/"
        },
        "id": "xnapORVY_pmz",
        "outputId": "c35ad3cd-b508-4d5a-adef-73da462962ac"
      },
      "source": [
        "L=[2,3,4,5,1,6,5,7,4,8,7,9,12,14]\n",
        "L"
      ],
      "execution_count": null,
      "outputs": [
        {
          "output_type": "execute_result",
          "data": {
            "text/plain": [
              "[2, 3, 4, 5, 1, 6, 5, 7, 4, 8, 7, 9, 12, 14]"
            ]
          },
          "metadata": {},
          "execution_count": 10
        }
      ]
    },
    {
      "cell_type": "markdown",
      "metadata": {
        "id": "ewdCiiDPB1o3"
      },
      "source": [
        "c) Devuelve una sub lista de la lista principal"
      ]
    },
    {
      "cell_type": "code",
      "metadata": {
        "colab": {
          "base_uri": "https://localhost:8080/"
        },
        "id": "xqZ3oHURBzjk",
        "outputId": "30d4489c-f4c8-408c-8e3b-6c507d4953b8"
      },
      "source": [
        "# Corte a la izquierda\n",
        "# Devuelve los elementos desde primero hasta 1 indice(8)\n",
        "L[:9]\n"
      ],
      "execution_count": null,
      "outputs": [
        {
          "output_type": "execute_result",
          "data": {
            "text/plain": [
              "[2, 3, 4, 5, 1, 6, 5, 7, 4]"
            ]
          },
          "metadata": {},
          "execution_count": 11
        }
      ]
    },
    {
      "cell_type": "code",
      "metadata": {
        "colab": {
          "base_uri": "https://localhost:8080/"
        },
        "id": "6f-VYL5tDCGM",
        "outputId": "f76dfe20-f3e0-40e1-cd9d-3e3382388952"
      },
      "source": [
        "L[:3]"
      ],
      "execution_count": null,
      "outputs": [
        {
          "output_type": "execute_result",
          "data": {
            "text/plain": [
              "[2, 3, 4]"
            ]
          },
          "metadata": {},
          "execution_count": 12
        }
      ]
    },
    {
      "cell_type": "code",
      "metadata": {
        "colab": {
          "base_uri": "https://localhost:8080/"
        },
        "id": "YxVz94XaDbRa",
        "outputId": "591cdd50-d88b-4858-abd2-b26613fd55e1"
      },
      "source": [
        "L[:-1]"
      ],
      "execution_count": null,
      "outputs": [
        {
          "output_type": "execute_result",
          "data": {
            "text/plain": [
              "[2, 3, 4, 5, 1, 6, 5, 7, 4, 8, 7, 9, 12]"
            ]
          },
          "metadata": {},
          "execution_count": 13
        }
      ]
    },
    {
      "cell_type": "code",
      "metadata": {
        "colab": {
          "base_uri": "https://localhost:8080/"
        },
        "id": "pLvSYyjsDrBB",
        "outputId": "dbf8d2cd-13cc-4832-b13d-a5494b54bfb3"
      },
      "source": [
        "L"
      ],
      "execution_count": null,
      "outputs": [
        {
          "output_type": "execute_result",
          "data": {
            "text/plain": [
              "[2, 3, 4, 5, 1, 6, 5, 7, 4, 8, 7, 9, 12, 14]"
            ]
          },
          "metadata": {},
          "execution_count": 14
        }
      ]
    },
    {
      "cell_type": "code",
      "metadata": {
        "colab": {
          "base_uri": "https://localhost:8080/"
        },
        "id": "db8yaUoaD89n",
        "outputId": "5e94d89d-04a3-4405-8257-1203aabb3bcf"
      },
      "source": [
        "L[:-2]"
      ],
      "execution_count": null,
      "outputs": [
        {
          "output_type": "execute_result",
          "data": {
            "text/plain": [
              "[2, 3, 4, 5, 1, 6, 5, 7, 4, 8, 7, 9]"
            ]
          },
          "metadata": {},
          "execution_count": 15
        }
      ]
    },
    {
      "cell_type": "code",
      "metadata": {
        "colab": {
          "base_uri": "https://localhost:8080/"
        },
        "id": "Z4Al6CpQEPH9",
        "outputId": "665c588a-1ceb-4d32-8463-7496f14acfd7"
      },
      "source": [
        "L[:-6]"
      ],
      "execution_count": null,
      "outputs": [
        {
          "output_type": "execute_result",
          "data": {
            "text/plain": [
              "[2, 3, 4, 5, 1, 6, 5, 7]"
            ]
          },
          "metadata": {},
          "execution_count": 16
        }
      ]
    },
    {
      "cell_type": "code",
      "metadata": {
        "colab": {
          "base_uri": "https://localhost:8080/"
        },
        "id": "roMaxeTIEcZc",
        "outputId": "1300f3f5-5f46-4cd2-a3a4-37d2cc6b954d"
      },
      "source": [
        "L[:8]"
      ],
      "execution_count": null,
      "outputs": [
        {
          "output_type": "execute_result",
          "data": {
            "text/plain": [
              "[2, 3, 4, 5, 1, 6, 5, 7]"
            ]
          },
          "metadata": {},
          "execution_count": 17
        }
      ]
    },
    {
      "cell_type": "code",
      "metadata": {
        "colab": {
          "base_uri": "https://localhost:8080/"
        },
        "id": "I44B1JABFZ1V",
        "outputId": "a86baef5-31f9-4c3d-f7eb-811915bcbb8f"
      },
      "source": [
        "L"
      ],
      "execution_count": null,
      "outputs": [
        {
          "output_type": "execute_result",
          "data": {
            "text/plain": [
              "[2, 3, 4, 5, 1, 6, 5, 7, 4, 8, 7, 9, 12, 14]"
            ]
          },
          "metadata": {},
          "execution_count": 18
        }
      ]
    },
    {
      "cell_type": "code",
      "metadata": {
        "colab": {
          "base_uri": "https://localhost:8080/"
        },
        "id": "FyG1yYS7EhdH",
        "outputId": "d611d126-38ec-41fa-dd88-7157361c632b"
      },
      "source": [
        "# Corte a la derecha\n",
        "# desde el indice 6 mayores e iguales hasta el ultimo\n",
        "L[6:]"
      ],
      "execution_count": null,
      "outputs": [
        {
          "output_type": "execute_result",
          "data": {
            "text/plain": [
              "[5, 7, 4, 8, 7, 9, 12, 14]"
            ]
          },
          "metadata": {},
          "execution_count": 19
        }
      ]
    },
    {
      "cell_type": "code",
      "metadata": {
        "colab": {
          "base_uri": "https://localhost:8080/"
        },
        "id": "xY-6kQfoFjN3",
        "outputId": "f88b040e-125e-4515-d6de-2b0be29e440b"
      },
      "source": [
        "L[10:]"
      ],
      "execution_count": null,
      "outputs": [
        {
          "output_type": "execute_result",
          "data": {
            "text/plain": [
              "[7, 9, 12, 14]"
            ]
          },
          "metadata": {},
          "execution_count": 20
        }
      ]
    },
    {
      "cell_type": "code",
      "metadata": {
        "colab": {
          "base_uri": "https://localhost:8080/"
        },
        "id": "Qp6biSnHFuNY",
        "outputId": "fa69f3c2-0fba-49df-c850-7b03a3df8063"
      },
      "source": [
        "L[7:]"
      ],
      "execution_count": null,
      "outputs": [
        {
          "output_type": "execute_result",
          "data": {
            "text/plain": [
              "[7, 4, 8, 7, 9, 12, 14]"
            ]
          },
          "metadata": {},
          "execution_count": 21
        }
      ]
    },
    {
      "cell_type": "code",
      "metadata": {
        "colab": {
          "base_uri": "https://localhost:8080/"
        },
        "id": "WLAMi7EwF5VH",
        "outputId": "c0400731-ce19-43ba-8966-12803bb1e16d"
      },
      "source": [
        "L[::]"
      ],
      "execution_count": null,
      "outputs": [
        {
          "output_type": "execute_result",
          "data": {
            "text/plain": [
              "[2, 3, 4, 5, 1, 6, 5, 7, 4, 8, 7, 9, 12, 14]"
            ]
          },
          "metadata": {},
          "execution_count": 22
        }
      ]
    },
    {
      "cell_type": "code",
      "metadata": {
        "colab": {
          "base_uri": "https://localhost:8080/"
        },
        "id": "elVB1oxHGDjb",
        "outputId": "bad0d239-2068-4068-ba3a-2ccae69f3ee5"
      },
      "source": [
        "L[12:]"
      ],
      "execution_count": null,
      "outputs": [
        {
          "output_type": "execute_result",
          "data": {
            "text/plain": [
              "[12, 14]"
            ]
          },
          "metadata": {},
          "execution_count": 23
        }
      ]
    },
    {
      "cell_type": "code",
      "metadata": {
        "colab": {
          "base_uri": "https://localhost:8080/"
        },
        "id": "uGm9PyfWGLjA",
        "outputId": "8561ba3a-48e4-4946-a172-a74c4f7827be"
      },
      "source": [
        "L[-2:]"
      ],
      "execution_count": null,
      "outputs": [
        {
          "output_type": "execute_result",
          "data": {
            "text/plain": [
              "[12, 14]"
            ]
          },
          "metadata": {},
          "execution_count": 24
        }
      ]
    },
    {
      "cell_type": "code",
      "metadata": {
        "colab": {
          "base_uri": "https://localhost:8080/"
        },
        "id": "SoRctCYeGuIw",
        "outputId": "0064a66c-1d6a-4904-bc86-918820623b0c"
      },
      "source": [
        "L"
      ],
      "execution_count": null,
      "outputs": [
        {
          "output_type": "execute_result",
          "data": {
            "text/plain": [
              "[2, 3, 4, 5, 1, 6, 5, 7, 4, 8, 7, 9, 12, 14]"
            ]
          },
          "metadata": {},
          "execution_count": 25
        }
      ]
    },
    {
      "cell_type": "code",
      "metadata": {
        "colab": {
          "base_uri": "https://localhost:8080/"
        },
        "id": "8JH9O1MVGO2g",
        "outputId": "1b099f3b-7a99-4eb7-ec71-ae825df6e110"
      },
      "source": [
        "# Corte en el intermedio\n",
        "# Devuelve elementos desde el indice 2 hasta el indice 7\n",
        "L[2:8]\n"
      ],
      "execution_count": null,
      "outputs": [
        {
          "output_type": "execute_result",
          "data": {
            "text/plain": [
              "[4, 5, 1, 6, 5, 7]"
            ]
          },
          "metadata": {},
          "execution_count": 26
        }
      ]
    },
    {
      "cell_type": "code",
      "metadata": {
        "colab": {
          "base_uri": "https://localhost:8080/"
        },
        "id": "oQWaNM1mHHg8",
        "outputId": "2842ae0e-b3cd-4a97-c510-faccda54b35f"
      },
      "source": [
        "L[1:5]"
      ],
      "execution_count": null,
      "outputs": [
        {
          "output_type": "execute_result",
          "data": {
            "text/plain": [
              "[3, 4, 5, 1]"
            ]
          },
          "metadata": {},
          "execution_count": 27
        }
      ]
    },
    {
      "cell_type": "code",
      "metadata": {
        "colab": {
          "base_uri": "https://localhost:8080/"
        },
        "id": "UW4v4GWOHP0R",
        "outputId": "e421abf1-ff94-45ea-d14a-ca2a65247b96"
      },
      "source": [
        "L[5:10]"
      ],
      "execution_count": null,
      "outputs": [
        {
          "output_type": "execute_result",
          "data": {
            "text/plain": [
              "[6, 5, 7, 4, 8]"
            ]
          },
          "metadata": {},
          "execution_count": 28
        }
      ]
    },
    {
      "cell_type": "code",
      "metadata": {
        "colab": {
          "base_uri": "https://localhost:8080/"
        },
        "id": "9YnP74ndHdmz",
        "outputId": "748448b0-7772-43aa-bc0e-0d9e13c5ba64"
      },
      "source": [
        "L"
      ],
      "execution_count": null,
      "outputs": [
        {
          "output_type": "execute_result",
          "data": {
            "text/plain": [
              "[2, 3, 4, 5, 1, 6, 5, 7, 4, 8, 7, 9, 12, 14]"
            ]
          },
          "metadata": {},
          "execution_count": 29
        }
      ]
    },
    {
      "cell_type": "code",
      "metadata": {
        "colab": {
          "base_uri": "https://localhost:8080/"
        },
        "id": "fmbJ3lMIHfpo",
        "outputId": "ee4a78c5-d732-43fe-d003-38b6ddddca4c"
      },
      "source": [
        "L[7:11]         # 7,4,8,7"
      ],
      "execution_count": null,
      "outputs": [
        {
          "output_type": "execute_result",
          "data": {
            "text/plain": [
              "[7, 4, 8, 7]"
            ]
          },
          "metadata": {},
          "execution_count": 30
        }
      ]
    },
    {
      "cell_type": "code",
      "metadata": {
        "colab": {
          "base_uri": "https://localhost:8080/"
        },
        "id": "FOX2w4_rHs4n",
        "outputId": "cf34085e-2fdb-47c9-b674-08d8e0920ca4"
      },
      "source": [
        "L[1:4]              #  3,4,5"
      ],
      "execution_count": null,
      "outputs": [
        {
          "output_type": "execute_result",
          "data": {
            "text/plain": [
              "[3, 4, 5]"
            ]
          },
          "metadata": {},
          "execution_count": 31
        }
      ]
    },
    {
      "cell_type": "code",
      "metadata": {
        "colab": {
          "base_uri": "https://localhost:8080/"
        },
        "id": "YwDPhkD1IAx8",
        "outputId": "79ef7a1f-6583-466f-c95c-db98d3d829e3"
      },
      "source": [
        "L[3:6]   # 5, 1, 6"
      ],
      "execution_count": null,
      "outputs": [
        {
          "output_type": "execute_result",
          "data": {
            "text/plain": [
              "[5, 1, 6]"
            ]
          },
          "metadata": {},
          "execution_count": 32
        }
      ]
    },
    {
      "cell_type": "code",
      "metadata": {
        "colab": {
          "base_uri": "https://localhost:8080/"
        },
        "id": "1A8BWnfZIOaK",
        "outputId": "043ef369-d1d9-4d3e-e15e-14f74b058e23"
      },
      "source": [
        "L[10:14]"
      ],
      "execution_count": null,
      "outputs": [
        {
          "output_type": "execute_result",
          "data": {
            "text/plain": [
              "[7, 9, 12, 14]"
            ]
          },
          "metadata": {},
          "execution_count": 33
        }
      ]
    },
    {
      "cell_type": "code",
      "metadata": {
        "colab": {
          "base_uri": "https://localhost:8080/"
        },
        "id": "UYUFJivuIhxN",
        "outputId": "7603b68a-3178-41b8-9ee8-80e2791b5da4"
      },
      "source": [
        "# Devuelve los indices pares menores que el indice 7\n",
        "L[:7:2]"
      ],
      "execution_count": null,
      "outputs": [
        {
          "output_type": "execute_result",
          "data": {
            "text/plain": [
              "[2, 4, 1, 5]"
            ]
          },
          "metadata": {},
          "execution_count": 34
        }
      ]
    },
    {
      "cell_type": "code",
      "metadata": {
        "colab": {
          "base_uri": "https://localhost:8080/"
        },
        "id": "OYKSuNT6JBZV",
        "outputId": "bdf89230-0f31-4544-84f1-71f5685899da"
      },
      "source": [
        "L[:14:2]"
      ],
      "execution_count": null,
      "outputs": [
        {
          "output_type": "execute_result",
          "data": {
            "text/plain": [
              "[2, 4, 1, 5, 4, 7, 12]"
            ]
          },
          "metadata": {},
          "execution_count": 35
        }
      ]
    },
    {
      "cell_type": "code",
      "metadata": {
        "colab": {
          "base_uri": "https://localhost:8080/"
        },
        "id": "tkgvlRx0JQaE",
        "outputId": "a5e720ce-5b52-427c-92d6-84a22de1cbc1"
      },
      "source": [
        "L[::2]"
      ],
      "execution_count": null,
      "outputs": [
        {
          "output_type": "execute_result",
          "data": {
            "text/plain": [
              "[2, 4, 1, 5, 4, 7, 12]"
            ]
          },
          "metadata": {},
          "execution_count": 36
        }
      ]
    },
    {
      "cell_type": "code",
      "source": [
        "L"
      ],
      "metadata": {
        "colab": {
          "base_uri": "https://localhost:8080/"
        },
        "id": "HxaYMnf3lzPf",
        "outputId": "9ee4ded9-1401-471c-c450-2821b509047c"
      },
      "execution_count": null,
      "outputs": [
        {
          "output_type": "execute_result",
          "data": {
            "text/plain": [
              "[2, 3, 4, 5, 1, 6, 5, 7, 4, 8, 7, 9, 12, 14]"
            ]
          },
          "metadata": {},
          "execution_count": 41
        }
      ]
    },
    {
      "cell_type": "code",
      "metadata": {
        "colab": {
          "base_uri": "https://localhost:8080/"
        },
        "id": "hmNJzgsBJgwb",
        "outputId": "f138a178-4f92-412b-a62b-40e1b1990fdb"
      },
      "source": [
        "L[::3]"
      ],
      "execution_count": null,
      "outputs": [
        {
          "output_type": "execute_result",
          "data": {
            "text/plain": [
              "[2, 5, 5, 8, 12]"
            ]
          },
          "metadata": {},
          "execution_count": 37
        }
      ]
    },
    {
      "cell_type": "code",
      "metadata": {
        "colab": {
          "base_uri": "https://localhost:8080/"
        },
        "id": "sIy82cgaJy7G",
        "outputId": "2cc09254-322c-4f8c-b05a-16ff13b8cfee"
      },
      "source": [
        "L[::5]"
      ],
      "execution_count": null,
      "outputs": [
        {
          "output_type": "execute_result",
          "data": {
            "text/plain": [
              "[3, 4, 3, 8]"
            ]
          },
          "metadata": {},
          "execution_count": 32
        }
      ]
    },
    {
      "cell_type": "code",
      "metadata": {
        "colab": {
          "base_uri": "https://localhost:8080/"
        },
        "id": "JZI7l_sXKBCq",
        "outputId": "bedb80dc-709f-422f-cb3a-ad250300090c"
      },
      "source": [
        "L[::-1]"
      ],
      "execution_count": null,
      "outputs": [
        {
          "output_type": "execute_result",
          "data": {
            "text/plain": [
              "[14, 12, 9, 7, 8, 4, 7, 5, 6, 1, 5, 4, 3, 2]"
            ]
          },
          "metadata": {},
          "execution_count": 40
        }
      ]
    },
    {
      "cell_type": "markdown",
      "metadata": {
        "id": "JW7DTZ29Ktx2"
      },
      "source": [
        "# Estructura Lista de Listas"
      ]
    },
    {
      "cell_type": "code",
      "metadata": {
        "colab": {
          "base_uri": "https://localhost:8080/"
        },
        "id": "VN1VC32vKNW_",
        "outputId": "8ffcbacd-65ae-4f74-af51-0ae2718f10eb"
      },
      "source": [
        "# Lista de listas\n",
        "L=[ [1,2],[4,5,6],[6,7],[3],[4,2,7]]\n",
        "L"
      ],
      "execution_count": null,
      "outputs": [
        {
          "output_type": "execute_result",
          "data": {
            "text/plain": [
              "[[1, 2], [4, 5, 6], [6, 7], [3], [4, 2, 7]]"
            ]
          },
          "metadata": {},
          "execution_count": 42
        }
      ]
    },
    {
      "cell_type": "code",
      "metadata": {
        "colab": {
          "base_uri": "https://localhost:8080/"
        },
        "id": "V-l_zpdELUvE",
        "outputId": "9ff04316-ad6c-459e-9fd3-eb616f5a5714"
      },
      "source": [
        "L[0]"
      ],
      "execution_count": null,
      "outputs": [
        {
          "output_type": "execute_result",
          "data": {
            "text/plain": [
              "[1, 2]"
            ]
          },
          "metadata": {},
          "execution_count": 43
        }
      ]
    },
    {
      "cell_type": "code",
      "metadata": {
        "colab": {
          "base_uri": "https://localhost:8080/"
        },
        "id": "KJmzSUG4LUjk",
        "outputId": "4fcb2758-8a4a-4fa2-d5cb-7381b165ea8a"
      },
      "source": [
        "L[1]"
      ],
      "execution_count": null,
      "outputs": [
        {
          "output_type": "execute_result",
          "data": {
            "text/plain": [
              "[4, 5, 6]"
            ]
          },
          "metadata": {},
          "execution_count": 44
        }
      ]
    },
    {
      "cell_type": "code",
      "metadata": {
        "colab": {
          "base_uri": "https://localhost:8080/"
        },
        "id": "8mt0TqujLUX7",
        "outputId": "cb9a0271-76b4-4728-8974-be93d753ec96"
      },
      "source": [
        "L[-1]"
      ],
      "execution_count": null,
      "outputs": [
        {
          "output_type": "execute_result",
          "data": {
            "text/plain": [
              "[4, 2, 7]"
            ]
          },
          "metadata": {},
          "execution_count": 45
        }
      ]
    },
    {
      "cell_type": "code",
      "metadata": {
        "colab": {
          "base_uri": "https://localhost:8080/"
        },
        "id": "Tv1s8i7yLT2A",
        "outputId": "fb2ae5ee-3af5-421e-bcbb-7dae3a18a278"
      },
      "source": [
        "L[:4]"
      ],
      "execution_count": null,
      "outputs": [
        {
          "output_type": "execute_result",
          "data": {
            "text/plain": [
              "[[1, 2], [4, 5, 6], [6, 7], [3]]"
            ]
          },
          "metadata": {},
          "execution_count": 46
        }
      ]
    },
    {
      "cell_type": "code",
      "metadata": {
        "colab": {
          "base_uri": "https://localhost:8080/"
        },
        "id": "DozfSFNGLmhD",
        "outputId": "37bced7f-ffbf-4551-8af5-f61a009f042c"
      },
      "source": [
        "L[:-1]"
      ],
      "execution_count": null,
      "outputs": [
        {
          "output_type": "execute_result",
          "data": {
            "text/plain": [
              "[[1, 2], [4, 5, 6], [6, 7], [3]]"
            ]
          },
          "metadata": {},
          "execution_count": 47
        }
      ]
    },
    {
      "cell_type": "code",
      "metadata": {
        "colab": {
          "base_uri": "https://localhost:8080/"
        },
        "id": "7IVAoEOXLsl_",
        "outputId": "7bbed788-0a2c-4a51-990f-902130511ba3"
      },
      "source": [
        "L[2:]"
      ],
      "execution_count": null,
      "outputs": [
        {
          "output_type": "execute_result",
          "data": {
            "text/plain": [
              "[[6, 7], [3], [4, 2, 7]]"
            ]
          },
          "metadata": {},
          "execution_count": 48
        }
      ]
    },
    {
      "cell_type": "code",
      "metadata": {
        "colab": {
          "base_uri": "https://localhost:8080/"
        },
        "id": "mWi1RUZTLxpB",
        "outputId": "baf7d580-12b4-409b-e5be-1da46c6f3853"
      },
      "source": [
        "L[1:]"
      ],
      "execution_count": null,
      "outputs": [
        {
          "output_type": "execute_result",
          "data": {
            "text/plain": [
              "[[4, 5, 6], [6, 7], [3], [4, 2, 7]]"
            ]
          },
          "metadata": {},
          "execution_count": 49
        }
      ]
    },
    {
      "cell_type": "code",
      "metadata": {
        "colab": {
          "base_uri": "https://localhost:8080/"
        },
        "id": "FYZvFQH0L2H5",
        "outputId": "87081238-7434-42cf-802a-c7ea79b25f80"
      },
      "source": [
        "L[2:4]"
      ],
      "execution_count": null,
      "outputs": [
        {
          "output_type": "execute_result",
          "data": {
            "text/plain": [
              "[[6, 7], [3]]"
            ]
          },
          "metadata": {},
          "execution_count": 50
        }
      ]
    },
    {
      "cell_type": "code",
      "metadata": {
        "colab": {
          "base_uri": "https://localhost:8080/"
        },
        "id": "QgJTss3bL52n",
        "outputId": "89131c02-7d15-4c74-a5da-8d86f7ccc5cb"
      },
      "source": [
        "L[::2]"
      ],
      "execution_count": null,
      "outputs": [
        {
          "output_type": "execute_result",
          "data": {
            "text/plain": [
              "[[1, 2], [6, 7], [4, 2, 7]]"
            ]
          },
          "metadata": {},
          "execution_count": 51
        }
      ]
    },
    {
      "cell_type": "code",
      "metadata": {
        "colab": {
          "base_uri": "https://localhost:8080/"
        },
        "id": "LwZ_bs8fL-S9",
        "outputId": "d400bd1c-5e87-4dd3-8d43-f7b4785958b2"
      },
      "source": [
        "L[::3]"
      ],
      "execution_count": null,
      "outputs": [
        {
          "output_type": "execute_result",
          "data": {
            "text/plain": [
              "[[1, 2], [3]]"
            ]
          },
          "metadata": {},
          "execution_count": 52
        }
      ]
    },
    {
      "cell_type": "code",
      "source": [
        "L"
      ],
      "metadata": {
        "colab": {
          "base_uri": "https://localhost:8080/"
        },
        "id": "B9GdyCRGnY6P",
        "outputId": "e0abf0c7-2860-4c3b-d36b-1a705562bb30"
      },
      "execution_count": null,
      "outputs": [
        {
          "output_type": "execute_result",
          "data": {
            "text/plain": [
              "[[1, 2], [4, 5, 6], [6, 7], [3], [4, 2, 7]]"
            ]
          },
          "metadata": {},
          "execution_count": 54
        }
      ]
    },
    {
      "cell_type": "code",
      "metadata": {
        "colab": {
          "base_uri": "https://localhost:8080/"
        },
        "id": "upjnjlpUMCvg",
        "outputId": "36c8d42c-0cce-4747-d61a-d9a2980b146e"
      },
      "source": [
        "L[1]"
      ],
      "execution_count": null,
      "outputs": [
        {
          "output_type": "execute_result",
          "data": {
            "text/plain": [
              "[4, 5, 6]"
            ]
          },
          "metadata": {},
          "execution_count": 53
        }
      ]
    },
    {
      "cell_type": "code",
      "metadata": {
        "colab": {
          "base_uri": "https://localhost:8080/"
        },
        "id": "a5JxmUWnMNJj",
        "outputId": "f7e05a0d-f0f5-438e-8b65-981f64ddefca"
      },
      "source": [
        "L[1][1]"
      ],
      "execution_count": null,
      "outputs": [
        {
          "output_type": "execute_result",
          "data": {
            "text/plain": [
              "5"
            ]
          },
          "metadata": {},
          "execution_count": 55
        }
      ]
    },
    {
      "cell_type": "code",
      "metadata": {
        "colab": {
          "base_uri": "https://localhost:8080/"
        },
        "id": "UuuiHShDMZ8R",
        "outputId": "3c3d9155-033d-4c1a-f393-6368ab4d4eaf"
      },
      "source": [
        "L[1][2]"
      ],
      "execution_count": null,
      "outputs": [
        {
          "output_type": "execute_result",
          "data": {
            "text/plain": [
              "6"
            ]
          },
          "metadata": {},
          "execution_count": 56
        }
      ]
    },
    {
      "cell_type": "code",
      "metadata": {
        "colab": {
          "base_uri": "https://localhost:8080/"
        },
        "id": "FOnZukOXMfQU",
        "outputId": "f71a287a-8952-4a11-8817-2ef17f01f5ad"
      },
      "source": [
        "L[-1]"
      ],
      "execution_count": null,
      "outputs": [
        {
          "output_type": "execute_result",
          "data": {
            "text/plain": [
              "[4, 2, 7]"
            ]
          },
          "metadata": {},
          "execution_count": 57
        }
      ]
    },
    {
      "cell_type": "code",
      "metadata": {
        "colab": {
          "base_uri": "https://localhost:8080/"
        },
        "id": "omLH62wmMjpW",
        "outputId": "4b320572-75a9-4df2-899d-9e286e295f4c"
      },
      "source": [
        "L[-1][-1]"
      ],
      "execution_count": null,
      "outputs": [
        {
          "output_type": "execute_result",
          "data": {
            "text/plain": [
              "7"
            ]
          },
          "metadata": {},
          "execution_count": 58
        }
      ]
    },
    {
      "cell_type": "code",
      "metadata": {
        "colab": {
          "base_uri": "https://localhost:8080/"
        },
        "id": "W6nMbC2qMogN",
        "outputId": "b6b220c8-f4bf-4296-90a4-a48c7cd8a716"
      },
      "source": [
        "L[-1][-2]"
      ],
      "execution_count": null,
      "outputs": [
        {
          "output_type": "execute_result",
          "data": {
            "text/plain": [
              "2"
            ]
          },
          "metadata": {},
          "execution_count": 59
        }
      ]
    },
    {
      "cell_type": "markdown",
      "metadata": {
        "id": "BfF2ghddM1b1"
      },
      "source": [
        "# Funciones básicas para el manejo de listas"
      ]
    },
    {
      "cell_type": "code",
      "metadata": {
        "colab": {
          "base_uri": "https://localhost:8080/"
        },
        "id": "fY_FLfjrMsnJ",
        "outputId": "c03cb541-bea9-4a6e-f2ea-207ec73b25b7"
      },
      "source": [
        "Lis=[22,13,14,25,36,57,43,21,34,78]\n",
        "Lis"
      ],
      "execution_count": null,
      "outputs": [
        {
          "output_type": "execute_result",
          "data": {
            "text/plain": [
              "[22, 13, 14, 25, 36, 57, 43, 21, 34, 78]"
            ]
          },
          "metadata": {},
          "execution_count": 44
        }
      ]
    },
    {
      "cell_type": "markdown",
      "metadata": {
        "id": "9XfQw6PyNYpn"
      },
      "source": [
        "a) longitud o cantidad de elementos de una lista"
      ]
    },
    {
      "cell_type": "code",
      "metadata": {
        "colab": {
          "base_uri": "https://localhost:8080/"
        },
        "id": "DeTVhYhmNULn",
        "outputId": "b5900242-6d6c-459b-f62f-e03d7cb8c9c7"
      },
      "source": [
        "len(Lis)"
      ],
      "execution_count": null,
      "outputs": [
        {
          "output_type": "execute_result",
          "data": {
            "text/plain": [
              "10"
            ]
          },
          "metadata": {},
          "execution_count": 45
        }
      ]
    },
    {
      "cell_type": "markdown",
      "metadata": {
        "id": "k-DwpJlmNnJP"
      },
      "source": [
        "b) Calcula el máximo elemento de la lista"
      ]
    },
    {
      "cell_type": "code",
      "metadata": {
        "colab": {
          "base_uri": "https://localhost:8080/"
        },
        "id": "VNXHW0E6Nh2C",
        "outputId": "601fc059-ad17-4ad6-e2aa-1a597eac2159"
      },
      "source": [
        "max(Lis)"
      ],
      "execution_count": null,
      "outputs": [
        {
          "output_type": "execute_result",
          "data": {
            "text/plain": [
              "78"
            ]
          },
          "metadata": {},
          "execution_count": 46
        }
      ]
    },
    {
      "cell_type": "markdown",
      "metadata": {
        "id": "VaWgccUWOMEE"
      },
      "source": [
        "c) Calcula el minimo la lista\n"
      ]
    },
    {
      "cell_type": "code",
      "metadata": {
        "colab": {
          "base_uri": "https://localhost:8080/"
        },
        "id": "JKVUX9SdOJyO",
        "outputId": "6e3b0fc9-3b44-4cad-a95b-a3c920699ece"
      },
      "source": [
        "min(Lis)"
      ],
      "execution_count": null,
      "outputs": [
        {
          "output_type": "execute_result",
          "data": {
            "text/plain": [
              "13"
            ]
          },
          "metadata": {},
          "execution_count": 47
        }
      ]
    },
    {
      "cell_type": "markdown",
      "metadata": {
        "id": "fvS-zRCAOWh4"
      },
      "source": [
        "Suma los elementos de la lista"
      ]
    },
    {
      "cell_type": "code",
      "metadata": {
        "colab": {
          "base_uri": "https://localhost:8080/"
        },
        "id": "y66FsRwLN2xK",
        "outputId": "9d0ee94e-dab4-4353-9096-39744abe0e30"
      },
      "source": [
        "sum(Lis)"
      ],
      "execution_count": null,
      "outputs": [
        {
          "output_type": "execute_result",
          "data": {
            "text/plain": [
              "343"
            ]
          },
          "metadata": {},
          "execution_count": 48
        }
      ]
    },
    {
      "cell_type": "code",
      "metadata": {
        "colab": {
          "base_uri": "https://localhost:8080/"
        },
        "id": "wN2VhlBNOcnJ",
        "outputId": "71f2749b-80e3-4691-a009-8836aeeae2b4"
      },
      "source": [
        "def suma_lista(L1,L2):\n",
        "    L3=[]\n",
        "    for i in range(len(L1)):\n",
        "        L3.append(L1[i]+L2[i])\n",
        "    return L3\n",
        "#-------principal---------\n",
        "L1=[2,1,2,5]\n",
        "L2=[3,4,5,6]\n",
        "l3=suma_lista(L1,L2)\n",
        "l3"
      ],
      "execution_count": null,
      "outputs": [
        {
          "output_type": "execute_result",
          "data": {
            "text/plain": [
              "[5, 5, 7, 11]"
            ]
          },
          "metadata": {},
          "execution_count": 49
        }
      ]
    },
    {
      "cell_type": "code",
      "source": [
        "L3=list(map(lambda a,b: a+b,L1,L2))\n",
        "L3"
      ],
      "metadata": {
        "colab": {
          "base_uri": "https://localhost:8080/"
        },
        "id": "DIrTS40_oG6_",
        "outputId": "68348cce-5ba6-4d06-e488-7dc52c408093"
      },
      "execution_count": null,
      "outputs": [
        {
          "output_type": "execute_result",
          "data": {
            "text/plain": [
              "[5, 5, 7, 11]"
            ]
          },
          "metadata": {},
          "execution_count": 50
        }
      ]
    },
    {
      "cell_type": "code",
      "source": [
        "T=[1.30,1.40,1.50,1.70]\n",
        "P=[45,56,67,73]\n",
        "IMC= list(map(lambda t,p: round(p/t**2,2),T,P))\n",
        "IMC"
      ],
      "metadata": {
        "colab": {
          "base_uri": "https://localhost:8080/"
        },
        "id": "Z3MP4Aisqvny",
        "outputId": "214d18b0-d20f-42e0-fac1-cf8f0bebd9ce"
      },
      "execution_count": null,
      "outputs": [
        {
          "output_type": "execute_result",
          "data": {
            "text/plain": [
              "[26.63, 28.57, 29.78, 25.26]"
            ]
          },
          "metadata": {},
          "execution_count": 51
        }
      ]
    },
    {
      "cell_type": "code",
      "metadata": {
        "colab": {
          "base_uri": "https://localhost:8080/"
        },
        "id": "dSOuA8XcPGqf",
        "outputId": "3d889be2-f137-477b-dcf5-c6b34fd2425c"
      },
      "source": [
        "def resta(L):\n",
        "  s=0\n",
        "  for e in L:\n",
        "    s=s-e\n",
        "  return s\n",
        "L=[2,3,4,5,7]\n",
        "print(resta(L))"
      ],
      "execution_count": null,
      "outputs": [
        {
          "output_type": "stream",
          "name": "stdout",
          "text": [
            "-21\n"
          ]
        }
      ]
    },
    {
      "cell_type": "markdown",
      "metadata": {
        "id": "EMTORNEGRGK5"
      },
      "source": [
        "# Funciones especiales para el manejo de listas"
      ]
    },
    {
      "cell_type": "code",
      "metadata": {
        "colab": {
          "base_uri": "https://localhost:8080/"
        },
        "id": "WHWnqnsoQHfE",
        "outputId": "5e4cde12-be92-48d3-8998-8eebbfdf88e9"
      },
      "source": [
        "L=[2,3,5,4,6,8,7,9]\n",
        "L"
      ],
      "execution_count": null,
      "outputs": [
        {
          "output_type": "execute_result",
          "data": {
            "text/plain": [
              "[2, 3, 5, 4, 6, 8, 7, 9]"
            ]
          },
          "metadata": {},
          "execution_count": 1
        }
      ]
    },
    {
      "cell_type": "code",
      "metadata": {
        "colab": {
          "base_uri": "https://localhost:8080/"
        },
        "id": "nh1kd0mbRthZ",
        "outputId": "1dc87f23-d3ce-4a5e-c0ee-38931c8df78f"
      },
      "source": [
        "# a) Agregar a la lista un elemento\n",
        "L.append(200)\n",
        "L"
      ],
      "execution_count": null,
      "outputs": [
        {
          "output_type": "execute_result",
          "data": {
            "text/plain": [
              "[2, 3, 5, 4, 6, 8, 7, 9, 200]"
            ]
          },
          "metadata": {},
          "execution_count": 2
        }
      ]
    },
    {
      "cell_type": "code",
      "metadata": {
        "colab": {
          "base_uri": "https://localhost:8080/"
        },
        "id": "00fnfKkDR9cu",
        "outputId": "88106f48-0779-4e35-88d0-b2f627484311"
      },
      "source": [
        "# Ingresa un elemento a la lista en posición especificada\n",
        "L.insert(2,30)\n",
        "L"
      ],
      "execution_count": null,
      "outputs": [
        {
          "output_type": "execute_result",
          "data": {
            "text/plain": [
              "[2, 3, 30, 5, 4, 6, 8, 7, 9, 200]"
            ]
          },
          "metadata": {},
          "execution_count": 3
        }
      ]
    },
    {
      "cell_type": "code",
      "metadata": {
        "colab": {
          "base_uri": "https://localhost:8080/"
        },
        "id": "CW4VxDxASbSQ",
        "outputId": "2a6268ee-ecab-4f4a-fa40-78b0326156ab"
      },
      "source": [
        "L.insert(6,230)\n",
        "L"
      ],
      "execution_count": null,
      "outputs": [
        {
          "output_type": "execute_result",
          "data": {
            "text/plain": [
              "[2, 3, 30, 5, 4, 6, 230, 8, 7, 9, 200]"
            ]
          },
          "metadata": {},
          "execution_count": 4
        }
      ]
    },
    {
      "cell_type": "code",
      "metadata": {
        "colab": {
          "base_uri": "https://localhost:8080/"
        },
        "id": "ZZGnphHYSlhI",
        "outputId": "32f73f98-dd00-4f2f-ec41-980bdb28e79f"
      },
      "source": [
        "L=[2,3,5,4,6,4,8,7,4,9,10,4,3,4]\n",
        "L"
      ],
      "execution_count": null,
      "outputs": [
        {
          "output_type": "execute_result",
          "data": {
            "text/plain": [
              "[2, 3, 5, 4, 6, 4, 8, 7, 4, 9, 10, 4, 3, 4]"
            ]
          },
          "metadata": {},
          "execution_count": 5
        }
      ]
    },
    {
      "cell_type": "code",
      "metadata": {
        "colab": {
          "base_uri": "https://localhost:8080/"
        },
        "id": "z8GPB90rS2Ot",
        "outputId": "d9da3f15-ca7f-49e3-e770-6d72bbd2cdc0"
      },
      "source": [
        "# Cuenta la cantidad de elementos repetidos\n",
        "L.count(4)"
      ],
      "execution_count": null,
      "outputs": [
        {
          "output_type": "execute_result",
          "data": {
            "text/plain": [
              "5"
            ]
          },
          "metadata": {},
          "execution_count": 6
        }
      ]
    },
    {
      "cell_type": "code",
      "metadata": {
        "colab": {
          "base_uri": "https://localhost:8080/"
        },
        "id": "df7StDHLTB7Y",
        "outputId": "96f5f7c2-3e49-4952-beb0-79bb0a651ef5"
      },
      "source": [
        "# Elimina un elemento de la lista\n",
        "L.remove(10)\n",
        "L"
      ],
      "execution_count": null,
      "outputs": [
        {
          "output_type": "execute_result",
          "data": {
            "text/plain": [
              "[2, 3, 5, 4, 6, 4, 8, 7, 4, 9, 4, 3, 4]"
            ]
          },
          "metadata": {},
          "execution_count": 7
        }
      ]
    },
    {
      "cell_type": "code",
      "metadata": {
        "colab": {
          "base_uri": "https://localhost:8080/"
        },
        "id": "V0iVla_iTQXJ",
        "outputId": "d14484e3-b322-4e11-8bfd-2894c1ce8453"
      },
      "source": [
        "# Devuelve el elemento de la posición 2 y lo elimina\n",
        "L.pop(2)"
      ],
      "execution_count": null,
      "outputs": [
        {
          "output_type": "execute_result",
          "data": {
            "text/plain": [
              "5"
            ]
          },
          "metadata": {},
          "execution_count": 8
        }
      ]
    },
    {
      "cell_type": "code",
      "metadata": {
        "colab": {
          "base_uri": "https://localhost:8080/"
        },
        "id": "BQf5_dRaTkTX",
        "outputId": "883743af-7b12-4881-dfa0-1df6c7eed1fe"
      },
      "source": [
        "L"
      ],
      "execution_count": null,
      "outputs": [
        {
          "output_type": "execute_result",
          "data": {
            "text/plain": [
              "[2, 3, 4, 6, 4, 8, 7, 4, 9, 4, 3, 4]"
            ]
          },
          "metadata": {},
          "execution_count": 9
        }
      ]
    },
    {
      "cell_type": "code",
      "metadata": {
        "colab": {
          "base_uri": "https://localhost:8080/"
        },
        "id": "PGRvxX1fTn0I",
        "outputId": "274d02e1-1c0f-407d-c692-c21e7d392de1"
      },
      "source": [
        "# Entrega la posición i de un elemento en la lista\n",
        "L.index(8)"
      ],
      "execution_count": null,
      "outputs": [
        {
          "output_type": "execute_result",
          "data": {
            "text/plain": [
              "5"
            ]
          },
          "metadata": {},
          "execution_count": 10
        }
      ]
    },
    {
      "cell_type": "code",
      "metadata": {
        "colab": {
          "base_uri": "https://localhost:8080/"
        },
        "id": "Tbt_q6kuT_ji",
        "outputId": "5c3a98f1-e94d-4016-dd20-f376b845bad0"
      },
      "source": [
        "L.index(9)"
      ],
      "execution_count": null,
      "outputs": [
        {
          "output_type": "execute_result",
          "data": {
            "text/plain": [
              "8"
            ]
          },
          "metadata": {},
          "execution_count": 11
        }
      ]
    },
    {
      "cell_type": "code",
      "metadata": {
        "colab": {
          "base_uri": "https://localhost:8080/"
        },
        "id": "TO16wepsUGUK",
        "outputId": "45714640-40af-41fe-a15b-866d5247796e"
      },
      "source": [
        "# Ordenar los datos de la lista\n",
        "L.sort()\n",
        "L"
      ],
      "execution_count": null,
      "outputs": [
        {
          "output_type": "execute_result",
          "data": {
            "text/plain": [
              "[2, 3, 3, 4, 4, 4, 4, 4, 6, 7, 8, 9]"
            ]
          },
          "metadata": {},
          "execution_count": 12
        }
      ]
    },
    {
      "cell_type": "code",
      "metadata": {
        "colab": {
          "base_uri": "https://localhost:8080/"
        },
        "id": "fAPJASbEUTOz",
        "outputId": "292b0764-2bb5-4c21-85da-3712647cbf42"
      },
      "source": [
        "# invertir la lista\n",
        "L.reverse()\n",
        "L"
      ],
      "execution_count": null,
      "outputs": [
        {
          "output_type": "execute_result",
          "data": {
            "text/plain": [
              "[9, 8, 7, 6, 4, 4, 4, 4, 4, 3, 3, 2]"
            ]
          },
          "metadata": {},
          "execution_count": 13
        }
      ]
    },
    {
      "cell_type": "code",
      "metadata": {
        "id": "0gAQWpwvUcIJ"
      },
      "source": [
        "# Vacia la lista\n",
        "L.clear()"
      ],
      "execution_count": null,
      "outputs": []
    },
    {
      "cell_type": "code",
      "metadata": {
        "colab": {
          "base_uri": "https://localhost:8080/"
        },
        "id": "SBeVlIB8UllD",
        "outputId": "9da9e9b8-7c63-4b58-948b-0b14cb8f1229"
      },
      "source": [
        "L"
      ],
      "execution_count": null,
      "outputs": [
        {
          "output_type": "execute_result",
          "data": {
            "text/plain": [
              "[]"
            ]
          },
          "metadata": {},
          "execution_count": 15
        }
      ]
    },
    {
      "cell_type": "markdown",
      "metadata": {
        "id": "ihhOk9yWnp-_"
      },
      "source": [
        "Ejercicio 01. Calcula la suma de los datos pares de una lista"
      ]
    },
    {
      "cell_type": "code",
      "metadata": {
        "colab": {
          "base_uri": "https://localhost:8080/"
        },
        "id": "i4pOH_9WUmbO",
        "outputId": "bda5234d-304b-495c-99a2-54903fdb4def"
      },
      "source": [
        "L=[2,3,4,5,6,7,8,9]\n",
        "L\n"
      ],
      "execution_count": null,
      "outputs": [
        {
          "output_type": "execute_result",
          "data": {
            "text/plain": [
              "[2, 3, 4, 5, 6, 7, 8, 9]"
            ]
          },
          "metadata": {},
          "execution_count": 16
        }
      ]
    },
    {
      "cell_type": "code",
      "metadata": {
        "colab": {
          "base_uri": "https://localhost:8080/"
        },
        "id": "Bh-V_Z4Cn-Of",
        "outputId": "426f4bb0-8fae-4ba8-ecbb-b4487cc3151e"
      },
      "source": [
        "sum(e for e in L if e%2==0)"
      ],
      "execution_count": null,
      "outputs": [
        {
          "output_type": "execute_result",
          "data": {
            "text/plain": [
              "20"
            ]
          },
          "metadata": {},
          "execution_count": 17
        }
      ]
    },
    {
      "cell_type": "markdown",
      "metadata": {
        "id": "Xwdqh9IDobN9"
      },
      "source": [
        "Ejercicio 2. Calcula la suma de los datos impares de la lista"
      ]
    },
    {
      "cell_type": "code",
      "metadata": {
        "colab": {
          "base_uri": "https://localhost:8080/"
        },
        "id": "hGQjTgdvoVl-",
        "outputId": "c97a823d-abd5-4959-aecd-35de74d9e5c0"
      },
      "source": [
        "sum(e for e in L if e%2!=0)"
      ],
      "execution_count": null,
      "outputs": [
        {
          "output_type": "execute_result",
          "data": {
            "text/plain": [
              "24"
            ]
          },
          "metadata": {},
          "execution_count": 18
        }
      ]
    },
    {
      "cell_type": "markdown",
      "metadata": {
        "id": "LruUfApXo695"
      },
      "source": [
        "Ejercicio 3. Calcula la suma de negativos en la lista"
      ]
    },
    {
      "cell_type": "code",
      "metadata": {
        "colab": {
          "base_uri": "https://localhost:8080/"
        },
        "id": "421usJxFopQC",
        "outputId": "e255e990-d353-46e2-902b-c3fa26e2ef42"
      },
      "source": [
        "L=[2,-3,-5,7,-4,8,-5]\n",
        "sum(e for e in L if e<0)"
      ],
      "execution_count": null,
      "outputs": [
        {
          "output_type": "execute_result",
          "data": {
            "text/plain": [
              "-17"
            ]
          },
          "metadata": {},
          "execution_count": 19
        }
      ]
    },
    {
      "cell_type": "code",
      "metadata": {
        "colab": {
          "base_uri": "https://localhost:8080/"
        },
        "id": "4TTl3i2TpZk6",
        "outputId": "2438dfad-102a-4ecf-d3a9-22d858865442"
      },
      "source": [
        "sum(1 for e in L if e<0)"
      ],
      "execution_count": null,
      "outputs": [
        {
          "output_type": "execute_result",
          "data": {
            "text/plain": [
              "4"
            ]
          },
          "metadata": {},
          "execution_count": 20
        }
      ]
    },
    {
      "cell_type": "code",
      "metadata": {
        "colab": {
          "base_uri": "https://localhost:8080/"
        },
        "id": "LpJhowEopjs0",
        "outputId": "7d3eb8ad-7626-4d73-d6a8-d5709ae25e5c"
      },
      "source": [
        "sum(1 for e in L if e%2==0)"
      ],
      "execution_count": null,
      "outputs": [
        {
          "output_type": "execute_result",
          "data": {
            "text/plain": [
              "3"
            ]
          },
          "metadata": {},
          "execution_count": 21
        }
      ]
    },
    {
      "cell_type": "code",
      "metadata": {
        "colab": {
          "base_uri": "https://localhost:8080/"
        },
        "id": "2NIn3IhIrQ77",
        "outputId": "5ec442a9-fbb1-4b9a-c3d0-9143000294ac"
      },
      "source": [
        "sum(1 for e in L if e%2!=0)"
      ],
      "execution_count": null,
      "outputs": [
        {
          "output_type": "execute_result",
          "data": {
            "text/plain": [
              "4"
            ]
          },
          "metadata": {},
          "execution_count": 22
        }
      ]
    },
    {
      "cell_type": "code",
      "metadata": {
        "id": "Dr9sQwCXr9q7"
      },
      "source": [
        "L=[3,2,4,6,5,4,7,6,8,5,3,2,5,8,5,8,6,7]"
      ],
      "execution_count": null,
      "outputs": []
    },
    {
      "cell_type": "code",
      "metadata": {
        "colab": {
          "base_uri": "https://localhost:8080/"
        },
        "id": "A6cFMIaRraN1",
        "outputId": "43aadc38-e68d-42e3-c2ba-9eb8e9e6d61e"
      },
      "source": [
        "# suma los maximos de una lista\n",
        "sum(e for e in L if e==max(L))"
      ],
      "execution_count": null,
      "outputs": [
        {
          "output_type": "execute_result",
          "data": {
            "text/plain": [
              "24"
            ]
          },
          "metadata": {},
          "execution_count": 24
        }
      ]
    },
    {
      "cell_type": "code",
      "metadata": {
        "colab": {
          "base_uri": "https://localhost:8080/"
        },
        "id": "QTebpUkXr6DM",
        "outputId": "3c7543ec-b31c-4c53-cd98-cc7efa7aff3d"
      },
      "source": [
        "sum(2 for e in L if e==min(L))"
      ],
      "execution_count": null,
      "outputs": [
        {
          "output_type": "execute_result",
          "data": {
            "text/plain": [
              "4"
            ]
          },
          "metadata": {},
          "execution_count": 25
        }
      ]
    },
    {
      "cell_type": "code",
      "metadata": {
        "colab": {
          "base_uri": "https://localhost:8080/"
        },
        "id": "PqVmL4mHstck",
        "outputId": "7a027bf1-e771-41f7-a392-16058591c236"
      },
      "source": [
        "sum(1 for e in L if e==3)"
      ],
      "execution_count": null,
      "outputs": [
        {
          "output_type": "execute_result",
          "data": {
            "text/plain": [
              "2"
            ]
          },
          "metadata": {},
          "execution_count": 26
        }
      ]
    },
    {
      "cell_type": "markdown",
      "source": [
        "## **PRACTICA**"
      ],
      "metadata": {
        "id": "QT6GPIADvefb"
      }
    },
    {
      "cell_type": "code",
      "source": [
        "Li = [3,2.3,4.5,90,23, 34,21,3.45,8.05,90,9]\n",
        "Li"
      ],
      "metadata": {
        "id": "t5FMfZulvhq6",
        "outputId": "a8fe19a9-2636-4b39-c2f6-8d406da46a8b",
        "colab": {
          "base_uri": "https://localhost:8080/"
        }
      },
      "execution_count": null,
      "outputs": [
        {
          "output_type": "execute_result",
          "data": {
            "text/plain": [
              "[3, 2.3, 4.5, 90, 23, 34, 21, 3.45, 8.05, 90, 9]"
            ]
          },
          "metadata": {},
          "execution_count": 27
        }
      ]
    },
    {
      "cell_type": "code",
      "source": [
        "# suma los maximos de una lista\n",
        "sum(i for i in Li if i==max(Li))"
      ],
      "metadata": {
        "id": "K2RmZP_zwLPZ",
        "outputId": "d43c5b14-6a2f-490d-b56d-a5f2c3505b0f",
        "colab": {
          "base_uri": "https://localhost:8080/"
        }
      },
      "execution_count": null,
      "outputs": [
        {
          "output_type": "execute_result",
          "data": {
            "text/plain": [
              "180"
            ]
          },
          "metadata": {},
          "execution_count": 28
        }
      ]
    },
    {
      "cell_type": "code",
      "source": [
        "# suma a los multiplos de 3\n",
        "sum(e for e in L if  e%3==1)"
      ],
      "metadata": {
        "id": "b30p3Wpi0UO1",
        "outputId": "bf274d29-1de3-419e-f207-67e0915d6261",
        "colab": {
          "base_uri": "https://localhost:8080/"
        }
      },
      "execution_count": null,
      "outputs": [
        {
          "output_type": "execute_result",
          "data": {
            "text/plain": [
              "22"
            ]
          },
          "metadata": {},
          "execution_count": 29
        }
      ]
    },
    {
      "cell_type": "code",
      "source": [
        "import numpy as np\n",
        "# suma los maximos de una lista p\n",
        "m = np.mean(Li)\n",
        "m\n",
        "\n",
        "sum(e for e in Li if e > np.mean(Li))"
      ],
      "metadata": {
        "id": "6oPJvws1wShZ",
        "outputId": "d65e4594-270c-4d32-d49d-14915287ac7d",
        "colab": {
          "base_uri": "https://localhost:8080/"
        }
      },
      "execution_count": null,
      "outputs": [
        {
          "output_type": "execute_result",
          "data": {
            "text/plain": [
              "214"
            ]
          },
          "metadata": {},
          "execution_count": 30
        }
      ]
    },
    {
      "cell_type": "code",
      "source": [
        "lw = sum(Li)/len(Li)\n",
        "lw"
      ],
      "metadata": {
        "id": "NNVic67myNuQ",
        "outputId": "e4572338-a2dd-49e0-db05-492ccd002158",
        "colab": {
          "base_uri": "https://localhost:8080/"
        }
      },
      "execution_count": null,
      "outputs": [
        {
          "output_type": "execute_result",
          "data": {
            "text/plain": [
              "26.20909090909091"
            ]
          },
          "metadata": {},
          "execution_count": 31
        }
      ]
    },
    {
      "cell_type": "code",
      "source": [],
      "metadata": {
        "id": "dQqVUBqVylk4"
      },
      "execution_count": null,
      "outputs": []
    }
  ]
}
