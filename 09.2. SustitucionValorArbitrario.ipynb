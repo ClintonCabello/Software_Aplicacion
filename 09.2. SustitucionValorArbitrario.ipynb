{
  "cells": [
    {
      "cell_type": "markdown",
      "metadata": {
        "id": "Jf9fmBJuBz1-"
      },
      "source": [
        "# **Sustitución por valores arbitrarios o valores constantes**\n",
        "\n",
        "Los métodos de imputación consisten en estimar los valores faltantes en base a los valores existentes de la variable. El objetivo de cualquier método de imputación es producir un **conjunto completo** de datos que pueda ser utilizado por un algoritmo de aprendizaje de máquina.\n",
        "\n",
        "\n",
        "Como su nombre lo indica, la sustitución por valores arbitrarios consiste en reemplazar los valores nulos por un valor cualquiera, arbitrario. Típicamente se usan valores como  0, 999, -999 (u otras combinaciones de 9s) o -1 (si la distribución es positiva).\n",
        "\n",
        "### Cuáles variables se pueden sustituir con valores arbitrarios o constantes?\n",
        "\n",
        "Variables categóricas o numéricas pueden ser sustituidas por valores arbitrarios\n",
        "\n",
        "Para variables categóricas, es equivalente a reemplazar los valores nulos por una etiqueta adicional.\n",
        "\n",
        "### Condiciones\n",
        "\n",
        "- MNAR - Los datos no faltan de forma aleatoria\n",
        "\n",
        "Si este es el caso, queremos comunicar que estos valores nulos son diferentes y por lo tanto los reemplazamos con un valor arbitrario y no con la media/mediana que representan los valores más comunes.\n",
        "\n",
        "\n",
        "### Ventajas\n",
        "\n",
        "- Fácil de implementar\n",
        "- Forma rápida de obtener conjuntos completos de datos\n",
        "- Puede ser integrado en producción (durante el despliegue del modelo)\n",
        "- Captura la importancia de la 'ausencia' (si existe)\n",
        "\n",
        "### Limitaciones\n",
        "\n",
        "- Distorsión de la distribución original de la variable\n",
        "- Distorsión de la varianza original\n",
        "- Distorsión de la covarianza con las otras variables en los datos.\n",
        "- Si el valor arbitrario es al final de la distribución puede generar valores extremos\n",
        "- El 'valor arbitrario' seleccionado debe ser escogido cuidadosamente para que no sea similar a otros valores comunes en los datos/distribución (media, mediana, moda)\n",
        "\n",
        "\n",
        "\n",
        "### Cuando usar la sustitución por valor arbitrario?\n",
        "\n",
        "Sustituir los valores nulos por un valor arbitrario se debe usar cuando hay razones suficientes para suponer que los datos no faltan al azar. En situaciones como estas, queremos resaltar que los datos faltantes. Por lo tanto no se sustituyen los valores por la media/mediana u otro valor común, sino por el contrario por un valor arbitrario o constante que muestre esa diferencia.\n",
        "\n",
        "### Nota final\n",
        "\n",
        "Cuando las variables son capturadas por terceras partes, como agencias de crédito, dichas organizaciones usan valores arbitrarios para resaltar los valores ausentes.\n",
        "\n",
        "## En este demo:\n",
        "\n",
        "Vamos a aprender como sustituir valores nulos con valores arbitrarios utilizando pandas y el Ames House Price y los datos del Titanic.\n"
      ]
    },
    {
      "cell_type": "code",
      "execution_count": null,
      "metadata": {
        "id": "v2BdwVvjBz2D"
      },
      "outputs": [],
      "source": [
        "import pandas as pd\n",
        "import numpy as np\n",
        "\n",
        "import matplotlib.pyplot as plt\n",
        "\n",
        "from sklearn.model_selection import train_test_split\n",
        "import seaborn as sns"
      ]
    },
    {
      "cell_type": "code",
      "source": [
        "usecols=['age', 'fare', 'survived']"
      ],
      "metadata": {
        "id": "uBP29LzzaZbC"
      },
      "execution_count": null,
      "outputs": []
    },
    {
      "cell_type": "code",
      "source": [
        "from pandas.core.internals.base import DataManager\n",
        "data=sns.load_dataset('titanic')\n",
        "data=data[usecols]\n",
        "DataManager"
      ],
      "metadata": {
        "colab": {
          "base_uri": "https://localhost:8080/"
        },
        "id": "LYn79t7TZ-PS",
        "outputId": "3894da55-df6c-4ff2-a03d-0522c987c1d5"
      },
      "execution_count": null,
      "outputs": [
        {
          "output_type": "execute_result",
          "data": {
            "text/plain": [
              "pandas.core.internals.base.DataManager"
            ]
          },
          "metadata": {},
          "execution_count": 3
        }
      ]
    },
    {
      "cell_type": "code",
      "execution_count": null,
      "metadata": {
        "id": "hgVoz5O2Bz2G",
        "outputId": "bde2013a-ba73-4a19-a654-b5e513e14a9f",
        "colab": {
          "base_uri": "https://localhost:8080/"
        }
      },
      "outputs": [
        {
          "output_type": "execute_result",
          "data": {
            "text/plain": [
              "age         0.198653\n",
              "fare        0.000000\n",
              "survived    0.000000\n",
              "dtype: float64"
            ]
          },
          "metadata": {},
          "execution_count": 4
        }
      ],
      "source": [
        "# porcentaje de valores nulos\n",
        "\n",
        "data.isnull().mean()"
      ]
    },
    {
      "cell_type": "markdown",
      "metadata": {
        "id": "L0jyj0W3Bz2G"
      },
      "source": [
        "### Para tener en cuenta\n",
        "\n",
        "Los parámetros para la sustitución o imputación se deben aprender sobre el set de datos de entrenamiento, usado para entrenar el modelo. Luego estos mismos parámetros se utilizan para imputar valores nulos en el set de prueba. Y esto es para evitar sobre-ajustes.\n",
        "\n",
        "Cuando se sustituyen valores nulos por valores arbitrarios, esta condición no es tan importante, ya que escogemos el valor arbitrariamente. Sin embargo, es bueno adherirse a esta premisa en la práctica y seleccionar el valor arbitrario analizando la distribución de la variable en el set de entrenamiento.\n"
      ]
    },
    {
      "cell_type": "code",
      "execution_count": null,
      "metadata": {
        "id": "LVkPaCw3Bz2H",
        "outputId": "154ca8ed-9de1-4bb1-cfda-99692999c8e4",
        "colab": {
          "base_uri": "https://localhost:8080/"
        }
      },
      "outputs": [
        {
          "output_type": "execute_result",
          "data": {
            "text/plain": [
              "((623, 2), (268, 2))"
            ]
          },
          "metadata": {},
          "execution_count": 5
        }
      ],
      "source": [
        "# Separemos en sets de entrenamiento y prueba\n",
        "\n",
        "X_train, X_test, y_train, y_test = train_test_split(\n",
        "    data[['age', 'fare']],  # variables independientes\n",
        "    data['survived'],  # target\n",
        "    test_size=0.3,  # porcentaje de obs en test set\n",
        "    random_state=0)  # semilla para reproducibilidad\n",
        "\n",
        "X_train.shape, X_test.shape"
      ]
    },
    {
      "cell_type": "code",
      "execution_count": null,
      "metadata": {
        "id": "n8GuTSugBz2H",
        "outputId": "efc7734e-2fd3-4f2c-ec9b-27a81b6b432f",
        "colab": {
          "base_uri": "https://localhost:8080/"
        }
      },
      "outputs": [
        {
          "output_type": "execute_result",
          "data": {
            "text/plain": [
              "age     0.194222\n",
              "fare    0.000000\n",
              "dtype: float64"
            ]
          },
          "metadata": {},
          "execution_count": 6
        }
      ],
      "source": [
        "# exploremos datos nulos en el segmento de entrenamiento\n",
        "# el porcentaje debe ser similar que para todo el\n",
        "# conjunto de datos\n",
        "\n",
        "X_train.isnull().mean()"
      ]
    },
    {
      "cell_type": "code",
      "execution_count": null,
      "metadata": {
        "id": "I9Z_yut9Bz2I"
      },
      "outputs": [],
      "source": [
        "# creemos una función para sustituir los valores faltantes\n",
        "# con un valor arbitrario\n",
        "\n",
        "# la función toma como argumentos:\n",
        "# dataframe, variable, y el valor de arbitrario para la sustitución\n",
        "# retorna la variable con los valores sustituidos\n",
        "\n",
        "\n",
        "def impute_na(df, variable, value):\n",
        "\n",
        "    return df[variable].fillna(value)"
      ]
    },
    {
      "cell_type": "code",
      "execution_count": null,
      "metadata": {
        "id": "8yp6gfKXBz2I",
        "outputId": "689dc043-e6ea-4497-c0f2-28ae341471a3",
        "colab": {
          "base_uri": "https://localhost:8080/",
          "height": 281
        }
      },
      "outputs": [
        {
          "output_type": "display_data",
          "data": {
            "text/plain": [
              "<Figure size 432x288 with 2 Axes>"
            ],
            "image/png": "[encoded data removed]"
          },
          "metadata": {
            "needs_background": "light"
          }
        }
      ],
      "source": [
        "# exploremos la distribución de la variable\n",
        "# para seleccionar el valor arbitrario\n",
        "\n",
        "X_train.hist(bins=50)\n",
        "plt.show()"
      ]
    },
    {
      "cell_type": "code",
      "execution_count": null,
      "metadata": {
        "id": "AIolykSABz2J",
        "outputId": "8de28b19-5419-45ca-fde1-68d695807b2e",
        "colab": {
          "base_uri": "https://localhost:8080/",
          "height": 520
        }
      },
      "outputs": [
        {
          "output_type": "execute_result",
          "data": {
            "text/plain": [
              "      age      fare  age_99  age_minus1\n",
              "857  51.0   26.5500    51.0        51.0\n",
              "52   49.0   76.7292    49.0        49.0\n",
              "386   1.0   46.9000     1.0         1.0\n",
              "124  54.0   77.2875    54.0        54.0\n",
              "578   NaN   14.4583    99.0        -1.0\n",
              "549   8.0   36.7500     8.0         8.0\n",
              "118  24.0  247.5208    24.0        24.0\n",
              "12   20.0    8.0500    20.0        20.0\n",
              "157  30.0    8.0500    30.0        30.0\n",
              "127  24.0    7.1417    24.0        24.0\n",
              "653   NaN    7.8292    99.0        -1.0\n",
              "235   NaN    7.5500    99.0        -1.0\n",
              "785  25.0    7.2500    25.0        25.0\n",
              "241   NaN   15.5000    99.0        -1.0\n",
              "351   NaN   35.0000    99.0        -1.0"
            ],
            "text/html": [
              "\n",
              "  <div id=\"df-8da8110d-a612-40f1-9b2c-b4c5aff6ceb5\">\n",
              "    <div class=\"colab-df-container\">\n",
              "      <div>\n",
              "<style scoped>\n",
              "    .dataframe tbody tr th:only-of-type {\n",
              "        vertical-align: middle;\n",
              "    }\n",
              "\n",
              "    .dataframe tbody tr th {\n",
              "        vertical-align: top;\n",
              "    }\n",
              "\n",
              "    .dataframe thead th {\n",
              "        text-align: right;\n",
              "    }\n",
              "</style>\n",
              "<table border=\"1\" class=\"dataframe\">\n",
              "  <thead>\n",
              "    <tr style=\"text-align: right;\">\n",
              "      <th></th>\n",
              "      <th>age</th>\n",
              "      <th>fare</th>\n",
              "      <th>age_99</th>\n",
              "      <th>age_minus1</th>\n",
              "    </tr>\n",
              "  </thead>\n",
              "  <tbody>\n",
              "    <tr>\n",
              "      <th>857</th>\n",
              "      <td>51.0</td>\n",
              "      <td>26.5500</td>\n",
              "      <td>51.0</td>\n",
              "      <td>51.0</td>\n",
              "    </tr>\n",
              "    <tr>\n",
              "      <th>52</th>\n",
              "      <td>49.0</td>\n",
              "      <td>76.7292</td>\n",
              "      <td>49.0</td>\n",
              "      <td>49.0</td>\n",
              "    </tr>\n",
              "    <tr>\n",
              "      <th>386</th>\n",
              "      <td>1.0</td>\n",
              "      <td>46.9000</td>\n",
              "      <td>1.0</td>\n",
              "      <td>1.0</td>\n",
              "    </tr>\n",
              "    <tr>\n",
              "      <th>124</th>\n",
              "      <td>54.0</td>\n",
              "      <td>77.2875</td>\n",
              "      <td>54.0</td>\n",
              "      <td>54.0</td>\n",
              "    </tr>\n",
              "    <tr>\n",
              "      <th>578</th>\n",
              "      <td>NaN</td>\n",
              "      <td>14.4583</td>\n",
              "      <td>99.0</td>\n",
              "      <td>-1.0</td>\n",
              "    </tr>\n",
              "    <tr>\n",
              "      <th>549</th>\n",
              "      <td>8.0</td>\n",
              "      <td>36.7500</td>\n",
              "      <td>8.0</td>\n",
              "      <td>8.0</td>\n",
              "    </tr>\n",
              "    <tr>\n",
              "      <th>118</th>\n",
              "      <td>24.0</td>\n",
              "      <td>247.5208</td>\n",
              "      <td>24.0</td>\n",
              "      <td>24.0</td>\n",
              "    </tr>\n",
              "    <tr>\n",
              "      <th>12</th>\n",
              "      <td>20.0</td>\n",
              "      <td>8.0500</td>\n",
              "      <td>20.0</td>\n",
              "      <td>20.0</td>\n",
              "    </tr>\n",
              "    <tr>\n",
              "      <th>157</th>\n",
              "      <td>30.0</td>\n",
              "      <td>8.0500</td>\n",
              "      <td>30.0</td>\n",
              "      <td>30.0</td>\n",
              "    </tr>\n",
              "    <tr>\n",
              "      <th>127</th>\n",
              "      <td>24.0</td>\n",
              "      <td>7.1417</td>\n",
              "      <td>24.0</td>\n",
              "      <td>24.0</td>\n",
              "    </tr>\n",
              "    <tr>\n",
              "      <th>653</th>\n",
              "      <td>NaN</td>\n",
              "      <td>7.8292</td>\n",
              "      <td>99.0</td>\n",
              "      <td>-1.0</td>\n",
              "    </tr>\n",
              "    <tr>\n",
              "      <th>235</th>\n",
              "      <td>NaN</td>\n",
              "      <td>7.5500</td>\n",
              "      <td>99.0</td>\n",
              "      <td>-1.0</td>\n",
              "    </tr>\n",
              "    <tr>\n",
              "      <th>785</th>\n",
              "      <td>25.0</td>\n",
              "      <td>7.2500</td>\n",
              "      <td>25.0</td>\n",
              "      <td>25.0</td>\n",
              "    </tr>\n",
              "    <tr>\n",
              "      <th>241</th>\n",
              "      <td>NaN</td>\n",
              "      <td>15.5000</td>\n",
              "      <td>99.0</td>\n",
              "      <td>-1.0</td>\n",
              "    </tr>\n",
              "    <tr>\n",
              "      <th>351</th>\n",
              "      <td>NaN</td>\n",
              "      <td>35.0000</td>\n",
              "      <td>99.0</td>\n",
              "      <td>-1.0</td>\n",
              "    </tr>\n",
              "  </tbody>\n",
              "</table>\n",
              "</div>\n",
              "      <button class=\"colab-df-convert\" onclick=\"convertToInteractive('df-8da8110d-a612-40f1-9b2c-b4c5aff6ceb5')\"\n",
              "              title=\"Convert this dataframe to an interactive table.\"\n",
              "              style=\"display:none;\">\n",
              "        \n",
              "  <svg xmlns=\"http://www.w3.org/2000/svg\" height=\"24px\"viewBox=\"0 0 24 24\"\n",
              "       width=\"24px\">\n",
              "    <path d=\"M0 0h24v24H0V0z\" fill=\"none\"/>\n",
              "    <path d=\"M18.56 5.44l.94 2.06.94-2.06 2.06-.94-2.06-.94-.94-2.06-.94 2.06-2.06.94zm-11 1L8.5 8.5l.94-2.06 2.06-.94-2.06-.94L8.5 2.5l-.94 2.06-2.06.94zm10 10l.94 2.06.94-2.06 2.06-.94-2.06-.94-.94-2.06-.94 2.06-2.06.94z\"/><path d=\"M17.41 7.96l-1.37-1.37c-.4-.4-.92-.59-1.43-.59-.52 0-1.04.2-1.43.59L10.3 9.45l-7.72 7.72c-.78.78-.78 2.05 0 2.83L4 21.41c.39.39.9.59 1.41.59.51 0 1.02-.2 1.41-.59l7.78-7.78 2.81-2.81c.8-.78.8-2.07 0-2.86zM5.41 20L4 18.59l7.72-7.72 1.47 1.35L5.41 20z\"/>\n",
              "  </svg>\n",
              "      </button>\n",
              "      \n",
              "  <style>\n",
              "    .colab-df-container {\n",
              "      display:flex;\n",
              "      flex-wrap:wrap;\n",
              "      gap: 12px;\n",
              "    }\n",
              "\n",
              "    .colab-df-convert {\n",
              "      background-color: #E8F0FE;\n",
              "      border: none;\n",
              "      border-radius: 50%;\n",
              "      cursor: pointer;\n",
              "      display: none;\n",
              "      fill: #1967D2;\n",
              "      height: 32px;\n",
              "      padding: 0 0 0 0;\n",
              "      width: 32px;\n",
              "    }\n",
              "\n",
              "    .colab-df-convert:hover {\n",
              "      background-color: #E2EBFA;\n",
              "      box-shadow: 0px 1px 2px rgba(60, 64, 67, 0.3), 0px 1px 3px 1px rgba(60, 64, 67, 0.15);\n",
              "      fill: #174EA6;\n",
              "    }\n",
              "\n",
              "    [theme=dark] .colab-df-convert {\n",
              "      background-color: #3B4455;\n",
              "      fill: #D2E3FC;\n",
              "    }\n",
              "\n",
              "    [theme=dark] .colab-df-convert:hover {\n",
              "      background-color: #434B5C;\n",
              "      box-shadow: 0px 1px 3px 1px rgba(0, 0, 0, 0.15);\n",
              "      filter: drop-shadow(0px 1px 2px rgba(0, 0, 0, 0.3));\n",
              "      fill: #FFFFFF;\n",
              "    }\n",
              "  </style>\n",
              "\n",
              "      <script>\n",
              "        const buttonEl =\n",
              "          document.querySelector('#df-8da8110d-a612-40f1-9b2c-b4c5aff6ceb5 button.colab-df-convert');\n",
              "        buttonEl.style.display =\n",
              "          google.colab.kernel.accessAllowed ? 'block' : 'none';\n",
              "\n",
              "        async function convertToInteractive(key) {\n",
              "          const element = document.querySelector('#df-8da8110d-a612-40f1-9b2c-b4c5aff6ceb5');\n",
              "          const dataTable =\n",
              "            await google.colab.kernel.invokeFunction('convertToInteractive',\n",
              "                                                     [key], {});\n",
              "          if (!dataTable) return;\n",
              "\n",
              "          const docLinkHtml = 'Like what you see? Visit the ' +\n",
              "            '<a target=\"_blank\" href=https://colab.research.google.com/notebooks/data_table.ipynb>data table notebook</a>'\n",
              "            + ' to learn more about interactive tables.';\n",
              "          element.innerHTML = '';\n",
              "          dataTable['output_type'] = 'display_data';\n",
              "          await google.colab.output.renderOutput(dataTable, element);\n",
              "          const docLink = document.createElement('div');\n",
              "          docLink.innerHTML = docLinkHtml;\n",
              "          element.appendChild(docLink);\n",
              "        }\n",
              "      </script>\n",
              "    </div>\n",
              "  </div>\n",
              "  "
            ]
          },
          "metadata": {},
          "execution_count": 9
        }
      ],
      "source": [
        "# En este demo vamos a usar dos valor arbitrarios para la\n",
        "# sustitución de los valores nulos en la variable 'age'\n",
        "# uno al final de la distribución ==> 99\n",
        "# y el otro -1, ya que age no toma valores negativos\n",
        "\n",
        "# primero imputamos con 99\n",
        "X_train['age_99'] = impute_na(X_train, 'age', 99)\n",
        "\n",
        "# luego imputamos con -1\n",
        "X_train['age_minus1'] = impute_na(X_train, 'age', -1)\n",
        "\n",
        "X_train.head(15)"
      ]
    },
    {
      "cell_type": "markdown",
      "metadata": {
        "id": "PkJOJOv6Bz2J"
      },
      "source": [
        "Compara las filas con datos ausentes (NaN) en age, y observa como esos valores fueron reemplazados ya sea por 99 o -1."
      ]
    },
    {
      "cell_type": "code",
      "execution_count": null,
      "metadata": {
        "id": "EmnRBf9vBz2K",
        "outputId": "f0a51b80-299b-44bb-962a-44713ee1af64",
        "colab": {
          "base_uri": "https://localhost:8080/"
        }
      },
      "outputs": [
        {
          "output_type": "stream",
          "name": "stdout",
          "text": [
            "Varianza variable original:  210.45286924636747\n",
            "Varianza luego de sustitución por 99:  917.6372579490387\n",
            "Varianza luego de sustitución por -1:  319.3288446599532\n"
          ]
        }
      ],
      "source": [
        "# vemos como la varianza cambia luego de la sustitución\n",
        "# esto es de esperarse, porque el porcentaje de valores ausentes\n",
        "# es relativamente grande en age, ~20%\n",
        "\n",
        "print('Varianza variable original: ', X_train['age'].var())\n",
        "print('Varianza luego de sustitución por 99: ', X_train['age_99'].var())\n",
        "print('Varianza luego de sustitución por -1: ', X_train['age_minus1'].var())"
      ]
    },
    {
      "cell_type": "markdown",
      "metadata": {
        "id": "pSUYl1kZBz2K"
      },
      "source": [
        "De hecho, el efecto de la varianza es influenciado por la magnitud del valor arbitrario seleccionado para la sustitución: comparen 99 con -1."
      ]
    },
    {
      "cell_type": "code",
      "execution_count": null,
      "metadata": {
        "id": "veHE2zreBz2L",
        "outputId": "c3516bba-29f7-4fbf-ac3b-79a2035e184f",
        "colab": {
          "base_uri": "https://localhost:8080/",
          "height": 282
        }
      },
      "outputs": [
        {
          "output_type": "execute_result",
          "data": {
            "text/plain": [
              "<matplotlib.legend.Legend at 0x7eff5bd44f90>"
            ]
          },
          "metadata": {},
          "execution_count": 11
        },
        {
          "output_type": "display_data",
          "data": {
            "text/plain": [
              "<Figure size 432x288 with 1 Axes>"
            ],
            "image/png": "[encoded data removed]"
          },
          "metadata": {
            "needs_background": "light"
          }
        }
      ],
      "source": [
        "# Comparemos distribuciones\n",
        "\n",
        "fig = plt.figure()\n",
        "ax = fig.add_subplot(111)\n",
        "\n",
        "# distribución original de la variable\n",
        "X_train['age'].plot(kind='kde', ax=ax)\n",
        "\n",
        "# distribución variable sustituida con 99\n",
        "X_train['age_99'].plot(kind='kde', ax=ax, color='red')\n",
        "\n",
        "# distribución variable sustituida con -1\n",
        "X_train['age_minus1'].plot(kind='kde', ax=ax, color='green')\n",
        "\n",
        "# etiquetas\n",
        "lines, labels = ax.get_legend_handles_labels()\n",
        "ax.legend(lines, labels, loc='best')"
      ]
    },
    {
      "cell_type": "markdown",
      "metadata": {
        "id": "vrVIK1XpBz2M"
      },
      "source": [
        "La sustitución por valores arbitrarios distorsiona la distribución original de la variable y como es de esperarse, la variable transformada tiene más valores alrededor del valor arbitrario seleccionado.\n",
        "\n",
        "**Es esto importante?**\n",
        "\n",
        "Depende del algoritmo de machine learning seleccionado para construir el modelo.\n",
        "Los modelos lineales asumen que las variables están normalmente distribuidas. La sustitución por valores arbitrarios puede distorsionar la distribución normal original si el porcentaje de valores ausentes es alto y por lo tanto afectar el desempeño del modelo lineal.\n",
        "\n",
        "\n",
        "Por el contrario, esta técnica funciona muy bien para los algoritmos basados en árboles.\n"
      ]
    },
    {
      "cell_type": "code",
      "execution_count": null,
      "metadata": {
        "id": "P_QXUb3QBz2M",
        "outputId": "8eaebdee-658e-41be-c38c-142315a7f0d8",
        "colab": {
          "base_uri": "https://localhost:8080/",
          "height": 175
        }
      },
      "outputs": [
        {
          "output_type": "execute_result",
          "data": {
            "text/plain": [
              "                   fare         age      age_99  age_minus1\n",
              "fare        2328.801583   78.468894  -48.531540  113.205643\n",
              "age           78.468894  210.452869  210.452869  210.452869\n",
              "age_99       -48.531540  210.452869  917.637258 -165.272555\n",
              "age_minus1   113.205643  210.452869 -165.272555  319.328845"
            ],
            "text/html": [
              "\n",
              "  <div id=\"df-088a11b5-d382-45dc-b68e-a82c2f732b68\">\n",
              "    <div class=\"colab-df-container\">\n",
              "      <div>\n",
              "<style scoped>\n",
              "    .dataframe tbody tr th:only-of-type {\n",
              "        vertical-align: middle;\n",
              "    }\n",
              "\n",
              "    .dataframe tbody tr th {\n",
              "        vertical-align: top;\n",
              "    }\n",
              "\n",
              "    .dataframe thead th {\n",
              "        text-align: right;\n",
              "    }\n",
              "</style>\n",
              "<table border=\"1\" class=\"dataframe\">\n",
              "  <thead>\n",
              "    <tr style=\"text-align: right;\">\n",
              "      <th></th>\n",
              "      <th>fare</th>\n",
              "      <th>age</th>\n",
              "      <th>age_99</th>\n",
              "      <th>age_minus1</th>\n",
              "    </tr>\n",
              "  </thead>\n",
              "  <tbody>\n",
              "    <tr>\n",
              "      <th>fare</th>\n",
              "      <td>2328.801583</td>\n",
              "      <td>78.468894</td>\n",
              "      <td>-48.531540</td>\n",
              "      <td>113.205643</td>\n",
              "    </tr>\n",
              "    <tr>\n",
              "      <th>age</th>\n",
              "      <td>78.468894</td>\n",
              "      <td>210.452869</td>\n",
              "      <td>210.452869</td>\n",
              "      <td>210.452869</td>\n",
              "    </tr>\n",
              "    <tr>\n",
              "      <th>age_99</th>\n",
              "      <td>-48.531540</td>\n",
              "      <td>210.452869</td>\n",
              "      <td>917.637258</td>\n",
              "      <td>-165.272555</td>\n",
              "    </tr>\n",
              "    <tr>\n",
              "      <th>age_minus1</th>\n",
              "      <td>113.205643</td>\n",
              "      <td>210.452869</td>\n",
              "      <td>-165.272555</td>\n",
              "      <td>319.328845</td>\n",
              "    </tr>\n",
              "  </tbody>\n",
              "</table>\n",
              "</div>\n",
              "      <button class=\"colab-df-convert\" onclick=\"convertToInteractive('df-088a11b5-d382-45dc-b68e-a82c2f732b68')\"\n",
              "              title=\"Convert this dataframe to an interactive table.\"\n",
              "              style=\"display:none;\">\n",
              "        \n",
              "  <svg xmlns=\"http://www.w3.org/2000/svg\" height=\"24px\"viewBox=\"0 0 24 24\"\n",
              "       width=\"24px\">\n",
              "    <path d=\"M0 0h24v24H0V0z\" fill=\"none\"/>\n",
              "    <path d=\"M18.56 5.44l.94 2.06.94-2.06 2.06-.94-2.06-.94-.94-2.06-.94 2.06-2.06.94zm-11 1L8.5 8.5l.94-2.06 2.06-.94-2.06-.94L8.5 2.5l-.94 2.06-2.06.94zm10 10l.94 2.06.94-2.06 2.06-.94-2.06-.94-.94-2.06-.94 2.06-2.06.94z\"/><path d=\"M17.41 7.96l-1.37-1.37c-.4-.4-.92-.59-1.43-.59-.52 0-1.04.2-1.43.59L10.3 9.45l-7.72 7.72c-.78.78-.78 2.05 0 2.83L4 21.41c.39.39.9.59 1.41.59.51 0 1.02-.2 1.41-.59l7.78-7.78 2.81-2.81c.8-.78.8-2.07 0-2.86zM5.41 20L4 18.59l7.72-7.72 1.47 1.35L5.41 20z\"/>\n",
              "  </svg>\n",
              "      </button>\n",
              "      \n",
              "  <style>\n",
              "    .colab-df-container {\n",
              "      display:flex;\n",
              "      flex-wrap:wrap;\n",
              "      gap: 12px;\n",
              "    }\n",
              "\n",
              "    .colab-df-convert {\n",
              "      background-color: #E8F0FE;\n",
              "      border: none;\n",
              "      border-radius: 50%;\n",
              "      cursor: pointer;\n",
              "      display: none;\n",
              "      fill: #1967D2;\n",
              "      height: 32px;\n",
              "      padding: 0 0 0 0;\n",
              "      width: 32px;\n",
              "    }\n",
              "\n",
              "    .colab-df-convert:hover {\n",
              "      background-color: #E2EBFA;\n",
              "      box-shadow: 0px 1px 2px rgba(60, 64, 67, 0.3), 0px 1px 3px 1px rgba(60, 64, 67, 0.15);\n",
              "      fill: #174EA6;\n",
              "    }\n",
              "\n",
              "    [theme=dark] .colab-df-convert {\n",
              "      background-color: #3B4455;\n",
              "      fill: #D2E3FC;\n",
              "    }\n",
              "\n",
              "    [theme=dark] .colab-df-convert:hover {\n",
              "      background-color: #434B5C;\n",
              "      box-shadow: 0px 1px 3px 1px rgba(0, 0, 0, 0.15);\n",
              "      filter: drop-shadow(0px 1px 2px rgba(0, 0, 0, 0.3));\n",
              "      fill: #FFFFFF;\n",
              "    }\n",
              "  </style>\n",
              "\n",
              "      <script>\n",
              "        const buttonEl =\n",
              "          document.querySelector('#df-088a11b5-d382-45dc-b68e-a82c2f732b68 button.colab-df-convert');\n",
              "        buttonEl.style.display =\n",
              "          google.colab.kernel.accessAllowed ? 'block' : 'none';\n",
              "\n",
              "        async function convertToInteractive(key) {\n",
              "          const element = document.querySelector('#df-088a11b5-d382-45dc-b68e-a82c2f732b68');\n",
              "          const dataTable =\n",
              "            await google.colab.kernel.invokeFunction('convertToInteractive',\n",
              "                                                     [key], {});\n",
              "          if (!dataTable) return;\n",
              "\n",
              "          const docLinkHtml = 'Like what you see? Visit the ' +\n",
              "            '<a target=\"_blank\" href=https://colab.research.google.com/notebooks/data_table.ipynb>data table notebook</a>'\n",
              "            + ' to learn more about interactive tables.';\n",
              "          element.innerHTML = '';\n",
              "          dataTable['output_type'] = 'display_data';\n",
              "          await google.colab.output.renderOutput(dataTable, element);\n",
              "          const docLink = document.createElement('div');\n",
              "          docLink.innerHTML = docLinkHtml;\n",
              "          element.appendChild(docLink);\n",
              "        }\n",
              "      </script>\n",
              "    </div>\n",
              "  </div>\n",
              "  "
            ]
          },
          "metadata": {},
          "execution_count": 12
        }
      ],
      "source": [
        "# esta técnica también puede afectar la relación de la variable imputada\n",
        "# con las otras variables en los datos\n",
        "\n",
        "# examinemos para ello la covarianza\n",
        "\n",
        "X_train[['fare', 'age', 'age_99', 'age_minus1']].cov()"
      ]
    },
    {
      "cell_type": "markdown",
      "metadata": {
        "id": "yqXyJT4lBz2N"
      },
      "source": [
        "Podemos ver que la covariance entre Age y Fare cambio después de la sustitución."
      ]
    },
    {
      "cell_type": "code",
      "execution_count": null,
      "metadata": {
        "id": "x8sucOIIBz2N",
        "outputId": "bda4dd88-9407-4cc6-e61f-9912f71cd0f6",
        "colab": {
          "base_uri": "https://localhost:8080/",
          "height": 338
        }
      },
      "outputs": [
        {
          "output_type": "stream",
          "name": "stderr",
          "text": [
            "/usr/local/lib/python3.7/dist-packages/matplotlib/cbook/__init__.py:1376: VisibleDeprecationWarning: Creating an ndarray from ragged nested sequences (which is a list-or-tuple of lists-or-tuples-or ndarrays with different lengths or shapes) is deprecated. If you meant to do this, you must specify 'dtype=object' when creating the ndarray.\n",
            "  X = np.atleast_1d(X.T if isinstance(X, np.ndarray) else np.asarray(X))\n"
          ]
        },
        {
          "output_type": "execute_result",
          "data": {
            "text/plain": [
              "<matplotlib.axes._subplots.AxesSubplot at 0x7eff5bd5f590>"
            ]
          },
          "metadata": {},
          "execution_count": 13
        },
        {
          "output_type": "display_data",
          "data": {
            "text/plain": [
              "<Figure size 432x288 with 1 Axes>"
            ],
            "image/png": "[encoded data removed]"
          },
          "metadata": {
            "needs_background": "light"
          }
        }
      ],
      "source": [
        "# Finalmente, la sustitución arbitraria también puede\n",
        "# generar observaciones que siendo completamente normales parecen\n",
        "# valores extremos\n",
        "\n",
        "# o en otras palabras la sustitución puede alterar\n",
        "# el número percibido de valores extremos\n",
        "\n",
        "\n",
        "# Gráfico de caja\n",
        "X_train[['age', 'age_99', 'age_minus1']].boxplot()"
      ]
    },
    {
      "cell_type": "markdown",
      "metadata": {
        "id": "i5KYw5xABz2O"
      },
      "source": [
        "De la gráfica anterior, podemos ver después de la sustitución hay más valores extremos hacia los valores altos de Age, pero también para los valores inferiores.\n",
        "\n",
        "\n",
        "## House Prices Dataset\n",
        "\n",
        "Repitamos rápidamente el mismo ejercicio con el House Prices dataset; este tiene variables con pocos o muchos valores nulos, por lo tanto podemos comparar el efecto de la sustitución en ambos escenarios.\n"
      ]
    },
    {
      "cell_type": "code",
      "execution_count": null,
      "metadata": {
        "id": "e6hlmwE0Bz2O"
      },
      "outputs": [],
      "source": [
        "# Vamos a usar las siguientes variables\n",
        "# 3 de las cuales tienen valores nulos\n",
        "\n",
        "cols_to_use = [\n",
        "    'OverallQual', 'TotalBsmtSF', '1stFlrSF', 'GrLivArea', 'WoodDeckSF',\n",
        "    'BsmtUnfSF', 'LotFrontage', 'MasVnrArea', 'GarageYrBlt', 'SalePrice'\n",
        "]"
      ]
    },
    {
      "cell_type": "code",
      "source": [
        "import pandas as pd"
      ],
      "metadata": {
        "id": "zzuELrO4COac"
      },
      "execution_count": null,
      "outputs": []
    },
    {
      "cell_type": "code",
      "execution_count": null,
      "metadata": {
        "colab": {
          "base_uri": "https://localhost:8080/",
          "height": 317
        },
        "id": "gF2FQM-TBz2P",
        "outputId": "68933092-3ba9-4b9e-c636-89c9fa99d7b3"
      },
      "outputs": [
        {
          "output_type": "stream",
          "name": "stdout",
          "text": [
            "(1460, 81)\n"
          ]
        },
        {
          "output_type": "execute_result",
          "data": {
            "text/plain": [
              "   Id  MSSubClass MSZoning  LotFrontage  LotArea Street Alley LotShape  \\\n",
              "0   1          60       RL           65     8450   Pave   NaN      Reg   \n",
              "1   2          20       RL           80     9600   Pave   NaN      Reg   \n",
              "2   3          60       RL           68    11250   Pave   NaN      IR1   \n",
              "3   4          70       RL           60     9550   Pave   NaN      IR1   \n",
              "4   5          60       RL           84    14260   Pave   NaN      IR1   \n",
              "\n",
              "  LandContour Utilities  ... PoolArea PoolQC Fence MiscFeature MiscVal MoSold  \\\n",
              "0         Lvl    AllPub  ...        0    NaN   NaN         NaN       0      2   \n",
              "1         Lvl    AllPub  ...        0    NaN   NaN         NaN       0      5   \n",
              "2         Lvl    AllPub  ...        0    NaN   NaN         NaN       0      9   \n",
              "3         Lvl    AllPub  ...        0    NaN   NaN         NaN       0      2   \n",
              "4         Lvl    AllPub  ...        0    NaN   NaN         NaN       0     12   \n",
              "\n",
              "  YrSold  SaleType  SaleCondition  SalePrice  \n",
              "0   2008        WD         Normal     208500  \n",
              "1   2007        WD         Normal     181500  \n",
              "2   2008        WD         Normal     223500  \n",
              "3   2006        WD        Abnorml     140000  \n",
              "4   2008        WD         Normal     250000  \n",
              "\n",
              "[5 rows x 81 columns]"
            ],
            "text/html": [
              "\n",
              "  <div id=\"df-a0e2e539-d008-469f-b647-103de2ba8e5a\">\n",
              "    <div class=\"colab-df-container\">\n",
              "      <div>\n",
              "<style scoped>\n",
              "    .dataframe tbody tr th:only-of-type {\n",
              "        vertical-align: middle;\n",
              "    }\n",
              "\n",
              "    .dataframe tbody tr th {\n",
              "        vertical-align: top;\n",
              "    }\n",
              "\n",
              "    .dataframe thead th {\n",
              "        text-align: right;\n",
              "    }\n",
              "</style>\n",
              "<table border=\"1\" class=\"dataframe\">\n",
              "  <thead>\n",
              "    <tr style=\"text-align: right;\">\n",
              "      <th></th>\n",
              "      <th>Id</th>\n",
              "      <th>MSSubClass</th>\n",
              "      <th>MSZoning</th>\n",
              "      <th>LotFrontage</th>\n",
              "      <th>LotArea</th>\n",
              "      <th>Street</th>\n",
              "      <th>Alley</th>\n",
              "      <th>LotShape</th>\n",
              "      <th>LandContour</th>\n",
              "      <th>Utilities</th>\n",
              "      <th>...</th>\n",
              "      <th>PoolArea</th>\n",
              "      <th>PoolQC</th>\n",
              "      <th>Fence</th>\n",
              "      <th>MiscFeature</th>\n",
              "      <th>MiscVal</th>\n",
              "      <th>MoSold</th>\n",
              "      <th>YrSold</th>\n",
              "      <th>SaleType</th>\n",
              "      <th>SaleCondition</th>\n",
              "      <th>SalePrice</th>\n",
              "    </tr>\n",
              "  </thead>\n",
              "  <tbody>\n",
              "    <tr>\n",
              "      <th>0</th>\n",
              "      <td>1</td>\n",
              "      <td>60</td>\n",
              "      <td>RL</td>\n",
              "      <td>65</td>\n",
              "      <td>8450</td>\n",
              "      <td>Pave</td>\n",
              "      <td>NaN</td>\n",
              "      <td>Reg</td>\n",
              "      <td>Lvl</td>\n",
              "      <td>AllPub</td>\n",
              "      <td>...</td>\n",
              "      <td>0</td>\n",
              "      <td>NaN</td>\n",
              "      <td>NaN</td>\n",
              "      <td>NaN</td>\n",
              "      <td>0</td>\n",
              "      <td>2</td>\n",
              "      <td>2008</td>\n",
              "      <td>WD</td>\n",
              "      <td>Normal</td>\n",
              "      <td>208500</td>\n",
              "    </tr>\n",
              "    <tr>\n",
              "      <th>1</th>\n",
              "      <td>2</td>\n",
              "      <td>20</td>\n",
              "      <td>RL</td>\n",
              "      <td>80</td>\n",
              "      <td>9600</td>\n",
              "      <td>Pave</td>\n",
              "      <td>NaN</td>\n",
              "      <td>Reg</td>\n",
              "      <td>Lvl</td>\n",
              "      <td>AllPub</td>\n",
              "      <td>...</td>\n",
              "      <td>0</td>\n",
              "      <td>NaN</td>\n",
              "      <td>NaN</td>\n",
              "      <td>NaN</td>\n",
              "      <td>0</td>\n",
              "      <td>5</td>\n",
              "      <td>2007</td>\n",
              "      <td>WD</td>\n",
              "      <td>Normal</td>\n",
              "      <td>181500</td>\n",
              "    </tr>\n",
              "    <tr>\n",
              "      <th>2</th>\n",
              "      <td>3</td>\n",
              "      <td>60</td>\n",
              "      <td>RL</td>\n",
              "      <td>68</td>\n",
              "      <td>11250</td>\n",
              "      <td>Pave</td>\n",
              "      <td>NaN</td>\n",
              "      <td>IR1</td>\n",
              "      <td>Lvl</td>\n",
              "      <td>AllPub</td>\n",
              "      <td>...</td>\n",
              "      <td>0</td>\n",
              "      <td>NaN</td>\n",
              "      <td>NaN</td>\n",
              "      <td>NaN</td>\n",
              "      <td>0</td>\n",
              "      <td>9</td>\n",
              "      <td>2008</td>\n",
              "      <td>WD</td>\n",
              "      <td>Normal</td>\n",
              "      <td>223500</td>\n",
              "    </tr>\n",
              "    <tr>\n",
              "      <th>3</th>\n",
              "      <td>4</td>\n",
              "      <td>70</td>\n",
              "      <td>RL</td>\n",
              "      <td>60</td>\n",
              "      <td>9550</td>\n",
              "      <td>Pave</td>\n",
              "      <td>NaN</td>\n",
              "      <td>IR1</td>\n",
              "      <td>Lvl</td>\n",
              "      <td>AllPub</td>\n",
              "      <td>...</td>\n",
              "      <td>0</td>\n",
              "      <td>NaN</td>\n",
              "      <td>NaN</td>\n",
              "      <td>NaN</td>\n",
              "      <td>0</td>\n",
              "      <td>2</td>\n",
              "      <td>2006</td>\n",
              "      <td>WD</td>\n",
              "      <td>Abnorml</td>\n",
              "      <td>140000</td>\n",
              "    </tr>\n",
              "    <tr>\n",
              "      <th>4</th>\n",
              "      <td>5</td>\n",
              "      <td>60</td>\n",
              "      <td>RL</td>\n",
              "      <td>84</td>\n",
              "      <td>14260</td>\n",
              "      <td>Pave</td>\n",
              "      <td>NaN</td>\n",
              "      <td>IR1</td>\n",
              "      <td>Lvl</td>\n",
              "      <td>AllPub</td>\n",
              "      <td>...</td>\n",
              "      <td>0</td>\n",
              "      <td>NaN</td>\n",
              "      <td>NaN</td>\n",
              "      <td>NaN</td>\n",
              "      <td>0</td>\n",
              "      <td>12</td>\n",
              "      <td>2008</td>\n",
              "      <td>WD</td>\n",
              "      <td>Normal</td>\n",
              "      <td>250000</td>\n",
              "    </tr>\n",
              "  </tbody>\n",
              "</table>\n",
              "<p>5 rows × 81 columns</p>\n",
              "</div>\n",
              "      <button class=\"colab-df-convert\" onclick=\"convertToInteractive('df-a0e2e539-d008-469f-b647-103de2ba8e5a')\"\n",
              "              title=\"Convert this dataframe to an interactive table.\"\n",
              "              style=\"display:none;\">\n",
              "        \n",
              "  <svg xmlns=\"http://www.w3.org/2000/svg\" height=\"24px\"viewBox=\"0 0 24 24\"\n",
              "       width=\"24px\">\n",
              "    <path d=\"M0 0h24v24H0V0z\" fill=\"none\"/>\n",
              "    <path d=\"M18.56 5.44l.94 2.06.94-2.06 2.06-.94-2.06-.94-.94-2.06-.94 2.06-2.06.94zm-11 1L8.5 8.5l.94-2.06 2.06-.94-2.06-.94L8.5 2.5l-.94 2.06-2.06.94zm10 10l.94 2.06.94-2.06 2.06-.94-2.06-.94-.94-2.06-.94 2.06-2.06.94z\"/><path d=\"M17.41 7.96l-1.37-1.37c-.4-.4-.92-.59-1.43-.59-.52 0-1.04.2-1.43.59L10.3 9.45l-7.72 7.72c-.78.78-.78 2.05 0 2.83L4 21.41c.39.39.9.59 1.41.59.51 0 1.02-.2 1.41-.59l7.78-7.78 2.81-2.81c.8-.78.8-2.07 0-2.86zM5.41 20L4 18.59l7.72-7.72 1.47 1.35L5.41 20z\"/>\n",
              "  </svg>\n",
              "      </button>\n",
              "      \n",
              "  <style>\n",
              "    .colab-df-container {\n",
              "      display:flex;\n",
              "      flex-wrap:wrap;\n",
              "      gap: 12px;\n",
              "    }\n",
              "\n",
              "    .colab-df-convert {\n",
              "      background-color: #E8F0FE;\n",
              "      border: none;\n",
              "      border-radius: 50%;\n",
              "      cursor: pointer;\n",
              "      display: none;\n",
              "      fill: #1967D2;\n",
              "      height: 32px;\n",
              "      padding: 0 0 0 0;\n",
              "      width: 32px;\n",
              "    }\n",
              "\n",
              "    .colab-df-convert:hover {\n",
              "      background-color: #E2EBFA;\n",
              "      box-shadow: 0px 1px 2px rgba(60, 64, 67, 0.3), 0px 1px 3px 1px rgba(60, 64, 67, 0.15);\n",
              "      fill: #174EA6;\n",
              "    }\n",
              "\n",
              "    [theme=dark] .colab-df-convert {\n",
              "      background-color: #3B4455;\n",
              "      fill: #D2E3FC;\n",
              "    }\n",
              "\n",
              "    [theme=dark] .colab-df-convert:hover {\n",
              "      background-color: #434B5C;\n",
              "      box-shadow: 0px 1px 3px 1px rgba(0, 0, 0, 0.15);\n",
              "      filter: drop-shadow(0px 1px 2px rgba(0, 0, 0, 0.3));\n",
              "      fill: #FFFFFF;\n",
              "    }\n",
              "  </style>\n",
              "\n",
              "      <script>\n",
              "        const buttonEl =\n",
              "          document.querySelector('#df-a0e2e539-d008-469f-b647-103de2ba8e5a button.colab-df-convert');\n",
              "        buttonEl.style.display =\n",
              "          google.colab.kernel.accessAllowed ? 'block' : 'none';\n",
              "\n",
              "        async function convertToInteractive(key) {\n",
              "          const element = document.querySelector('#df-a0e2e539-d008-469f-b647-103de2ba8e5a');\n",
              "          const dataTable =\n",
              "            await google.colab.kernel.invokeFunction('convertToInteractive',\n",
              "                                                     [key], {});\n",
              "          if (!dataTable) return;\n",
              "\n",
              "          const docLinkHtml = 'Like what you see? Visit the ' +\n",
              "            '<a target=\"_blank\" href=https://colab.research.google.com/notebooks/data_table.ipynb>data table notebook</a>'\n",
              "            + ' to learn more about interactive tables.';\n",
              "          element.innerHTML = '';\n",
              "          dataTable['output_type'] = 'display_data';\n",
              "          await google.colab.output.renderOutput(dataTable, element);\n",
              "          const docLink = document.createElement('div');\n",
              "          docLink.innerHTML = docLinkHtml;\n",
              "          element.appendChild(docLink);\n",
              "        }\n",
              "      </script>\n",
              "    </div>\n",
              "  </div>\n",
              "  "
            ]
          },
          "metadata": {},
          "execution_count": 16
        }
      ],
      "source": [
        "# House Prices dataset\n",
        "\n",
        "data = pd.read_csv('https://raw.githubusercontent.com/RubixML/Housing/master/dataset.csv')\n",
        "print(data.shape)\n",
        "data.head()"
      ]
    },
    {
      "cell_type": "code",
      "source": [
        "data=data[cols_to_use]\n",
        "data"
      ],
      "metadata": {
        "colab": {
          "base_uri": "https://localhost:8080/",
          "height": 424
        },
        "id": "YJQmxak2CUkc",
        "outputId": "94c1794b-9671-4fd8-9867-7661eec44f7b"
      },
      "execution_count": null,
      "outputs": [
        {
          "output_type": "execute_result",
          "data": {
            "text/plain": [
              "      OverallQual  TotalBsmtSF  1stFlrSF  GrLivArea  WoodDeckSF  BsmtUnfSF  \\\n",
              "0               7          856       856       1710           0        150   \n",
              "1               6         1262      1262       1262         298        284   \n",
              "2               7          920       920       1786           0        434   \n",
              "3               7          756       961       1717           0        540   \n",
              "4               8         1145      1145       2198         192        490   \n",
              "...           ...          ...       ...        ...         ...        ...   \n",
              "1455            6          953       953       1647           0        953   \n",
              "1456            6         1542      2073       2073         349        589   \n",
              "1457            7         1152      1188       2340           0        877   \n",
              "1458            5         1078      1078       1078         366          0   \n",
              "1459            5         1256      1256       1256         736        136   \n",
              "\n",
              "      LotFrontage  MasVnrArea GarageYrBlt  SalePrice  \n",
              "0              65         196        2003     208500  \n",
              "1              80           0        1976     181500  \n",
              "2              68         162        2001     223500  \n",
              "3              60           0        1998     140000  \n",
              "4              84         350        2000     250000  \n",
              "...           ...         ...         ...        ...  \n",
              "1455           62           0        1999     175000  \n",
              "1456           85         119        1978     210000  \n",
              "1457           66           0        1941     266500  \n",
              "1458           68           0        1950     142125  \n",
              "1459           75           0        1965     147500  \n",
              "\n",
              "[1460 rows x 10 columns]"
            ],
            "text/html": [
              "\n",
              "  <div id=\"df-314f8ac2-f731-47e5-9efa-17d1adf4d1c2\">\n",
              "    <div class=\"colab-df-container\">\n",
              "      <div>\n",
              "<style scoped>\n",
              "    .dataframe tbody tr th:only-of-type {\n",
              "        vertical-align: middle;\n",
              "    }\n",
              "\n",
              "    .dataframe tbody tr th {\n",
              "        vertical-align: top;\n",
              "    }\n",
              "\n",
              "    .dataframe thead th {\n",
              "        text-align: right;\n",
              "    }\n",
              "</style>\n",
              "<table border=\"1\" class=\"dataframe\">\n",
              "  <thead>\n",
              "    <tr style=\"text-align: right;\">\n",
              "      <th></th>\n",
              "      <th>OverallQual</th>\n",
              "      <th>TotalBsmtSF</th>\n",
              "      <th>1stFlrSF</th>\n",
              "      <th>GrLivArea</th>\n",
              "      <th>WoodDeckSF</th>\n",
              "      <th>BsmtUnfSF</th>\n",
              "      <th>LotFrontage</th>\n",
              "      <th>MasVnrArea</th>\n",
              "      <th>GarageYrBlt</th>\n",
              "      <th>SalePrice</th>\n",
              "    </tr>\n",
              "  </thead>\n",
              "  <tbody>\n",
              "    <tr>\n",
              "      <th>0</th>\n",
              "      <td>7</td>\n",
              "      <td>856</td>\n",
              "      <td>856</td>\n",
              "      <td>1710</td>\n",
              "      <td>0</td>\n",
              "      <td>150</td>\n",
              "      <td>65</td>\n",
              "      <td>196</td>\n",
              "      <td>2003</td>\n",
              "      <td>208500</td>\n",
              "    </tr>\n",
              "    <tr>\n",
              "      <th>1</th>\n",
              "      <td>6</td>\n",
              "      <td>1262</td>\n",
              "      <td>1262</td>\n",
              "      <td>1262</td>\n",
              "      <td>298</td>\n",
              "      <td>284</td>\n",
              "      <td>80</td>\n",
              "      <td>0</td>\n",
              "      <td>1976</td>\n",
              "      <td>181500</td>\n",
              "    </tr>\n",
              "    <tr>\n",
              "      <th>2</th>\n",
              "      <td>7</td>\n",
              "      <td>920</td>\n",
              "      <td>920</td>\n",
              "      <td>1786</td>\n",
              "      <td>0</td>\n",
              "      <td>434</td>\n",
              "      <td>68</td>\n",
              "      <td>162</td>\n",
              "      <td>2001</td>\n",
              "      <td>223500</td>\n",
              "    </tr>\n",
              "    <tr>\n",
              "      <th>3</th>\n",
              "      <td>7</td>\n",
              "      <td>756</td>\n",
              "      <td>961</td>\n",
              "      <td>1717</td>\n",
              "      <td>0</td>\n",
              "      <td>540</td>\n",
              "      <td>60</td>\n",
              "      <td>0</td>\n",
              "      <td>1998</td>\n",
              "      <td>140000</td>\n",
              "    </tr>\n",
              "    <tr>\n",
              "      <th>4</th>\n",
              "      <td>8</td>\n",
              "      <td>1145</td>\n",
              "      <td>1145</td>\n",
              "      <td>2198</td>\n",
              "      <td>192</td>\n",
              "      <td>490</td>\n",
              "      <td>84</td>\n",
              "      <td>350</td>\n",
              "      <td>2000</td>\n",
              "      <td>250000</td>\n",
              "    </tr>\n",
              "    <tr>\n",
              "      <th>...</th>\n",
              "      <td>...</td>\n",
              "      <td>...</td>\n",
              "      <td>...</td>\n",
              "      <td>...</td>\n",
              "      <td>...</td>\n",
              "      <td>...</td>\n",
              "      <td>...</td>\n",
              "      <td>...</td>\n",
              "      <td>...</td>\n",
              "      <td>...</td>\n",
              "    </tr>\n",
              "    <tr>\n",
              "      <th>1455</th>\n",
              "      <td>6</td>\n",
              "      <td>953</td>\n",
              "      <td>953</td>\n",
              "      <td>1647</td>\n",
              "      <td>0</td>\n",
              "      <td>953</td>\n",
              "      <td>62</td>\n",
              "      <td>0</td>\n",
              "      <td>1999</td>\n",
              "      <td>175000</td>\n",
              "    </tr>\n",
              "    <tr>\n",
              "      <th>1456</th>\n",
              "      <td>6</td>\n",
              "      <td>1542</td>\n",
              "      <td>2073</td>\n",
              "      <td>2073</td>\n",
              "      <td>349</td>\n",
              "      <td>589</td>\n",
              "      <td>85</td>\n",
              "      <td>119</td>\n",
              "      <td>1978</td>\n",
              "      <td>210000</td>\n",
              "    </tr>\n",
              "    <tr>\n",
              "      <th>1457</th>\n",
              "      <td>7</td>\n",
              "      <td>1152</td>\n",
              "      <td>1188</td>\n",
              "      <td>2340</td>\n",
              "      <td>0</td>\n",
              "      <td>877</td>\n",
              "      <td>66</td>\n",
              "      <td>0</td>\n",
              "      <td>1941</td>\n",
              "      <td>266500</td>\n",
              "    </tr>\n",
              "    <tr>\n",
              "      <th>1458</th>\n",
              "      <td>5</td>\n",
              "      <td>1078</td>\n",
              "      <td>1078</td>\n",
              "      <td>1078</td>\n",
              "      <td>366</td>\n",
              "      <td>0</td>\n",
              "      <td>68</td>\n",
              "      <td>0</td>\n",
              "      <td>1950</td>\n",
              "      <td>142125</td>\n",
              "    </tr>\n",
              "    <tr>\n",
              "      <th>1459</th>\n",
              "      <td>5</td>\n",
              "      <td>1256</td>\n",
              "      <td>1256</td>\n",
              "      <td>1256</td>\n",
              "      <td>736</td>\n",
              "      <td>136</td>\n",
              "      <td>75</td>\n",
              "      <td>0</td>\n",
              "      <td>1965</td>\n",
              "      <td>147500</td>\n",
              "    </tr>\n",
              "  </tbody>\n",
              "</table>\n",
              "<p>1460 rows × 10 columns</p>\n",
              "</div>\n",
              "      <button class=\"colab-df-convert\" onclick=\"convertToInteractive('df-314f8ac2-f731-47e5-9efa-17d1adf4d1c2')\"\n",
              "              title=\"Convert this dataframe to an interactive table.\"\n",
              "              style=\"display:none;\">\n",
              "        \n",
              "  <svg xmlns=\"http://www.w3.org/2000/svg\" height=\"24px\"viewBox=\"0 0 24 24\"\n",
              "       width=\"24px\">\n",
              "    <path d=\"M0 0h24v24H0V0z\" fill=\"none\"/>\n",
              "    <path d=\"M18.56 5.44l.94 2.06.94-2.06 2.06-.94-2.06-.94-.94-2.06-.94 2.06-2.06.94zm-11 1L8.5 8.5l.94-2.06 2.06-.94-2.06-.94L8.5 2.5l-.94 2.06-2.06.94zm10 10l.94 2.06.94-2.06 2.06-.94-2.06-.94-.94-2.06-.94 2.06-2.06.94z\"/><path d=\"M17.41 7.96l-1.37-1.37c-.4-.4-.92-.59-1.43-.59-.52 0-1.04.2-1.43.59L10.3 9.45l-7.72 7.72c-.78.78-.78 2.05 0 2.83L4 21.41c.39.39.9.59 1.41.59.51 0 1.02-.2 1.41-.59l7.78-7.78 2.81-2.81c.8-.78.8-2.07 0-2.86zM5.41 20L4 18.59l7.72-7.72 1.47 1.35L5.41 20z\"/>\n",
              "  </svg>\n",
              "      </button>\n",
              "      \n",
              "  <style>\n",
              "    .colab-df-container {\n",
              "      display:flex;\n",
              "      flex-wrap:wrap;\n",
              "      gap: 12px;\n",
              "    }\n",
              "\n",
              "    .colab-df-convert {\n",
              "      background-color: #E8F0FE;\n",
              "      border: none;\n",
              "      border-radius: 50%;\n",
              "      cursor: pointer;\n",
              "      display: none;\n",
              "      fill: #1967D2;\n",
              "      height: 32px;\n",
              "      padding: 0 0 0 0;\n",
              "      width: 32px;\n",
              "    }\n",
              "\n",
              "    .colab-df-convert:hover {\n",
              "      background-color: #E2EBFA;\n",
              "      box-shadow: 0px 1px 2px rgba(60, 64, 67, 0.3), 0px 1px 3px 1px rgba(60, 64, 67, 0.15);\n",
              "      fill: #174EA6;\n",
              "    }\n",
              "\n",
              "    [theme=dark] .colab-df-convert {\n",
              "      background-color: #3B4455;\n",
              "      fill: #D2E3FC;\n",
              "    }\n",
              "\n",
              "    [theme=dark] .colab-df-convert:hover {\n",
              "      background-color: #434B5C;\n",
              "      box-shadow: 0px 1px 3px 1px rgba(0, 0, 0, 0.15);\n",
              "      filter: drop-shadow(0px 1px 2px rgba(0, 0, 0, 0.3));\n",
              "      fill: #FFFFFF;\n",
              "    }\n",
              "  </style>\n",
              "\n",
              "      <script>\n",
              "        const buttonEl =\n",
              "          document.querySelector('#df-314f8ac2-f731-47e5-9efa-17d1adf4d1c2 button.colab-df-convert');\n",
              "        buttonEl.style.display =\n",
              "          google.colab.kernel.accessAllowed ? 'block' : 'none';\n",
              "\n",
              "        async function convertToInteractive(key) {\n",
              "          const element = document.querySelector('#df-314f8ac2-f731-47e5-9efa-17d1adf4d1c2');\n",
              "          const dataTable =\n",
              "            await google.colab.kernel.invokeFunction('convertToInteractive',\n",
              "                                                     [key], {});\n",
              "          if (!dataTable) return;\n",
              "\n",
              "          const docLinkHtml = 'Like what you see? Visit the ' +\n",
              "            '<a target=\"_blank\" href=https://colab.research.google.com/notebooks/data_table.ipynb>data table notebook</a>'\n",
              "            + ' to learn more about interactive tables.';\n",
              "          element.innerHTML = '';\n",
              "          dataTable['output_type'] = 'display_data';\n",
              "          await google.colab.output.renderOutput(dataTable, element);\n",
              "          const docLink = document.createElement('div');\n",
              "          docLink.innerHTML = docLinkHtml;\n",
              "          element.appendChild(docLink);\n",
              "        }\n",
              "      </script>\n",
              "    </div>\n",
              "  </div>\n",
              "  "
            ]
          },
          "metadata": {},
          "execution_count": 17
        }
      ]
    },
    {
      "cell_type": "code",
      "execution_count": null,
      "metadata": {
        "id": "5VRSsFvdBz2P",
        "outputId": "334d131d-fafd-41cc-93c5-bab15a5a73ed",
        "colab": {
          "base_uri": "https://localhost:8080/"
        }
      },
      "outputs": [
        {
          "output_type": "execute_result",
          "data": {
            "text/plain": [
              "[]"
            ]
          },
          "metadata": {},
          "execution_count": 18
        }
      ],
      "source": [
        "# variables con valores nulos\n",
        "\n",
        "# en la siguiente list comprehension, iteraremos sobre las columnas\n",
        "# y seleccionaremos las que contienen valores nulos\n",
        "\n",
        "[var for var in data.columns if data[var].isnull().sum() > 0]"
      ]
    },
    {
      "cell_type": "code",
      "execution_count": null,
      "metadata": {
        "id": "AMsv4rliBz2P",
        "outputId": "38117a6a-c4af-4568-bd3a-9410c647de95",
        "colab": {
          "base_uri": "https://localhost:8080/"
        }
      },
      "outputs": [
        {
          "output_type": "execute_result",
          "data": {
            "text/plain": [
              "LotFrontage    0.0\n",
              "MasVnrArea     0.0\n",
              "GarageYrBlt    0.0\n",
              "dtype: float64"
            ]
          },
          "metadata": {},
          "execution_count": 19
        }
      ],
      "source": [
        "# porcentaje de valores nulos\n",
        "\n",
        "data[['LotFrontage', 'MasVnrArea', 'GarageYrBlt']].isnull().mean()"
      ]
    },
    {
      "cell_type": "markdown",
      "metadata": {
        "id": "E25ypqoFBz2P"
      },
      "source": [
        "Primero, separemos los datos en entrenamiento y prueba\n",
        "\n"
      ]
    },
    {
      "cell_type": "code",
      "execution_count": null,
      "metadata": {
        "id": "rJEJmbSZBz2Q",
        "outputId": "be839ce0-15c0-415c-8d33-4ec5fdf106af",
        "colab": {
          "base_uri": "https://localhost:8080/"
        }
      },
      "outputs": [
        {
          "output_type": "execute_result",
          "data": {
            "text/plain": [
              "((1022, 10), (438, 10))"
            ]
          },
          "metadata": {},
          "execution_count": 20
        }
      ],
      "source": [
        "# separemos los datos en entrenamiento y prueba\n",
        "\n",
        "X_train, X_test, y_train, y_test = train_test_split(data,\n",
        "                                                    data['SalePrice'],\n",
        "                                                    test_size=0.3,\n",
        "                                                    random_state=0)\n",
        "X_train.shape, X_test.shape"
      ]
    },
    {
      "cell_type": "code",
      "execution_count": null,
      "metadata": {
        "id": "yHv3eE3vBz2Q",
        "outputId": "d5c73073-06c6-43be-e245-8fc052bb1d93",
        "colab": {
          "base_uri": "https://localhost:8080/",
          "height": 607
        }
      },
      "outputs": [
        {
          "output_type": "display_data",
          "data": {
            "text/plain": [
              "<Figure size 720x720 with 9 Axes>"
            ],
            "image/png": "[encoded data removed]"
          },
          "metadata": {
            "needs_background": "light"
          }
        }
      ],
      "source": [
        "# distribuciones de las variables\n",
        "\n",
        "X_train.hist(bins=50, figsize=(10,10))\n",
        "plt.show()"
      ]
    },
    {
      "cell_type": "code",
      "execution_count": null,
      "metadata": {
        "id": "UxPPpUTlBz2Q"
      },
      "outputs": [],
      "source": [
        "# empecemos con la variable LotFrontage\n",
        "\n",
        "# vamos a crear una nueva variable sustituyendo los valores nulos\n",
        "# con el valor 999\n",
        "\n",
        "# en este caso 999 es seleccionado para posicionar los valores\n",
        "# al extremo derecho de la distribución\n",
        "# ya que podemos ver del histograma anterior que LotFrontAge\n",
        "# toma valores de hasta 300\n",
        "\n",
        "\n",
        "X_train.loc[:,'LotFrontage_imputed'] = impute_na(X_train, 'LotFrontage', 999)\n",
        "X_test.loc[:,'LotFrontage_imputed'] = impute_na(X_test, 'LotFrontage', 999)"
      ]
    },
    {
      "cell_type": "code",
      "execution_count": null,
      "metadata": {
        "id": "UFGW6S9EBz2Q"
      },
      "outputs": [],
      "source": [
        "# MasVnrArea tiene valores de hasta 1500, por lo tanto, 999 no\n",
        "# funcionaría como valor para sustituir con esta variable.\n",
        "# usaremos 2999\n",
        "\n",
        "X_train.loc[:,'MasVnrArea_imputed'] = impute_na(X_train, 'MasVnrArea', 2999)\n",
        "X_test.loc[:,'MasVnrArea_imputed'] = impute_na(X_test, 'MasVnrArea', 2999)"
      ]
    },
    {
      "cell_type": "code",
      "execution_count": null,
      "metadata": {
        "id": "ha6WcD2YBz2Q",
        "outputId": "8f243c61-d06d-46c4-daf7-949a39108a8e",
        "colab": {
          "base_uri": "https://localhost:8080/",
          "height": 282
        }
      },
      "outputs": [
        {
          "output_type": "execute_result",
          "data": {
            "text/plain": [
              "<matplotlib.legend.Legend at 0x7eff5ca952d0>"
            ]
          },
          "metadata": {},
          "execution_count": 24
        },
        {
          "output_type": "display_data",
          "data": {
            "text/plain": [
              "<Figure size 432x288 with 1 Axes>"
            ],
            "image/png": "[encoded data removed]"
          },
          "metadata": {
            "needs_background": "light"
          }
        }
      ],
      "source": [
        "# evaluemos el efecto de la sustitución en las distribuciones\n",
        "\n",
        "# Vemos como en la variable imputada hay una acumulación de valores\n",
        "# hacia el extremo derecho de LotFrontAge\n",
        "\n",
        "fig = plt.figure()\n",
        "ax = fig.add_subplot(111)\n",
        "\n",
        "# distribución original\n",
        "X_train['LotFrontage'].plot(kind='kde', ax=ax)\n",
        "\n",
        "# variable sustituida\n",
        "X_train['LotFrontage_imputed'].plot(kind='kde', ax=ax, color='red')\n",
        "\n",
        "# etiquetas\n",
        "lines, labels = ax.get_legend_handles_labels()\n",
        "ax.legend(lines, labels, loc='best')"
      ]
    },
    {
      "cell_type": "code",
      "execution_count": null,
      "metadata": {
        "id": "tvBHIIoQBz2R",
        "outputId": "86381cc5-4be6-493b-825a-c6a591e66a58",
        "colab": {
          "base_uri": "https://localhost:8080/",
          "height": 282
        }
      },
      "outputs": [
        {
          "output_type": "execute_result",
          "data": {
            "text/plain": [
              "<matplotlib.legend.Legend at 0x7eff5bd61450>"
            ]
          },
          "metadata": {},
          "execution_count": 25
        },
        {
          "output_type": "display_data",
          "data": {
            "text/plain": [
              "<Figure size 432x288 with 1 Axes>"
            ],
            "image/png": "[encoded data removed]"
          },
          "metadata": {
            "needs_background": "light"
          }
        }
      ],
      "source": [
        "# Como el porcentaje de valores nulos para MasVnrArea,\n",
        "# era menor, el cambio en la distribución es menor\n",
        "\n",
        "fig = plt.figure()\n",
        "ax = fig.add_subplot(111)\n",
        "\n",
        "\n",
        "# distribución original\n",
        "X_train['MasVnrArea'].plot(kind='kde', ax=ax)\n",
        "\n",
        "# variable sustituida con 2999\n",
        "X_train['MasVnrArea_imputed'].plot(kind='kde', ax=ax, color='red')\n",
        "\n",
        "# etiquetas\n",
        "lines, labels = ax.get_legend_handles_labels()\n",
        "ax.legend(lines, labels, loc='best')"
      ]
    },
    {
      "cell_type": "markdown",
      "metadata": {
        "id": "OpqD6wjdBz2R"
      },
      "source": [
        "Podemos observar de las gráficas anteriores que la distribución de LotFrontAge cambió dramáticamente, a diferencia de MasVnrArea. Esto se debe a que el % de valores nulos en la segunda variable es pequeño. Sin embargo, dependiendo del valor arbitrario seleccionado, la distribución se puede afectar más o menos.\n",
        "\n",
        "Por qué no intentas imputar las variables con diferentes números y comparas las distribuciones?\n",
        "\n",
        "Finalmente, podemos ver en el demo, que el proceso de seleccionar valores arbitrarios es bastante manual. Primero, tenemos que observar la distribución de cada variable, identificar los valores mínimos o máximos y finalmente seleccionar un valor que se acomode a cada variable para sustituir los valores nulos.  Una alternativa para automatizar este proceso, es seleccionar los valores arbitrarios siempre al extremo de la distribución, como veremos en el siguiente notebook"
      ]
    },
    {
      "cell_type": "code",
      "execution_count": null,
      "metadata": {
        "id": "h_0i-b-rBz2R",
        "outputId": "18fea62b-5536-46b4-97bf-1c7c02aa43d3",
        "colab": {
          "base_uri": "https://localhost:8080/"
        }
      },
      "outputs": [
        {
          "output_type": "stream",
          "name": "stdout",
          "text": [
            "Original Variance:  1166.3258000770516\n",
            "Variance after imputation:  1166.3258000770516\n"
          ]
        }
      ],
      "source": [
        "# veamos ahora el efecto de la sustitución\n",
        "# en la varianza\n",
        "\n",
        "# Para LotFrontAge hay un cambio significativo ya que el porcentaje\n",
        "# de valores nulos es alto, ~20%\n",
        "\n",
        "print('Original Variance: ', X_train['LotFrontage'].var())\n",
        "print('Variance after imputation: ', X_train['LotFrontage_imputed'].var())"
      ]
    },
    {
      "cell_type": "code",
      "execution_count": null,
      "metadata": {
        "id": "R_WnlM_VBz2R",
        "outputId": "1897c8e7-5ccf-44a6-e0a9-373d73cfd95c",
        "colab": {
          "base_uri": "https://localhost:8080/"
        }
      },
      "outputs": [
        {
          "output_type": "stream",
          "name": "stdout",
          "text": [
            "Varianza original:  32874.27007404175\n",
            "Varianza despues de sustitución:  32874.27007404175\n"
          ]
        }
      ],
      "source": [
        "# Lo mismo sucede para MasnVnrArea, a pesar que el % de valores nulos es bajo,\n",
        "# el valor arbitrario seleccionado es mucho más alto, lo cual influye\n",
        "# en la varianza\n",
        "\n",
        "print('Varianza original: ', X_train['MasVnrArea'].var())\n",
        "print('Varianza despues de sustitución: ', X_train['MasVnrArea_imputed'].var())"
      ]
    },
    {
      "cell_type": "code",
      "execution_count": null,
      "metadata": {
        "id": "pLqDCPcHBz2R",
        "outputId": "2d64d93e-d8ae-417d-c10b-13e34afffb58",
        "colab": {
          "base_uri": "https://localhost:8080/",
          "height": 458
        }
      },
      "outputs": [
        {
          "output_type": "execute_result",
          "data": {
            "text/plain": [
              "                      OverallQual   TotalBsmtSF      1stFlrSF     GrLivArea  \\\n",
              "OverallQual              1.843859  2.886241e+02  2.242973e+02  4.091242e+02   \n",
              "TotalBsmtSF            288.624075  1.682931e+05  1.212079e+05  8.615192e+04   \n",
              "1stFlrSF               224.297266  1.212079e+05  1.398656e+05  1.044401e+05   \n",
              "GrLivArea              409.124216  8.615192e+04  1.044401e+05  2.681277e+05   \n",
              "WoodDeckSF              31.685571  1.227966e+04  1.109406e+04  1.558395e+04   \n",
              "BsmtUnfSF              174.614725  7.513307e+04  4.987449e+04  5.203392e+04   \n",
              "LotFrontage              7.140486  2.426610e+03  2.399494e+03  2.711557e+03   \n",
              "MasVnrArea             100.533003  2.465436e+04  2.080136e+04  3.496714e+04   \n",
              "SalePrice            83201.317781  2.003928e+07  1.783631e+07  2.934477e+07   \n",
              "LotFrontage_imputed      7.140486  2.426610e+03  2.399494e+03  2.711557e+03   \n",
              "MasVnrArea_imputed     100.533003  2.465436e+04  2.080136e+04  3.496714e+04   \n",
              "\n",
              "                       WoodDeckSF     BsmtUnfSF    LotFrontage    MasVnrArea  \\\n",
              "OverallQual          3.168557e+01  1.746147e+02       7.140486  1.005330e+02   \n",
              "TotalBsmtSF          1.227966e+04  7.513307e+04    2426.609753  2.465436e+04   \n",
              "1stFlrSF             1.109406e+04  4.987449e+04    2399.494481  2.080136e+04   \n",
              "GrLivArea            1.558395e+04  5.203392e+04    2711.556662  3.496714e+04   \n",
              "WoodDeckSF           1.648582e+04 -1.833201e+03    -285.075911  3.212101e+03   \n",
              "BsmtUnfSF           -1.833201e+03  1.875241e+05    2256.661389  7.472110e+03   \n",
              "LotFrontage         -2.850759e+02  2.256661e+03    1166.325800  4.734195e+02   \n",
              "MasVnrArea           3.212101e+03  7.472110e+03     473.419523  3.287427e+04   \n",
              "SalePrice            3.029981e+06  6.833028e+06  514723.295173  6.790442e+06   \n",
              "LotFrontage_imputed -2.850759e+02  2.256661e+03    1166.325800  4.734195e+02   \n",
              "MasVnrArea_imputed   3.212101e+03  7.472110e+03     473.419523  3.287427e+04   \n",
              "\n",
              "                        SalePrice  LotFrontage_imputed  MasVnrArea_imputed  \n",
              "OverallQual          8.320132e+04             7.140486        1.005330e+02  \n",
              "TotalBsmtSF          2.003928e+07          2426.609753        2.465436e+04  \n",
              "1stFlrSF             1.783631e+07          2399.494481        2.080136e+04  \n",
              "GrLivArea            2.934477e+07          2711.556662        3.496714e+04  \n",
              "WoodDeckSF           3.029981e+06          -285.075911        3.212101e+03  \n",
              "BsmtUnfSF            6.833028e+06          2256.661389        7.472110e+03  \n",
              "LotFrontage          5.147233e+05          1166.325800        4.734195e+02  \n",
              "MasVnrArea           6.790442e+06           473.419523        3.287427e+04  \n",
              "SalePrice            6.105731e+09        514723.295173        6.790442e+06  \n",
              "LotFrontage_imputed  5.147233e+05          1166.325800        4.734195e+02  \n",
              "MasVnrArea_imputed   6.790442e+06           473.419523        3.287427e+04  "
            ],
            "text/html": [
              "\n",
              "  <div id=\"df-d7f111e0-a2b3-4470-9cdc-78d95a749356\">\n",
              "    <div class=\"colab-df-container\">\n",
              "      <div>\n",
              "<style scoped>\n",
              "    .dataframe tbody tr th:only-of-type {\n",
              "        vertical-align: middle;\n",
              "    }\n",
              "\n",
              "    .dataframe tbody tr th {\n",
              "        vertical-align: top;\n",
              "    }\n",
              "\n",
              "    .dataframe thead th {\n",
              "        text-align: right;\n",
              "    }\n",
              "</style>\n",
              "<table border=\"1\" class=\"dataframe\">\n",
              "  <thead>\n",
              "    <tr style=\"text-align: right;\">\n",
              "      <th></th>\n",
              "      <th>OverallQual</th>\n",
              "      <th>TotalBsmtSF</th>\n",
              "      <th>1stFlrSF</th>\n",
              "      <th>GrLivArea</th>\n",
              "      <th>WoodDeckSF</th>\n",
              "      <th>BsmtUnfSF</th>\n",
              "      <th>LotFrontage</th>\n",
              "      <th>MasVnrArea</th>\n",
              "      <th>SalePrice</th>\n",
              "      <th>LotFrontage_imputed</th>\n",
              "      <th>MasVnrArea_imputed</th>\n",
              "    </tr>\n",
              "  </thead>\n",
              "  <tbody>\n",
              "    <tr>\n",
              "      <th>OverallQual</th>\n",
              "      <td>1.843859</td>\n",
              "      <td>2.886241e+02</td>\n",
              "      <td>2.242973e+02</td>\n",
              "      <td>4.091242e+02</td>\n",
              "      <td>3.168557e+01</td>\n",
              "      <td>1.746147e+02</td>\n",
              "      <td>7.140486</td>\n",
              "      <td>1.005330e+02</td>\n",
              "      <td>8.320132e+04</td>\n",
              "      <td>7.140486</td>\n",
              "      <td>1.005330e+02</td>\n",
              "    </tr>\n",
              "    <tr>\n",
              "      <th>TotalBsmtSF</th>\n",
              "      <td>288.624075</td>\n",
              "      <td>1.682931e+05</td>\n",
              "      <td>1.212079e+05</td>\n",
              "      <td>8.615192e+04</td>\n",
              "      <td>1.227966e+04</td>\n",
              "      <td>7.513307e+04</td>\n",
              "      <td>2426.609753</td>\n",
              "      <td>2.465436e+04</td>\n",
              "      <td>2.003928e+07</td>\n",
              "      <td>2426.609753</td>\n",
              "      <td>2.465436e+04</td>\n",
              "    </tr>\n",
              "    <tr>\n",
              "      <th>1stFlrSF</th>\n",
              "      <td>224.297266</td>\n",
              "      <td>1.212079e+05</td>\n",
              "      <td>1.398656e+05</td>\n",
              "      <td>1.044401e+05</td>\n",
              "      <td>1.109406e+04</td>\n",
              "      <td>4.987449e+04</td>\n",
              "      <td>2399.494481</td>\n",
              "      <td>2.080136e+04</td>\n",
              "      <td>1.783631e+07</td>\n",
              "      <td>2399.494481</td>\n",
              "      <td>2.080136e+04</td>\n",
              "    </tr>\n",
              "    <tr>\n",
              "      <th>GrLivArea</th>\n",
              "      <td>409.124216</td>\n",
              "      <td>8.615192e+04</td>\n",
              "      <td>1.044401e+05</td>\n",
              "      <td>2.681277e+05</td>\n",
              "      <td>1.558395e+04</td>\n",
              "      <td>5.203392e+04</td>\n",
              "      <td>2711.556662</td>\n",
              "      <td>3.496714e+04</td>\n",
              "      <td>2.934477e+07</td>\n",
              "      <td>2711.556662</td>\n",
              "      <td>3.496714e+04</td>\n",
              "    </tr>\n",
              "    <tr>\n",
              "      <th>WoodDeckSF</th>\n",
              "      <td>31.685571</td>\n",
              "      <td>1.227966e+04</td>\n",
              "      <td>1.109406e+04</td>\n",
              "      <td>1.558395e+04</td>\n",
              "      <td>1.648582e+04</td>\n",
              "      <td>-1.833201e+03</td>\n",
              "      <td>-285.075911</td>\n",
              "      <td>3.212101e+03</td>\n",
              "      <td>3.029981e+06</td>\n",
              "      <td>-285.075911</td>\n",
              "      <td>3.212101e+03</td>\n",
              "    </tr>\n",
              "    <tr>\n",
              "      <th>BsmtUnfSF</th>\n",
              "      <td>174.614725</td>\n",
              "      <td>7.513307e+04</td>\n",
              "      <td>4.987449e+04</td>\n",
              "      <td>5.203392e+04</td>\n",
              "      <td>-1.833201e+03</td>\n",
              "      <td>1.875241e+05</td>\n",
              "      <td>2256.661389</td>\n",
              "      <td>7.472110e+03</td>\n",
              "      <td>6.833028e+06</td>\n",
              "      <td>2256.661389</td>\n",
              "      <td>7.472110e+03</td>\n",
              "    </tr>\n",
              "    <tr>\n",
              "      <th>LotFrontage</th>\n",
              "      <td>7.140486</td>\n",
              "      <td>2.426610e+03</td>\n",
              "      <td>2.399494e+03</td>\n",
              "      <td>2.711557e+03</td>\n",
              "      <td>-2.850759e+02</td>\n",
              "      <td>2.256661e+03</td>\n",
              "      <td>1166.325800</td>\n",
              "      <td>4.734195e+02</td>\n",
              "      <td>5.147233e+05</td>\n",
              "      <td>1166.325800</td>\n",
              "      <td>4.734195e+02</td>\n",
              "    </tr>\n",
              "    <tr>\n",
              "      <th>MasVnrArea</th>\n",
              "      <td>100.533003</td>\n",
              "      <td>2.465436e+04</td>\n",
              "      <td>2.080136e+04</td>\n",
              "      <td>3.496714e+04</td>\n",
              "      <td>3.212101e+03</td>\n",
              "      <td>7.472110e+03</td>\n",
              "      <td>473.419523</td>\n",
              "      <td>3.287427e+04</td>\n",
              "      <td>6.790442e+06</td>\n",
              "      <td>473.419523</td>\n",
              "      <td>3.287427e+04</td>\n",
              "    </tr>\n",
              "    <tr>\n",
              "      <th>SalePrice</th>\n",
              "      <td>83201.317781</td>\n",
              "      <td>2.003928e+07</td>\n",
              "      <td>1.783631e+07</td>\n",
              "      <td>2.934477e+07</td>\n",
              "      <td>3.029981e+06</td>\n",
              "      <td>6.833028e+06</td>\n",
              "      <td>514723.295173</td>\n",
              "      <td>6.790442e+06</td>\n",
              "      <td>6.105731e+09</td>\n",
              "      <td>514723.295173</td>\n",
              "      <td>6.790442e+06</td>\n",
              "    </tr>\n",
              "    <tr>\n",
              "      <th>LotFrontage_imputed</th>\n",
              "      <td>7.140486</td>\n",
              "      <td>2.426610e+03</td>\n",
              "      <td>2.399494e+03</td>\n",
              "      <td>2.711557e+03</td>\n",
              "      <td>-2.850759e+02</td>\n",
              "      <td>2.256661e+03</td>\n",
              "      <td>1166.325800</td>\n",
              "      <td>4.734195e+02</td>\n",
              "      <td>5.147233e+05</td>\n",
              "      <td>1166.325800</td>\n",
              "      <td>4.734195e+02</td>\n",
              "    </tr>\n",
              "    <tr>\n",
              "      <th>MasVnrArea_imputed</th>\n",
              "      <td>100.533003</td>\n",
              "      <td>2.465436e+04</td>\n",
              "      <td>2.080136e+04</td>\n",
              "      <td>3.496714e+04</td>\n",
              "      <td>3.212101e+03</td>\n",
              "      <td>7.472110e+03</td>\n",
              "      <td>473.419523</td>\n",
              "      <td>3.287427e+04</td>\n",
              "      <td>6.790442e+06</td>\n",
              "      <td>473.419523</td>\n",
              "      <td>3.287427e+04</td>\n",
              "    </tr>\n",
              "  </tbody>\n",
              "</table>\n",
              "</div>\n",
              "      <button class=\"colab-df-convert\" onclick=\"convertToInteractive('df-d7f111e0-a2b3-4470-9cdc-78d95a749356')\"\n",
              "              title=\"Convert this dataframe to an interactive table.\"\n",
              "              style=\"display:none;\">\n",
              "        \n",
              "  <svg xmlns=\"http://www.w3.org/2000/svg\" height=\"24px\"viewBox=\"0 0 24 24\"\n",
              "       width=\"24px\">\n",
              "    <path d=\"M0 0h24v24H0V0z\" fill=\"none\"/>\n",
              "    <path d=\"M18.56 5.44l.94 2.06.94-2.06 2.06-.94-2.06-.94-.94-2.06-.94 2.06-2.06.94zm-11 1L8.5 8.5l.94-2.06 2.06-.94-2.06-.94L8.5 2.5l-.94 2.06-2.06.94zm10 10l.94 2.06.94-2.06 2.06-.94-2.06-.94-.94-2.06-.94 2.06-2.06.94z\"/><path d=\"M17.41 7.96l-1.37-1.37c-.4-.4-.92-.59-1.43-.59-.52 0-1.04.2-1.43.59L10.3 9.45l-7.72 7.72c-.78.78-.78 2.05 0 2.83L4 21.41c.39.39.9.59 1.41.59.51 0 1.02-.2 1.41-.59l7.78-7.78 2.81-2.81c.8-.78.8-2.07 0-2.86zM5.41 20L4 18.59l7.72-7.72 1.47 1.35L5.41 20z\"/>\n",
              "  </svg>\n",
              "      </button>\n",
              "      \n",
              "  <style>\n",
              "    .colab-df-container {\n",
              "      display:flex;\n",
              "      flex-wrap:wrap;\n",
              "      gap: 12px;\n",
              "    }\n",
              "\n",
              "    .colab-df-convert {\n",
              "      background-color: #E8F0FE;\n",
              "      border: none;\n",
              "      border-radius: 50%;\n",
              "      cursor: pointer;\n",
              "      display: none;\n",
              "      fill: #1967D2;\n",
              "      height: 32px;\n",
              "      padding: 0 0 0 0;\n",
              "      width: 32px;\n",
              "    }\n",
              "\n",
              "    .colab-df-convert:hover {\n",
              "      background-color: #E2EBFA;\n",
              "      box-shadow: 0px 1px 2px rgba(60, 64, 67, 0.3), 0px 1px 3px 1px rgba(60, 64, 67, 0.15);\n",
              "      fill: #174EA6;\n",
              "    }\n",
              "\n",
              "    [theme=dark] .colab-df-convert {\n",
              "      background-color: #3B4455;\n",
              "      fill: #D2E3FC;\n",
              "    }\n",
              "\n",
              "    [theme=dark] .colab-df-convert:hover {\n",
              "      background-color: #434B5C;\n",
              "      box-shadow: 0px 1px 3px 1px rgba(0, 0, 0, 0.15);\n",
              "      filter: drop-shadow(0px 1px 2px rgba(0, 0, 0, 0.3));\n",
              "      fill: #FFFFFF;\n",
              "    }\n",
              "  </style>\n",
              "\n",
              "      <script>\n",
              "        const buttonEl =\n",
              "          document.querySelector('#df-d7f111e0-a2b3-4470-9cdc-78d95a749356 button.colab-df-convert');\n",
              "        buttonEl.style.display =\n",
              "          google.colab.kernel.accessAllowed ? 'block' : 'none';\n",
              "\n",
              "        async function convertToInteractive(key) {\n",
              "          const element = document.querySelector('#df-d7f111e0-a2b3-4470-9cdc-78d95a749356');\n",
              "          const dataTable =\n",
              "            await google.colab.kernel.invokeFunction('convertToInteractive',\n",
              "                                                     [key], {});\n",
              "          if (!dataTable) return;\n",
              "\n",
              "          const docLinkHtml = 'Like what you see? Visit the ' +\n",
              "            '<a target=\"_blank\" href=https://colab.research.google.com/notebooks/data_table.ipynb>data table notebook</a>'\n",
              "            + ' to learn more about interactive tables.';\n",
              "          element.innerHTML = '';\n",
              "          dataTable['output_type'] = 'display_data';\n",
              "          await google.colab.output.renderOutput(dataTable, element);\n",
              "          const docLink = document.createElement('div');\n",
              "          docLink.innerHTML = docLinkHtml;\n",
              "          element.appendChild(docLink);\n",
              "        }\n",
              "      </script>\n",
              "    </div>\n",
              "  </div>\n",
              "  "
            ]
          },
          "metadata": {},
          "execution_count": 28
        }
      ],
      "source": [
        "# Exploremos la covarianza:\n",
        "# tómate el tiempo de comparar los valores en la tabla\n",
        "\n",
        "X_train.cov()"
      ]
    }
  ],
  "metadata": {
    "kernelspec": {
      "display_name": "feml",
      "language": "python",
      "name": "feml"
    },
    "language_info": {
      "codemirror_mode": {
        "name": "ipython",
        "version": 3
      },
      "file_extension": ".py",
      "mimetype": "text/x-python",
      "name": "python",
      "nbconvert_exporter": "python",
      "pygments_lexer": "ipython3",
      "version": "3.8.2"
    },
    "toc": {
      "base_numbering": 1,
      "nav_menu": {},
      "number_sections": true,
      "sideBar": true,
      "skip_h1_title": false,
      "title_cell": "Table of Contents",
      "title_sidebar": "Contents",
      "toc_cell": false,
      "toc_position": {},
      "toc_section_display": "block",
      "toc_window_display": true
    },
    "colab": {
      "provenance": []
    }
  },
  "nbformat": 4,
  "nbformat_minor": 0
}
