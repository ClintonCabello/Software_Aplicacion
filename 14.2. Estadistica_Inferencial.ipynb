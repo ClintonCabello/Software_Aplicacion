{
  "nbformat": 4,
  "nbformat_minor": 0,
  "metadata": {
    "kernelspec": {
      "display_name": "Python 3",
      "language": "python",
      "name": "python3"
    },
    "language_info": {
      "codemirror_mode": {
        "name": "ipython",
        "version": 3
      },
      "file_extension": ".py",
      "mimetype": "text/x-python",
      "name": "python",
      "nbconvert_exporter": "python",
      "pygments_lexer": "ipython3",
      "version": "3.8.5"
    },
    "colab": {
      "provenance": [],
      "collapsed_sections": [
        "9VnN4XnpS_Gj",
        "NyEgfecxS_Gq",
        "jzul7vEdS_Gs"
      ]
    }
  },
  "cells": [
    {
      "cell_type": "markdown",
      "metadata": {
        "id": "t2jLpteUS_GW"
      },
      "source": [
        "### Estadística Inferencial con Python"
      ]
    },
    {
      "cell_type": "markdown",
      "metadata": {
        "id": "IxhfZLN8S_GZ"
      },
      "source": [
        "La estadística es una ciencia que tiene un rol relevante en muchas disciplinas por ello conviene tener nociones básicas al respecto y mejor aún si se domina un software como Python para automatizar análisis estadísticos.\n",
        "\n",
        "La estadística se clasifica en\n",
        "\n",
        "        Estadística Descriptiva\n",
        "        Estadística Inferencial"
      ]
    },
    {
      "cell_type": "markdown",
      "metadata": {
        "id": "n5mJVBISS_Ga"
      },
      "source": [
        "La estadística inferencial permite obtener conclusiones generales para una población mediante el análisis de una muestra. Dichas conclusiones además, van acompañadas de un nivel de significancia.\n",
        "\n",
        "Para ello se realizan análisis de hipótesis que deben ser validadas mediante coeficientes o estadísticos, como es el caso de las pruebas de bondad de ajuste."
      ]
    },
    {
      "cell_type": "markdown",
      "metadata": {
        "id": "Pajs6CBqS_Ga"
      },
      "source": [
        "Para el análisis inferencial con Python se importarán los siguientes paquetes:"
      ]
    },
    {
      "cell_type": "code",
      "metadata": {
        "id": "SLtkW6cKS_Ga"
      },
      "source": [
        "import numpy as np\n",
        "import matplotlib.pyplot as plt\n",
        "from scipy import stats\n",
        "import pandas as pd\n",
        "import seaborn as sns"
      ],
      "execution_count": null,
      "outputs": []
    },
    {
      "cell_type": "markdown",
      "metadata": {
        "id": "jgcW509_S_Gc"
      },
      "source": [
        "Las variables aleatorias, según sus características presentan diferentes distribuciones.\n",
        "Cada tipo de distribución se define según ciertos estadísticos.\n",
        "Por ejemplo la distribución normal se define con la media y la desviacion estandar."
      ]
    },
    {
      "cell_type": "markdown",
      "metadata": {
        "id": "bwl0FvWiS_Gc"
      },
      "source": [
        "En la siguiente celda \"descomente\" las líneas y observe las distribuciones uniforme, normal y exponencial."
      ]
    },
    {
      "cell_type": "code",
      "metadata": {
        "colab": {
          "base_uri": "https://localhost:8080/",
          "height": 265
        },
        "id": "ZoPBwmuHS_Gc",
        "outputId": "bda9b65c-e980-46c0-9884-6d653e5fd455"
      },
      "source": [
        "# La función \"np.random\" permite obtener valores aleatorios según\n",
        "# diferentes distribuciones estadísticas\n",
        "\n",
        "# Con la función RandomState se mantiene el mismo estado aleatorio\n",
        "r = np.random.RandomState(1234)\n",
        "\n",
        "# en una variable uniforme la distribución es una recta horizontal\n",
        "#values = r.uniform(0, 20.0, 1000000)\n",
        "# en una distribucion uniforme los parametros son (inicio, fin, tamaño)\n",
        "\n",
        "#values = r.normal(10, 2, 100000)\n",
        "# en una distribución nomal los parámetros son (media, std, tamaño)\n",
        "\n",
        "#values = r.exponential(5,10000)\n",
        "# en una distribución exponencial los parámetros son (lambda, tamaño)\n",
        "\n",
        "#values = r.weibull(100,50000)\n",
        "# en una distribución de weibull los parámetros son (a, tamaño)\n",
        "\n",
        "values = r.beta(2, 12, 100000)\n",
        "# en una distribución beta los parámetros son(alpha, beta, tamaño)\n",
        "\n",
        "plt.hist(values,40)\n",
        "plt.show()"
      ],
      "execution_count": null,
      "outputs": [
        {
          "output_type": "display_data",
          "data": {
            "text/plain": [
              "<Figure size 432x288 with 1 Axes>"
            ],
            "image/png": "[encoded data removed]"
          },
          "metadata": {
            "needs_background": "light"
          }
        }
      ]
    },
    {
      "cell_type": "markdown",
      "metadata": {
        "id": "cmbpEBGYS_Gd"
      },
      "source": [
        "### Prueba de bondad de ajuste"
      ]
    },
    {
      "cell_type": "markdown",
      "metadata": {
        "id": "soSc66rvS_Gd"
      },
      "source": [
        "Para sacar conclusiones a partir de una muestra se debe primero realizar una prueba de bondad de ajuste para identificar qué distribución estadística modela a los datos con suficiente significancia."
      ]
    },
    {
      "cell_type": "code",
      "metadata": {
        "id": "MeWam-UhS_Gd"
      },
      "source": [
        "# se utilizará la siguiente variable:\n",
        "iris = pd.read_csv(\"https://raw.githubusercontent.com/toneloy/data/master/iris.csv\")\n",
        "var = iris[\"sepal_length\"]"
      ],
      "execution_count": null,
      "outputs": []
    },
    {
      "cell_type": "code",
      "metadata": {
        "colab": {
          "base_uri": "https://localhost:8080/",
          "height": 280
        },
        "id": "K5qTT1F0S_Ge",
        "outputId": "f087d57c-1df2-4a8e-c13c-825da3d1febe"
      },
      "source": [
        "sns.histplot(var,color=\"b\", kde=True)\n",
        "plt.show()"
      ],
      "execution_count": null,
      "outputs": [
        {
          "output_type": "display_data",
          "data": {
            "text/plain": [
              "<Figure size 432x288 with 1 Axes>"
            ],
            "image/png": "[encoded data removed]"
          },
          "metadata": {
            "needs_background": "light"
          }
        }
      ]
    },
    {
      "cell_type": "markdown",
      "metadata": {
        "id": "PfHhNJ54S_Ge"
      },
      "source": [
        "Al realizar un test se está realizando un análisis de hipótesis, estos análisis se caracterizan por presentar una hipótesis nula y una hipótesis alternativa.\n",
        "\n",
        "    La hipótesis nula es: \"la distribución de mi variable real se ajusta a la distribución ideal\".\n",
        "    La hipotesis alternativa es \"la distribución de mi variable real no se ajusta a la distribución ideal\".\n",
        "    La prueba en Python arroja dos estadísticos, de estos dos el \"pvalor\" es el número más importante porque cuantifica la incertidumbre y permite aceptar o no la hipótesis nula. Con un p valor mayor a 0.05 se acepta la hipótesis nula\n",
        "\n",
        "Se realiza con la función:\n",
        "    \n",
        "    stats.kstest(variable_normalizada,'norm')"
      ]
    },
    {
      "cell_type": "markdown",
      "metadata": {
        "id": "lfnaY_hcS_Ge"
      },
      "source": [
        "Pero antes de realizar la prueba se debe normalizar la variable. Para ello se le resta la media y se divide entre la desviación estandar:"
      ]
    },
    {
      "cell_type": "code",
      "metadata": {
        "colab": {
          "base_uri": "https://localhost:8080/"
        },
        "id": "BF8j1tNTS_Gf",
        "outputId": "5f844623-a47a-49bc-9863-f5db7b0dabab"
      },
      "source": [
        "media_var = var.mean()\n",
        "std_var = var.std()\n",
        "print(media_var, std_var)"
      ],
      "execution_count": null,
      "outputs": [
        {
          "output_type": "stream",
          "name": "stdout",
          "text": [
            "5.843333333333334 0.828066127977863\n"
          ]
        }
      ]
    },
    {
      "cell_type": "code",
      "metadata": {
        "colab": {
          "base_uri": "https://localhost:8080/",
          "height": 280
        },
        "id": "rsoKN1QmS_Gf",
        "outputId": "4f5b7f29-0c1a-4dcc-c205-97e860d0c8ad"
      },
      "source": [
        "var_norm=(var-media_var)/std_var\n",
        "sns.histplot(var_norm,color=\"b\", kde=True)\n",
        "plt.show()"
      ],
      "execution_count": null,
      "outputs": [
        {
          "output_type": "display_data",
          "data": {
            "text/plain": [
              "<Figure size 432x288 with 1 Axes>"
            ],
            "image/png": "[encoded data removed]"
          },
          "metadata": {
            "needs_background": "light"
          }
        }
      ]
    },
    {
      "cell_type": "code",
      "metadata": {
        "colab": {
          "base_uri": "https://localhost:8080/"
        },
        "id": "-aN7dkwzS_Gg",
        "outputId": "b1f46005-fc4d-45ac-eef4-600fabbf08dc"
      },
      "source": [
        "# Test de bondad de ajuste\n",
        "# stat.kstest(datos, distribucion)\n",
        "stats.kstest(var_norm,'norm')"
      ],
      "execution_count": null,
      "outputs": [
        {
          "output_type": "execute_result",
          "data": {
            "text/plain": [
              "KstestResult(statistic=0.08865361377316228, pvalue=0.17813737848592026)"
            ]
          },
          "metadata": {},
          "execution_count": 18
        }
      ]
    },
    {
      "cell_type": "markdown",
      "metadata": {
        "id": "P_0tX_XwS_Gg"
      },
      "source": [
        "Con el resultado anterior de un pvalor = 0.178 se acepta la hipótesis nula y se puede utilizar la distribución normal ideal para obtener conclusiones."
      ]
    },
    {
      "cell_type": "markdown",
      "metadata": {
        "id": "UJl8YReqS_Gg"
      },
      "source": [
        "A continuación se realizará el mismo procedimiento con otra variable"
      ]
    },
    {
      "cell_type": "code",
      "metadata": {
        "colab": {
          "base_uri": "https://localhost:8080/",
          "height": 265
        },
        "id": "bYcP2MwPS_Gh",
        "outputId": "0b75f27a-4af3-4a7e-dee3-ed3d428fc562"
      },
      "source": [
        "# Se genera una distribución normal con una determinada media (mu)\n",
        "# y desviacion (sigma)\n",
        "\n",
        "mu = 5.0\n",
        "sigma = 2.0\n",
        "r = np.random.RandomState(1234)\n",
        "var1 = r.normal(mu, sigma, 40000)\n",
        "plt.hist(var1, 50)\n",
        "plt.show()"
      ],
      "execution_count": null,
      "outputs": [
        {
          "output_type": "display_data",
          "data": {
            "text/plain": [
              "<Figure size 432x288 with 1 Axes>"
            ],
            "image/png": "[encoded data removed]"
          },
          "metadata": {
            "needs_background": "light"
          }
        }
      ]
    },
    {
      "cell_type": "code",
      "metadata": {
        "colab": {
          "base_uri": "https://localhost:8080/",
          "height": 265
        },
        "id": "TORJ5eZ4S_Gh",
        "outputId": "f0ec31ad-104a-40c9-94f6-e727d42ebd6d"
      },
      "source": [
        "sns.histplot(var1,color=\"b\", kde = True)\n",
        "plt.show()"
      ],
      "execution_count": null,
      "outputs": [
        {
          "output_type": "display_data",
          "data": {
            "text/plain": [
              "<Figure size 432x288 with 1 Axes>"
            ],
            "image/png": "[encoded data removed]"
          },
          "metadata": {
            "needs_background": "light"
          }
        }
      ]
    },
    {
      "cell_type": "code",
      "metadata": {
        "colab": {
          "base_uri": "https://localhost:8080/"
        },
        "id": "Kfsx-QfbS_Gh",
        "outputId": "39be17f1-edfa-48fd-919f-ced87309262a"
      },
      "source": [
        "# ANTES DE HACER EL TEST SE NORMALIZA LA VARIABLE\n",
        "# se resta la media y se divide entre la varianza\n",
        "media_var1 = var1.mean()\n",
        "std_var1 = var1.std()\n",
        "print(media_var1, std_var1)"
      ],
      "execution_count": null,
      "outputs": [
        {
          "output_type": "stream",
          "name": "stdout",
          "text": [
            "5.004153504473754 1.996845814310894\n"
          ]
        }
      ]
    },
    {
      "cell_type": "code",
      "metadata": {
        "colab": {
          "base_uri": "https://localhost:8080/",
          "height": 265
        },
        "id": "3BVVRfWzS_Gh",
        "outputId": "6c96386c-9621-45f0-eea7-bdfeb0b5e39b"
      },
      "source": [
        "# normalización de la data\n",
        "var1_norm=(var1-media_var1)/std_var1\n",
        "sns.histplot(var1_norm,color=\"b\", kde=True)\n",
        "plt.show()"
      ],
      "execution_count": null,
      "outputs": [
        {
          "output_type": "display_data",
          "data": {
            "text/plain": [
              "<Figure size 432x288 with 1 Axes>"
            ],
            "image/png": "[encoded data removed]"
          },
          "metadata": {
            "needs_background": "light"
          }
        }
      ]
    },
    {
      "cell_type": "code",
      "metadata": {
        "colab": {
          "base_uri": "https://localhost:8080/"
        },
        "id": "2SZn-LJ4S_Gi",
        "outputId": "0bae4901-2560-48dc-fcdc-e184eaf547bc"
      },
      "source": [
        "# Test de bondad de ajuste\n",
        "# stat.kstest(datos, distribucion)\n",
        "stats.kstest(var1_norm,'norm')"
      ],
      "execution_count": null,
      "outputs": [
        {
          "output_type": "execute_result",
          "data": {
            "text/plain": [
              "KstestResult(statistic=0.0026256493486620514, pvalue=0.9448785571380185)"
            ]
          },
          "metadata": {},
          "execution_count": 24
        }
      ]
    },
    {
      "cell_type": "markdown",
      "metadata": {
        "id": "LLQdaTZUS_Gi"
      },
      "source": [
        "Se puede realizar el test para otras distribuciones de variables aleatorias continuas, por ejemplo para las distribuciones exponenciales y beta:\n",
        "    \n",
        "    stats.kstest(var2_norm,'expon')\n",
        "    stats.kstest(var2_norm, (5,8), 'beta')\n",
        "\n",
        "Sin embargo este test está optimizado solo para ciertas distribuciones predefinidas, por ello para realizar test para otras distribuciones se recomiendo utilzar la biblioteca stats models. Puede revisar otros indicadores y test en:\n",
        "\n",
        "https://www.statsmodels.org/stable/stats.html#goodness-of-fit-tests-and-measures\n",
        "\n",
        "https://www.statsmodels.org/stable/index.html"
      ]
    },
    {
      "cell_type": "code",
      "metadata": {
        "colab": {
          "base_uri": "https://localhost:8080/"
        },
        "id": "Fkh09pPeS_Gi",
        "outputId": "c151f95d-3aa6-4746-f8cf-60587e6f0caa"
      },
      "source": [
        "stats.kstest(var_norm,(5,8), 'beta')"
      ],
      "execution_count": null,
      "outputs": [
        {
          "output_type": "execute_result",
          "data": {
            "text/plain": [
              "KstestResult(statistic=1.0, pvalue=0.00017427675148129484)"
            ]
          },
          "metadata": {},
          "execution_count": 25
        }
      ]
    },
    {
      "cell_type": "markdown",
      "metadata": {
        "id": "9VnN4XnpS_Gj"
      },
      "source": [
        "### Teoría de probabilidad"
      ]
    },
    {
      "cell_type": "markdown",
      "metadata": {
        "id": "1x7VxIJgS_Gj"
      },
      "source": [
        "Después de validar que se pueden obtener conclusiones a partir de la distribución ideal, se utilizan los modelos de \"stats\" para obtener probabilidades. El modelo a utilizar es una normal de media 5 y desviación estandar 2."
      ]
    },
    {
      "cell_type": "code",
      "metadata": {
        "id": "43rgREcSS_Gj"
      },
      "source": [
        "# se define el modelo:\n",
        "u = 5.0 #media\n",
        "s = 2.0 #desviacion estandar"
      ],
      "execution_count": null,
      "outputs": []
    },
    {
      "cell_type": "markdown",
      "metadata": {
        "id": "A9OEld_ZS_Gj"
      },
      "source": [
        "Con la función densidad de probabilidad acumulada se pueden obtener probabilidades. Se utiliza en conjunto con el teorema de bayes.\n",
        "\n",
        "El método cdf permite obtener el valor de la función de distribución acumulada."
      ]
    },
    {
      "cell_type": "code",
      "metadata": {
        "colab": {
          "base_uri": "https://localhost:8080/"
        },
        "id": "HhBoUu3iS_Gk",
        "outputId": "23c1d5b6-a87e-4150-a4ea-2961d154c2d6"
      },
      "source": [
        "# ¿cuál es la probabibilidad de obtener un valor menor que 5? P(x<5)\n",
        "a = 5\n",
        "# paquete.clase.metodo (argumetos: medida, media, variación estandar)\n",
        "x = stats.norm.cdf(a, u, s)\n",
        "print(x)\n",
        "\n",
        "#https://calculadorasonline.com/calculadora-de-distribucion-nomal-campana-de-gauss/"
      ],
      "execution_count": null,
      "outputs": [
        {
          "output_type": "stream",
          "name": "stdout",
          "text": [
            "0.5\n"
          ]
        }
      ]
    },
    {
      "cell_type": "code",
      "metadata": {
        "colab": {
          "base_uri": "https://localhost:8080/"
        },
        "id": "7Pk9pK0rS_Gk",
        "outputId": "ee939bf8-a930-420b-fa5b-aa6bd8360016"
      },
      "source": [
        "# ¿cuál es la probabilidad de obtener un valor menor a 2? P(x<2)\n",
        "a = 2\n",
        "x = stats.norm.cdf(a, u, s)\n",
        "print(x)"
      ],
      "execution_count": null,
      "outputs": [
        {
          "output_type": "stream",
          "name": "stdout",
          "text": [
            "0.06680720126885807\n"
          ]
        }
      ]
    },
    {
      "cell_type": "code",
      "metadata": {
        "id": "LGj-SYNES_Gk",
        "colab": {
          "base_uri": "https://localhost:8080/"
        },
        "outputId": "f0c0473f-3d41-443c-ba53-431013f9cc48"
      },
      "source": [
        "# ¿cuál es la probabilidad de obtener un valor menor a 1? P(x<1)\n",
        "a = 1\n",
        "x = stats.norm.cdf(a, u, s)\n",
        "print(x)"
      ],
      "execution_count": null,
      "outputs": [
        {
          "output_type": "stream",
          "name": "stdout",
          "text": [
            "0.022750131948179195\n"
          ]
        }
      ]
    },
    {
      "cell_type": "code",
      "metadata": {
        "colab": {
          "base_uri": "https://localhost:8080/"
        },
        "id": "cMG5_phPS_Gl",
        "outputId": "3539025d-4e86-47c8-b98a-5f885537c812"
      },
      "source": [
        "# ¿cuál es la probabilidad de obtener un valor entre 6 y 8? P(6<x<8)\n",
        "a = 8\n",
        "b = 6\n",
        "x = stats.norm.cdf(a, u, s) - stats.norm.cdf(b, u, s)\n",
        "print(x)"
      ],
      "execution_count": null,
      "outputs": [
        {
          "output_type": "stream",
          "name": "stdout",
          "text": [
            "0.2417303374571288\n"
          ]
        }
      ]
    },
    {
      "cell_type": "code",
      "metadata": {
        "colab": {
          "base_uri": "https://localhost:8080/"
        },
        "id": "0sAsH5KpS_Gl",
        "outputId": "ab53fe95-e9df-4d8b-a85d-557422a7e3b5"
      },
      "source": [
        "# ¿cuál es la probabilidad de obtener un valor entre 2 y 5? P(2<x<5)\n",
        "a = 5\n",
        "b = 2\n",
        "x = stats.norm.cdf(a, u, s) - stats.norm.cdf(b, u, s)\n",
        "print(x)"
      ],
      "execution_count": null,
      "outputs": [
        {
          "output_type": "stream",
          "name": "stdout",
          "text": [
            "0.4331927987311419\n"
          ]
        }
      ]
    },
    {
      "cell_type": "code",
      "metadata": {
        "colab": {
          "base_uri": "https://localhost:8080/"
        },
        "id": "g1zptNa2S_Gm",
        "outputId": "f7ee2e37-8ef8-4a3b-913b-1cfc70a9e452"
      },
      "source": [
        "# ¿cuál es la probabilidad de obtener un valor mayor a 7? P(x>7)\n",
        "# restar de 1 la probabilidad de obtener un valor menor a 7\n",
        "a = 7\n",
        "x = 1 - stats.norm.cdf(a, u, s)\n",
        "print(x)"
      ],
      "execution_count": null,
      "outputs": [
        {
          "output_type": "stream",
          "name": "stdout",
          "text": [
            "0.15865525393145707\n"
          ]
        }
      ]
    },
    {
      "cell_type": "code",
      "metadata": {
        "colab": {
          "base_uri": "https://localhost:8080/"
        },
        "id": "-JLRz8GnS_Gn",
        "outputId": "ae5731ff-0e07-40d9-f6d9-00224ebc4541"
      },
      "source": [
        "# ¿cuál es la probabilidad de obtener un valor mayor a 9? P(x>9)\n",
        "a = 9\n",
        "x = 1 - stats.norm.cdf(a, u, s)\n",
        "print(x)"
      ],
      "execution_count": null,
      "outputs": [
        {
          "output_type": "stream",
          "name": "stdout",
          "text": [
            "0.02275013194817921\n"
          ]
        }
      ]
    },
    {
      "cell_type": "code",
      "metadata": {
        "colab": {
          "base_uri": "https://localhost:8080/"
        },
        "id": "yKaAW3LyS_Gn",
        "outputId": "b853e629-70d7-4c2c-bfb8-dccf00518c91"
      },
      "source": [
        "# Hallar Z tal que P(x<Z)= 20%\n",
        "p = 0.2\n",
        "# se usa la funcion inversa de la densidad acumulada (ppf)\n",
        "Z = stats.norm.ppf(p, u, s)\n",
        "print(Z)"
      ],
      "execution_count": null,
      "outputs": [
        {
          "output_type": "stream",
          "name": "stdout",
          "text": [
            "3.3167575328541714\n"
          ]
        }
      ]
    },
    {
      "cell_type": "code",
      "metadata": {
        "colab": {
          "base_uri": "https://localhost:8080/"
        },
        "id": "SJ1RhXQfS_Go",
        "outputId": "92820e0c-a0ae-49ff-dc7f-6601029365ac"
      },
      "source": [
        "stats.norm.cdf(Z, u, s)"
      ],
      "execution_count": null,
      "outputs": [
        {
          "output_type": "execute_result",
          "data": {
            "text/plain": [
              "0.2"
            ]
          },
          "metadata": {},
          "execution_count": 35
        }
      ]
    },
    {
      "cell_type": "code",
      "metadata": {
        "colab": {
          "base_uri": "https://localhost:8080/"
        },
        "id": "oq8XBsf6S_Go",
        "outputId": "fff79935-2e35-4024-8e29-524ea037ad1e"
      },
      "source": [
        "# Hallar Z tal que P(x<Z)= 60%\n",
        "p = 0.6\n",
        "# se usa la funcion inversa de la densidad acumulada (ppf)\n",
        "Z = stats.norm.ppf(p, u, s)\n",
        "print(Z)"
      ],
      "execution_count": null,
      "outputs": [
        {
          "output_type": "stream",
          "name": "stdout",
          "text": [
            "5.506694206271599\n"
          ]
        }
      ]
    },
    {
      "cell_type": "code",
      "metadata": {
        "colab": {
          "base_uri": "https://localhost:8080/"
        },
        "id": "w2r9igvsWsoa",
        "outputId": "21b83b57-483e-461d-f784-eb9d04749f5d"
      },
      "source": [
        "stats.norm.cdf(Z, u, s)"
      ],
      "execution_count": null,
      "outputs": [
        {
          "output_type": "execute_result",
          "data": {
            "text/plain": [
              "0.6"
            ]
          },
          "metadata": {},
          "execution_count": 37
        }
      ]
    },
    {
      "cell_type": "code",
      "metadata": {
        "colab": {
          "base_uri": "https://localhost:8080/"
        },
        "id": "7GydIHkOSmZm",
        "outputId": "bb96ee8c-947c-409e-815a-d1938210f54f"
      },
      "source": [
        "xx=stats.norm.cdf(3,u,s)+0.6\n",
        "Z=stats.norm.ppf(xx,u,s)\n",
        "print(xx,Z)"
      ],
      "execution_count": null,
      "outputs": [
        {
          "output_type": "stream",
          "name": "stdout",
          "text": [
            "0.758655253931457 6.403966875932676\n"
          ]
        }
      ]
    },
    {
      "cell_type": "code",
      "metadata": {
        "colab": {
          "base_uri": "https://localhost:8080/"
        },
        "id": "zZ5ZfGwCTVKB",
        "outputId": "428b2c6b-1aae-4f4f-ef27-8a71841f5039"
      },
      "source": [
        "aa=stats.norm.cdf(Z,u,s)-stats.norm.cdf(3,u,s)\n",
        "print(aa)"
      ],
      "execution_count": null,
      "outputs": [
        {
          "output_type": "stream",
          "name": "stdout",
          "text": [
            "0.6\n"
          ]
        }
      ]
    },
    {
      "cell_type": "code",
      "metadata": {
        "colab": {
          "base_uri": "https://localhost:8080/"
        },
        "id": "xdbJwwCWS_Go",
        "outputId": "a8985e25-d146-4e53-dc46-10c6c30f2c7c"
      },
      "source": [
        "# Hallar Z tal que P(3<x<Z) = 60%\n",
        "a = 3\n",
        "x = stats.norm.cdf(a, u, s)\n",
        "print(x)"
      ],
      "execution_count": null,
      "outputs": [
        {
          "output_type": "stream",
          "name": "stdout",
          "text": [
            "0.15865525393145707\n"
          ]
        }
      ]
    },
    {
      "cell_type": "code",
      "metadata": {
        "colab": {
          "base_uri": "https://localhost:8080/"
        },
        "id": "FbBjtRbFS_Go",
        "outputId": "f39bdebe-6682-456c-ef71-84968937f0b1"
      },
      "source": [
        "p = x + 0.6\n",
        "Z = stats.norm.ppf(p, u, s)\n",
        "print(Z)"
      ],
      "execution_count": null,
      "outputs": [
        {
          "output_type": "stream",
          "name": "stdout",
          "text": [
            "6.403966875932676\n"
          ]
        }
      ]
    },
    {
      "cell_type": "code",
      "metadata": {
        "colab": {
          "base_uri": "https://localhost:8080/"
        },
        "id": "nboRqW68S_Gp",
        "outputId": "cfafd808-7d49-4c84-d9bb-abaee94828ed"
      },
      "source": [
        "a = 3\n",
        "x = stats.norm.cdf(Z, u, s) - stats.norm.cdf(a, u, s)\n",
        "print(x)"
      ],
      "execution_count": null,
      "outputs": [
        {
          "output_type": "stream",
          "name": "stdout",
          "text": [
            "0.6\n"
          ]
        }
      ]
    },
    {
      "cell_type": "code",
      "metadata": {
        "id": "UZV_X8s-S_Gp",
        "colab": {
          "base_uri": "https://localhost:8080/"
        },
        "outputId": "24aa011f-a46b-473f-ebdd-dbff7048ba2a"
      },
      "source": [
        "# Hallar Z tal que P(1.5<x<Z) = 25%\n",
        "a=stats.norm.cdf(1.5,u,s)\n",
        "p=a+0.25\n",
        "z=stats.norm.ppf(p,u,s)\n",
        "print(z)"
      ],
      "execution_count": null,
      "outputs": [
        {
          "output_type": "stream",
          "name": "stdout",
          "text": [
            "3.8935761836348317\n"
          ]
        }
      ]
    },
    {
      "cell_type": "code",
      "metadata": {
        "colab": {
          "base_uri": "https://localhost:8080/"
        },
        "id": "Hj2fuMt8Uwna",
        "outputId": "8edb26cf-d003-4e1f-afc3-9ba594b04d62"
      },
      "source": [
        "ar=stats.norm.cdf(3.895,u,s)-stats.norm.cdf(1.5,u,s)\n",
        "print(ar)"
      ],
      "execution_count": null,
      "outputs": [
        {
          "output_type": "stream",
          "name": "stdout",
          "text": [
            "0.25024376034382856\n"
          ]
        }
      ]
    },
    {
      "cell_type": "markdown",
      "metadata": {
        "id": "Le2AjmBwS_Gq"
      },
      "source": [
        "Otros métodos y funciones del paquete stats:\n",
        "https://docs.scipy.org/doc/scipy/reference/generated/scipy.stats.norm.html"
      ]
    },
    {
      "cell_type": "markdown",
      "metadata": {
        "id": "T0PxwE4NS_Gq"
      },
      "source": [
        "Revise la bibliografía y conozca qué otras distribuciones están disponibles\n",
        "https://docs.scipy.org/doc/scipy/reference/stats.html\n",
        "\n",
        "Revise la web de minitab para conocer más sobre distribuciones# https://support.minitab.com/es-mx/minitab/18/help-and-how-to/probability-distributions-and-random-data/supporting-topics/distributions/normal-distribution/"
      ]
    },
    {
      "cell_type": "markdown",
      "metadata": {
        "id": "NyEgfecxS_Gq"
      },
      "source": [
        "#### Ejemplo práctico"
      ]
    },
    {
      "cell_type": "code",
      "metadata": {
        "id": "EhhSGb6nS_Gq"
      },
      "source": [
        "# se importan los paquetes y datos\n",
        "import numpy as np\n",
        "import pandas as pd\n",
        "import matplotlib.pyplot as plt\n",
        "from scipy import stats\n",
        "\n"
      ],
      "execution_count": null,
      "outputs": []
    },
    {
      "cell_type": "code",
      "source": [
        "data=pd.read_csv('https://docs.google.com/spreadsheets/d/e/2PACX-1vQl8hQ-kH1dOW59jC5JmKhU0eW2p17MCQ_k2SalxY-IprfqfBPg5WixXK-UkZ8XYw/pub?output=csv')\n",
        "data"
      ],
      "metadata": {
        "colab": {
          "base_uri": "https://localhost:8080/",
          "height": 502
        },
        "id": "bHqcQ1jjWGz9",
        "outputId": "6b906c01-53be-46ee-99ae-2fd9329342b8"
      },
      "execution_count": null,
      "outputs": [
        {
          "output_type": "execute_result",
          "data": {
            "text/plain": [
              "     Cement (component 1)(kg in a m^3 mixture)  \\\n",
              "0                                       540,0    \n",
              "1                                       540,0    \n",
              "2                                       332,5    \n",
              "3                                       332,5    \n",
              "4                                       198,6    \n",
              "...                                        ...   \n",
              "1025                                    276,4    \n",
              "1026                                    322,2    \n",
              "1027                                    148,5    \n",
              "1028                                    159,1    \n",
              "1029                                    260,9    \n",
              "\n",
              "     Blast Furnace Slag (component 2)(kg in a m^3 mixture)  \\\n",
              "0                                                  0,0       \n",
              "1                                                  0,0       \n",
              "2                                                142,5       \n",
              "3                                                142,5       \n",
              "4                                                132,4       \n",
              "...                                                 ...      \n",
              "1025                                             116,0       \n",
              "1026                                               0,0       \n",
              "1027                                             139,4       \n",
              "1028                                             186,7       \n",
              "1029                                             100,5       \n",
              "\n",
              "     Fly Ash (component 3)(kg in a m^3 mixture)  \\\n",
              "0                                          0,0    \n",
              "1                                          0,0    \n",
              "2                                          0,0    \n",
              "3                                          0,0    \n",
              "4                                          0,0    \n",
              "...                                         ...   \n",
              "1025                                      90,3    \n",
              "1026                                     115,6    \n",
              "1027                                     108,6    \n",
              "1028                                       0,0    \n",
              "1029                                      78,3    \n",
              "\n",
              "     Water  (component 4)(kg in a m^3 mixture)  \\\n",
              "0                                       162,0    \n",
              "1                                       162,0    \n",
              "2                                       228,0    \n",
              "3                                       228,0    \n",
              "4                                       192,0    \n",
              "...                                        ...   \n",
              "1025                                    179,6    \n",
              "1026                                    196,0    \n",
              "1027                                    192,7    \n",
              "1028                                    175,6    \n",
              "1029                                    200,6    \n",
              "\n",
              "     Superplasticizer (component 5)(kg in a m^3 mixture)  \\\n",
              "0                                                  2,5     \n",
              "1                                                  2,5     \n",
              "2                                                  0,0     \n",
              "3                                                  0,0     \n",
              "4                                                  0,0     \n",
              "...                                                 ...    \n",
              "1025                                               8,9     \n",
              "1026                                              10,4     \n",
              "1027                                               6,1     \n",
              "1028                                              11,3     \n",
              "1029                                               8,6     \n",
              "\n",
              "     Coarse Aggregate  (component 6)(kg in a m^3 mixture)  \\\n",
              "0                                               1040,0      \n",
              "1                                               1055,0      \n",
              "2                                                932,0      \n",
              "3                                                932,0      \n",
              "4                                                978,4      \n",
              "...                                                 ...     \n",
              "1025                                             870,1      \n",
              "1026                                             817,9      \n",
              "1027                                             892,4      \n",
              "1028                                             989,6      \n",
              "1029                                             864,5      \n",
              "\n",
              "     Fine Aggregate (component 7)(kg in a m^3 mixture)  Age (day)  \\\n",
              "0                                               676,0          28   \n",
              "1                                               676,0          28   \n",
              "2                                               594,0         270   \n",
              "3                                               594,0         365   \n",
              "4                                               825,5         360   \n",
              "...                                                ...        ...   \n",
              "1025                                            768,3          28   \n",
              "1026                                            813,4          28   \n",
              "1027                                            780,0          28   \n",
              "1028                                            788,9          28   \n",
              "1029                                            761,5          28   \n",
              "\n",
              "     Concrete compressive strength(MPa, megapascals)   \n",
              "0                                              79,99   \n",
              "1                                              61,89   \n",
              "2                                              40,27   \n",
              "3                                              41,05   \n",
              "4                                              44,30   \n",
              "...                                               ...  \n",
              "1025                                           44,28   \n",
              "1026                                           31,18   \n",
              "1027                                           23,70   \n",
              "1028                                           32,77   \n",
              "1029                                           32,40   \n",
              "\n",
              "[1030 rows x 9 columns]"
            ],
            "text/html": [
              "\n",
              "  <div id=\"df-02c59618-51ed-483b-a82f-b6ba99ea3c64\">\n",
              "    <div class=\"colab-df-container\">\n",
              "      <div>\n",
              "<style scoped>\n",
              "    .dataframe tbody tr th:only-of-type {\n",
              "        vertical-align: middle;\n",
              "    }\n",
              "\n",
              "    .dataframe tbody tr th {\n",
              "        vertical-align: top;\n",
              "    }\n",
              "\n",
              "    .dataframe thead th {\n",
              "        text-align: right;\n",
              "    }\n",
              "</style>\n",
              "<table border=\"1\" class=\"dataframe\">\n",
              "  <thead>\n",
              "    <tr style=\"text-align: right;\">\n",
              "      <th></th>\n",
              "      <th>Cement (component 1)(kg in a m^3 mixture)</th>\n",
              "      <th>Blast Furnace Slag (component 2)(kg in a m^3 mixture)</th>\n",
              "      <th>Fly Ash (component 3)(kg in a m^3 mixture)</th>\n",
              "      <th>Water  (component 4)(kg in a m^3 mixture)</th>\n",
              "      <th>Superplasticizer (component 5)(kg in a m^3 mixture)</th>\n",
              "      <th>Coarse Aggregate  (component 6)(kg in a m^3 mixture)</th>\n",
              "      <th>Fine Aggregate (component 7)(kg in a m^3 mixture)</th>\n",
              "      <th>Age (day)</th>\n",
              "      <th>Concrete compressive strength(MPa, megapascals)</th>\n",
              "    </tr>\n",
              "  </thead>\n",
              "  <tbody>\n",
              "    <tr>\n",
              "      <th>0</th>\n",
              "      <td>540,0</td>\n",
              "      <td>0,0</td>\n",
              "      <td>0,0</td>\n",
              "      <td>162,0</td>\n",
              "      <td>2,5</td>\n",
              "      <td>1040,0</td>\n",
              "      <td>676,0</td>\n",
              "      <td>28</td>\n",
              "      <td>79,99</td>\n",
              "    </tr>\n",
              "    <tr>\n",
              "      <th>1</th>\n",
              "      <td>540,0</td>\n",
              "      <td>0,0</td>\n",
              "      <td>0,0</td>\n",
              "      <td>162,0</td>\n",
              "      <td>2,5</td>\n",
              "      <td>1055,0</td>\n",
              "      <td>676,0</td>\n",
              "      <td>28</td>\n",
              "      <td>61,89</td>\n",
              "    </tr>\n",
              "    <tr>\n",
              "      <th>2</th>\n",
              "      <td>332,5</td>\n",
              "      <td>142,5</td>\n",
              "      <td>0,0</td>\n",
              "      <td>228,0</td>\n",
              "      <td>0,0</td>\n",
              "      <td>932,0</td>\n",
              "      <td>594,0</td>\n",
              "      <td>270</td>\n",
              "      <td>40,27</td>\n",
              "    </tr>\n",
              "    <tr>\n",
              "      <th>3</th>\n",
              "      <td>332,5</td>\n",
              "      <td>142,5</td>\n",
              "      <td>0,0</td>\n",
              "      <td>228,0</td>\n",
              "      <td>0,0</td>\n",
              "      <td>932,0</td>\n",
              "      <td>594,0</td>\n",
              "      <td>365</td>\n",
              "      <td>41,05</td>\n",
              "    </tr>\n",
              "    <tr>\n",
              "      <th>4</th>\n",
              "      <td>198,6</td>\n",
              "      <td>132,4</td>\n",
              "      <td>0,0</td>\n",
              "      <td>192,0</td>\n",
              "      <td>0,0</td>\n",
              "      <td>978,4</td>\n",
              "      <td>825,5</td>\n",
              "      <td>360</td>\n",
              "      <td>44,30</td>\n",
              "    </tr>\n",
              "    <tr>\n",
              "      <th>...</th>\n",
              "      <td>...</td>\n",
              "      <td>...</td>\n",
              "      <td>...</td>\n",
              "      <td>...</td>\n",
              "      <td>...</td>\n",
              "      <td>...</td>\n",
              "      <td>...</td>\n",
              "      <td>...</td>\n",
              "      <td>...</td>\n",
              "    </tr>\n",
              "    <tr>\n",
              "      <th>1025</th>\n",
              "      <td>276,4</td>\n",
              "      <td>116,0</td>\n",
              "      <td>90,3</td>\n",
              "      <td>179,6</td>\n",
              "      <td>8,9</td>\n",
              "      <td>870,1</td>\n",
              "      <td>768,3</td>\n",
              "      <td>28</td>\n",
              "      <td>44,28</td>\n",
              "    </tr>\n",
              "    <tr>\n",
              "      <th>1026</th>\n",
              "      <td>322,2</td>\n",
              "      <td>0,0</td>\n",
              "      <td>115,6</td>\n",
              "      <td>196,0</td>\n",
              "      <td>10,4</td>\n",
              "      <td>817,9</td>\n",
              "      <td>813,4</td>\n",
              "      <td>28</td>\n",
              "      <td>31,18</td>\n",
              "    </tr>\n",
              "    <tr>\n",
              "      <th>1027</th>\n",
              "      <td>148,5</td>\n",
              "      <td>139,4</td>\n",
              "      <td>108,6</td>\n",
              "      <td>192,7</td>\n",
              "      <td>6,1</td>\n",
              "      <td>892,4</td>\n",
              "      <td>780,0</td>\n",
              "      <td>28</td>\n",
              "      <td>23,70</td>\n",
              "    </tr>\n",
              "    <tr>\n",
              "      <th>1028</th>\n",
              "      <td>159,1</td>\n",
              "      <td>186,7</td>\n",
              "      <td>0,0</td>\n",
              "      <td>175,6</td>\n",
              "      <td>11,3</td>\n",
              "      <td>989,6</td>\n",
              "      <td>788,9</td>\n",
              "      <td>28</td>\n",
              "      <td>32,77</td>\n",
              "    </tr>\n",
              "    <tr>\n",
              "      <th>1029</th>\n",
              "      <td>260,9</td>\n",
              "      <td>100,5</td>\n",
              "      <td>78,3</td>\n",
              "      <td>200,6</td>\n",
              "      <td>8,6</td>\n",
              "      <td>864,5</td>\n",
              "      <td>761,5</td>\n",
              "      <td>28</td>\n",
              "      <td>32,40</td>\n",
              "    </tr>\n",
              "  </tbody>\n",
              "</table>\n",
              "<p>1030 rows × 9 columns</p>\n",
              "</div>\n",
              "      <button class=\"colab-df-convert\" onclick=\"convertToInteractive('df-02c59618-51ed-483b-a82f-b6ba99ea3c64')\"\n",
              "              title=\"Convert this dataframe to an interactive table.\"\n",
              "              style=\"display:none;\">\n",
              "        \n",
              "  <svg xmlns=\"http://www.w3.org/2000/svg\" height=\"24px\"viewBox=\"0 0 24 24\"\n",
              "       width=\"24px\">\n",
              "    <path d=\"M0 0h24v24H0V0z\" fill=\"none\"/>\n",
              "    <path d=\"M18.56 5.44l.94 2.06.94-2.06 2.06-.94-2.06-.94-.94-2.06-.94 2.06-2.06.94zm-11 1L8.5 8.5l.94-2.06 2.06-.94-2.06-.94L8.5 2.5l-.94 2.06-2.06.94zm10 10l.94 2.06.94-2.06 2.06-.94-2.06-.94-.94-2.06-.94 2.06-2.06.94z\"/><path d=\"M17.41 7.96l-1.37-1.37c-.4-.4-.92-.59-1.43-.59-.52 0-1.04.2-1.43.59L10.3 9.45l-7.72 7.72c-.78.78-.78 2.05 0 2.83L4 21.41c.39.39.9.59 1.41.59.51 0 1.02-.2 1.41-.59l7.78-7.78 2.81-2.81c.8-.78.8-2.07 0-2.86zM5.41 20L4 18.59l7.72-7.72 1.47 1.35L5.41 20z\"/>\n",
              "  </svg>\n",
              "      </button>\n",
              "      \n",
              "  <style>\n",
              "    .colab-df-container {\n",
              "      display:flex;\n",
              "      flex-wrap:wrap;\n",
              "      gap: 12px;\n",
              "    }\n",
              "\n",
              "    .colab-df-convert {\n",
              "      background-color: #E8F0FE;\n",
              "      border: none;\n",
              "      border-radius: 50%;\n",
              "      cursor: pointer;\n",
              "      display: none;\n",
              "      fill: #1967D2;\n",
              "      height: 32px;\n",
              "      padding: 0 0 0 0;\n",
              "      width: 32px;\n",
              "    }\n",
              "\n",
              "    .colab-df-convert:hover {\n",
              "      background-color: #E2EBFA;\n",
              "      box-shadow: 0px 1px 2px rgba(60, 64, 67, 0.3), 0px 1px 3px 1px rgba(60, 64, 67, 0.15);\n",
              "      fill: #174EA6;\n",
              "    }\n",
              "\n",
              "    [theme=dark] .colab-df-convert {\n",
              "      background-color: #3B4455;\n",
              "      fill: #D2E3FC;\n",
              "    }\n",
              "\n",
              "    [theme=dark] .colab-df-convert:hover {\n",
              "      background-color: #434B5C;\n",
              "      box-shadow: 0px 1px 3px 1px rgba(0, 0, 0, 0.15);\n",
              "      filter: drop-shadow(0px 1px 2px rgba(0, 0, 0, 0.3));\n",
              "      fill: #FFFFFF;\n",
              "    }\n",
              "  </style>\n",
              "\n",
              "      <script>\n",
              "        const buttonEl =\n",
              "          document.querySelector('#df-02c59618-51ed-483b-a82f-b6ba99ea3c64 button.colab-df-convert');\n",
              "        buttonEl.style.display =\n",
              "          google.colab.kernel.accessAllowed ? 'block' : 'none';\n",
              "\n",
              "        async function convertToInteractive(key) {\n",
              "          const element = document.querySelector('#df-02c59618-51ed-483b-a82f-b6ba99ea3c64');\n",
              "          const dataTable =\n",
              "            await google.colab.kernel.invokeFunction('convertToInteractive',\n",
              "                                                     [key], {});\n",
              "          if (!dataTable) return;\n",
              "\n",
              "          const docLinkHtml = 'Like what you see? Visit the ' +\n",
              "            '<a target=\"_blank\" href=https://colab.research.google.com/notebooks/data_table.ipynb>data table notebook</a>'\n",
              "            + ' to learn more about interactive tables.';\n",
              "          element.innerHTML = '';\n",
              "          dataTable['output_type'] = 'display_data';\n",
              "          await google.colab.output.renderOutput(dataTable, element);\n",
              "          const docLink = document.createElement('div');\n",
              "          docLink.innerHTML = docLinkHtml;\n",
              "          element.appendChild(docLink);\n",
              "        }\n",
              "      </script>\n",
              "    </div>\n",
              "  </div>\n",
              "  "
            ]
          },
          "metadata": {},
          "execution_count": 67
        }
      ]
    },
    {
      "cell_type": "code",
      "source": [
        "data=pd.read_csv('/content/Concrete_Data.csv',sep=';')"
      ],
      "metadata": {
        "id": "ZsVKpmeGTDWR"
      },
      "execution_count": null,
      "outputs": []
    },
    {
      "cell_type": "code",
      "metadata": {
        "colab": {
          "base_uri": "https://localhost:8080/",
          "height": 285
        },
        "id": "7EXwYqFTS_Gr",
        "outputId": "8b792936-1401-4bdf-9ef5-dc32c34a3b78"
      },
      "source": [
        "data.head()"
      ],
      "execution_count": null,
      "outputs": [
        {
          "output_type": "execute_result",
          "data": {
            "text/plain": [
              "   Cement (component 1)(kg in a m^3 mixture)  \\\n",
              "0                                      540.0   \n",
              "1                                      540.0   \n",
              "2                                      332.5   \n",
              "3                                      332.5   \n",
              "4                                      198.6   \n",
              "\n",
              "   Blast Furnace Slag (component 2)(kg in a m^3 mixture)  \\\n",
              "0                                                0.0       \n",
              "1                                                0.0       \n",
              "2                                              142.5       \n",
              "3                                              142.5       \n",
              "4                                              132.4       \n",
              "\n",
              "   Fly Ash (component 3)(kg in a m^3 mixture)  \\\n",
              "0                                         0.0   \n",
              "1                                         0.0   \n",
              "2                                         0.0   \n",
              "3                                         0.0   \n",
              "4                                         0.0   \n",
              "\n",
              "   Water  (component 4)(kg in a m^3 mixture)  \\\n",
              "0                                      162.0   \n",
              "1                                      162.0   \n",
              "2                                      228.0   \n",
              "3                                      228.0   \n",
              "4                                      192.0   \n",
              "\n",
              "   Superplasticizer (component 5)(kg in a m^3 mixture)  \\\n",
              "0                                                2.5     \n",
              "1                                                2.5     \n",
              "2                                                0.0     \n",
              "3                                                0.0     \n",
              "4                                                0.0     \n",
              "\n",
              "   Coarse Aggregate  (component 6)(kg in a m^3 mixture)  \\\n",
              "0                                             1040.0      \n",
              "1                                             1055.0      \n",
              "2                                              932.0      \n",
              "3                                              932.0      \n",
              "4                                              978.4      \n",
              "\n",
              "   Fine Aggregate (component 7)(kg in a m^3 mixture)  Age (day)  \\\n",
              "0                                              676.0         28   \n",
              "1                                              676.0         28   \n",
              "2                                              594.0        270   \n",
              "3                                              594.0        365   \n",
              "4                                              825.5        360   \n",
              "\n",
              "   Concrete compressive strength(MPa, megapascals)   \n",
              "0                                             79.99  \n",
              "1                                             61.89  \n",
              "2                                             40.27  \n",
              "3                                             41.05  \n",
              "4                                             44.30  "
            ],
            "text/html": [
              "\n",
              "  <div id=\"df-1a8d771f-1a95-4cc2-8726-910247cead39\">\n",
              "    <div class=\"colab-df-container\">\n",
              "      <div>\n",
              "<style scoped>\n",
              "    .dataframe tbody tr th:only-of-type {\n",
              "        vertical-align: middle;\n",
              "    }\n",
              "\n",
              "    .dataframe tbody tr th {\n",
              "        vertical-align: top;\n",
              "    }\n",
              "\n",
              "    .dataframe thead th {\n",
              "        text-align: right;\n",
              "    }\n",
              "</style>\n",
              "<table border=\"1\" class=\"dataframe\">\n",
              "  <thead>\n",
              "    <tr style=\"text-align: right;\">\n",
              "      <th></th>\n",
              "      <th>Cement (component 1)(kg in a m^3 mixture)</th>\n",
              "      <th>Blast Furnace Slag (component 2)(kg in a m^3 mixture)</th>\n",
              "      <th>Fly Ash (component 3)(kg in a m^3 mixture)</th>\n",
              "      <th>Water  (component 4)(kg in a m^3 mixture)</th>\n",
              "      <th>Superplasticizer (component 5)(kg in a m^3 mixture)</th>\n",
              "      <th>Coarse Aggregate  (component 6)(kg in a m^3 mixture)</th>\n",
              "      <th>Fine Aggregate (component 7)(kg in a m^3 mixture)</th>\n",
              "      <th>Age (day)</th>\n",
              "      <th>Concrete compressive strength(MPa, megapascals)</th>\n",
              "    </tr>\n",
              "  </thead>\n",
              "  <tbody>\n",
              "    <tr>\n",
              "      <th>0</th>\n",
              "      <td>540.0</td>\n",
              "      <td>0.0</td>\n",
              "      <td>0.0</td>\n",
              "      <td>162.0</td>\n",
              "      <td>2.5</td>\n",
              "      <td>1040.0</td>\n",
              "      <td>676.0</td>\n",
              "      <td>28</td>\n",
              "      <td>79.99</td>\n",
              "    </tr>\n",
              "    <tr>\n",
              "      <th>1</th>\n",
              "      <td>540.0</td>\n",
              "      <td>0.0</td>\n",
              "      <td>0.0</td>\n",
              "      <td>162.0</td>\n",
              "      <td>2.5</td>\n",
              "      <td>1055.0</td>\n",
              "      <td>676.0</td>\n",
              "      <td>28</td>\n",
              "      <td>61.89</td>\n",
              "    </tr>\n",
              "    <tr>\n",
              "      <th>2</th>\n",
              "      <td>332.5</td>\n",
              "      <td>142.5</td>\n",
              "      <td>0.0</td>\n",
              "      <td>228.0</td>\n",
              "      <td>0.0</td>\n",
              "      <td>932.0</td>\n",
              "      <td>594.0</td>\n",
              "      <td>270</td>\n",
              "      <td>40.27</td>\n",
              "    </tr>\n",
              "    <tr>\n",
              "      <th>3</th>\n",
              "      <td>332.5</td>\n",
              "      <td>142.5</td>\n",
              "      <td>0.0</td>\n",
              "      <td>228.0</td>\n",
              "      <td>0.0</td>\n",
              "      <td>932.0</td>\n",
              "      <td>594.0</td>\n",
              "      <td>365</td>\n",
              "      <td>41.05</td>\n",
              "    </tr>\n",
              "    <tr>\n",
              "      <th>4</th>\n",
              "      <td>198.6</td>\n",
              "      <td>132.4</td>\n",
              "      <td>0.0</td>\n",
              "      <td>192.0</td>\n",
              "      <td>0.0</td>\n",
              "      <td>978.4</td>\n",
              "      <td>825.5</td>\n",
              "      <td>360</td>\n",
              "      <td>44.30</td>\n",
              "    </tr>\n",
              "  </tbody>\n",
              "</table>\n",
              "</div>\n",
              "      <button class=\"colab-df-convert\" onclick=\"convertToInteractive('df-1a8d771f-1a95-4cc2-8726-910247cead39')\"\n",
              "              title=\"Convert this dataframe to an interactive table.\"\n",
              "              style=\"display:none;\">\n",
              "        \n",
              "  <svg xmlns=\"http://www.w3.org/2000/svg\" height=\"24px\"viewBox=\"0 0 24 24\"\n",
              "       width=\"24px\">\n",
              "    <path d=\"M0 0h24v24H0V0z\" fill=\"none\"/>\n",
              "    <path d=\"M18.56 5.44l.94 2.06.94-2.06 2.06-.94-2.06-.94-.94-2.06-.94 2.06-2.06.94zm-11 1L8.5 8.5l.94-2.06 2.06-.94-2.06-.94L8.5 2.5l-.94 2.06-2.06.94zm10 10l.94 2.06.94-2.06 2.06-.94-2.06-.94-.94-2.06-.94 2.06-2.06.94z\"/><path d=\"M17.41 7.96l-1.37-1.37c-.4-.4-.92-.59-1.43-.59-.52 0-1.04.2-1.43.59L10.3 9.45l-7.72 7.72c-.78.78-.78 2.05 0 2.83L4 21.41c.39.39.9.59 1.41.59.51 0 1.02-.2 1.41-.59l7.78-7.78 2.81-2.81c.8-.78.8-2.07 0-2.86zM5.41 20L4 18.59l7.72-7.72 1.47 1.35L5.41 20z\"/>\n",
              "  </svg>\n",
              "      </button>\n",
              "      \n",
              "  <style>\n",
              "    .colab-df-container {\n",
              "      display:flex;\n",
              "      flex-wrap:wrap;\n",
              "      gap: 12px;\n",
              "    }\n",
              "\n",
              "    .colab-df-convert {\n",
              "      background-color: #E8F0FE;\n",
              "      border: none;\n",
              "      border-radius: 50%;\n",
              "      cursor: pointer;\n",
              "      display: none;\n",
              "      fill: #1967D2;\n",
              "      height: 32px;\n",
              "      padding: 0 0 0 0;\n",
              "      width: 32px;\n",
              "    }\n",
              "\n",
              "    .colab-df-convert:hover {\n",
              "      background-color: #E2EBFA;\n",
              "      box-shadow: 0px 1px 2px rgba(60, 64, 67, 0.3), 0px 1px 3px 1px rgba(60, 64, 67, 0.15);\n",
              "      fill: #174EA6;\n",
              "    }\n",
              "\n",
              "    [theme=dark] .colab-df-convert {\n",
              "      background-color: #3B4455;\n",
              "      fill: #D2E3FC;\n",
              "    }\n",
              "\n",
              "    [theme=dark] .colab-df-convert:hover {\n",
              "      background-color: #434B5C;\n",
              "      box-shadow: 0px 1px 3px 1px rgba(0, 0, 0, 0.15);\n",
              "      filter: drop-shadow(0px 1px 2px rgba(0, 0, 0, 0.3));\n",
              "      fill: #FFFFFF;\n",
              "    }\n",
              "  </style>\n",
              "\n",
              "      <script>\n",
              "        const buttonEl =\n",
              "          document.querySelector('#df-1a8d771f-1a95-4cc2-8726-910247cead39 button.colab-df-convert');\n",
              "        buttonEl.style.display =\n",
              "          google.colab.kernel.accessAllowed ? 'block' : 'none';\n",
              "\n",
              "        async function convertToInteractive(key) {\n",
              "          const element = document.querySelector('#df-1a8d771f-1a95-4cc2-8726-910247cead39');\n",
              "          const dataTable =\n",
              "            await google.colab.kernel.invokeFunction('convertToInteractive',\n",
              "                                                     [key], {});\n",
              "          if (!dataTable) return;\n",
              "\n",
              "          const docLinkHtml = 'Like what you see? Visit the ' +\n",
              "            '<a target=\"_blank\" href=https://colab.research.google.com/notebooks/data_table.ipynb>data table notebook</a>'\n",
              "            + ' to learn more about interactive tables.';\n",
              "          element.innerHTML = '';\n",
              "          dataTable['output_type'] = 'display_data';\n",
              "          await google.colab.output.renderOutput(dataTable, element);\n",
              "          const docLink = document.createElement('div');\n",
              "          docLink.innerHTML = docLinkHtml;\n",
              "          element.appendChild(docLink);\n",
              "        }\n",
              "      </script>\n",
              "    </div>\n",
              "  </div>\n",
              "  "
            ]
          },
          "metadata": {},
          "execution_count": 58
        }
      ]
    },
    {
      "cell_type": "code",
      "source": [
        "data = data.rename(columns = {\n",
        "       'Cement (component 1)(kg in a m^3 mixture)':\"cement\",\n",
        "       'Blast Furnace Slag (component 2)(kg in a m^3 mixture)':\"furnace_slag\",\n",
        "       'Fly Ash (component 3)(kg in a m^3 mixture)':\"fly_ash\",\n",
        "       'Water  (component 4)(kg in a m^3 mixture)':\"water\",\n",
        "       'Superplasticizer (component 5)(kg in a m^3 mixture)':\"super_plasticizer\",\n",
        "       'Coarse Aggregate  (component 6)(kg in a m^3 mixture)':\"coarse_agg\",\n",
        "       'Fine Aggregate (component 7)(kg in a m^3 mixture)':\"fine_agg\",\n",
        "       'Age (day)':\"age\",\n",
        "       'Concrete compressive strength(MPa, megapascals) ':\"compressive_strength\"\n",
        "       })"
      ],
      "metadata": {
        "id": "ZmKUNwaTUCyo"
      },
      "execution_count": null,
      "outputs": []
    },
    {
      "cell_type": "code",
      "source": [
        "data.head()"
      ],
      "metadata": {
        "colab": {
          "base_uri": "https://localhost:8080/",
          "height": 206
        },
        "id": "VvQ7fuQqUFzb",
        "outputId": "79ddcc37-347f-42fb-f407-6412400aeab3"
      },
      "execution_count": null,
      "outputs": [
        {
          "output_type": "execute_result",
          "data": {
            "text/plain": [
              "   cement  furnace_slag  fly_ash  water  super_plasticizer  coarse_agg  \\\n",
              "0   540.0           0.0      0.0  162.0                2.5      1040.0   \n",
              "1   540.0           0.0      0.0  162.0                2.5      1055.0   \n",
              "2   332.5         142.5      0.0  228.0                0.0       932.0   \n",
              "3   332.5         142.5      0.0  228.0                0.0       932.0   \n",
              "4   198.6         132.4      0.0  192.0                0.0       978.4   \n",
              "\n",
              "   fine_agg  age  compressive_strength  \n",
              "0     676.0   28                 79.99  \n",
              "1     676.0   28                 61.89  \n",
              "2     594.0  270                 40.27  \n",
              "3     594.0  365                 41.05  \n",
              "4     825.5  360                 44.30  "
            ],
            "text/html": [
              "\n",
              "  <div id=\"df-07d7308c-3460-4de7-b292-7fca13550e34\">\n",
              "    <div class=\"colab-df-container\">\n",
              "      <div>\n",
              "<style scoped>\n",
              "    .dataframe tbody tr th:only-of-type {\n",
              "        vertical-align: middle;\n",
              "    }\n",
              "\n",
              "    .dataframe tbody tr th {\n",
              "        vertical-align: top;\n",
              "    }\n",
              "\n",
              "    .dataframe thead th {\n",
              "        text-align: right;\n",
              "    }\n",
              "</style>\n",
              "<table border=\"1\" class=\"dataframe\">\n",
              "  <thead>\n",
              "    <tr style=\"text-align: right;\">\n",
              "      <th></th>\n",
              "      <th>cement</th>\n",
              "      <th>furnace_slag</th>\n",
              "      <th>fly_ash</th>\n",
              "      <th>water</th>\n",
              "      <th>super_plasticizer</th>\n",
              "      <th>coarse_agg</th>\n",
              "      <th>fine_agg</th>\n",
              "      <th>age</th>\n",
              "      <th>compressive_strength</th>\n",
              "    </tr>\n",
              "  </thead>\n",
              "  <tbody>\n",
              "    <tr>\n",
              "      <th>0</th>\n",
              "      <td>540.0</td>\n",
              "      <td>0.0</td>\n",
              "      <td>0.0</td>\n",
              "      <td>162.0</td>\n",
              "      <td>2.5</td>\n",
              "      <td>1040.0</td>\n",
              "      <td>676.0</td>\n",
              "      <td>28</td>\n",
              "      <td>79.99</td>\n",
              "    </tr>\n",
              "    <tr>\n",
              "      <th>1</th>\n",
              "      <td>540.0</td>\n",
              "      <td>0.0</td>\n",
              "      <td>0.0</td>\n",
              "      <td>162.0</td>\n",
              "      <td>2.5</td>\n",
              "      <td>1055.0</td>\n",
              "      <td>676.0</td>\n",
              "      <td>28</td>\n",
              "      <td>61.89</td>\n",
              "    </tr>\n",
              "    <tr>\n",
              "      <th>2</th>\n",
              "      <td>332.5</td>\n",
              "      <td>142.5</td>\n",
              "      <td>0.0</td>\n",
              "      <td>228.0</td>\n",
              "      <td>0.0</td>\n",
              "      <td>932.0</td>\n",
              "      <td>594.0</td>\n",
              "      <td>270</td>\n",
              "      <td>40.27</td>\n",
              "    </tr>\n",
              "    <tr>\n",
              "      <th>3</th>\n",
              "      <td>332.5</td>\n",
              "      <td>142.5</td>\n",
              "      <td>0.0</td>\n",
              "      <td>228.0</td>\n",
              "      <td>0.0</td>\n",
              "      <td>932.0</td>\n",
              "      <td>594.0</td>\n",
              "      <td>365</td>\n",
              "      <td>41.05</td>\n",
              "    </tr>\n",
              "    <tr>\n",
              "      <th>4</th>\n",
              "      <td>198.6</td>\n",
              "      <td>132.4</td>\n",
              "      <td>0.0</td>\n",
              "      <td>192.0</td>\n",
              "      <td>0.0</td>\n",
              "      <td>978.4</td>\n",
              "      <td>825.5</td>\n",
              "      <td>360</td>\n",
              "      <td>44.30</td>\n",
              "    </tr>\n",
              "  </tbody>\n",
              "</table>\n",
              "</div>\n",
              "      <button class=\"colab-df-convert\" onclick=\"convertToInteractive('df-07d7308c-3460-4de7-b292-7fca13550e34')\"\n",
              "              title=\"Convert this dataframe to an interactive table.\"\n",
              "              style=\"display:none;\">\n",
              "        \n",
              "  <svg xmlns=\"http://www.w3.org/2000/svg\" height=\"24px\"viewBox=\"0 0 24 24\"\n",
              "       width=\"24px\">\n",
              "    <path d=\"M0 0h24v24H0V0z\" fill=\"none\"/>\n",
              "    <path d=\"M18.56 5.44l.94 2.06.94-2.06 2.06-.94-2.06-.94-.94-2.06-.94 2.06-2.06.94zm-11 1L8.5 8.5l.94-2.06 2.06-.94-2.06-.94L8.5 2.5l-.94 2.06-2.06.94zm10 10l.94 2.06.94-2.06 2.06-.94-2.06-.94-.94-2.06-.94 2.06-2.06.94z\"/><path d=\"M17.41 7.96l-1.37-1.37c-.4-.4-.92-.59-1.43-.59-.52 0-1.04.2-1.43.59L10.3 9.45l-7.72 7.72c-.78.78-.78 2.05 0 2.83L4 21.41c.39.39.9.59 1.41.59.51 0 1.02-.2 1.41-.59l7.78-7.78 2.81-2.81c.8-.78.8-2.07 0-2.86zM5.41 20L4 18.59l7.72-7.72 1.47 1.35L5.41 20z\"/>\n",
              "  </svg>\n",
              "      </button>\n",
              "      \n",
              "  <style>\n",
              "    .colab-df-container {\n",
              "      display:flex;\n",
              "      flex-wrap:wrap;\n",
              "      gap: 12px;\n",
              "    }\n",
              "\n",
              "    .colab-df-convert {\n",
              "      background-color: #E8F0FE;\n",
              "      border: none;\n",
              "      border-radius: 50%;\n",
              "      cursor: pointer;\n",
              "      display: none;\n",
              "      fill: #1967D2;\n",
              "      height: 32px;\n",
              "      padding: 0 0 0 0;\n",
              "      width: 32px;\n",
              "    }\n",
              "\n",
              "    .colab-df-convert:hover {\n",
              "      background-color: #E2EBFA;\n",
              "      box-shadow: 0px 1px 2px rgba(60, 64, 67, 0.3), 0px 1px 3px 1px rgba(60, 64, 67, 0.15);\n",
              "      fill: #174EA6;\n",
              "    }\n",
              "\n",
              "    [theme=dark] .colab-df-convert {\n",
              "      background-color: #3B4455;\n",
              "      fill: #D2E3FC;\n",
              "    }\n",
              "\n",
              "    [theme=dark] .colab-df-convert:hover {\n",
              "      background-color: #434B5C;\n",
              "      box-shadow: 0px 1px 3px 1px rgba(0, 0, 0, 0.15);\n",
              "      filter: drop-shadow(0px 1px 2px rgba(0, 0, 0, 0.3));\n",
              "      fill: #FFFFFF;\n",
              "    }\n",
              "  </style>\n",
              "\n",
              "      <script>\n",
              "        const buttonEl =\n",
              "          document.querySelector('#df-07d7308c-3460-4de7-b292-7fca13550e34 button.colab-df-convert');\n",
              "        buttonEl.style.display =\n",
              "          google.colab.kernel.accessAllowed ? 'block' : 'none';\n",
              "\n",
              "        async function convertToInteractive(key) {\n",
              "          const element = document.querySelector('#df-07d7308c-3460-4de7-b292-7fca13550e34');\n",
              "          const dataTable =\n",
              "            await google.colab.kernel.invokeFunction('convertToInteractive',\n",
              "                                                     [key], {});\n",
              "          if (!dataTable) return;\n",
              "\n",
              "          const docLinkHtml = 'Like what you see? Visit the ' +\n",
              "            '<a target=\"_blank\" href=https://colab.research.google.com/notebooks/data_table.ipynb>data table notebook</a>'\n",
              "            + ' to learn more about interactive tables.';\n",
              "          element.innerHTML = '';\n",
              "          dataTable['output_type'] = 'display_data';\n",
              "          await google.colab.output.renderOutput(dataTable, element);\n",
              "          const docLink = document.createElement('div');\n",
              "          docLink.innerHTML = docLinkHtml;\n",
              "          element.appendChild(docLink);\n",
              "        }\n",
              "      </script>\n",
              "    </div>\n",
              "  </div>\n",
              "  "
            ]
          },
          "metadata": {},
          "execution_count": 60
        }
      ]
    },
    {
      "cell_type": "code",
      "metadata": {
        "id": "CgQSzPejS_Gr"
      },
      "source": [
        "# se grafican los datos\n",
        "import seaborn as sns\n",
        "def histograma(serie):\n",
        "    plt.figure(figsize=(13,6)) # indicar el tamaño\n",
        "    sns.histplot(serie,color=\"b\", kde= True)\n",
        "    plt.axvline(serie.mean(), linestyle=\"dashed\", label=\"mean\", color=\"k\")\n",
        "    plt.axvline(serie.mode()[0], linestyle=\"dashed\", label=\"mode\", color=\"g\")\n",
        "    plt.axvline(serie.median(), linestyle=\"dashed\", label=\"median\", color=\"b\")\n",
        "    plt.legend(loc=\"best\",prop={\"size\":14})"
      ],
      "execution_count": null,
      "outputs": []
    },
    {
      "cell_type": "code",
      "metadata": {
        "colab": {
          "base_uri": "https://localhost:8080/",
          "height": 391
        },
        "id": "U61pzPCxS_Gr",
        "outputId": "e0fe91c5-ff85-406d-fab1-6e0379a4de6f"
      },
      "source": [
        "histograma(data[\"compressive_strength\"])"
      ],
      "execution_count": null,
      "outputs": [
        {
          "output_type": "display_data",
          "data": {
            "text/plain": [
              "<Figure size 936x432 with 1 Axes>"
            ],
            "image/png": "[encoded data removed]"
          },
          "metadata": {
            "needs_background": "light"
          }
        }
      ]
    },
    {
      "cell_type": "code",
      "metadata": {
        "colab": {
          "base_uri": "https://localhost:8080/",
          "height": 1000
        },
        "id": "7b9Kgve3S_Gr",
        "outputId": "37c963c8-8a6a-4c43-a5c3-ddac13179a32"
      },
      "source": [
        "for columna in data.columns:\n",
        "    histograma(data[columna])"
      ],
      "execution_count": null,
      "outputs": [
        {
          "output_type": "display_data",
          "data": {
            "text/plain": [
              "<Figure size 936x432 with 1 Axes>"
            ],
            "image/png": "[encoded data removed]"
          },
          "metadata": {
            "needs_background": "light"
          }
        },
        {
          "output_type": "display_data",
          "data": {
            "text/plain": [
              "<Figure size 936x432 with 1 Axes>"
            ],
            "image/png": "[encoded data removed]"
          },
          "metadata": {
            "needs_background": "light"
          }
        },
        {
          "output_type": "display_data",
          "data": {
            "text/plain": [
              "<Figure size 936x432 with 1 Axes>"
            ],
            "image/png": "[encoded data removed]"
          },
          "metadata": {
            "needs_background": "light"
          }
        },
        {
          "output_type": "display_data",
          "data": {
            "text/plain": [
              "<Figure size 936x432 with 1 Axes>"
            ],
            "image/png": "[encoded data removed]"
          },
          "metadata": {
            "needs_background": "light"
          }
        },
        {
          "output_type": "display_data",
          "data": {
            "text/plain": [
              "<Figure size 936x432 with 1 Axes>"
            ],
            "image/png": "[encoded data removed]"
          },
          "metadata": {
            "needs_background": "light"
          }
        },
        {
          "output_type": "display_data",
          "data": {
            "text/plain": [
              "<Figure size 936x432 with 1 Axes>"
            ],
            "image/png": "[encoded data removed]"
          },
          "metadata": {
            "needs_background": "light"
          }
        },
        {
          "output_type": "display_data",
          "data": {
            "text/plain": [
              "<Figure size 936x432 with 1 Axes>"
            ],
            "image/png": "[encoded data removed]"
          },
          "metadata": {
            "needs_background": "light"
          }
        },
        {
          "output_type": "display_data",
          "data": {
            "text/plain": [
              "<Figure size 936x432 with 1 Axes>"
            ],
            "image/png": "[encoded data removed]"
          },
          "metadata": {
            "needs_background": "light"
          }
        },
        {
          "output_type": "display_data",
          "data": {
            "text/plain": [
              "<Figure size 936x432 with 1 Axes>"
            ],
            "image/png": "[encoded data removed]"
          },
          "metadata": {
            "needs_background": "light"
          }
        }
      ]
    },
    {
      "cell_type": "code",
      "metadata": {
        "colab": {
          "base_uri": "https://localhost:8080/"
        },
        "id": "_uVs3bmcS_Gr",
        "outputId": "6f2b5ac4-944e-462e-f117-eb0e389124b8"
      },
      "source": [
        "data[\"compressive_strength\"].describe()"
      ],
      "execution_count": null,
      "outputs": [
        {
          "output_type": "execute_result",
          "data": {
            "text/plain": [
              "count    1030.000000\n",
              "mean       35.817961\n",
              "std        16.705742\n",
              "min         2.330000\n",
              "25%        23.710000\n",
              "50%        34.445000\n",
              "75%        46.135000\n",
              "max        82.600000\n",
              "Name: compressive_strength, dtype: float64"
            ]
          },
          "metadata": {},
          "execution_count": 64
        }
      ]
    },
    {
      "cell_type": "code",
      "metadata": {
        "colab": {
          "base_uri": "https://localhost:8080/"
        },
        "id": "AgwCcZTdS_Gs",
        "outputId": "88fe3505-3dbf-4630-ebd5-1c3c972f3830"
      },
      "source": [
        "# normalización de la data\n",
        "mu =  data[\"compressive_strength\"].mean()\n",
        "sigma = data[\"compressive_strength\"].std()\n",
        "normed_data=(data[\"compressive_strength\"]-mu)/sigma\n",
        "# se realiza la prueba\n",
        "print(stats.kstest(normed_data,'norm'))"
      ],
      "execution_count": null,
      "outputs": [
        {
          "output_type": "stream",
          "name": "stdout",
          "text": [
            "KstestResult(statistic=0.041276966404089455, pvalue=0.05814694952153987)\n"
          ]
        }
      ]
    },
    {
      "cell_type": "code",
      "metadata": {
        "colab": {
          "base_uri": "https://localhost:8080/"
        },
        "id": "mT4UIk44S_Gs",
        "outputId": "f63007a0-6290-4b1c-a76c-695c7c72a8f0"
      },
      "source": [
        "# se obtienen las probabilidades\n",
        "mu =  data[\"compressive_strength\"].mean()\n",
        "sigma = data[\"compressive_strength\"].std()\n",
        "a = 50\n",
        "b = 70\n",
        "x = stats.norm.cdf(b, mu, sigma) - stats.norm.cdf(a, mu, sigma)\n",
        "print(x)"
      ],
      "execution_count": null,
      "outputs": [
        {
          "output_type": "stream",
          "name": "stdout",
          "text": [
            "0.17758753798548121\n"
          ]
        }
      ]
    },
    {
      "cell_type": "markdown",
      "metadata": {
        "id": "jzul7vEdS_Gs"
      },
      "source": [
        "### Para practicar (exponer antes de finalizar la clase)\n",
        "\n",
        "1. Realice una función que automatice la ejecución del test de normalidad, la función debe tener como entrada una serie de pandas\n",
        "\n",
        "2. Tomando los datos de data[\"compressive_strength\"] realice los siguientes cálculos:\n",
        "\n",
        "        ¿cuál es la probabilidad de obtener una medida menor a 70?\n",
        "        ¿cuál es la probabilidad de obtener una medida mayor a 60?\n",
        "        ¿cuál es la probabilidad de obtener una medida entre 45 y 75?\n",
        "        halle Z tal que P(x<Z)= 67%\n",
        "        halle Z tal que P(30<x<Z)= 40%\n",
        "        halle Z tal que P(40<x<Z)= 40%\n",
        "        halle Z tal que P(5\n",
        "\n",
        "```\n",
        "# Esto tiene formato de código\n",
        "```\n",
        "\n",
        "0<x<Z)= 40%\n",
        "        "
      ]
    },
    {
      "cell_type": "code",
      "metadata": {
        "colab": {
          "base_uri": "https://localhost:8080/"
        },
        "id": "dlcEpCh9qUJJ",
        "outputId": "76150b80-7581-4abd-872f-dc7d1c2327ff"
      },
      "source": [
        "# Automatiza la test de normalidad\n",
        "def normalidad(serie):\n",
        "  # se obtienen las probabilidades\n",
        "  mu =  serie.mean()\n",
        "  sigma = serie.std()\n",
        "  normed_data=(serie-mu)/sigma\n",
        "  return stats.kstest(normed_data,'norm')\n",
        "normalidad(data[\"compressive_strength\"])"
      ],
      "execution_count": null,
      "outputs": [
        {
          "output_type": "execute_result",
          "data": {
            "text/plain": [
              "KstestResult(statistic=0.0413025521207398, pvalue=0.05789468341031342)"
            ]
          },
          "metadata": {},
          "execution_count": 45
        }
      ]
    },
    {
      "cell_type": "code",
      "metadata": {
        "colab": {
          "base_uri": "https://localhost:8080/"
        },
        "id": "K0-cXGeXsKso",
        "outputId": "b6fd579c-31c9-4dca-fc7c-526a80d81c06"
      },
      "source": [
        "# a) ¿cuál es la probabilidad de obtener una medida menor a 50?\n",
        "mu =  data[\"compressive_strength\"].mean()\n",
        "sigma = data[\"compressive_strength\"].std()\n",
        "a=50\n",
        "z=stats.norm.cdf(a,mu,sigma)\n",
        "print(z)"
      ],
      "execution_count": null,
      "outputs": [
        {
          "output_type": "stream",
          "name": "stdout",
          "text": [
            "0.8020434079014641\n"
          ]
        }
      ]
    },
    {
      "cell_type": "code",
      "metadata": {
        "colab": {
          "base_uri": "https://localhost:8080/"
        },
        "id": "dGbAF7TJsvbf",
        "outputId": "70bff362-b9ac-47bd-fc71-622595308ddc"
      },
      "source": [
        "# b)¿cuál es la probabilidad de obtener una medida mayor a 50?\n",
        "z=1-stats.norm.cdf(a,mu,sigma)\n",
        "print(z)"
      ],
      "execution_count": null,
      "outputs": [
        {
          "output_type": "stream",
          "name": "stdout",
          "text": [
            "0.1979565920985359\n"
          ]
        }
      ]
    },
    {
      "cell_type": "code",
      "metadata": {
        "colab": {
          "base_uri": "https://localhost:8080/"
        },
        "id": "b6fHiPIXtFMr",
        "outputId": "9600d2ed-441a-47fb-bc8a-95aeaf6ba2a2"
      },
      "source": [
        "# c) cuál es la probabilidad de obtener una medida entre 35 y 45?\n",
        "z= stats.norm.cdf(45,mu,sigma)-stats.norm.cdf(35,mu,sigma)\n",
        "print(z)"
      ],
      "execution_count": null,
      "outputs": [
        {
          "output_type": "stream",
          "name": "stdout",
          "text": [
            "0.22824060678738722\n"
          ]
        }
      ]
    },
    {
      "cell_type": "code",
      "metadata": {
        "colab": {
          "base_uri": "https://localhost:8080/"
        },
        "id": "8J4Qr53GtsnW",
        "outputId": "55a6d50e-fa21-4cb5-ddee-531822450d2e"
      },
      "source": [
        "# halle Z tal que P(x<Z)= 77%\n",
        "p=0.77\n",
        "z=stats.norm.ppf(p,mu,sigma)\n",
        "print(z)"
      ],
      "execution_count": null,
      "outputs": [
        {
          "output_type": "stream",
          "name": "stdout",
          "text": [
            "48.16077424796384\n"
          ]
        }
      ]
    },
    {
      "cell_type": "code",
      "metadata": {
        "colab": {
          "base_uri": "https://localhost:8080/"
        },
        "id": "ZJC3EbUwuPnB",
        "outputId": "22df9808-6d8f-4d97-c8ae-63d9340e056b"
      },
      "source": [
        "#  halle Z tal que P(30<x<Z)= 30%\n",
        "x=stats.norm.cdf(30,mu,sigma)+0.3\n",
        "\n",
        "z=stats.norm.ppf(x,mu,sigma)\n",
        "print(z)"
      ],
      "execution_count": null,
      "outputs": [
        {
          "output_type": "stream",
          "name": "stdout",
          "text": [
            "42.88305517944564\n"
          ]
        }
      ]
    },
    {
      "cell_type": "markdown",
      "metadata": {
        "id": "L-ndmWZxS_Gs"
      },
      "source": [
        "Puede revisar el blog para observar ejemplo utilizando el teorema de bayes:\n",
        "   \n",
        "https://blog.findemor.es/2017/12/machine-learning-introduccion-estadistica-basica-python/"
      ]
    }
  ]
}